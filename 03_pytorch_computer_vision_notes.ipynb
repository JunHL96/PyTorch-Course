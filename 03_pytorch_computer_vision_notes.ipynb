{
  "cells": [
    {
      "cell_type": "markdown",
      "metadata": {
        "id": "view-in-github",
        "colab_type": "text"
      },
      "source": [
        "<a href=\"https://colab.research.google.com/github/JunHL96/PyTorch-Course/blob/main/03_pytorch_computer_vision_notes.ipynb\" target=\"_parent\"><img src=\"https://colab.research.google.com/assets/colab-badge.svg\" alt=\"Open In Colab\"/></a>"
      ]
    },
    {
      "cell_type": "markdown",
      "metadata": {
        "id": "8UmeFn4G8fT-"
      },
      "source": [
        "<a href=\"https://colab.research.google.com/drive/1rujxvXtdzHOj_xrNlNz_7dNAMp6ZQYps\" target=\"_parent\"><img src=\"https://colab.research.google.com/assets/colab-badge.svg\" alt=\"Open In Colab\"/></a>\n",
        "\n",
        "[View Source Code](https://github.com/JunHL96/PyTorch-Course/blob/main/03_pytorch_computer_vision_notes.ipynb) | [View Slides](https://github.com/mrdbourke/pytorch-deep-learning/blob/main/slides/03_pytorch_computer_vision.pdf) | [Watch Video Walkthrough](https://youtu.be/Z_ikDlimN6A?t=50417)"
      ]
    },
    {
      "cell_type": "markdown",
      "metadata": {
        "id": "R59WdT5t8fT_"
      },
      "source": [
        "# 03. PyTorch Computer Vision"
      ]
    },
    {
      "cell_type": "markdown",
      "metadata": {
        "id": "WXbCyjMq8fT_"
      },
      "source": [
        "\n",
        "[Computer vision](https://en.wikipedia.org/wiki/Computer_vision) is the art of teaching a computer to see.\n",
        "\n",
        "For example, it could involve building a model to classify whether a photo is of a cat or a dog ([binary classification](https://developers.google.com/machine-learning/glossary#binary-classification)).\n",
        "\n",
        "Or whether a photo is of a cat, dog or chicken ([multi-class classification](https://developers.google.com/machine-learning/glossary#multi-class-classification)).\n",
        "\n",
        "Or identifying where a car appears in a video frame ([object detection](https://en.wikipedia.org/wiki/Object_detection)).\n",
        "\n",
        "Or figuring out where different objects in an image can be separated ([panoptic segmentation](https://arxiv.org/abs/1801.00868)).\n",
        "\n",
        "![example computer vision problems](https://raw.githubusercontent.com/mrdbourke/pytorch-deep-learning/main/images/03-computer-vision-problems.png)\n",
        "*Example computer vision problems for binary classification, multiclass classification, object detection and segmentation.*"
      ]
    },
    {
      "cell_type": "markdown",
      "metadata": {
        "id": "WzncLl7_8fUA"
      },
      "source": [
        "## Where does computer vision get used?"
      ]
    },
    {
      "cell_type": "markdown",
      "metadata": {
        "id": "xc7f7IT38fUA"
      },
      "source": [
        "\n",
        "If you use a smartphone, you've already used computer vision.\n",
        "\n",
        "Camera and photo apps use [computer vision to enhance](https://machinelearning.apple.com/research/panoptic-segmentation) and sort images.\n",
        "\n",
        "Modern cars use [computer vision](https://youtu.be/j0z4FweCy4M?t=2989) to avoid other cars and stay within lane lines.\n",
        "\n",
        "Manufacturers use computer vision to identify defects in various products.\n",
        "\n",
        "Security cameras use computer vision to detect potential intruders.\n",
        "\n",
        "In essence, anything that can be described in a visual sense can be a potential computer vision problem."
      ]
    },
    {
      "cell_type": "markdown",
      "metadata": {
        "id": "JlBuZb3B8fUA"
      },
      "source": [
        "## What we're going to cover"
      ]
    },
    {
      "cell_type": "markdown",
      "metadata": {
        "id": "33byGVwC8fUA"
      },
      "source": [
        "\n",
        "\n",
        "We're going to apply the PyTorch Workflow we've been learning in the past couple of sections to computer vision.\n",
        "\n",
        "![a PyTorch workflow with a computer vision focus](https://raw.githubusercontent.com/mrdbourke/pytorch-deep-learning/main/images/03-pytorch-computer-vision-workflow.png)\n",
        "\n",
        "\n",
        "Specifically, we're going to cover:\n",
        "\n",
        "| **Topic** | **Contents** |\n",
        "| ----- | ----- |\n",
        "| **0. Computer vision libraries in PyTorch** | PyTorch has a bunch of built-in helpful computer vision libraries, let's check them out.  |\n",
        "| **1. Load data** | To practice computer vision, we'll start with some images of different pieces of clothing from [FashionMNIST](https://github.com/zalandoresearch/fashion-mnist). |\n",
        "| **2. Prepare data** | We've got some images, let's load them in with a [PyTorch `DataLoader`](https://pytorch.org/docs/stable/data.html) so we can use them with our training loop. |\n",
        "| **3. Model 0: Building a baseline model** | Here we'll create a multi-class classification model to learn patterns in the data, we'll also choose a **loss function**, **optimizer** and build a **training loop**. |\n",
        "| **4. Making predictions and evaluating model 0** | Let's make some predictions with our baseline model and evaluate them. |\n",
        "| **5. Setup device agnostic code for future models** | It's best practice to write device-agnostic code, so let's set it up. |\n",
        "| **6. Model 1: Adding non-linearity** | Experimenting is a large part of machine learning, let's try and improve upon our baseline model by adding non-linear layers. |\n",
        "| **7. Model 2: Convolutional Neural Network (CNN)** | Time to get computer vision specific and introduce the powerful convolutional neural network architecture. |\n",
        "| **8. Comparing our models** | We've built three different models, let's compare them. |\n",
        "| **9. Evaluating our best model** | Let's make some predictions on random images and evaluate our best model. |\n",
        "| **10. Making a confusion matrix** | A confusion matrix is a great way to evaluate a classification model, let's see how we can make one. |\n",
        "| **11. Saving and loading the best performing model** | Since we might want to use our model for later, let's save it and make sure it loads back in correctly. |"
      ]
    },
    {
      "cell_type": "markdown",
      "metadata": {
        "id": "GeUq8PF48fUB"
      },
      "source": [
        "## 0. Computer vision libraries in PyTorch"
      ]
    },
    {
      "cell_type": "markdown",
      "metadata": {
        "id": "ND35t8FG8fUB"
      },
      "source": [
        "\n",
        "\n",
        "Before we get started writing code, let's talk about some PyTorch computer vision libraries you should be aware of.\n",
        "\n",
        "| PyTorch module | What does it do? |\n",
        "| ----- | ----- |\n",
        "| [`torchvision`](https://pytorch.org/vision/stable/index.html) | Contains datasets, model architectures and image transformations often used for computer vision problems. |\n",
        "| [`torchvision.datasets`](https://pytorch.org/vision/stable/datasets.html) | Here you'll find many example computer vision datasets for a range of problems from image classification, object detection, image captioning, video classification and more. It also contains [a series of base classes for making custom datasets](https://pytorch.org/vision/stable/datasets.html#base-classes-for-custom-datasets). |\n",
        "| [`torchvision.models`](https://pytorch.org/vision/stable/models.html) | This module contains well-performing and commonly used computer vision model architectures implemented in PyTorch, you can use these with your own problems. |\n",
        "| [`torchvision.transforms`](https://pytorch.org/vision/stable/transforms.html) | Often images need to be transformed (turned into numbers/processed/augmented) before being used with a model, common image transformations are found here. |\n",
        "| [`torch.utils.data.Dataset`](https://pytorch.org/docs/stable/data.html#torch.utils.data.Dataset) | Base dataset class for PyTorch.  |\n",
        "| [`torch.utils.data.DataLoader`](https://pytorch.org/docs/stable/data.html#module-torch.utils.data) | Creates a Python iterable over a dataset (created with `torch.utils.data.Dataset`). |\n",
        "\n",
        "> **Note:** The `torch.utils.data.Dataset` and `torch.utils.data.DataLoader` classes aren't only for computer vision in PyTorch, they are capable of dealing with many different types of data.\n",
        "\n",
        "Now we've covered some of the most important PyTorch computer vision libraries, let's import the relevant dependencies.\n"
      ]
    },
    {
      "cell_type": "code",
      "execution_count": 1,
      "metadata": {
        "colab": {
          "base_uri": "https://localhost:8080/"
        },
        "id": "qFxo6R2J8fUB",
        "outputId": "13e03fd2-f513-42a0-9e99-a09ef6c7995e"
      },
      "outputs": [
        {
          "output_type": "stream",
          "name": "stdout",
          "text": [
            "Using device: cuda\n",
            "PyTorch version: 2.5.1+cu121\n",
            "torchvision version: 0.20.1+cu121\n"
          ]
        }
      ],
      "source": [
        "# Import PyTorch\n",
        "import torch\n",
        "from torch import nn\n",
        "\n",
        "# Import torchvision\n",
        "import torchvision\n",
        "from torchvision import datasets\n",
        "from torchvision.transforms import ToTensor\n",
        "\n",
        "# Import matplotlib for visualization\n",
        "import matplotlib.pyplot as plt\n",
        "\n",
        "# Device-Agnostic Code\n",
        "if torch.cuda.is_available():\n",
        "    device = \"cuda\" # NVIDIA GPU\n",
        "elif torch.backends.mps.is_available():\n",
        "    device = \"mps\" # Apple GPU\n",
        "else:\n",
        "    device = \"cpu\" # Defaults to CPU if NVIDIA GPU/Apple GPU aren't available\n",
        "\n",
        "print(f\"Using device: {device}\")\n",
        "\n",
        "# Check versions\n",
        "# Note: your PyTorch version shouldn't be lower than 1.10.0 and torchvision version shouldn't be lower than 0.11\n",
        "print(f\"PyTorch version: {torch.__version__}\\ntorchvision version: {torchvision.__version__}\")"
      ]
    },
    {
      "cell_type": "markdown",
      "metadata": {
        "id": "Hwcgz8a28fUC"
      },
      "source": [
        "## 1. Getting a dataset\n"
      ]
    },
    {
      "cell_type": "markdown",
      "metadata": {
        "id": "FaIw9TjA8fUC"
      },
      "source": [
        "\n",
        "To begin working on a computer vision problem, let's get a computer vision dataset.\n",
        "\n",
        "We're going to start with FashionMNIST.\n",
        "\n",
        "MNIST stands for Modified National Institute of Standards and Technology.\n",
        "\n",
        "The [original MNIST dataset](https://en.wikipedia.org/wiki/MNIST_database) contains thousands of examples of handwritten digits (from 0 to 9) and was used to build computer vision models to identify numbers for postal services.\n",
        "\n",
        "[FashionMNIST](https://github.com/zalandoresearch/fashion-mnist), made by Zalando Research, is a similar setup.\n",
        "\n",
        "Except it contains grayscale images of 10 different kinds of clothing.\n",
        "\n",
        "![example image of FashionMNIST](https://raw.githubusercontent.com/mrdbourke/pytorch-deep-learning/main/images/03-fashion-mnist-slide.png)\n",
        "*`torchvision.datasets` contains a lot of example datasets you can use to practice writing computer vision code on. FashionMNIST is one of those datasets. And since it has 10 different image classes (different types of clothing), it's a multi-class classification problem.*\n",
        "\n",
        "Later, we'll be building a computer vision neural network to identify the different styles of clothing in these images.\n",
        "\n",
        "PyTorch has a bunch of common computer vision datasets stored in `torchvision.datasets`.\n",
        "\n",
        "Including FashionMNIST in [`torchvision.datasets.FashionMNIST()`](https://pytorch.org/vision/main/generated/torchvision.datasets.FashionMNIST.html).\n",
        "\n",
        "To download it, we provide the following parameters:\n",
        "* `root: str` - which folder do you want to download the data to?\n",
        "* `train: Bool` - do you want the training or test split?\n",
        "* `download: Bool` - should the data be downloaded?\n",
        "* `transform: torchvision.transforms` - what transformations would you like to do on the data?\n",
        "* `target_transform` - you can transform the targets (labels) if you like too.\n",
        "\n",
        "Many other datasets in `torchvision` have these parameter options."
      ]
    },
    {
      "cell_type": "code",
      "execution_count": 2,
      "metadata": {
        "colab": {
          "base_uri": "https://localhost:8080/"
        },
        "id": "CVhW_Dwx8fUC",
        "outputId": "a16aeac0-e676-4b48-d0eb-5d3d26d4bef6"
      },
      "outputs": [
        {
          "output_type": "stream",
          "name": "stdout",
          "text": [
            "Downloading http://fashion-mnist.s3-website.eu-central-1.amazonaws.com/train-images-idx3-ubyte.gz\n",
            "Downloading http://fashion-mnist.s3-website.eu-central-1.amazonaws.com/train-images-idx3-ubyte.gz to data/FashionMNIST/raw/train-images-idx3-ubyte.gz\n"
          ]
        },
        {
          "output_type": "stream",
          "name": "stderr",
          "text": [
            "100%|██████████| 26.4M/26.4M [00:02<00:00, 9.87MB/s]\n"
          ]
        },
        {
          "output_type": "stream",
          "name": "stdout",
          "text": [
            "Extracting data/FashionMNIST/raw/train-images-idx3-ubyte.gz to data/FashionMNIST/raw\n",
            "\n",
            "Downloading http://fashion-mnist.s3-website.eu-central-1.amazonaws.com/train-labels-idx1-ubyte.gz\n",
            "Downloading http://fashion-mnist.s3-website.eu-central-1.amazonaws.com/train-labels-idx1-ubyte.gz to data/FashionMNIST/raw/train-labels-idx1-ubyte.gz\n"
          ]
        },
        {
          "output_type": "stream",
          "name": "stderr",
          "text": [
            "100%|██████████| 29.5k/29.5k [00:00<00:00, 210kB/s]\n"
          ]
        },
        {
          "output_type": "stream",
          "name": "stdout",
          "text": [
            "Extracting data/FashionMNIST/raw/train-labels-idx1-ubyte.gz to data/FashionMNIST/raw\n",
            "\n",
            "Downloading http://fashion-mnist.s3-website.eu-central-1.amazonaws.com/t10k-images-idx3-ubyte.gz\n",
            "Downloading http://fashion-mnist.s3-website.eu-central-1.amazonaws.com/t10k-images-idx3-ubyte.gz to data/FashionMNIST/raw/t10k-images-idx3-ubyte.gz\n"
          ]
        },
        {
          "output_type": "stream",
          "name": "stderr",
          "text": [
            "100%|██████████| 4.42M/4.42M [00:01<00:00, 3.91MB/s]\n"
          ]
        },
        {
          "output_type": "stream",
          "name": "stdout",
          "text": [
            "Extracting data/FashionMNIST/raw/t10k-images-idx3-ubyte.gz to data/FashionMNIST/raw\n",
            "\n",
            "Downloading http://fashion-mnist.s3-website.eu-central-1.amazonaws.com/t10k-labels-idx1-ubyte.gz\n",
            "Downloading http://fashion-mnist.s3-website.eu-central-1.amazonaws.com/t10k-labels-idx1-ubyte.gz to data/FashionMNIST/raw/t10k-labels-idx1-ubyte.gz\n"
          ]
        },
        {
          "output_type": "stream",
          "name": "stderr",
          "text": [
            "100%|██████████| 5.15k/5.15k [00:00<00:00, 21.9MB/s]"
          ]
        },
        {
          "output_type": "stream",
          "name": "stdout",
          "text": [
            "Extracting data/FashionMNIST/raw/t10k-labels-idx1-ubyte.gz to data/FashionMNIST/raw\n",
            "\n"
          ]
        },
        {
          "output_type": "stream",
          "name": "stderr",
          "text": [
            "\n"
          ]
        }
      ],
      "source": [
        "# Setup training data\n",
        "train_data = datasets.FashionMNIST(\n",
        "    root=\"data\", # specify the directory where the dataset will be downloaded\n",
        "    train=True, # indicates this is the training dataset\n",
        "    download=True, # automatically downloads the dataset if not already present in the specified directory\n",
        "    transform=ToTensor(), # converts images from PIL format to Torch tensors for model compatibility\n",
        "    target_transform=None # no additional transformation applied to labels (e.g., leave labels as integers)\n",
        ")\n",
        "\n",
        "# Setup testing data\n",
        "test_data = datasets.FashionMNIST(\n",
        "    root=\"data\", # specify the directory where the dataset will be downloaded\n",
        "    train=False, # indicates this is the testing dataset\n",
        "    download=True, # automatically downloads the dataset if not already present in the specified directory\n",
        "    transform=ToTensor() # converts images from PIL format to Torch tensors for consistency with training data\n",
        ")"
      ]
    },
    {
      "cell_type": "markdown",
      "metadata": {
        "id": "L23pDv-J8fUC"
      },
      "source": [
        "Let's check out the first sample of the training data."
      ]
    },
    {
      "cell_type": "code",
      "execution_count": 3,
      "metadata": {
        "colab": {
          "base_uri": "https://localhost:8080/"
        },
        "id": "pdxmjTQU8fUC",
        "outputId": "b5d9eddb-c621-4ffb-97bb-25f174403791"
      },
      "outputs": [
        {
          "output_type": "execute_result",
          "data": {
            "text/plain": [
              "(tensor([[[0.0000, 0.0000, 0.0000, 0.0000, 0.0000, 0.0000, 0.0000, 0.0000,\n",
              "           0.0000, 0.0000, 0.0000, 0.0000, 0.0000, 0.0000, 0.0000, 0.0000,\n",
              "           0.0000, 0.0000, 0.0000, 0.0000, 0.0000, 0.0000, 0.0000, 0.0000,\n",
              "           0.0000, 0.0000, 0.0000, 0.0000],\n",
              "          [0.0000, 0.0000, 0.0000, 0.0000, 0.0000, 0.0000, 0.0000, 0.0000,\n",
              "           0.0000, 0.0000, 0.0000, 0.0000, 0.0000, 0.0000, 0.0000, 0.0000,\n",
              "           0.0000, 0.0000, 0.0000, 0.0000, 0.0000, 0.0000, 0.0000, 0.0000,\n",
              "           0.0000, 0.0000, 0.0000, 0.0000],\n",
              "          [0.0000, 0.0000, 0.0000, 0.0000, 0.0000, 0.0000, 0.0000, 0.0000,\n",
              "           0.0000, 0.0000, 0.0000, 0.0000, 0.0000, 0.0000, 0.0000, 0.0000,\n",
              "           0.0000, 0.0000, 0.0000, 0.0000, 0.0000, 0.0000, 0.0000, 0.0000,\n",
              "           0.0000, 0.0000, 0.0000, 0.0000],\n",
              "          [0.0000, 0.0000, 0.0000, 0.0000, 0.0000, 0.0000, 0.0000, 0.0000,\n",
              "           0.0000, 0.0000, 0.0000, 0.0000, 0.0039, 0.0000, 0.0000, 0.0510,\n",
              "           0.2863, 0.0000, 0.0000, 0.0039, 0.0157, 0.0000, 0.0000, 0.0000,\n",
              "           0.0000, 0.0039, 0.0039, 0.0000],\n",
              "          [0.0000, 0.0000, 0.0000, 0.0000, 0.0000, 0.0000, 0.0000, 0.0000,\n",
              "           0.0000, 0.0000, 0.0000, 0.0000, 0.0118, 0.0000, 0.1412, 0.5333,\n",
              "           0.4980, 0.2431, 0.2118, 0.0000, 0.0000, 0.0000, 0.0039, 0.0118,\n",
              "           0.0157, 0.0000, 0.0000, 0.0118],\n",
              "          [0.0000, 0.0000, 0.0000, 0.0000, 0.0000, 0.0000, 0.0000, 0.0000,\n",
              "           0.0000, 0.0000, 0.0000, 0.0000, 0.0235, 0.0000, 0.4000, 0.8000,\n",
              "           0.6902, 0.5255, 0.5647, 0.4824, 0.0902, 0.0000, 0.0000, 0.0000,\n",
              "           0.0000, 0.0471, 0.0392, 0.0000],\n",
              "          [0.0000, 0.0000, 0.0000, 0.0000, 0.0000, 0.0000, 0.0000, 0.0000,\n",
              "           0.0000, 0.0000, 0.0000, 0.0000, 0.0000, 0.0000, 0.6078, 0.9255,\n",
              "           0.8118, 0.6980, 0.4196, 0.6118, 0.6314, 0.4275, 0.2510, 0.0902,\n",
              "           0.3020, 0.5098, 0.2824, 0.0588],\n",
              "          [0.0000, 0.0000, 0.0000, 0.0000, 0.0000, 0.0000, 0.0000, 0.0000,\n",
              "           0.0000, 0.0000, 0.0000, 0.0039, 0.0000, 0.2706, 0.8118, 0.8745,\n",
              "           0.8549, 0.8471, 0.8471, 0.6392, 0.4980, 0.4745, 0.4784, 0.5725,\n",
              "           0.5529, 0.3451, 0.6745, 0.2588],\n",
              "          [0.0000, 0.0000, 0.0000, 0.0000, 0.0000, 0.0000, 0.0000, 0.0000,\n",
              "           0.0000, 0.0039, 0.0039, 0.0039, 0.0000, 0.7843, 0.9098, 0.9098,\n",
              "           0.9137, 0.8980, 0.8745, 0.8745, 0.8431, 0.8353, 0.6431, 0.4980,\n",
              "           0.4824, 0.7686, 0.8980, 0.0000],\n",
              "          [0.0000, 0.0000, 0.0000, 0.0000, 0.0000, 0.0000, 0.0000, 0.0000,\n",
              "           0.0000, 0.0000, 0.0000, 0.0000, 0.0000, 0.7176, 0.8824, 0.8471,\n",
              "           0.8745, 0.8941, 0.9216, 0.8902, 0.8784, 0.8706, 0.8784, 0.8667,\n",
              "           0.8745, 0.9608, 0.6784, 0.0000],\n",
              "          [0.0000, 0.0000, 0.0000, 0.0000, 0.0000, 0.0000, 0.0000, 0.0000,\n",
              "           0.0000, 0.0000, 0.0000, 0.0000, 0.0000, 0.7569, 0.8941, 0.8549,\n",
              "           0.8353, 0.7765, 0.7059, 0.8314, 0.8235, 0.8275, 0.8353, 0.8745,\n",
              "           0.8627, 0.9529, 0.7922, 0.0000],\n",
              "          [0.0000, 0.0000, 0.0000, 0.0000, 0.0000, 0.0000, 0.0000, 0.0000,\n",
              "           0.0000, 0.0039, 0.0118, 0.0000, 0.0471, 0.8588, 0.8627, 0.8314,\n",
              "           0.8549, 0.7529, 0.6627, 0.8902, 0.8157, 0.8549, 0.8784, 0.8314,\n",
              "           0.8863, 0.7725, 0.8196, 0.2039],\n",
              "          [0.0000, 0.0000, 0.0000, 0.0000, 0.0000, 0.0000, 0.0000, 0.0000,\n",
              "           0.0000, 0.0000, 0.0235, 0.0000, 0.3882, 0.9569, 0.8706, 0.8627,\n",
              "           0.8549, 0.7961, 0.7765, 0.8667, 0.8431, 0.8353, 0.8706, 0.8627,\n",
              "           0.9608, 0.4667, 0.6549, 0.2196],\n",
              "          [0.0000, 0.0000, 0.0000, 0.0000, 0.0000, 0.0000, 0.0000, 0.0000,\n",
              "           0.0000, 0.0157, 0.0000, 0.0000, 0.2157, 0.9255, 0.8941, 0.9020,\n",
              "           0.8941, 0.9412, 0.9098, 0.8353, 0.8549, 0.8745, 0.9176, 0.8510,\n",
              "           0.8510, 0.8196, 0.3608, 0.0000],\n",
              "          [0.0000, 0.0000, 0.0039, 0.0157, 0.0235, 0.0275, 0.0078, 0.0000,\n",
              "           0.0000, 0.0000, 0.0000, 0.0000, 0.9294, 0.8863, 0.8510, 0.8745,\n",
              "           0.8706, 0.8588, 0.8706, 0.8667, 0.8471, 0.8745, 0.8980, 0.8431,\n",
              "           0.8549, 1.0000, 0.3020, 0.0000],\n",
              "          [0.0000, 0.0118, 0.0000, 0.0000, 0.0000, 0.0000, 0.0000, 0.0000,\n",
              "           0.0000, 0.2431, 0.5686, 0.8000, 0.8941, 0.8118, 0.8353, 0.8667,\n",
              "           0.8549, 0.8157, 0.8275, 0.8549, 0.8784, 0.8745, 0.8588, 0.8431,\n",
              "           0.8784, 0.9569, 0.6235, 0.0000],\n",
              "          [0.0000, 0.0000, 0.0000, 0.0000, 0.0706, 0.1725, 0.3216, 0.4196,\n",
              "           0.7412, 0.8941, 0.8627, 0.8706, 0.8510, 0.8863, 0.7843, 0.8039,\n",
              "           0.8275, 0.9020, 0.8784, 0.9176, 0.6902, 0.7373, 0.9804, 0.9725,\n",
              "           0.9137, 0.9333, 0.8431, 0.0000],\n",
              "          [0.0000, 0.2235, 0.7333, 0.8157, 0.8784, 0.8667, 0.8784, 0.8157,\n",
              "           0.8000, 0.8392, 0.8157, 0.8196, 0.7843, 0.6235, 0.9608, 0.7569,\n",
              "           0.8078, 0.8745, 1.0000, 1.0000, 0.8667, 0.9176, 0.8667, 0.8275,\n",
              "           0.8627, 0.9098, 0.9647, 0.0000],\n",
              "          [0.0118, 0.7922, 0.8941, 0.8784, 0.8667, 0.8275, 0.8275, 0.8392,\n",
              "           0.8039, 0.8039, 0.8039, 0.8627, 0.9412, 0.3137, 0.5882, 1.0000,\n",
              "           0.8980, 0.8667, 0.7373, 0.6039, 0.7490, 0.8235, 0.8000, 0.8196,\n",
              "           0.8706, 0.8941, 0.8824, 0.0000],\n",
              "          [0.3843, 0.9137, 0.7765, 0.8235, 0.8706, 0.8980, 0.8980, 0.9176,\n",
              "           0.9765, 0.8627, 0.7608, 0.8431, 0.8510, 0.9451, 0.2549, 0.2863,\n",
              "           0.4157, 0.4588, 0.6588, 0.8588, 0.8667, 0.8431, 0.8510, 0.8745,\n",
              "           0.8745, 0.8784, 0.8980, 0.1137],\n",
              "          [0.2941, 0.8000, 0.8314, 0.8000, 0.7569, 0.8039, 0.8275, 0.8824,\n",
              "           0.8471, 0.7255, 0.7725, 0.8078, 0.7765, 0.8353, 0.9412, 0.7647,\n",
              "           0.8902, 0.9608, 0.9373, 0.8745, 0.8549, 0.8314, 0.8196, 0.8706,\n",
              "           0.8627, 0.8667, 0.9020, 0.2627],\n",
              "          [0.1882, 0.7961, 0.7176, 0.7608, 0.8353, 0.7725, 0.7255, 0.7451,\n",
              "           0.7608, 0.7529, 0.7922, 0.8392, 0.8588, 0.8667, 0.8627, 0.9255,\n",
              "           0.8824, 0.8471, 0.7804, 0.8078, 0.7294, 0.7098, 0.6941, 0.6745,\n",
              "           0.7098, 0.8039, 0.8078, 0.4510],\n",
              "          [0.0000, 0.4784, 0.8588, 0.7569, 0.7020, 0.6706, 0.7176, 0.7686,\n",
              "           0.8000, 0.8235, 0.8353, 0.8118, 0.8275, 0.8235, 0.7843, 0.7686,\n",
              "           0.7608, 0.7490, 0.7647, 0.7490, 0.7765, 0.7529, 0.6902, 0.6118,\n",
              "           0.6549, 0.6941, 0.8235, 0.3608],\n",
              "          [0.0000, 0.0000, 0.2902, 0.7412, 0.8314, 0.7490, 0.6863, 0.6745,\n",
              "           0.6863, 0.7098, 0.7255, 0.7373, 0.7412, 0.7373, 0.7569, 0.7765,\n",
              "           0.8000, 0.8196, 0.8235, 0.8235, 0.8275, 0.7373, 0.7373, 0.7608,\n",
              "           0.7529, 0.8471, 0.6667, 0.0000],\n",
              "          [0.0078, 0.0000, 0.0000, 0.0000, 0.2588, 0.7843, 0.8706, 0.9294,\n",
              "           0.9373, 0.9490, 0.9647, 0.9529, 0.9569, 0.8667, 0.8627, 0.7569,\n",
              "           0.7490, 0.7020, 0.7137, 0.7137, 0.7098, 0.6902, 0.6510, 0.6588,\n",
              "           0.3882, 0.2275, 0.0000, 0.0000],\n",
              "          [0.0000, 0.0000, 0.0000, 0.0000, 0.0000, 0.0000, 0.0000, 0.1569,\n",
              "           0.2392, 0.1725, 0.2824, 0.1608, 0.1373, 0.0000, 0.0000, 0.0000,\n",
              "           0.0000, 0.0000, 0.0000, 0.0000, 0.0000, 0.0000, 0.0000, 0.0000,\n",
              "           0.0000, 0.0000, 0.0000, 0.0000],\n",
              "          [0.0000, 0.0000, 0.0000, 0.0000, 0.0000, 0.0000, 0.0000, 0.0000,\n",
              "           0.0000, 0.0000, 0.0000, 0.0000, 0.0000, 0.0000, 0.0000, 0.0000,\n",
              "           0.0000, 0.0000, 0.0000, 0.0000, 0.0000, 0.0000, 0.0000, 0.0000,\n",
              "           0.0000, 0.0000, 0.0000, 0.0000],\n",
              "          [0.0000, 0.0000, 0.0000, 0.0000, 0.0000, 0.0000, 0.0000, 0.0000,\n",
              "           0.0000, 0.0000, 0.0000, 0.0000, 0.0000, 0.0000, 0.0000, 0.0000,\n",
              "           0.0000, 0.0000, 0.0000, 0.0000, 0.0000, 0.0000, 0.0000, 0.0000,\n",
              "           0.0000, 0.0000, 0.0000, 0.0000]]]),\n",
              " 9)"
            ]
          },
          "metadata": {},
          "execution_count": 3
        }
      ],
      "source": [
        "# See first training sample\n",
        "image, label = train_data[0] # Access the first data sample (image, label pair) from the training dataset\n",
        "image, label # Display the image (as a tensor) and its corresponding label"
      ]
    },
    {
      "cell_type": "markdown",
      "metadata": {
        "id": "0crFmV_a8fUC"
      },
      "source": [
        "#### Class Names"
      ]
    },
    {
      "cell_type": "code",
      "execution_count": 4,
      "metadata": {
        "colab": {
          "base_uri": "https://localhost:8080/"
        },
        "id": "4x4qEc268fUC",
        "outputId": "3b4a8d15-b825-40f6-a0a5-b90eb2d5253f"
      },
      "outputs": [
        {
          "output_type": "execute_result",
          "data": {
            "text/plain": [
              "['T-shirt/top',\n",
              " 'Trouser',\n",
              " 'Pullover',\n",
              " 'Dress',\n",
              " 'Coat',\n",
              " 'Sandal',\n",
              " 'Shirt',\n",
              " 'Sneaker',\n",
              " 'Bag',\n",
              " 'Ankle boot']"
            ]
          },
          "metadata": {},
          "execution_count": 4
        }
      ],
      "source": [
        "class_names = train_data.classes    # Get the list of class names\n",
        "class_names"
      ]
    },
    {
      "cell_type": "markdown",
      "metadata": {
        "id": "XgW40vJN8fUC"
      },
      "source": [
        "#### Class-to-Index Mapping"
      ]
    },
    {
      "cell_type": "code",
      "execution_count": 5,
      "metadata": {
        "colab": {
          "base_uri": "https://localhost:8080/"
        },
        "id": "hEqXNulK8fUC",
        "outputId": "3e76ec82-62a4-4be7-c2d4-8b7ce11b4b5d"
      },
      "outputs": [
        {
          "output_type": "execute_result",
          "data": {
            "text/plain": [
              "{'T-shirt/top': 0,\n",
              " 'Trouser': 1,\n",
              " 'Pullover': 2,\n",
              " 'Dress': 3,\n",
              " 'Coat': 4,\n",
              " 'Sandal': 5,\n",
              " 'Shirt': 6,\n",
              " 'Sneaker': 7,\n",
              " 'Bag': 8,\n",
              " 'Ankle boot': 9}"
            ]
          },
          "metadata": {},
          "execution_count": 5
        }
      ],
      "source": [
        "class_to_idx = train_data.class_to_idx  # Get the mapping of class names to indices\n",
        "class_to_idx"
      ]
    },
    {
      "cell_type": "markdown",
      "metadata": {
        "id": "4FGhro_o8fUC"
      },
      "source": [
        "Above, we see the class names and their corresponding indices defined in the dataset for FashionMNIST."
      ]
    },
    {
      "cell_type": "markdown",
      "metadata": {
        "id": "JNmPvMcw8fUC"
      },
      "source": [
        "### 1.1 Input and output shapes of a computer vision model\n"
      ]
    },
    {
      "cell_type": "markdown",
      "metadata": {
        "id": "amM7D-WM8fUC"
      },
      "source": [
        "\n",
        "We've got a big tensor of values (the image) leading to a single value for the target (the label).\n",
        "\n",
        "Let's see the image shape."
      ]
    },
    {
      "cell_type": "code",
      "execution_count": 6,
      "metadata": {
        "colab": {
          "base_uri": "https://localhost:8080/"
        },
        "id": "G8zphR208fUC",
        "outputId": "7232a703-d4c8-4d45-ac18-4958578b8b74"
      },
      "outputs": [
        {
          "output_type": "stream",
          "name": "stdout",
          "text": [
            "Image shape: torch.Size([1, 28, 28]) -> [color_channels, height, width]\n",
            "Image label: Ankle boot\n"
          ]
        }
      ],
      "source": [
        "class_names = train_data.classes\n",
        "# What's the shape of the image?\n",
        "print(f\"Image shape: {image.shape} -> [color_channels, height, width]\")\n",
        "print(f\"Image label: {class_names[label]}\")"
      ]
    },
    {
      "cell_type": "markdown",
      "metadata": {
        "id": "QQ3TkhZo8fUC"
      },
      "source": [
        "The shape of the image tensor is `[1, 28, 28]` or more specifically:\n",
        "\n",
        "```\n",
        "[color_channels=1, height=28, width=28]\n",
        "```\n",
        "\n",
        "Having `color_channels=1` means the image is grayscale.\n",
        "\n",
        "![example input and output shapes of the fashionMNIST problem](https://raw.githubusercontent.com/mrdbourke/pytorch-deep-learning/main/images/03-computer-vision-input-and-output-shapes.png)\n",
        "*Various problems will have various input and output shapes. But the premise remains: encode data into numbers, build a model to find patterns in those numbers, convert those patterns into something meaningful.*\n",
        "\n",
        "If `color_channels=3`, the image comes in pixel values for red, green and blue (this is also known as the [RGB color model](https://en.wikipedia.org/wiki/RGB_color_model)).\n",
        "\n",
        "The order of our current tensor is often referred to as `CHW` (Color Channels, Height, Width).\n",
        "\n",
        "There's debate on whether images should be represented as `CHW` (color channels first) or `HWC` (color channels last).\n",
        "\n",
        "> **Note:** You'll also see `NCHW` and `NHWC` formats where `N` stands for *number of images*. For example if you have a `batch_size=32`, your tensor shape may be `[32, 1, 28, 28]`. We'll cover batch sizes later.\n",
        "\n",
        "PyTorch generally accepts `NCHW` (channels first) as the default for many operators.\n",
        "\n",
        "However, PyTorch also explains that `NHWC` (channels last) performs better and is [considered best practice](https://pytorch.org/blog/tensor-memory-format-matters/#pytorch-best-practice).\n",
        "\n",
        "For now, since our dataset and models are relatively small, this won't make too much of a difference.\n",
        "\n",
        "But keep it in mind for when you're working on larger image datasets and using convolutional neural networks (we'll see these later).\n",
        "\n",
        "Let's check out more shapes of our data."
      ]
    },
    {
      "cell_type": "code",
      "execution_count": 7,
      "metadata": {
        "colab": {
          "base_uri": "https://localhost:8080/"
        },
        "id": "F_6SiCt_8fUC",
        "outputId": "e1721f83-fbe1-4709-c407-bc5b3c8acaa5"
      },
      "outputs": [
        {
          "output_type": "execute_result",
          "data": {
            "text/plain": [
              "(60000, 60000, 10000, 10000)"
            ]
          },
          "metadata": {},
          "execution_count": 7
        }
      ],
      "source": [
        "# How many samples are there?\n",
        "len(train_data.data), len(train_data.targets), len(test_data.data), len(test_data.targets)"
      ]
    },
    {
      "cell_type": "markdown",
      "metadata": {
        "id": "OOmoNcez8fUD"
      },
      "source": [
        "So we've got 60,000 training samples and 10,000 testing samples. The amount in the training and testing datasets are predefined in some cases like MNIST, FashionMNIST, etc.\n",
        "\n",
        "What classes are there?\n",
        "\n",
        "We can find these via the `.classes` attribute."
      ]
    },
    {
      "cell_type": "code",
      "execution_count": 8,
      "metadata": {
        "colab": {
          "base_uri": "https://localhost:8080/"
        },
        "id": "MtsCGtPR8fUD",
        "outputId": "eeea2f68-583b-461f-bbe8-1db7509ee8ac"
      },
      "outputs": [
        {
          "output_type": "execute_result",
          "data": {
            "text/plain": [
              "['T-shirt/top',\n",
              " 'Trouser',\n",
              " 'Pullover',\n",
              " 'Dress',\n",
              " 'Coat',\n",
              " 'Sandal',\n",
              " 'Shirt',\n",
              " 'Sneaker',\n",
              " 'Bag',\n",
              " 'Ankle boot']"
            ]
          },
          "metadata": {},
          "execution_count": 8
        }
      ],
      "source": [
        "# See classes\n",
        "class_names = train_data.classes\n",
        "class_names"
      ]
    },
    {
      "cell_type": "markdown",
      "metadata": {
        "id": "DDc9PHfO8fUD"
      },
      "source": [
        "Sweet! It looks like we're dealing with 10 different kinds of clothes.\n",
        "\n",
        "Because we're working with 10 different classes, it means our problem is **multi-class classification**.\n",
        "\n",
        "Let's get visual."
      ]
    },
    {
      "cell_type": "markdown",
      "metadata": {
        "id": "hSNWJAX88fUD"
      },
      "source": [
        "### 1.2 Visualizing our data"
      ]
    },
    {
      "cell_type": "code",
      "execution_count": 9,
      "metadata": {
        "colab": {
          "base_uri": "https://localhost:8080/",
          "height": 469
        },
        "id": "LtiEL0_q8fUD",
        "outputId": "28789f15-c1ed-48a0-e4dd-85bd30932e23"
      },
      "outputs": [
        {
          "output_type": "stream",
          "name": "stdout",
          "text": [
            "Image shape: torch.Size([1, 28, 28])\n"
          ]
        },
        {
          "output_type": "display_data",
          "data": {
            "text/plain": [
              "<Figure size 640x480 with 1 Axes>"
            ],
            "image/png": "[encoded data removed]"
          },
          "metadata": {}
        }
      ],
      "source": [
        "import matplotlib.pyplot as plt # Import Matplotlib for visualization\n",
        "\n",
        "image, label = train_data[0] # Retrieve the first training sample (image and label pair)\n",
        "print(f\"Image shape: {image.shape}\") # Print the shape of the image tensor (e.g., [1, 28, 28])\n",
        "\n",
        "plt.imshow(image.squeeze()) # Remove the extra dimension (e.g., [1, 28, 28] -> [28, 28]) because imshow expects a 2D array\n",
        "plt.title(label); # Set the title of the plot to the label"
      ]
    },
    {
      "cell_type": "markdown",
      "metadata": {
        "id": "UG2Dd5PW8fUD"
      },
      "source": [
        "We can turn the image into grayscale using the `cmap` parameter of `plt.imshow()`."
      ]
    },
    {
      "cell_type": "code",
      "execution_count": 10,
      "metadata": {
        "colab": {
          "base_uri": "https://localhost:8080/",
          "height": 452
        },
        "id": "wraY35hm8fUD",
        "outputId": "0cfa493e-dce3-41ec-cad1-360484caaea5"
      },
      "outputs": [
        {
          "output_type": "display_data",
          "data": {
            "text/plain": [
              "<Figure size 640x480 with 1 Axes>"
            ],
            "image/png": "[encoded data removed]"
          },
          "metadata": {}
        }
      ],
      "source": [
        "plt.imshow(image.squeeze(), cmap=\"gray\")\n",
        "plt.title(class_names[label]);"
      ]
    },
    {
      "cell_type": "markdown",
      "metadata": {
        "id": "c2qmAtH78fUD"
      },
      "source": [
        "Beautiful, well as beautiful as a pixelated grayscale ankle boot can get.\n",
        "\n",
        "Let's view a few more."
      ]
    },
    {
      "cell_type": "code",
      "execution_count": 11,
      "metadata": {
        "colab": {
          "base_uri": "https://localhost:8080/",
          "height": 752
        },
        "id": "48B2IV1G8fUD",
        "outputId": "87368777-6ace-4ad7-bdfd-fa088b3f5d46"
      },
      "outputs": [
        {
          "output_type": "display_data",
          "data": {
            "text/plain": [
              "<Figure size 900x900 with 16 Axes>"
            ],
            "image/png": "[encoded data removed]"
          },
          "metadata": {}
        }
      ],
      "source": [
        "# Plot more images\n",
        "torch.manual_seed(42) # Set a random seed for reproducibility\n",
        "fig = plt.figure(figsize=(9, 9)) # Create a figure with specified size for plotting\n",
        "rows, cols = 4, 4 # Define the number of rows and columns for the grid (4x4 grid)\n",
        "for i in range(1, rows * cols + 1): # Loop through grid positions (16 total images)\n",
        "    random_idx = torch.randint(0, len(train_data), size=[1]).item() # Get a random index from the training dataset NOTE: see explanation below\n",
        "    img, label = train_data[random_idx] # Retrieve the image and its corresponding label using the random index\n",
        "    fig.add_subplot(rows, cols, i) # Add a subplot to the grid at the ith position\n",
        "    plt.imshow(img.squeeze(), cmap=\"gray\") # Display the image; squeeze removes extra dimensions, and cmap=\"gray\" ensures grayscale\n",
        "    plt.title(class_names[label]) # Set the title of the subplot to the class name corresponding to the label\n",
        "    plt.axis(False); # Remove axis ticks and labels for a cleaner visualization"
      ]
    },
    {
      "cell_type": "markdown",
      "metadata": {
        "id": "PqGCeZnM8fUE"
      },
      "source": [
        "### NOTE"
      ]
    },
    {
      "cell_type": "markdown",
      "metadata": {
        "id": "UIO-wzrI8fUE"
      },
      "source": [
        "#### Why `.item()` is needed:\n"
      ]
    },
    {
      "cell_type": "markdown",
      "metadata": {
        "id": "mjuLWtYE8fUE"
      },
      "source": [
        "\n",
        "- `torch.randint()` returns a tensor (e.g., `tensor([42])`), even if it contains a single value.\n",
        "- `.item()` extracts the scalar value from the tensor, converting it into a standard Python integer (e.g., `42`), which is required for indexing `train_data`.\n"
      ]
    },
    {
      "cell_type": "markdown",
      "metadata": {
        "id": "5WO8OAB88fUE"
      },
      "source": [
        "\n",
        "#### Why `size=[1]` is needed:\n"
      ]
    },
    {
      "cell_type": "markdown",
      "metadata": {
        "id": "s3nv10vO8fUE"
      },
      "source": [
        "\n",
        "- `size=[1]` tells `torch.randint()` to generate a single random number (1 element in the output tensor).\n",
        "- Without it, you would need to explicitly pass a scalar shape for randomness."
      ]
    },
    {
      "cell_type": "markdown",
      "metadata": {
        "id": "i9JaWeYC8fUE"
      },
      "source": [
        "Hmmm, this dataset doesn't look too aesthetic.\n",
        "\n",
        "But the principles we're going to learn on how to build a model for it will be similar across a wide range of computer vision problems.\n",
        "\n",
        "In essence, taking pixel values and building a model to find patterns in them to use on future pixel values.\n",
        "\n",
        "Plus, even for this small dataset (yes, even 60,000 images in deep learning is considered quite small), could you write a program to classify each one of them?\n",
        "\n",
        "You probably could.\n",
        "\n",
        "But I think coding a model in PyTorch would be faster.\n",
        "\n",
        "> **Question:** Do you think the above data can be modeled with only straight (linear) lines? Or do you think you'd also need non-straight (non-linear) lines?"
      ]
    },
    {
      "cell_type": "markdown",
      "metadata": {
        "id": "BERFHduI8fUE"
      },
      "source": [
        "## 2. Prepare DataLoader\n",
        "\n",
        "Now that our dataset is ready, the next step is to organize it using a [`torch.utils.data.DataLoader`](https://pytorch.org/docs/stable/data.html#torch.utils.data.DataLoader), commonly referred to as `DataLoader`.\n",
        "\n",
        "Right now, our data is in the form of PyTorch datasets. We can use a `DataLoader` to turn it into an iterable sequence of batches.\n",
        "\n",
        "### What is a DataLoader?\n",
        "\n",
        "A `DataLoader` serves as an efficient way to load data into your model for both training and inference. It transforms a large `Dataset` into an iterable sequence of smaller subsets called **batches** or **mini-batches**. The size of these batches is determined by the `batch_size` parameter.\n",
        "\n",
        "### Why Use Batches?\n",
        "\n",
        "- **Computational Efficiency:** Processing the entire dataset at once can be resource-intensive and impractical for large datasets. By dividing the data into smaller batches, you reduce memory usage and speed up computations.\n",
        "  \n",
        "- **Frequent Updates:** Using mini-batches allows your model to update its parameters more frequently. Instead of waiting to process the entire dataset before making an update (which happens once per epoch), updates occur after each mini-batch, leading to faster convergence. In other words, it gives our neural network more chances to update its gradients per epoch.\n",
        "\n",
        "### Choosing a Batch Size\n",
        "\n",
        "A good starting point for the `batch_size` is **32**. This value strikes a balance between training speed and model performance. However, since `batch_size` is a **hyperparameter**, you can experiment with different values to see what works best for your specific problem. Common batch sizes are powers of 2, such as 32, 64, 128, 256, and 512.\n",
        "\n",
        "![Batched Dataset Example](https://raw.githubusercontent.com/mrdbourke/pytorch-deep-learning/main/images/03-batching-fashionmnist.png)\n",
        "*Example of batching FashionMNIST with a batch size of 32 and shuffle enabled. The batching process is similar for other datasets, varying only with the chosen batch size.*\n",
        "\n",
        "### Implementing DataLoaders for Training and Testing\n",
        "\n",
        "Let's create `DataLoader` instances for both our training and test datasets. This will enable efficient data handling during the model training and evaluation phases.\n"
      ]
    },
    {
      "cell_type": "code",
      "execution_count": 12,
      "metadata": {
        "colab": {
          "base_uri": "https://localhost:8080/"
        },
        "id": "i-9Uga3-8fUE",
        "outputId": "e2f8b64f-44f4-4154-9f86-a750d63a1d3a"
      },
      "outputs": [
        {
          "output_type": "stream",
          "name": "stdout",
          "text": [
            "Dataloaders: (<torch.utils.data.dataloader.DataLoader object at 0x7afe71009f30>, <torch.utils.data.dataloader.DataLoader object at 0x7afe7a281db0>)\n",
            "Length of train dataloader: 1875 batches of 32\n",
            "Length of test dataloader: 313 batches of 32\n"
          ]
        }
      ],
      "source": [
        "from torch.utils.data import DataLoader\n",
        "\n",
        "# Setup the batch size hyperparameter\n",
        "BATCH_SIZE = 32      # How many samples per batch?\n",
        "\n",
        "# Turn datasets into iterables (batches)\n",
        "train_dataloader = DataLoader(train_data,            # dataset to turn into iterable\n",
        "                              batch_size=BATCH_SIZE, # how many samples per batch?\n",
        "                              shuffle=True)          # shuffle data every epoch?\n",
        "\n",
        "test_dataloader = DataLoader(test_data,              # dataset to turn into iterable\n",
        "                            batch_size=BATCH_SIZE,   # how many samples per batch?\n",
        "                            shuffle=False)           # shuffle data every epoch?\n",
        "\n",
        "# Let's check out what we've created\n",
        "print(f\"Dataloaders: {train_dataloader, test_dataloader}\")\n",
        "print(f\"Length of train dataloader: {len(train_dataloader)} batches of {BATCH_SIZE}\")\n",
        "print(f\"Length of test dataloader: {len(test_dataloader)} batches of {BATCH_SIZE}\")"
      ]
    },
    {
      "cell_type": "markdown",
      "metadata": {
        "id": "H8qtbFj-8fUE"
      },
      "source": [
        "#### Why shuffle data every epoch for training, but not for testing?\n"
      ]
    },
    {
      "cell_type": "markdown",
      "metadata": {
        "id": "GPBhD96Q8fUE"
      },
      "source": [
        "\n",
        "- For training, shuffling the data every epoch ensures that the model is exposed to a wide variety of data patterns, which helps prevent overfitting.\n",
        "- For testing, we want to see the model's performance on the same data patterns it encountered during training, so we don't want to shuffle it."
      ]
    },
    {
      "cell_type": "markdown",
      "metadata": {
        "id": "nG1aWGGH8fUE"
      },
      "source": [
        "#### Check out what's inside the training dataloader"
      ]
    },
    {
      "cell_type": "code",
      "execution_count": 13,
      "metadata": {
        "colab": {
          "base_uri": "https://localhost:8080/"
        },
        "id": "9PH62hbG8fUE",
        "outputId": "54e4dc4c-309e-4be0-dd42-d0fc3282928d"
      },
      "outputs": [
        {
          "output_type": "execute_result",
          "data": {
            "text/plain": [
              "(torch.Size([32, 1, 28, 28]), torch.Size([32]))"
            ]
          },
          "metadata": {},
          "execution_count": 13
        }
      ],
      "source": [
        "# Check out what's inside the training dataloader\n",
        "train_features_batch, train_labels_batch = next(iter(train_dataloader))  # Retrieve one batch of features (inputs) and labels (targets) from the dataloader\n",
        "train_features_batch.shape, train_labels_batch.shape  # Output the shapes of the features and labels in the batch"
      ]
    },
    {
      "cell_type": "markdown",
      "metadata": {
        "id": "qMZ8xyTJ8fUE"
      },
      "source": [
        "#### Purpose and Importance of `train_features_batch` and `train_labels_batch`\n"
      ]
    },
    {
      "cell_type": "markdown",
      "metadata": {
        "id": "BCIG88dk8fUE"
      },
      "source": [
        "\n",
        "1. **Understanding Data Structure:**\n",
        "   - **Purpose:** By fetching a single batch and inspecting its shape, you gain insight into how your data is organized.\n",
        "   - **Why It Matters:** Knowing the dimensions helps ensure that your data aligns with the expected input requirements of your neural network. For instance, if your model expects inputs of shape `[batch_size, channels, height, width]`, verifying this helps prevent shape mismatches.\n",
        "      * **Note**: In PyTorch, data is often represented as tensors with dimensions in the format `[batch_size, channels, height, width]` (NCHW format).\n",
        "\n",
        "2. **Verifying DataLoader Configuration:**\n",
        "   - **Purpose:** This step acts as a sanity check to confirm that the `DataLoader` is correctly batching and loading your data.\n",
        "   - **Why It Matters:** Misconfigurations like incorrect `batch_size` or improper shuffling can lead to issues during training. Ensuring that the loader behaves as expected helps avoid runtime errors and improves training efficiency.\n",
        "\n",
        "3. **Debugging and Troubleshooting:**\n",
        "   - **Purpose:** If you encounter unexpected behaviors or errors later in your training process, knowing the exact shape and structure of your data can help pinpoint issues.\n",
        "   - **Why It Matters:** For example, if your model throws an error about mismatched dimensions, you can refer back to these shape checks to identify the discrepancy.\n",
        "\n",
        "4. **Performance Optimization:**\n",
        "   - **Purpose:** Understanding the batch size and data dimensions can aid in optimizing training performance, especially when leveraging hardware accelerators like GPUs.\n",
        "   - **Why It Matters:** Larger batch sizes can speed up training but may require more memory. Balancing these factors based on your data shapes ensures efficient utilization of resources.\n"
      ]
    },
    {
      "cell_type": "markdown",
      "metadata": {
        "id": "AjLtIzsb8fUE"
      },
      "source": [
        "#### Show a Sample"
      ]
    },
    {
      "cell_type": "code",
      "execution_count": 14,
      "metadata": {
        "colab": {
          "base_uri": "https://localhost:8080/",
          "height": 463
        },
        "id": "HBDQEwnt8fUE",
        "outputId": "8ea28af4-6942-4644-ec02-f5b6834929b1"
      },
      "outputs": [
        {
          "output_type": "stream",
          "name": "stdout",
          "text": [
            "Image size: torch.Size([1, 28, 28])\n",
            "Label: 6, label size: torch.Size([])\n"
          ]
        },
        {
          "output_type": "display_data",
          "data": {
            "text/plain": [
              "<Figure size 640x480 with 1 Axes>"
            ],
            "image/png": "[encoded data removed]"
          },
          "metadata": {}
        }
      ],
      "source": [
        "# Show a sample\n",
        "torch.manual_seed(42)\n",
        "random_idx = torch.randint(0, len(train_features_batch), size=[1]).item()\n",
        "img, label = train_features_batch[random_idx], train_labels_batch[random_idx]\n",
        "plt.imshow(img.squeeze(), cmap=\"gray\")\n",
        "plt.title(class_names[label])\n",
        "plt.axis(False);\n",
        "print(f\"Image size: {img.shape}\")\n",
        "print(f\"Label: {label}, label size: {label.shape}\")"
      ]
    },
    {
      "cell_type": "markdown",
      "metadata": {
        "id": "mW2QYXEJ8fUE"
      },
      "source": [
        "## 3. Model 0: Building a Baseline Model\n"
      ]
    },
    {
      "cell_type": "markdown",
      "metadata": {
        "id": "-eTYIk6d8fUE"
      },
      "source": [
        "\n",
        "Data has been successfully loaded and prepared!\n",
        "\n",
        "Now, let's construct a **baseline model** by subclassing `nn.Module` from PyTorch.\n",
        "\n",
        "When starting to build a series of ML modelling experiments, it's best practice to start with a **baseline model** that provides a starting point to improve upon.\n"
      ]
    },
    {
      "cell_type": "markdown",
      "metadata": {
        "id": "Aq_X-DxW8fUE"
      },
      "source": [
        "\n",
        "### What is a Baseline Model?\n"
      ]
    },
    {
      "cell_type": "markdown",
      "metadata": {
        "id": "OSTLKJM08fUE"
      },
      "source": [
        "\n",
        "A **baseline model** serves as the simplest possible model to establish a performance benchmark. It provides a starting point from which more complex models can be developed and improvements can be measured.\n"
      ]
    },
    {
      "cell_type": "markdown",
      "metadata": {
        "id": "szSSTri28fUE"
      },
      "source": [
        "\n",
        "### Building the Baseline Model\n"
      ]
    },
    {
      "cell_type": "markdown",
      "metadata": {
        "id": "ldlD5Amg8fUF"
      },
      "source": [
        "\n",
        "Our baseline model will consist of two [`nn.Linear`](https://pytorch.org/docs/stable/generated/torch.nn.Linear.html) layers. These layers are fully connected layers that apply a linear transformation to the input data.\n"
      ]
    },
    {
      "cell_type": "markdown",
      "metadata": {
        "id": "Wuh7hS3u8fUF"
      },
      "source": [
        "\n",
        "#### A Slight Variation for Image Data\n"
      ]
    },
    {
      "cell_type": "markdown",
      "metadata": {
        "id": "0Ve6jiBu8fUF"
      },
      "source": [
        "\n",
        "Since we are working with image data, we'll introduce a slight modification by incorporating the [`nn.Flatten`](https://pytorch.org/docs/stable/generated/torch.nn.Flatten.html) layer at the beginning of our model.\n",
        "\n",
        "- **`nn.Flatten()`**: This layer transforms multi-dimensional input tensors into a single-dimensional vector. For image data, which typically has dimensions corresponding to color channels, height, and width, flattening simplifies the data structure, making it easier to process with linear layers.\n"
      ]
    },
    {
      "cell_type": "markdown",
      "metadata": {
        "id": "cd90b1cf8fUF"
      },
      "source": [
        "\n",
        "### Why Use `nn.Flatten()`?\n"
      ]
    },
    {
      "cell_type": "markdown",
      "metadata": {
        "id": "vXEf-KnH8fUF"
      },
      "source": [
        "\n",
        "Flattening the tensor reduces its complexity by collapsing all dimensions except the batch size into one. This is particularly useful when transitioning from convolutional layers, which handle multi-dimensional data, to linear layers, which expect one-dimensional input.\n",
        "\n",
        "By starting with `nn.Flatten()`, we ensure that our image data is appropriately formatted for the linear layers that follow, enabling effective training of our baseline model."
      ]
    },
    {
      "cell_type": "markdown",
      "metadata": {
        "id": "iggIkz2n8fUF"
      },
      "source": [
        "### Coding the Baseline Model"
      ]
    },
    {
      "cell_type": "code",
      "execution_count": 15,
      "metadata": {
        "colab": {
          "base_uri": "https://localhost:8080/"
        },
        "id": "TUDL1qcM8fUF",
        "outputId": "e76e3ce2-e15d-463b-fafc-232a5e068ca7"
      },
      "outputs": [
        {
          "output_type": "stream",
          "name": "stdout",
          "text": [
            "Shape before flattening: torch.Size([1, 28, 28]) -> [color_channels, height, width]\n",
            "Shape after flattening: torch.Size([1, 784]) -> [color_channels, height*width]\n"
          ]
        }
      ],
      "source": [
        "# Create a flatten layer\n",
        "flatten_model = nn.Flatten()  # Initialize the Flatten layer to convert multi-dimensional tensors to 1D\n",
        "\n",
        "# Get a single sample\n",
        "x = train_features_batch[0]  # Select the first image from the training features batch\n",
        "\n",
        "# Flatten the sample\n",
        "output = flatten_model(x)  # Apply the Flatten layer to transform the image tensor into a 1D vector\n",
        "\n",
        "# Print output shape\n",
        "print(f\"Shape before flattening: {x.shape} -> [color_channels, height, width]\")  # Display original tensor shape\n",
        "print(f\"Shape after flattening: {output.shape} -> [color_channels, height*width]\")  # Display flattened tensor shape"
      ]
    },
    {
      "cell_type": "markdown",
      "metadata": {
        "id": "YQ2e40Z_8fUF"
      },
      "source": [
        "\n",
        "\n",
        "### Benefits for `nn.Linear` Layers\n"
      ]
    },
    {
      "cell_type": "markdown",
      "metadata": {
        "id": "G3tEY0b_8fUF"
      },
      "source": [
        "\n",
        "`nn.Linear()` layers are designed to work with feature vectors. They expect inputs to be in a flat, one-dimensional format where each element of the vector represents a distinct feature. By providing the data as a feature vector, `nn.Linear()` can effectively apply linear transformations to learn the relationships between features.\n"
      ]
    },
    {
      "cell_type": "markdown",
      "metadata": {
        "id": "STdjFqca8fUF"
      },
      "source": [
        "\n",
        "### Building Our First Model\n"
      ]
    },
    {
      "cell_type": "markdown",
      "metadata": {
        "id": "_LccRGiP8fUF"
      },
      "source": [
        "\n",
        "Let's create our initial model by using `nn.Flatten()` as the first layer. This setup ensures that our image data is properly formatted for the subsequent linear layers, allowing the model to process and learn from the pixel data efficiently.\n"
      ]
    },
    {
      "cell_type": "code",
      "execution_count": 16,
      "metadata": {
        "id": "vSRXNL9P8fUF"
      },
      "outputs": [],
      "source": [
        "from torch import nn  # Import PyTorch's neural network module\n",
        "\n",
        "class FashionMNISTModelV0(nn.Module):\n",
        "    def __init__(self,\n",
        "                 input_shape: int,     # Number of input features (e.g., 784 for 28x28 images)\n",
        "                 hidden_units: int,    # Number of neurons in the hidden layer\n",
        "                 output_shape: int):   # Number of output classes (e.g., 10 for classification)\n",
        "        super().__init__()  # Initialize the parent nn.Module class\n",
        "        self.layer_stack = nn.Sequential(\n",
        "            nn.Flatten(),  # Flatten multi-dimensional input into a 1D vector\n",
        "            nn.Linear(in_features=input_shape, out_features=hidden_units),  # First linear layer: input to hidden\n",
        "            nn.Linear(in_features=hidden_units, out_features=output_shape)   # Second linear layer: hidden to output\n",
        "        )\n",
        "\n",
        "    def forward(self, x):\n",
        "        return self.layer_stack(x)  # Pass input through the sequential layers"
      ]
    },
    {
      "cell_type": "markdown",
      "metadata": {
        "id": "SF41cP338fUF"
      },
      "source": [
        "Wonderful!\n",
        "\n",
        "We've got a baseline model class we can use, now let's instantiate a model.\n",
        "\n",
        "We'll need to set the following parameters:\n",
        "* `input_shape=784` - this is how many features you've got going in the model, in our case, it's one for every pixel in the target image (28 pixels high by 28 pixels wide = 784 features).\n",
        "* `hidden_units=10` - number of units/neurons in the hidden layer(s), this number could be whatever you want but to keep the model small we'll start with `10`.\n",
        "* `output_shape=len(class_names)` - since we're working with a multi-class classification problem, we need an output neuron per class in our dataset.\n",
        "\n",
        "Let's create an instance of our model and send to the CPU for now (we'll run a small test for running `model_0` on CPU vs. a similar model on GPU soon)."
      ]
    },
    {
      "cell_type": "code",
      "execution_count": 17,
      "metadata": {
        "colab": {
          "base_uri": "https://localhost:8080/"
        },
        "id": "ZDYxIL5r8fUF",
        "outputId": "3e9f7c98-d1b4-46aa-e434-d1d12141e595"
      },
      "outputs": [
        {
          "output_type": "execute_result",
          "data": {
            "text/plain": [
              "FashionMNISTModelV0(\n",
              "  (layer_stack): Sequential(\n",
              "    (0): Flatten(start_dim=1, end_dim=-1)\n",
              "    (1): Linear(in_features=784, out_features=10, bias=True)\n",
              "    (2): Linear(in_features=10, out_features=10, bias=True)\n",
              "  )\n",
              ")"
            ]
          },
          "metadata": {},
          "execution_count": 17
        }
      ],
      "source": [
        "torch.manual_seed(42)\n",
        "\n",
        "# Setup model with input parameters\n",
        "model_0 = FashionMNISTModelV0(input_shape=784,               # 784 for 28x28 images\n",
        "                              hidden_units=10,               # units in hidden layer\n",
        "                              output_shape=len(class_names)  # one for each class\n",
        "                             )#to.(device)\n",
        "\n",
        "model_0"
      ]
    },
    {
      "cell_type": "markdown",
      "metadata": {
        "id": "OYLq4R_F8fUF"
      },
      "source": [
        "#### Running a Small Test to test shapes and inputs of `model_0`"
      ]
    },
    {
      "cell_type": "code",
      "execution_count": 18,
      "metadata": {
        "colab": {
          "base_uri": "https://localhost:8080/"
        },
        "id": "EdSX4iir8fUF",
        "outputId": "75b82c2d-c143-4f79-e2fa-c3ca2d6a9d21"
      },
      "outputs": [
        {
          "output_type": "execute_result",
          "data": {
            "text/plain": [
              "(tensor([[-0.0315,  0.3171,  0.0531, -0.2525,  0.5959,  0.2112,  0.3233,  0.2694,\n",
              "          -0.1004,  0.0157]], grad_fn=<AddmmBackward0>),\n",
              " torch.Size([1, 10]))"
            ]
          },
          "metadata": {},
          "execution_count": 18
        }
      ],
      "source": [
        "dummy_x = torch.rand([1, 1, 28, 28])#.to(device)\n",
        "model_0(dummy_x), model_0(dummy_x).shape"
      ]
    },
    {
      "cell_type": "markdown",
      "metadata": {
        "id": "bCSmeu4-8fUF"
      },
      "source": [
        "### 3.1 Setup loss, optimizer and evaluation metrics\n"
      ]
    },
    {
      "cell_type": "markdown",
      "metadata": {
        "id": "ch-sjeSy8fUF"
      },
      "source": [
        "\n",
        "Since we're working on a classification problem, let's bring in our [`helper_functions.py` script](https://github.com/mrdbourke/pytorch-deep-learning/blob/main/helper_functions.py) and subsequently the `accuracy_fn()` we defined in [notebook 02](https://www.learnpytorch.io/02_pytorch_classification/).\n",
        "\n",
        "> **Note:** Rather than importing and using our own accuracy function or evaluation metric(s), you could import various evaluation metrics from the [TorchMetrics package](https://torchmetrics.readthedocs.io/en/latest/)."
      ]
    },
    {
      "cell_type": "code",
      "execution_count": 19,
      "metadata": {
        "colab": {
          "base_uri": "https://localhost:8080/"
        },
        "id": "6192qXaq8fUF",
        "outputId": "7580dadf-9f10-4cd2-ae53-f474a6e6d068"
      },
      "outputs": [
        {
          "output_type": "stream",
          "name": "stdout",
          "text": [
            "Downloading helper_functions.py\n"
          ]
        }
      ],
      "source": [
        "import requests  # Import the requests module to handle HTTP requests\n",
        "from pathlib import Path  # Import Path from pathlib to work with file paths\n",
        "\n",
        "# Check if the helper_functions.py file already exists in the current directory\n",
        "if Path(\"helper_functions.py\").is_file():\n",
        "    print(\"helper_functions.py already exists, skipping download\")  # Notify that the file exists\n",
        "else:\n",
        "    print(\"Downloading helper_functions.py\")  # Notify that the file is being downloaded\n",
        "    # Send a GET request to download the raw helper_functions.py script from the specified GitHub URL\n",
        "    request = requests.get(\"https://raw.githubusercontent.com/mrdbourke/pytorch-deep-learning/main/helper_functions.py\")\n",
        "    # Open a file named \"helper_functions.py\" in write-binary mode and save the downloaded content\n",
        "    with open(\"helper_functions.py\", \"wb\") as f:\n",
        "        f.write(request.content)  # Write the content of the request to the file"
      ]
    },
    {
      "cell_type": "code",
      "execution_count": 20,
      "metadata": {
        "id": "AOPNzEEc8fUF"
      },
      "outputs": [],
      "source": [
        "# Import accuracy metric from the helper_functions.py script\n",
        "from helper_functions import accuracy_fn  # Custom accuracy function for evaluation\n",
        "# Note: Alternatively, you could use the TorchMetrics package for prebuilt metrics like Accuracy.\n",
        "# Example: torchmetrics.Accuracy(task='multiclass', num_classes=len(class_names)).to(device)\n",
        "\n",
        "# Setup loss function\n",
        "loss_fn = nn.CrossEntropyLoss()  # Define the loss function for classification tasks (e.g., categorical cross-entropy)\n",
        "\n",
        "\n",
        "# Setup optimizer\n",
        "optimizer = torch.optim.SGD(params=model_0.parameters(),    # Use Stochastic Gradient Descent (SGD) optimizer\n",
        "                            lr=0.1)\n"
      ]
    },
    {
      "cell_type": "markdown",
      "metadata": {
        "id": "zrEa9xcn8fUF"
      },
      "source": [
        "### 3.2 Creating a Function to Time Our Experiments\n"
      ]
    },
    {
      "cell_type": "markdown",
      "metadata": {
        "id": "VQUUT8zS8fUF"
      },
      "source": [
        "\n",
        "With the loss function and optimizer set up, we're ready to begin training our model. However, before diving into training, it's beneficial to conduct an experiment to measure and compare the training times on different hardware—specifically, between a **CPU** and a **GPU**.\n"
      ]
    },
    {
      "cell_type": "markdown",
      "metadata": {
        "id": "yx7bDQM_8fUG"
      },
      "source": [
        "\n",
        "#### Why Measure Training Time?\n"
      ]
    },
    {
      "cell_type": "markdown",
      "metadata": {
        "id": "6XjmaCh78fUG"
      },
      "source": [
        "\n",
        "Understanding how long your model takes to train on different hardware can help you make informed decisions about resource allocation, optimize your workflow, and identify potential bottlenecks in your training process.\n"
      ]
    },
    {
      "cell_type": "markdown",
      "metadata": {
        "id": "gzm4z3RH8fUG"
      },
      "source": [
        "\n",
        "#### Setting Up the Timing Function\n"
      ]
    },
    {
      "cell_type": "markdown",
      "metadata": {
        "id": "61koDoXw8fUG"
      },
      "source": [
        "\n",
        "To accurately measure the training time, we'll create a **timing function**. This function will utilize the [`timeit.default_timer()`](https://docs.python.org/3/library/timeit.html#timeit.default_timer) from Python's [`timeit` module](https://docs.python.org/3/library/timeit.html). The `timeit` module provides a simple way to time small bits of Python code, and `default_timer()` offers the most accurate clock available on your platform.\n"
      ]
    },
    {
      "cell_type": "markdown",
      "metadata": {
        "id": "LVGlmGwJ8fUG"
      },
      "source": [
        "\n",
        "#### Steps to Create the Timing Function\n"
      ]
    },
    {
      "cell_type": "markdown",
      "metadata": {
        "id": "6snWcMKJ8fUG"
      },
      "source": [
        "\n",
        "1. **Import the Required Function:**\n",
        "   - We'll import `default_timer` from the `timeit` module to track the start and end times of our training process.\n",
        "\n",
        "2. **Define the Timing Function:**\n",
        "   - The function will accept the model, data loaders, loss function, optimizer, number of epochs, and the device (CPU or GPU) as parameters.\n",
        "   - It will record the time before and after the training loop to calculate the total training duration.\n",
        "\n",
        "3. **Run the Experiment:**\n",
        "   - We'll train the same model twice: once on the CPU and once on the GPU.\n",
        "   - By comparing the recorded times, we can observe the performance difference between the two hardware setups.\n"
      ]
    },
    {
      "cell_type": "code",
      "execution_count": 21,
      "metadata": {
        "id": "4VNRFyrM8fUG"
      },
      "outputs": [],
      "source": [
        "from timeit import default_timer as timer  # Import the default_timer function for high-resolution timing\n",
        "\n",
        "def print_train_time(start: float, end: float, device: torch.device = None):\n",
        "    \"\"\"\n",
        "    Prints the difference between start and end times, indicating the training duration on a specific device.\n",
        "\n",
        "    Args:\n",
        "        start (float): Start time of computation (preferably obtained using timeit.default_timer()).\n",
        "        end (float): End time of computation.\n",
        "        device (torch.device, optional): The device on which the computation was performed (e.g., CPU or GPU). Defaults to None.\n",
        "\n",
        "    Returns:\n",
        "        float: The total time taken for training in seconds.\n",
        "    \"\"\"\n",
        "    total_time = end - start  # Calculate the total training time by subtracting start time from end time\n",
        "    print(f\"Train time on {device}: {total_time:.3f} seconds\")  # Print the training time with device information\n",
        "    return total_time  # Return the total training time"
      ]
    },
    {
      "cell_type": "markdown",
      "metadata": {
        "id": "mGvFdrvt8fUG"
      },
      "source": [
        "### 3.3 Creating a Training Loop and Training a Model on Batches of Data\n"
      ]
    },
    {
      "cell_type": "markdown",
      "metadata": {
        "id": "CR9RHdtK8fUG"
      },
      "source": [
        "\n",
        "Great! We have all the necessary components: a timer, loss function, optimizer, model, and data.\n",
        "\n",
        "Next, we'll create training and testing loops to train and evaluate our model.\n",
        "\n",
        "Since our data is now batched, we'll introduce an additional loop to handle these batches. Our batches are managed by the `DataLoader`s: `train_dataloader` for training data and `test_dataloader` for testing data.\n",
        "\n",
        "Each batch contains `BATCH_SIZE` samples of features (`X`) and labels (`y`). With `BATCH_SIZE=32`, each batch includes 32 images and their corresponding targets.\n",
        "\n",
        "Because we're processing data in batches, we'll calculate loss and evaluation metrics **per batch** instead of across the entire dataset. This requires dividing the accumulated loss and accuracy by the number of batches in each dataloader.\n",
        "\n",
        "Here’s the process:\n",
        "1. Iterate over epochs.\n",
        "2. For each epoch, loop through training batches to perform training steps and compute training loss per batch.\n",
        "3. Loop through testing batches to perform testing steps and compute testing loss per batch.\n",
        "4. Display progress and results.\n",
        "5. Track the total training time.\n",
        "\n",
        "It involves several steps, but as always, if you’re unsure, just start coding!"
      ]
    },
    {
      "cell_type": "code",
      "execution_count": 22,
      "metadata": {
        "colab": {
          "base_uri": "https://localhost:8080/",
          "height": 483,
          "referenced_widgets": [
            "87f9c23c5cc0462097fae4365de26ed2",
            "f08f1421d4b84a44b86ee429fc1259a0",
            "a6d1862ff3d242aaad2819ddc3e4a6b9",
            "94db0d40b8294b7e9513dd65ca1d29f1",
            "549a3d3188364ee98d57faf6585a7389",
            "afe33f448a004b12807976a181980d3d",
            "d6b40b425b824b97bc90e7c8a19ddb7a",
            "aa7b72b547614745bb206721e7728617",
            "34415457a256458a819486efa8accbed",
            "b0b6ae6ab9074b1782d5e2eaac0984b2",
            "43cf24a0b3334a6c8a8001ae2de37b09"
          ]
        },
        "id": "xh3RahSm8fUG",
        "outputId": "536c13b0-db4a-4e55-e97b-ea1a621420f4"
      },
      "outputs": [
        {
          "output_type": "display_data",
          "data": {
            "text/plain": [
              "Epochs:   0%|          | 0/3 [00:00<?, ?it/s]"
            ],
            "application/vnd.jupyter.widget-view+json": {
              "version_major": 2,
              "version_minor": 0,
              "model_id": "87f9c23c5cc0462097fae4365de26ed2"
            }
          },
          "metadata": {}
        },
        {
          "output_type": "stream",
          "name": "stdout",
          "text": [
            "Epoch: 0\n",
            "-------\n",
            "Processed 0/60000 images during training\n",
            "Processed 12800/60000 images during training\n",
            "Processed 25600/60000 images during training\n",
            "Processed 38400/60000 images during training\n",
            "Processed 51200/60000 images during training\n",
            "Train Loss: 0.59039 | Test Loss: 0.50954 | Test Accuracy: 82.04%\n",
            "Epoch: 1\n",
            "-------\n",
            "Processed 0/60000 images during training\n",
            "Processed 12800/60000 images during training\n",
            "Processed 25600/60000 images during training\n",
            "Processed 38400/60000 images during training\n",
            "Processed 51200/60000 images during training\n",
            "Train Loss: 0.47633 | Test Loss: 0.47989 | Test Accuracy: 83.20%\n",
            "Epoch: 2\n",
            "-------\n",
            "Processed 0/60000 images during training\n",
            "Processed 12800/60000 images during training\n",
            "Processed 25600/60000 images during training\n",
            "Processed 38400/60000 images during training\n",
            "Processed 51200/60000 images during training\n",
            "Train Loss: 0.45503 | Test Loss: 0.47664 | Test Accuracy: 83.43%\n",
            "Train time on cpu: 27.630 seconds\n"
          ]
        }
      ],
      "source": [
        "from tqdm.auto import tqdm  # Import tqdm for displaying progress bars\n",
        "import torch\n",
        "from timeit import default_timer as timer\n",
        "\n",
        "# Set the random seed for reproducibility\n",
        "torch.manual_seed(42)\n",
        "\n",
        "# Start the training timer to measure how long the training process takes\n",
        "train_time_start_on_cpu = timer()\n",
        "\n",
        "# Define the number of training epochs (full passes through the dataset)\n",
        "epochs = 3\n",
        "\n",
        "# Training and testing loop iterates over the number of epochs\n",
        "for epoch in tqdm(range(epochs), desc=\"Epochs\"):\n",
        "    print(f\"Epoch: {epoch}\\n-------\")\n",
        "\n",
        "    ### Training Phase\n",
        "    train_loss = 0  # Initialize cumulative training loss for the epoch\n",
        "\n",
        "    # Enumerate(train_dataloader) provides the batch index, input data X, and corresponding labels y for each training batch\n",
        "    for batch, (X, y) in enumerate(train_dataloader):\n",
        "        model_0.train()  # Set model to training mode to enable behaviors like dropout and batch normalization\n",
        "\n",
        "        # 1. Forward pass: compute model predictions for the input batch\n",
        "        y_pred = model_0(X)\n",
        "\n",
        "        # 2. Compute loss between predictions and true labels\n",
        "        loss = loss_fn(y_pred, y)\n",
        "        train_loss += loss.item()  # Accumulate loss to compute average later\n",
        "\n",
        "        # 3. Zero out gradients from the previous optimization step\n",
        "        optimizer.zero_grad()\n",
        "\n",
        "        # 4. Backward pass: compute gradients of the loss w.r.t. model parameters\n",
        "        loss.backward()\n",
        "\n",
        "        # 5. Update model parameters based on computed gradients\n",
        "        optimizer.step()\n",
        "\n",
        "        # Optional: Print progress every 400 batches to monitor training\n",
        "        if batch % 400 == 0:\n",
        "            processed = batch * len(X)  # Number of images processed so far\n",
        "            total = len(train_dataloader.dataset)  # Total number of images in the dataset\n",
        "            print(f\"Processed {processed}/{total} images during training\")\n",
        "\n",
        "    # Calculate average training loss for the epoch by dividing total loss by number of batches\n",
        "    train_loss /= len(train_dataloader)\n",
        "\n",
        "    ### Testing Phase\n",
        "    test_loss, test_acc = 0, 0  # Initialize cumulative test loss and accuracy\n",
        "    model_0.eval()  # Set model to evaluation mode to disable dropout and batch normalization\n",
        "\n",
        "    with torch.inference_mode():  # Disable gradient calculations for faster computations during evaluation\n",
        "        for X_test, y_test in test_dataloader:\n",
        "            # 1. Forward pass: compute model predictions on the test data\n",
        "            test_pred = model_0(X_test)\n",
        "\n",
        "            # 2. Compute loss between predictions and true labels, accumulate the loss\n",
        "            test_loss += loss_fn(test_pred, y_test).item()\n",
        "\n",
        "            # 3. Calculate accuracy by comparing predicted labels to true labels\n",
        "            #    `argmax(dim=1)` selects the class with the highest predicted score\n",
        "            test_acc += accuracy_fn(y_true=y_test, y_pred=test_pred.argmax(dim=1))\n",
        "\n",
        "    # Calculate average test loss by dividing total test loss by number of test batches\n",
        "    test_loss /= len(test_dataloader)\n",
        "\n",
        "    # Calculate average test accuracy by dividing total correct predictions by number of test batches\n",
        "    test_acc /= len(test_dataloader)\n",
        "\n",
        "    # Display training and testing metrics for the current epoch\n",
        "    print(f\"Train Loss: {train_loss:.5f} | Test Loss: {test_loss:.5f} | Test Accuracy: {test_acc:.2f}%\")\n",
        "\n",
        "# End the training timer to measure total training duration\n",
        "train_time_end_on_cpu = timer()\n",
        "\n",
        "# Calculate and print the total training time using a custom function `print_train_time`\n",
        "# This function likely formats and displays the elapsed time along with the device used\n",
        "total_train_time_model_0 = print_train_time(\n",
        "    start=train_time_start_on_cpu,\n",
        "    end=train_time_end_on_cpu,\n",
        "    device=str(next(model_0.parameters()).device)  # Retrieves the device (CPU/GPU) the model is on\n",
        ")"
      ]
    },
    {
      "cell_type": "markdown",
      "metadata": {
        "id": "kz7fsNGa8fUG"
      },
      "source": [
        "Nice! Looks like our baseline model did fairly well.\n",
        "\n",
        "It didn't take too long to train either, even just on the CPU, I wonder if it'll speed up on the GPU?\n",
        "\n",
        "Let's write some code to evaluate our model."
      ]
    },
    {
      "cell_type": "markdown",
      "metadata": {
        "id": "r1KhTgwS8fUG"
      },
      "source": [
        "## 4. Make predictions and get Model 0 results\n"
      ]
    },
    {
      "cell_type": "markdown",
      "metadata": {
        "id": "Nma-bsud8fUG"
      },
      "source": [
        "\n",
        "Since we're going to be building a few models, it's a good idea to write some code to evaluate them all in similar ways.\n",
        "\n",
        "Namely, let's create a function that takes in a trained model, a `DataLoader`, a loss function and an accuracy function.\n",
        "\n",
        "The function will use the model to make predictions on the data in the `DataLoader` and then we can evaluate those predictions using the loss function and accuracy function."
      ]
    },
    {
      "cell_type": "code",
      "execution_count": 23,
      "metadata": {
        "colab": {
          "base_uri": "https://localhost:8080/"
        },
        "id": "dlRd8uqk8fUG",
        "outputId": "d42caf06-b78b-42ad-e771-0608a8a5dbce"
      },
      "outputs": [
        {
          "output_type": "stream",
          "name": "stdout",
          "text": [
            "{'model_name': 'FashionMNISTModelV0', 'model_loss': 0.47663894295692444, 'model_acc': 83.42651757188499}\n"
          ]
        }
      ],
      "source": [
        "import torch\n",
        "\n",
        "# Set the random seed for reproducibility\n",
        "torch.manual_seed(42)\n",
        "\n",
        "def eval_model(model: torch.nn.Module,                # PyTorch model to evaluate\n",
        "              data_loader: torch.utils.data.DataLoader,  # DataLoader containing evaluation data\n",
        "              loss_fn: torch.nn.Module,              # Loss function to compute loss\n",
        "              accuracy_fn: callable):                # Function to compute accuracy\n",
        "    \"\"\"\n",
        "    Evaluates the given model on the provided dataset and returns performance metrics.\n",
        "\n",
        "    Args:\n",
        "        model (torch.nn.Module): A PyTorch model capable of making predictions on data_loader.\n",
        "        data_loader (torch.utils.data.DataLoader): A PyTorch DataLoader containing the data to predict on.\n",
        "        loss_fn (torch.nn.Module): A PyTorch loss function.\n",
        "        accuracy_fn (callable): A function for computing accuracy.\n",
        "\n",
        "    Returns:\n",
        "        dict: A dictionary containing the model's name, average loss, and average accuracy.\n",
        "    \"\"\"\n",
        "\n",
        "    loss, acc = 0, 0  # Initialize cumulative loss and accuracy\n",
        "\n",
        "    model.eval()  # Set the model to evaluation mode (disables dropout, batchnorm, etc.)\n",
        "\n",
        "    with torch.inference_mode():  # Disable gradient calculations for faster computation and reduced memory usage\n",
        "        for X, y in data_loader:\n",
        "            # Move data to the same device as the model (e.g., CPU or GPU)\n",
        "            X, y = X.to(next(model.parameters()).device), y.to(next(model.parameters()).device)\n",
        "\n",
        "            # Forward pass: compute the model's predictions\n",
        "            y_pred = model(X)\n",
        "\n",
        "            # Compute the loss for the current batch and accumulate it\n",
        "            loss += loss_fn(y_pred, y)\n",
        "\n",
        "            # Compute the number of correct predictions and accumulate it\n",
        "            # y_pred.argmax(dim=1) selects the class with the highest score as the predicted label\n",
        "            acc += accuracy_fn(y_true=y, y_pred=y_pred.argmax(dim=1))\n",
        "\n",
        "        # Calculate average loss over all batches\n",
        "        loss /= len(data_loader)\n",
        "\n",
        "        # Calculate average accuracy over all batches\n",
        "        acc /= len(data_loader)\n",
        "\n",
        "    # Prepare the results dictionary with model name, average loss, and average accuracy\n",
        "    return {\n",
        "        \"model_name\": model.__class__.__name__,  # Retrieves the class name of the model\n",
        "        \"model_loss\": loss.item(),               # Converts the loss tensor to a Python float\n",
        "        \"model_acc\": acc                         # Average accuracy as a float\n",
        "    }\n",
        "\n",
        "# Example Usage:\n",
        "\n",
        "# Assuming you have a trained model `model_0`, a test DataLoader `test_dataloader`,\n",
        "# a loss function `loss_fn`, and an accuracy function `accuracy_fn` defined elsewhere.\n",
        "\n",
        "# Evaluate model_0 on the test dataset\n",
        "model_0_results = eval_model(model=model_0,\n",
        "                            data_loader=test_dataloader,\n",
        "                            loss_fn=loss_fn,\n",
        "                            accuracy_fn=accuracy_fn)\n",
        "\n",
        "# Display the evaluation results\n",
        "print(model_0_results)"
      ]
    },
    {
      "cell_type": "markdown",
      "metadata": {
        "id": "d_csVDJZ8fUG"
      },
      "source": [
        "### Clarification of the use of `enumerate` in the training loop and its omission in the evaluation loop\n"
      ]
    },
    {
      "cell_type": "markdown",
      "metadata": {
        "id": "TS716DbY8fUG"
      },
      "source": [
        "\n",
        "#### 1. Did We Absolutely Have to Use `enumerate` when training our model?\n"
      ]
    },
    {
      "cell_type": "markdown",
      "metadata": {
        "id": "J7FH2Wvu8fUG"
      },
      "source": [
        "\n",
        "**Short Answer:**  \n",
        "No, using `enumerate` is not mandatory. It is optional and should be used based on whether you need access to the batch index within your loop.\n",
        "\n",
        "**Detailed Explanation:**\n",
        "\n",
        "- **Purpose of `enumerate`:**  \n",
        "  The `enumerate` function adds a counter to an iterable and returns it as an `enumerate` object. This allows you to access both the **index** (or count) and the **value** from the iterable in a single loop.\n",
        "\n",
        "- **When to Use `enumerate`:**\n",
        "  - **Logging & Monitoring:** If you want to log progress, print batch numbers, or perform actions at specific intervals (e.g., every 100 batches), `enumerate` provides the batch index essential for these tasks.\n",
        "  - **Conditional Operations:** Perform certain operations only on specific batches based on their index.\n",
        "\n",
        "- **When Not to Use `enumerate`:**\n",
        "  - **No Need for Index:** If your loop logic doesn't require knowing the current batch number, you can iterate directly over the DataLoader without using `enumerate`.\n",
        "\n",
        "**Conclusion:**  \n",
        "Use `enumerate` **only** when you need the batch index for tasks like logging, conditional processing, or tracking progress. Otherwise, it's perfectly fine to iterate directly over the DataLoader.\n",
        "\n",
        "---\n"
      ]
    },
    {
      "cell_type": "markdown",
      "metadata": {
        "id": "sqj0Yaon8fUG"
      },
      "source": [
        "\n",
        "#### 2. Why Use `for batch, (X, y) in enumerate(train_dataloader):` in Training but `for X, y in data_loader:` in Evaluation?\n"
      ]
    },
    {
      "cell_type": "markdown",
      "metadata": {
        "id": "QHb6Q_9D8fUG"
      },
      "source": [
        "\n",
        "**Short Answer:**  \n",
        "In the training loop, `enumerate` is used to access the batch index for logging progress, while in the evaluation loop, the batch index isn't needed, so `enumerate` is omitted.\n",
        "\n",
        "**Detailed Explanation:**\n",
        "\n",
        "| **Scenario** | **Loop Structure** | **Reason** |\n",
        "|--------------|---------------------|------------|\n",
        "| **Training** | `for batch, (X, y) in enumerate(train_dataloader):` | Need batch index for logging and conditional operations. |\n",
        "| **Evaluation** | `for X, y in test_dataloader:` | No need for batch index; focus on aggregating metrics. |\n",
        "\n",
        "- **Training Loop with `enumerate`:**\n",
        "  - **Progress Logging:** The batch index (`batch`) is used to print progress messages at regular intervals, helping monitor how much of the training data has been processed.\n",
        "  - **Conditional Operations:** Allows performing specific actions based on the batch number, such as adjusting learning rates or saving checkpoints dynamically.\n",
        "\n",
        "- **Evaluation Loop without `enumerate`:**\n",
        "  - **No Need for Batch Index:** During evaluation, the primary goal is to aggregate metrics like loss and accuracy over the entire dataset. The batch index doesn't provide additional value.\n",
        "  - **Simplicity:** Omitting `enumerate` makes the loop cleaner and more focused on processing data rather than tracking its position.\n",
        "\n",
        "**Conclusion:**  \n",
        "In the **training loop**, `enumerate` is valuable for tracking progress, logging, and performing batch-specific operations. In the **evaluation loop**, since these needs are absent, you can iterate directly over the DataLoader without using `enumerate` for a more streamlined and efficient process.\n",
        "\n",
        "---\n"
      ]
    },
    {
      "cell_type": "markdown",
      "metadata": {
        "id": "t20ynK038fUG"
      },
      "source": [
        "\n",
        "#### 3. Practical Implications & Best Practices\n"
      ]
    },
    {
      "cell_type": "markdown",
      "metadata": {
        "id": "Xt8ncD1u8fUH"
      },
      "source": [
        "\n",
        "- **Consistency:**  \n",
        "  While it's not mandatory to use `enumerate` in both training and evaluation loops, maintaining consistency can improve code readability. If you foresee the need for batch indices in the future (e.g., more detailed logging during evaluation), you might opt to include `enumerate` even in the evaluation loop.\n",
        "\n",
        "- **Performance:**  \n",
        "  Using `enumerate` has negligible performance implications. The choice to use it should be driven by the necessity of accessing the batch index rather than performance concerns.\n",
        "\n",
        "- **Code Readability:**  \n",
        "  Including `enumerate` when the index is not used can introduce unnecessary complexity. Aim for simplicity by omitting it when it's not needed.\n",
        "\n",
        "---\n"
      ]
    },
    {
      "cell_type": "markdown",
      "metadata": {
        "id": "0f-e1zb88fUH"
      },
      "source": [
        "\n",
        "#### 4. Additional Recommendations\n"
      ]
    },
    {
      "cell_type": "markdown",
      "metadata": {
        "id": "NXDv60xi8fUH"
      },
      "source": [
        "\n",
        "- **Device Management:**  \n",
        "  Ensure that both your model and data are on the same device (CPU or GPU) to prevent runtime errors and optimize performance.\n",
        "\n",
        "- **Gradient Clipping:**  \n",
        "  To prevent exploding gradients, especially in deep networks, consider clipping gradients before the optimizer step.\n",
        "\n",
        "- **Learning Rate Scheduling:**  \n",
        "  Adjust the learning rate during training for potentially better convergence.\n",
        "\n",
        "- **Saving Checkpoints:**  \n",
        "  Periodically save model checkpoints during training to prevent loss of progress in case of interruptions.\n",
        "\n",
        "**Example Recommendations (Conceptual):**\n",
        "\n",
        "- **Device Handling:**  \n",
        "  Move both model and data to GPU if available to leverage faster computations.\n",
        "\n",
        "- **Progress Monitoring:**  \n",
        "  Use `enumerate` in training loops for periodic logging to monitor training progress effectively.\n",
        "\n",
        "---\n"
      ]
    },
    {
      "cell_type": "markdown",
      "metadata": {
        "id": "blQ9zyJ78fUH"
      },
      "source": [
        "\n",
        "#### 5. Summary\n"
      ]
    },
    {
      "cell_type": "markdown",
      "metadata": {
        "id": "YxqQ6yoy8fUH"
      },
      "source": [
        "\n",
        "- **`X` and `y`:**  \n",
        "  Represent the input data and corresponding labels for each batch, respectively.\n",
        "\n",
        "- **`enumerate`:**  \n",
        "  A Python function that adds a counter to an iterable, allowing access to both the index (`batch`) and the value (`(X, y)`) in each iteration.\n",
        "\n",
        "- **Loop Structure Differences:**  \n",
        "  - **Training Loop:** Uses `enumerate` to track batch indices for logging and conditional operations.\n",
        "  - **Evaluation Loop:** Omits `enumerate` as batch indices are unnecessary for aggregating metrics.\n",
        "\n",
        "**Understanding these components is crucial for effectively managing data flow and monitoring progress in your PyTorch models. Implement best practices to enhance code readability, maintainability, and performance.**"
      ]
    },
    {
      "cell_type": "markdown",
      "metadata": {
        "id": "COZXz_Lt8fUH"
      },
      "source": [
        "## 5. Setup device agnostic-code (for using a GPU if there is one)\n"
      ]
    },
    {
      "cell_type": "markdown",
      "metadata": {
        "id": "g9-Oy1o18fUH"
      },
      "source": [
        "\n",
        "We've seen how long it takes to train ma PyTorch model on 60,000 samples on CPU.\n",
        "\n",
        "> **Note:** Model training time is dependent on hardware used. Generally, more processors means faster training and smaller models on smaller datasets will often train faster than large models and large datasets.\n",
        "\n",
        "Now let's setup some [device-agnostic code](https://pytorch.org/docs/stable/notes/cuda.html#best-practices) for our models and data to run on GPU if it's available.\n",
        "\n",
        "If you're running this notebook on Google Colab, and you don't have a GPU turned on yet, it's now time to turn one on via `Runtime -> Change runtime type -> Hardware accelerator -> GPU`. If you do this, your runtime will likely reset and you'll have to run all of the cells above by going `Runtime -> Run before`."
      ]
    },
    {
      "cell_type": "code",
      "execution_count": 24,
      "metadata": {
        "colab": {
          "base_uri": "https://localhost:8080/"
        },
        "id": "mEA2rLw88fUH",
        "outputId": "8713ee62-9ccd-4437-e508-72c41e8b48c7"
      },
      "outputs": [
        {
          "output_type": "stream",
          "name": "stdout",
          "text": [
            "Using device: cuda\n"
          ]
        }
      ],
      "source": [
        "# Device-Agnostic Code\n",
        "if torch.cuda.is_available():\n",
        "    device = \"cuda\" # NVIDIA GPU\n",
        "elif torch.backends.mps.is_available():\n",
        "    device = \"mps\" # Apple GPU\n",
        "else:\n",
        "    device = \"cpu\" # Defaults to CPU if NVIDIA GPU/Apple GPU aren't available\n",
        "\n",
        "print(f\"Using device: {device}\")"
      ]
    },
    {
      "cell_type": "markdown",
      "metadata": {
        "id": "PVrl9JeY8fUH"
      },
      "source": [
        "## 6. Model 1: Building a better model with non-linearity\n"
      ]
    },
    {
      "cell_type": "markdown",
      "metadata": {
        "id": "6pgDtlDX8fUH"
      },
      "source": [
        "\n",
        "We learned about [the power of non-linearity in notebook 02](https://www.learnpytorch.io/02_pytorch_classification/#6-the-missing-piece-non-linearity).\n",
        "\n",
        "Seeing the data we've been working with, do you think it needs non-linear functions?\n",
        "\n",
        "And remember, linear means straight and non-linear means non-straight.\n",
        "\n",
        "Let's find out.\n",
        "\n",
        "We'll do so by recreating a similar model to before, except this time we'll put non-linear functions (`nn.ReLU()`) in between each linear layer."
      ]
    },
    {
      "cell_type": "code",
      "execution_count": 25,
      "metadata": {
        "id": "rtLG1SDX8fUH"
      },
      "outputs": [],
      "source": [
        "class FashionMNISTModelV1(nn.Module):\n",
        "    def __init__(self,\n",
        "                 input_shape: int,\n",
        "                 hidden_units: int,\n",
        "                 output_shapes: int):\n",
        "        super().__init__()\n",
        "        self.layer_stack = nn.Sequential(nn.Flatten(),  # Flatten multi-dimensional input into a 1D vector\n",
        "                                         nn.Linear(in_features=input_shape, out_features=hidden_units),\n",
        "                                         nn.ReLU(),     # Apply ReLU activation function\n",
        "                                         nn.Linear(in_features=hidden_units, out_features=output_shapes),\n",
        "                                         nn.ReLU())\n",
        "\n",
        "    def forward(self, x: torch.Tensor):\n",
        "        return self.layer_stack(x)\n",
        ""
      ]
    },
    {
      "cell_type": "markdown",
      "metadata": {
        "id": "7oyhg0ZO8fUH"
      },
      "source": [
        "That looks good.\n",
        "\n",
        "Now let's instantiate it with the same settings we used before.\n",
        "\n",
        "We'll need `input_shape=784` (equal to the number of features of our image data), `hidden_units=10` (starting small and the same as our baseline model) and `output_shape=len(class_names)` (one output unit per class).\n",
        "\n",
        "> **Note:** Notice how we kept most of the settings of our model the same except for one change: adding non-linear layers. This is a standard practice for running a series of machine learning experiments, change one thing and see what happens, then do it again, again, again."
      ]
    },
    {
      "cell_type": "code",
      "execution_count": 26,
      "metadata": {
        "colab": {
          "base_uri": "https://localhost:8080/"
        },
        "id": "Ekhjw5Vv8fUH",
        "outputId": "a0ef1b30-a688-4aa1-ae8d-db69bda235df"
      },
      "outputs": [
        {
          "output_type": "execute_result",
          "data": {
            "text/plain": [
              "device(type='cuda', index=0)"
            ]
          },
          "metadata": {},
          "execution_count": 26
        }
      ],
      "source": [
        "torch.manual_seed(42)\n",
        "model_1 = FashionMNISTModelV1(input_shape=784,  # 784 because of 28x28 images\n",
        "                              hidden_units=10,  # 10 hidden units because we have 10 classes\n",
        "                              output_shapes=len(class_names)    #  Sets the number of output neurons to match the number of classes for classification\n",
        ").to(device)\n",
        "\n",
        "next(model_1.parameters()).device   # Checks the device that model_1 is on"
      ]
    },
    {
      "cell_type": "markdown",
      "metadata": {
        "id": "vOIDPLes8fUH"
      },
      "source": [
        "### 6.1 Setup loss, optimizer and evaluation metrics\n"
      ]
    },
    {
      "cell_type": "markdown",
      "metadata": {
        "id": "JaFDpEQh8fUH"
      },
      "source": [
        "\n",
        "As usual, we'll setup a loss function, an optimizer and an evaluation metric (we could do multiple evaluation metrics but we'll stick with accuracy for now)."
      ]
    },
    {
      "cell_type": "code",
      "execution_count": 27,
      "metadata": {
        "id": "KYp_hQL88fUH"
      },
      "outputs": [],
      "source": [
        "from helper_functions import accuracy_fn\n",
        "\n",
        "loss_fn = nn.CrossEntropyLoss()\n",
        "optimizer = torch.optim.SGD(params=model_1.parameters(),\n",
        "                            lr=0.1)"
      ]
    },
    {
      "cell_type": "markdown",
      "metadata": {
        "id": "KrjKoE9C8fUH"
      },
      "source": [
        "### 6.2 Functionizing training and test loops\n"
      ]
    },
    {
      "cell_type": "markdown",
      "metadata": {
        "id": "b1UIGt4q8fUH"
      },
      "source": [
        "\n",
        "So far we've been writing train and test loops over and over.\n",
        "\n",
        "Let's write them again but this time we'll put them in functions so they can be called again and again.\n",
        "\n",
        "And because we're using device-agnostic code now, we'll be sure to call `.to(device)` on our feature (`X`) and target (`y`) tensors.\n",
        "\n",
        "For the training loop we'll create a function called `train_step()` which takes in a model, a `DataLoader` a loss function and an optimizer.\n",
        "\n",
        "The testing loop will be similar but it'll be called `test_step()` and it'll take in a model, a `DataLoader`, a loss function and an evaluation function.\n",
        "\n",
        "> **Note:** Since these are functions, you can customize them in any way you like. What we're making here can be considered barebones training and testing functions for our specific classification use case."
      ]
    },
    {
      "cell_type": "code",
      "execution_count": 28,
      "metadata": {
        "id": "TOC9BIK78fUH"
      },
      "outputs": [],
      "source": [
        "def train_step(model: torch.nn.Module,\n",
        "               data_loader: torch.utils.data.DataLoader,\n",
        "               loss_fn: torch.nn.Module,\n",
        "               optimizer: torch.optim.Optimizer,\n",
        "               accuracy_fn,\n",
        "               device: torch.device = device):\n",
        "    \"\"\"\n",
        "    Executes one full pass through the training dataset, updating model parameters.\n",
        "\n",
        "    Args:\n",
        "        model (torch.nn.Module): The neural network model to train.\n",
        "        data_loader (torch.utils.data.DataLoader): DataLoader providing training data batches.\n",
        "        loss_fn (torch.nn.Module): Loss function to compute the error between predictions and targets.\n",
        "        optimizer (torch.optim.Optimizer): Optimizer to update model parameters based on gradients.\n",
        "        accuracy_fn (callable): Function to calculate accuracy given true and predicted labels.\n",
        "        device (torch.device): Device to perform computations on (CPU or GPU). Defaults to `device`.\n",
        "\n",
        "    Returns:\n",
        "        None\n",
        "    \"\"\"\n",
        "    train_loss, train_acc = 0, 0  # Initialize cumulative loss and accuracy for the epoch\n",
        "    model.to(device)  # Move the model to the specified device (CPU or GPU)\n",
        "\n",
        "    for batch, (X, y) in enumerate(data_loader):\n",
        "        # Send input data and labels to the designated device\n",
        "        X, y = X.to(device), y.to(device)\n",
        "\n",
        "        # 1. Forward pass: compute model predictions for the input batch\n",
        "        y_pred = model(X)\n",
        "\n",
        "        # 2. Calculate loss between predictions and true labels\n",
        "        loss = loss_fn(y_pred, y)\n",
        "        train_loss += loss  # Accumulate loss for averaging later\n",
        "\n",
        "        # Calculate accuracy by comparing predicted labels to true labels\n",
        "        train_acc += accuracy_fn(\n",
        "            y_true=y,\n",
        "            y_pred=y_pred.argmax(dim=1)  # Convert logits to predicted class labels\n",
        "        )\n",
        "\n",
        "        # 3. Zero out gradients from the previous optimization step\n",
        "        optimizer.zero_grad()\n",
        "\n",
        "        # 4. Backward pass: compute gradients of the loss w.r.t. model parameters\n",
        "        loss.backward()\n",
        "\n",
        "        # 5. Update model parameters based on computed gradients\n",
        "        optimizer.step()\n",
        "\n",
        "    # Calculate average loss and accuracy over all batches in the epoch\n",
        "    train_loss /= len(data_loader)\n",
        "    train_acc /= len(data_loader)\n",
        "\n",
        "    # Print the training metrics for the epoch\n",
        "    print(f\"Train loss: {train_loss:.5f} | Train accuracy: {train_acc:.2f}%\")\n",
        "\n",
        "\n",
        "def test_step(data_loader: torch.utils.data.DataLoader,\n",
        "              model: torch.nn.Module,\n",
        "              loss_fn: torch.nn.Module,\n",
        "              accuracy_fn,\n",
        "              device: torch.device = device):\n",
        "    \"\"\"\n",
        "    Evaluates the model's performance on the test dataset without updating parameters.\n",
        "\n",
        "    Args:\n",
        "        data_loader (torch.utils.data.DataLoader): DataLoader providing test data batches.\n",
        "        model (torch.nn.Module): The neural network model to evaluate.\n",
        "        loss_fn (torch.nn.Module): Loss function to compute the error between predictions and targets.\n",
        "        accuracy_fn (callable): Function to calculate accuracy given true and predicted labels.\n",
        "        device (torch.device): Device to perform computations on (CPU or GPU). Defaults to `device`.\n",
        "\n",
        "    Returns:\n",
        "        None\n",
        "    \"\"\"\n",
        "    test_loss, test_acc = 0, 0  # Initialize cumulative loss and accuracy for evaluation\n",
        "    model.to(device)  # Move the model to the specified device (CPU or GPU)\n",
        "    model.eval()  # Set the model to evaluation mode (disables dropout, batchnorm, etc.)\n",
        "\n",
        "    # Disable gradient calculations for efficiency during evaluation\n",
        "    with torch.inference_mode():\n",
        "        for X, y in data_loader:\n",
        "            # Send input data and labels to the designated device\n",
        "            X, y = X.to(device), y.to(device)\n",
        "\n",
        "            # 1. Forward pass: compute model predictions for the input batch\n",
        "            test_pred = model(X)\n",
        "\n",
        "            # 2. Calculate loss between predictions and true labels\n",
        "            test_loss += loss_fn(test_pred, y)  # Accumulate loss for averaging later\n",
        "\n",
        "            # Calculate accuracy by comparing predicted labels to true labels\n",
        "            test_acc += accuracy_fn(\n",
        "                y_true=y,\n",
        "                y_pred=test_pred.argmax(dim=1)  # Convert logits to predicted class labels\n",
        "            )\n",
        "\n",
        "        # Calculate average loss and accuracy over all batches in the test dataset\n",
        "        test_loss /= len(data_loader)\n",
        "        test_acc /= len(data_loader)\n",
        "\n",
        "        # Print the evaluation metrics\n",
        "        print(f\"Test loss: {test_loss:.5f} | Test accuracy: {test_acc:.2f}%\\n\")"
      ]
    },
    {
      "cell_type": "markdown",
      "metadata": {
        "id": "alTDvbaS8fUH"
      },
      "source": [
        "Woohoo!\n",
        "\n",
        "Now we've got some functions for training and testing our model, let's run them.\n",
        "\n",
        "We'll do so inside another loop for each epoch.\n",
        "\n",
        "That way, for each epoch, we're going through a training step and a testing step.\n",
        "\n",
        "> **Note:** You can customize how often you do a testing step. Sometimes people do them every five epochs or 10 epochs or in our case, every epoch.\n",
        "\n",
        "Let's also time things to see how long our code takes to run on the GPU."
      ]
    },
    {
      "cell_type": "markdown",
      "metadata": {
        "id": "JdZ38nPx8fUH"
      },
      "source": [
        "#### Testing out our functions"
      ]
    },
    {
      "cell_type": "code",
      "execution_count": 29,
      "metadata": {
        "colab": {
          "base_uri": "https://localhost:8080/",
          "height": 327,
          "referenced_widgets": [
            "1ffaa66bc057400486d70bc842ca88a0",
            "07f2e53ff753409d933310405fabe541",
            "27bdc6862d92470fa95355ba78ed203a",
            "5bf2ebae378f4f9594bf7627d3511caf",
            "8cc1bde438bd4831a7afb163eec20db7",
            "ab7381dcb147491791787f3f795c974f",
            "d7f199600dcf45aa901e73340f1edd91",
            "ddaa91cfc62a4a62bab8c292bd68a490",
            "49ce3ce1cf094a1bacfedad4e62c4d97",
            "588397756cf846c0acbe716171ad5b61",
            "98fe13f15b434c819f14e8542260cb3d"
          ]
        },
        "id": "ght7qr9A8fUH",
        "outputId": "81d587c6-51c1-4e83-b66b-a50984606753"
      },
      "outputs": [
        {
          "output_type": "display_data",
          "data": {
            "text/plain": [
              "Training Epochs:   0%|          | 0/3 [00:00<?, ?it/s]"
            ],
            "application/vnd.jupyter.widget-view+json": {
              "version_major": 2,
              "version_minor": 0,
              "model_id": "1ffaa66bc057400486d70bc842ca88a0"
            }
          },
          "metadata": {}
        },
        {
          "output_type": "stream",
          "name": "stdout",
          "text": [
            "Epoch: 0\n",
            "---------\n",
            "Train loss: 1.09199 | Train accuracy: 61.34%\n",
            "Test loss: 0.95636 | Test accuracy: 65.00%\n",
            "\n",
            "Epoch: 1\n",
            "---------\n",
            "Train loss: 0.78101 | Train accuracy: 71.93%\n",
            "Test loss: 0.72227 | Test accuracy: 73.91%\n",
            "\n",
            "Epoch: 2\n",
            "---------\n",
            "Train loss: 0.67027 | Train accuracy: 75.94%\n",
            "Test loss: 0.68500 | Test accuracy: 75.02%\n",
            "\n",
            "Train time on cuda: 33.642 seconds\n"
          ]
        }
      ],
      "source": [
        "# Set the random seed for reproducibility\n",
        "torch.manual_seed(42)\n",
        "\n",
        "# Measure the start time of the training process\n",
        "from timeit import default_timer as timer\n",
        "train_time_start_on_gpu = timer()\n",
        "\n",
        "# Define the number of training epochs\n",
        "epochs = 3\n",
        "\n",
        "# Loop over each epoch\n",
        "for epoch in tqdm(range(epochs), desc=\"Training Epochs\"):   # tqdm provides a progress bar, range(epochs) iterates over epochs\n",
        "    print(f\"Epoch: {epoch}\\n---------\")\n",
        "\n",
        "    # Perform a training step: forward pass, loss computation, backward pass, and optimization\n",
        "    train_step(\n",
        "        data_loader=train_dataloader,   # DataLoader providing training data batches\n",
        "        model=model_1,                  # The neural network model to train\n",
        "        loss_fn=loss_fn,                # Loss function to compute error between predictions and targets\n",
        "        optimizer=optimizer,            # Optimizer to update model parameters based on gradients\n",
        "        accuracy_fn=accuracy_fn         # Function to calculate accuracy of predictions\n",
        "    )\n",
        "\n",
        "    # Perform a testing step: evaluate model performance on the test dataset\n",
        "    test_step(\n",
        "        data_loader=test_dataloader,     # DataLoader providing test data batches\n",
        "        model=model_1,                   # The neural network model to evaluate\n",
        "        loss_fn=loss_fn,                 # Loss function to compute error between predictions and targets\n",
        "        accuracy_fn=accuracy_fn          # Function to calculate accuracy of predictions\n",
        "    )\n",
        "\n",
        "# Measure the end time of the training process\n",
        "train_time_end_on_gpu = timer()\n",
        "\n",
        "# Calculate and print the total training time\n",
        "total_train_time_model_1 = print_train_time(\n",
        "    start=train_time_start_on_gpu,     # Start time of training\n",
        "    end=train_time_end_on_gpu,         # End time of training\n",
        "    device=device                      # Device used for training (CPU or GPU)\n",
        ")"
      ]
    },
    {
      "cell_type": "markdown",
      "metadata": {
        "id": "cbok1gJu8fUH"
      },
      "source": [
        "Excellent!\n",
        "\n",
        "Our model trained but the training time took longer?\n",
        "\n",
        "> **Note:** The training time on CUDA vs CPU will depend largely on the quality of the CPU/GPU you're using. Read on for a more explained answer.\n",
        "\n",
        "> **Question:** \"I used a GPU but my model didn't train faster, why might that be?\"\n",
        ">\n",
        "> **Answer:** Well, one reason could be because your dataset and model are both so small (like the dataset and model we're working with) the benefits of using a GPU are outweighed by the time it actually takes to transfer the data there.\n",
        ">\n",
        "> There's a small bottleneck between copying data from the CPU memory (default) to the GPU memory.\n",
        ">\n",
        "> So for smaller models and datasets, the CPU might actually be the optimal place to compute on.\n",
        ">\n",
        "> But for larger datasets and models, the speed of computing the GPU can offer usually far outweighs the cost of getting the data there.\n",
        ">\n",
        "> However, this is largely dependent on the hardware you're using. With practice, you will get used to where the best place to train your models is.\n",
        "\n",
        "Let's evaluate our trained `model_1` using our `eval_model()` function and see how it went."
      ]
    },
    {
      "cell_type": "code",
      "execution_count": 30,
      "metadata": {
        "colab": {
          "base_uri": "https://localhost:8080/",
          "height": 35
        },
        "id": "uCwSKb-h8fUI",
        "outputId": "af80409c-abd6-4071-947e-3f277e3cc9bd"
      },
      "outputs": [
        {
          "output_type": "execute_result",
          "data": {
            "text/plain": [
              "'\\nmodel_1_results = eval_model(model=model_1, \\n    data_loader=test_dataloader,\\n    loss_fn=loss_fn, \\n    accuracy_fn=accuracy_fn) \\nmodel_1_results \\n'"
            ],
            "application/vnd.google.colaboratory.intrinsic+json": {
              "type": "string"
            }
          },
          "metadata": {},
          "execution_count": 30
        }
      ],
      "source": [
        "torch.manual_seed(42)\n",
        "\n",
        "# Note: This will error due to `eval_model()` not using device agnostic code\n",
        "'''\n",
        "model_1_results = eval_model(model=model_1,\n",
        "    data_loader=test_dataloader,\n",
        "    loss_fn=loss_fn,\n",
        "    accuracy_fn=accuracy_fn)\n",
        "model_1_results\n",
        "'''"
      ]
    },
    {
      "cell_type": "markdown",
      "metadata": {
        "id": "Kk3ckdZo8fUI"
      },
      "source": [
        "Oh no!\n",
        "\n",
        "It looks like our `eval_model()` function errors out with:\n",
        "\n",
        "> `RuntimeError: Expected all tensors to be on the same device, but found at least two devices, cuda:0 and cpu! (when checking argument for argument mat1 in method wrapper_addmm)`\n",
        "\n",
        "It's because we've setup our data and model to use device-agnostic code but not our evaluation function, which we wrote earlier.\n",
        "\n",
        "How about we fix that by passing a target `device` parameter to our `eval_model()` function?\n",
        "\n",
        "Then we'll try calculating the results again."
      ]
    },
    {
      "cell_type": "markdown",
      "metadata": {
        "id": "ILkXkUpj8fUI"
      },
      "source": [
        "### `eval_model` Function Overview\n"
      ]
    },
    {
      "cell_type": "markdown",
      "metadata": {
        "id": "ftVWjl8M8fUI"
      },
      "source": [
        "\n",
        "The `eval_model()` function is designed to evaluate the performance of a PyTorch model on a given dataset.\n"
      ]
    },
    {
      "cell_type": "markdown",
      "metadata": {
        "id": "eTybC9sx8fUI"
      },
      "source": [
        "\n",
        "#### Functionality\n"
      ]
    },
    {
      "cell_type": "markdown",
      "metadata": {
        "id": "LGIvcZNy8fUI"
      },
      "source": [
        "\n",
        "- **Purpose:** Computes the model's loss and accuracy on the evaluation dataset.\n",
        "- **Arguments:**\n",
        "  - `model` (`torch.nn.Module`): The PyTorch model to evaluate.\n",
        "  - `data_loader` (`torch.utils.data.DataLoader`): Provides batches of evaluation data.\n",
        "  - `loss_fn` (`torch.nn.Module`): Loss function to measure error between predictions and true labels.\n",
        "  - `accuracy_fn` (callable): Function to compute accuracy from true and predicted labels.\n",
        "  - `device` (`torch.device`): Specifies the computation device (CPU or GPU).\n",
        "- **Returns:** A dictionary with:\n",
        "  - `\"model_name\"`: The class name of the model.\n",
        "  - `\"model_loss\"`: The average loss across all evaluation batches.\n",
        "  - `\"model_acc\"`: The average accuracy across all evaluation batches.\n"
      ]
    },
    {
      "cell_type": "markdown",
      "metadata": {
        "id": "WcqLNYiC8fUI"
      },
      "source": [
        "\n",
        "#### Key Features"
      ]
    },
    {
      "cell_type": "markdown",
      "metadata": {
        "id": "7i7glajH8fUI"
      },
      "source": [
        "\n",
        "- Uses device-agnostic code to move data and computations to the specified device.\n",
        "- Disables gradient calculations to improve evaluation efficiency."
      ]
    },
    {
      "cell_type": "markdown",
      "metadata": {
        "id": "HjAVq6Ma8fUI"
      },
      "source": [
        "#### Pass a target `device` parameter to `eval_model()`"
      ]
    },
    {
      "cell_type": "code",
      "execution_count": 31,
      "metadata": {
        "colab": {
          "base_uri": "https://localhost:8080/"
        },
        "id": "gxDVpVPL8fUI",
        "outputId": "cfce6fee-d2d4-42a5-e780-ec059429fcce"
      },
      "outputs": [
        {
          "output_type": "stream",
          "name": "stdout",
          "text": [
            "{'model_name': 'FashionMNISTModelV1', 'model_loss': 0.6850008964538574, 'model_acc': 75.01996805111821}\n"
          ]
        }
      ],
      "source": [
        "# Set the random seed for reproducibility\n",
        "torch.manual_seed(42)\n",
        "\n",
        "def eval_model(model: torch.nn.Module,\n",
        "               data_loader: torch.utils.data.DataLoader,\n",
        "               loss_fn: torch.nn.Module,\n",
        "               accuracy_fn,\n",
        "               device: torch.device = device):\n",
        "    \"\"\"\n",
        "    Evaluates a given model on a specified dataset.\n",
        "\n",
        "    Args:\n",
        "        model (torch.nn.Module): The PyTorch model to evaluate.\n",
        "        data_loader (torch.utils.data.DataLoader): DataLoader providing the dataset for evaluation.\n",
        "        loss_fn (torch.nn.Module): Loss function to compute the error between predictions and true labels.\n",
        "        accuracy_fn (callable): Function to calculate accuracy given true and predicted labels.\n",
        "        device (torch.device, optional): Device to perform computations on (CPU or GPU). Defaults to `device`.\n",
        "\n",
        "    Returns:\n",
        "        dict: Dictionary containing the model's name, average loss, and average accuracy.\n",
        "    \"\"\"\n",
        "    loss, acc = 0, 0  # Initialize cumulative loss and accuracy\n",
        "    model.eval()  # Set the model to evaluation mode (disables dropout, batchnorm, etc.)\n",
        "\n",
        "    # Disable gradient calculations for efficiency during evaluation\n",
        "    with torch.inference_mode():\n",
        "        for X, y in data_loader:\n",
        "            # Send input data and labels to the specified device (CPU or GPU)\n",
        "            X, y = X.to(device), y.to(device)\n",
        "\n",
        "            # Forward pass: compute model predictions for the input batch\n",
        "            y_pred = model(X)\n",
        "\n",
        "            # Compute loss between predictions and true labels and accumulate it\n",
        "            loss += loss_fn(y_pred, y)\n",
        "\n",
        "            # Compute accuracy by comparing predicted labels to true labels and accumulate it\n",
        "            acc += accuracy_fn(\n",
        "                y_true=y,\n",
        "                y_pred=y_pred.argmax(dim=1)  # Convert logits to predicted class labels\n",
        "            )\n",
        "\n",
        "        # Calculate average loss and accuracy over all batches\n",
        "        loss /= len(data_loader)\n",
        "        acc /= len(data_loader)\n",
        "\n",
        "    # Return a dictionary with the model's name, average loss, and average accuracy\n",
        "    return {\"model_name\": model.__class__.__name__,  # Retrieves the class name of the model\n",
        "            \"model_loss\": loss.item(),               # Converts the loss tensor to a Python float\n",
        "             \"model_acc\": acc}                       # Average accuracy as a float\n",
        "\n",
        "\n",
        "# Evaluate model_1 on the test dataset using device-agnostic code\n",
        "model_1_results = eval_model(model=model_1,\n",
        "                             data_loader=test_dataloader,\n",
        "                             loss_fn=loss_fn,\n",
        "                             accuracy_fn=accuracy_fn,\n",
        "                             device=device)\n",
        "\n",
        "# Display the evaluation results\n",
        "print(model_1_results)"
      ]
    },
    {
      "cell_type": "markdown",
      "metadata": {
        "id": "XG1hKOTW8fUI"
      },
      "source": [
        "#### Unexpected Performance\n"
      ]
    },
    {
      "cell_type": "markdown",
      "metadata": {
        "id": "R4csUXAC8fUI"
      },
      "source": [
        "\n",
        "Adding non-linearities made our model perform worse than the baseline. In machine learning, sometimes expected improvements don't materialize, and unexpected results can occur. It's part science, part art.\n"
      ]
    },
    {
      "cell_type": "markdown",
      "metadata": {
        "id": "YvP2JiX38fUI"
      },
      "source": [
        "\n",
        "#### Overfitting Observed\n"
      ]
    },
    {
      "cell_type": "markdown",
      "metadata": {
        "id": "6sjEe7JE8fUI"
      },
      "source": [
        "Our model is **overfitting** the training data, meaning it learns the training patterns well but fails to generalize to the testing data. This lack of generalization means that while the model performs excellently on the training data, it struggles to make accurate predictions on new, unseen data because it hasn't learned the underlying patterns that apply broadly."
      ]
    },
    {
      "cell_type": "markdown",
      "metadata": {
        "id": "luShleTt8fUI"
      },
      "source": [
        "\n",
        "#### Solutions to Overfitting\n"
      ]
    },
    {
      "cell_type": "markdown",
      "metadata": {
        "id": "7uCNGs1T8fUI"
      },
      "source": [
        "\n",
        "Two main ways to address overfitting include:\n",
        "1. **Use a Smaller or Different Model:** Some models are better suited to certain types of data.\n",
        "2. **Use a Larger Dataset:** More data helps the model learn generalizable patterns.\n",
        "\n",
        "There are additional methods to explore. I encourage you to search online for \"ways to prevent overfitting in machine learning\" to discover more strategies.\n"
      ]
    },
    {
      "cell_type": "markdown",
      "metadata": {
        "id": "Z524vNrU8fUI"
      },
      "source": [
        "\n",
        "#### Next Steps\n"
      ]
    },
    {
      "cell_type": "markdown",
      "metadata": {
        "id": "J1PExIQH8fUI"
      },
      "source": [
        "\n",
        "Let's focus on the first solution: using a different model."
      ]
    },
    {
      "cell_type": "markdown",
      "metadata": {
        "id": "dEP1jksI8fUI"
      },
      "source": [
        "## 7. Model 2: Building a Convolutional Neural Network (CNN)"
      ]
    },
    {
      "cell_type": "markdown",
      "metadata": {
        "id": "b2AYwXTc8fUI"
      },
      "source": [
        "\n",
        "\n",
        "\n",
        "Alright, time to step things up a notch.\n",
        "\n",
        "It's time to create a [Convolutional Neural Network](https://en.wikipedia.org/wiki/Convolutional_neural_network) (CNN or ConvNet).\n",
        "\n",
        "CNN's are known for their capabilities to find patterns in visual data.\n",
        "\n",
        "And since we're dealing with visual data, let's see if using a CNN model can improve upon our baseline.\n",
        "\n",
        "The CNN model we're going to be using is known as TinyVGG from the [CNN Explainer](https://poloclub.github.io/cnn-explainer/) website.\n",
        "\n",
        "It follows the typical structure of a convolutional neural network:\n",
        "\n",
        "`Input layer -> [Convolutional layer -> activation layer -> pooling layer] -> Output layer`\n",
        "\n",
        "Where the contents of `[Convolutional layer -> activation layer -> pooling layer]` can be upscaled and repeated multiple times, depending on requirements.\n"
      ]
    },
    {
      "cell_type": "markdown",
      "metadata": {
        "id": "qabBjqa58fUI"
      },
      "source": [
        "\n",
        "### Architecture of a CNN\n"
      ]
    },
    {
      "cell_type": "markdown",
      "metadata": {
        "id": "WtMv10-j8fUI"
      },
      "source": [
        "\n",
        "| **Hyperparameter/Layer type**       | **What does it do?**                                                        | **Typical values**                                                                                                     |\n",
        "|-------------------------------------|-----------------------------------------------------------------------------|-----------------------------------------------------------------------------------------------------------------------|\n",
        "| **Input image(s)**                  | Target images you'd like to discover patterns in                            | Whatever you can take a photo (or video) of                                                                           |\n",
        "| **Input layer**                     | Takes in target images and processes them for further layers                | `input_shape = [batch_size, image_height, image_width, color_channels]` or `input_shape = [batch_size, channels, height, width]` |\n",
        "| **Convolution layer**               | Extracts/learns the most important features from target images               | Multiple, can create with `torch.nn.ConvXd()`                                                                         |\n",
        "| **Hidden activation/non-linear activation** | Adds non-linearity to learned features                                     | Usually ReLU (`torch.nn.ReLU()`), though there can be many more                                                       |\n",
        "| **Pooling layer**                   | Reduces the dimensionality of learned image features                        | Max (`torch.nn.MaxPool2d()`) or Average (`torch.nn.AvgPool2d()`)                                                      |\n",
        "| **Output layer/linear layer**       | Takes learned features and outputs them in shape of target labels           | `torch.nn.Linear(out_features=[number_of_classes])`                                                                   |\n",
        "| **Output activation**               | Converts output logits to prediction probabilities                          | `torch.sigmoid()` (binary classification) or `torch.softmax()` (multi-class classification)                           |\n",
        "\n",
        "---\n"
      ]
    },
    {
      "cell_type": "markdown",
      "metadata": {
        "id": "cXbYhtWU8fUI"
      },
      "source": [
        "\n",
        "### Breakdown of `torch.nn.Conv2d` Layer\n"
      ]
    },
    {
      "cell_type": "markdown",
      "metadata": {
        "id": "83nkfGx68fUI"
      },
      "source": [
        "\n",
        "| **Hyperparameter name** | **What does it do?**                                                                                           | **Typical values**                                        |\n",
        "|--------------------------|--------------------------------------------------------------------------------------------------------------|----------------------------------------------------------|\n",
        "| **`in_channels`**        | Defines the number of input channels of the input data                                                      | 1 (grayscale), 3 (RGB color images)                      |\n",
        "| **`out_channels`**       | Defines the number of output channels of the layer (could also be called hidden units)                      | 10, 128, 256, 512                                        |\n",
        "| **`kernel_size`**        | Determines the shape of the kernel (sliding windows) over the input                                         | 3, 5, 7 (lower values learn smaller features; higher values learn larger features) |\n",
        "| **`stride`**             | The number of steps a filter takes across an image at a time (e.g., `stride=1` moves across 1 pixel at a time) | 1 (default), 2                                           |\n",
        "| **`padding`**            | Pads the target tensor with zeroes (if \"same\") to preserve input shape, or leaves it as is (if \"valid\")       | 0, 1, \"same\", \"valid\"                                    |"
      ]
    },
    {
      "cell_type": "markdown",
      "metadata": {
        "id": "SeY2tM838fUI"
      },
      "source": [
        "### What model should I use?\n"
      ]
    },
    {
      "cell_type": "markdown",
      "metadata": {
        "id": "YIqQeVX48fUI"
      },
      "source": [
        "\n",
        "> **Question:** Wait, you say CNN's are good for images, are there any other model types I should be aware of?\n",
        "\n",
        "Good question.\n",
        "\n",
        "This table is a good general guide for which model to use (though there are exceptions).\n",
        "\n",
        "| **Problem type** | **Model to use (generally)** | **Code example** |\n",
        "| ----- | ----- | ----- |\n",
        "| Structured data (Excel spreadsheets, row and column data) | Gradient boosted models, Random Forests, XGBoost | [`sklearn.ensemble`](https://scikit-learn.org/stable/modules/classes.html#module-sklearn.ensemble), [XGBoost library](https://xgboost.readthedocs.io/en/stable/) |\n",
        "| Unstructured data (images, audio, language) | Convolutional Neural Networks, Transformers | [`torchvision.models`](https://pytorch.org/vision/stable/models.html), [HuggingFace Transformers](https://huggingface.co/docs/transformers/index) |\n",
        "\n",
        "> **Note:** The table above is only for reference, the model you end up using will be highly dependent on the problem you're working on and the constraints you have (amount of data, latency requirements).\n",
        "\n",
        "Enough talking about models, let's now build a CNN that replicates the model on the [CNN Explainer website](https://poloclub.github.io/cnn-explainer/).\n",
        "\n",
        "![TinyVGG architecture, as setup by CNN explainer website](https://raw.githubusercontent.com/mrdbourke/pytorch-deep-learning/main/images/03-cnn-explainer-model.png)\n",
        "\n",
        "To do so, we'll leverage the [`nn.Conv2d()`](https://pytorch.org/docs/stable/generated/torch.nn.Conv2d.html) and [`nn.MaxPool2d()`](https://pytorch.org/docs/stable/generated/torch.nn.MaxPool2d.html) layers from `torch.nn`.\n"
      ]
    },
    {
      "cell_type": "code",
      "execution_count": 32,
      "metadata": {
        "colab": {
          "base_uri": "https://localhost:8080/"
        },
        "id": "nEvEQtsW8fUI",
        "outputId": "1be36d9a-b832-49c9-b189-30a2892332c0"
      },
      "outputs": [
        {
          "output_type": "execute_result",
          "data": {
            "text/plain": [
              "FashionMNISTModelV2(\n",
              "  (block_1): Sequential(\n",
              "    (0): Conv2d(1, 10, kernel_size=(3, 3), stride=(1, 1), padding=(1, 1))\n",
              "    (1): ReLU()\n",
              "    (2): Conv2d(10, 10, kernel_size=(3, 3), stride=(1, 1), padding=(1, 1))\n",
              "    (3): ReLU()\n",
              "    (4): MaxPool2d(kernel_size=2, stride=2, padding=0, dilation=1, ceil_mode=False)\n",
              "  )\n",
              "  (block_2): Sequential(\n",
              "    (0): Conv2d(10, 10, kernel_size=(3, 3), stride=(1, 1), padding=(1, 1))\n",
              "    (1): ReLU()\n",
              "    (2): Conv2d(10, 10, kernel_size=(3, 3), stride=(1, 1), padding=(1, 1))\n",
              "    (3): ReLU()\n",
              "    (4): MaxPool2d(kernel_size=2, stride=2, padding=0, dilation=1, ceil_mode=False)\n",
              "  )\n",
              "  (classifier): Sequential(\n",
              "    (0): Flatten(start_dim=1, end_dim=-1)\n",
              "    (1): Linear(in_features=490, out_features=10, bias=True)\n",
              "  )\n",
              ")"
            ]
          },
          "metadata": {},
          "execution_count": 32
        }
      ],
      "source": [
        "# Create a convolutional neural network\n",
        "class FashionMNISTModelV2(nn.Module):\n",
        "    \"\"\"\n",
        "    Model architecture copying TinyVGG from:\n",
        "    https://poloclub.github.io/cnn-explainer/\n",
        "\n",
        "    TinyVGG is a small convolutional neural network designed for learning how CNNs work.\n",
        "    It consists of two convolutional blocks (Conv -> ReLU -> MaxPool) followed by a classifier.\n",
        "\n",
        "    Key Features:\n",
        "    - **Convolutional Layers**: Learn spatial patterns in images using sliding filters.\n",
        "    - **ReLU Activation**: Introduces non-linearity to the network.\n",
        "    - **Pooling Layers**: Reduce the spatial dimensions, which decreases computational requirements and helps prevent overfitting.\n",
        "    - **Fully Connected Layer**: Maps the extracted features to the final class predictions.\n",
        "\n",
        "    This implementation is adapted for the FashionMNIST dataset (28x28 grayscale images) but can be generalized to similar tasks.\n",
        "    \"\"\"\n",
        "    def __init__(self, input_shape: int, hidden_units: int, output_shape: int):     # def__init__ will be called when creating an instance of the class\n",
        "        super().__init__()          # Call the parent class constructor, which is nn.Module\n",
        "        self.block_1 = nn.Sequential(\n",
        "            nn.Conv2d(in_channels=input_shape,\n",
        "                      out_channels=hidden_units,\n",
        "                      kernel_size=3,  # Size of the filter; a 3x3 kernel captures small patterns like edges\n",
        "                      stride=1,       # Number of pixels the filter moves at a time (default is 1)\n",
        "                      padding=1),     # Adds 1-pixel padding around the image to preserve input dimensions\n",
        "            nn.ReLU(),                # Applies ReLU activation: sets negative values to 0, keeps positive values the same\n",
        "            nn.Conv2d(in_channels=hidden_units,\n",
        "                      out_channels=hidden_units,\n",
        "                      kernel_size=3,  # Another 3x3 filter for extracting more complex patterns\n",
        "                      stride=1,       # Filter moves 1 pixel at a time\n",
        "                      padding=1),     # Preserves spatial dimensions with 1-pixel padding\n",
        "            nn.ReLU(),                # Adds non-linearity to the second convolutional layer\n",
        "            nn.MaxPool2d(kernel_size=2,\n",
        "                         stride=2)    # Reduces the spatial dimensions by half (28x28 -> 14x14)\n",
        "        )\n",
        "        self.block_2 = nn.Sequential(\n",
        "            nn.Conv2d(hidden_units, hidden_units, 3, padding=1),  # First Conv layer of block 2 (14x14 -> 14x14)\n",
        "            nn.ReLU(),                                            # Non-linear activation\n",
        "            nn.Conv2d(hidden_units, hidden_units, 3, padding=1),  # Second Conv layer of block 2 (14x14 -> 14x14)\n",
        "            nn.ReLU(),                                            # Non-linear activation\n",
        "            nn.MaxPool2d(2)                                       # Reduces spatial dimensions again (14x14 -> 7x7)\n",
        "        )\n",
        "        self.classifier = nn.Sequential(                          # Classifier (fully connected layers)\n",
        "            nn.Flatten(),                                         # Converts the 7x7x(hidden_units) feature map into a 1D vector\n",
        "            # Where did this in_features shape come from?\n",
        "            # It's because each layer of our network compresses and changes the shape of our input data.\n",
        "            nn.Linear(in_features=hidden_units*7*7,              # 7x7 is the result of the two MaxPool2d operations\n",
        "                      out_features=output_shape)                 # Output shape matches the number of classes (e.g., 10 for FashionMNIST)\n",
        "        )\n",
        "\n",
        "    def forward(self, x: torch.Tensor):\n",
        "        x = self.block_1(x)      # Pass the input through the first convolutional block\n",
        "        # print(x.shape)         # Debugging tip: uncomment to check shape after block_1\n",
        "        x = self.block_2(x)      # Pass the result through the second convolutional block\n",
        "        # print(x.shape)         # Debugging tip: uncomment to check shape after block_2\n",
        "        x = self.classifier(x)   # Flatten and classify the features\n",
        "        # print(x.shape)         # Debugging tip: uncomment to check shape after classifier\n",
        "        return x\n",
        "\n",
        "# Set the random seed for reproducibility\n",
        "torch.manual_seed(42)\n",
        "\n",
        "# Create an instance of the FashionMNISTModelV2 class\n",
        "model_2 = FashionMNISTModelV2(input_shape=1,                              # 1 channel for grayscale images, 3 for RGB\n",
        "                              hidden_units=10,                            # Number of filters in the convolutional layers\n",
        "                              output_shape=len(class_names)).to(device)   # Output size matches the number of classes\n",
        "model_2"
      ]
    },
    {
      "cell_type": "markdown",
      "metadata": {
        "id": "E7ddU1lO8fUJ"
      },
      "source": [
        "Nice!\n",
        "\n",
        "Our biggest model yet!\n",
        "\n",
        "What we've done is a common practice in machine learning.\n",
        "\n",
        "Find a model architecture somewhere and replicate it with code.\n"
      ]
    },
    {
      "cell_type": "markdown",
      "metadata": {
        "id": "KiVCXKTP8fUJ"
      },
      "source": [
        "\n",
        "#### Explanation for `self.classifier`\n"
      ]
    },
    {
      "cell_type": "markdown",
      "metadata": {
        "id": "j8FgMvUZ8fUJ"
      },
      "source": [
        "\n",
        "\n",
        "- The `classifier` is the final stage of the CNN. It converts the features extracted by the convolutional and pooling layers into predictions for the output classes.\n",
        "\n",
        "- **Why flatten the data?**  \n",
        "\n",
        "    * After the convolutional and pooling layers, the output is a multi-dimensional tensor (e.g., `[batch_size, hidden_units, 7, 7]`). To use this as input for a fully connected layer, it must be reshaped (flattened) into a 1D vector for each sample.\n",
        "- **Why use a linear layer?**  \n",
        "\n",
        "    * The `nn.Linear` layer acts as a fully connected layer, which learns how to map the flattened features to the desired number of output classes (e.g., 10 for FashionMNIST). It ensures the network can make final predictions based on the learned patterns."
      ]
    },
    {
      "cell_type": "markdown",
      "metadata": {
        "id": "sIizUBOs8fUJ"
      },
      "source": [
        "#### Convolution Operation (`conv2d`)"
      ]
    },
    {
      "cell_type": "markdown",
      "metadata": {
        "id": "TeRTFNVC8fUJ"
      },
      "source": [
        "\n",
        "\n",
        "##### a. **Kernel Size (`kernel_size`)**:\n"
      ]
    },
    {
      "cell_type": "markdown",
      "metadata": {
        "id": "Yyo6KXgV8fUJ"
      },
      "source": [
        "\n",
        "- **Definition**: The kernel (or filter) is a small matrix used to perform convolution operations on the input data. The `kernel_size` determines the dimensions of this matrix, typically represented as `(height, width)`.\n",
        "- **Purpose**: It helps in capturing local patterns and features from the input data. Smaller kernels can detect finer details, while larger kernels can capture broader structures.\n",
        "- **Effect of Increasing/Decreasing**:\n",
        "  - **Increasing `kernel_size`**: This increases the receptive field, allowing the network to consider more context around each pixel but reduces the number of parameters. It can lead to capturing more global information but might also result in losing finer details.\n",
        "  - **Decreasing `kernel_size`**: This narrows the focus, making the network more sensitive to local patterns and details. However, it may miss broader structures.\n"
      ]
    },
    {
      "cell_type": "markdown",
      "metadata": {
        "id": "SS9RUT5U8fUJ"
      },
      "source": [
        "\n",
        "##### b. **Stride (`stride`)**:\n"
      ]
    },
    {
      "cell_type": "markdown",
      "metadata": {
        "id": "YE0khHmm8fUJ"
      },
      "source": [
        "\n",
        "- **Definition**: The stride is the number of pixels by which the kernel moves across the input data during convolution.\n",
        "- **Purpose**: It controls the amount of overlap between adjacent convolutions. A larger stride can reduce spatial dimensions but increases information loss, while a smaller stride preserves more detail but results in higher computational cost.\n",
        "- **Effect of Increasing/Decreasing**:\n",
        "  - **Increasing `stride`**: This reduces the output size, leading to faster processing and less memory usage but potentially losing important details.\n",
        "  - **Decreasing `stride`**: This increases the output size, preserving more spatial information at the expense of higher computational demand.\n"
      ]
    },
    {
      "cell_type": "markdown",
      "metadata": {
        "id": "c6EyeMXd8fUJ"
      },
      "source": [
        "\n",
        "##### c. **Padding (`padding`)**:\n"
      ]
    },
    {
      "cell_type": "markdown",
      "metadata": {
        "id": "Emvap0Zt8fUJ"
      },
      "source": [
        "\n",
        "- **Definition**: Padding is additional pixels added to the borders of the input data before applying convolution.\n",
        "- **Purpose**: It allows control over the spatial dimensions of the output feature maps. Proper padding can help in maintaining the same spatial dimensions after convolution, which is often desirable for certain architectures.\n",
        "- **Effect of Increasing/Decreasing**:\n",
        "  - **Increasing `padding`**: This increases the output size, preserving more spatial information and allowing the network to focus on broader areas without losing detail.\n",
        "  - **Decreasing `padding`**: This decreases the output size, potentially leading to loss of important edge or boundary information.\n"
      ]
    },
    {
      "cell_type": "markdown",
      "metadata": {
        "id": "zINaJDyv8fUJ"
      },
      "source": [
        "\n",
        "##### d. **What is `conv2d`?**:\n"
      ]
    },
    {
      "cell_type": "markdown",
      "metadata": {
        "id": "IC_ERL-X8fUJ"
      },
      "source": [
        "\n",
        "- **Definition**: `conv2d` (2-dimensional convolution) is an operation that applies a set of learnable filters (kernels) to the input data, typically images, to extract features.\n",
        "- **Purpose**: It enables the network to detect patterns and structures in the input data by sliding these learned kernels across the entire image.\n"
      ]
    },
    {
      "cell_type": "markdown",
      "metadata": {
        "id": "cxuZWXvW8fUJ"
      },
      "source": [
        "\n",
        "##### e. **How it Works**:\n"
      ]
    },
    {
      "cell_type": "markdown",
      "metadata": {
        "id": "ZZb5E2wg8fUJ"
      },
      "source": [
        "\n",
        "1. The kernel slides over the input matrix (image).\n",
        "2. At each position, it multiplies the overlapping elements of the input and kernel.\n",
        "3. These products are summed up to produce a single output value for that position in the output feature map.\n",
        "4. This process is repeated across the entire input, with adjustments for stride and padding as specified.\n"
      ]
    },
    {
      "cell_type": "markdown",
      "metadata": {
        "id": "d0SF_Mll8fUJ"
      },
      "source": [
        "#### Max Pooling (`maxpool2d`):\n"
      ]
    },
    {
      "cell_type": "markdown",
      "metadata": {
        "id": "3tKJT3vx8fUJ"
      },
      "source": [
        "\n",
        "##### f. **What is `maxpool2d`?**:\n"
      ]
    },
    {
      "cell_type": "markdown",
      "metadata": {
        "id": "QSsrZwvL8fUJ"
      },
      "source": [
        "\n",
        "- **Definition**: `maxpool2d` (2-dimensional max pooling) is a downsampling technique that reduces the spatial dimensions of the feature maps while retaining the most important features.\n",
        "- **Purpose**: It helps in making the network more robust to variations in the input data and reduces computational load by decreasing the number of parameters.\n"
      ]
    },
    {
      "cell_type": "markdown",
      "metadata": {
        "id": "TcwBeq2P8fUJ"
      },
      "source": [
        "\n",
        "##### g. **How it Works**:\n"
      ]
    },
    {
      "cell_type": "markdown",
      "metadata": {
        "id": "0s7t5z378fUJ"
      },
      "source": []
    },
    {
      "cell_type": "markdown",
      "metadata": {
        "id": "5T5GsaZX8fUJ"
      },
      "source": [
        "\n",
        "1. The input data is divided into non-overlapping regions (or windows) based on a specified pool size (`pool_size`) and stride.\n",
        "2. For each window, the maximum value is selected and placed in the output feature map.\n",
        "3. This process effectively reduces the spatial dimensions of the feature maps, making the network faster to compute.\n",
        "\n",
        "#### Summary:\n"
      ]
    },
    {
      "cell_type": "markdown",
      "metadata": {
        "id": "1rOf7ngp8fUJ"
      },
      "source": [
        "\n",
        "- **Kernel Size**: Determines the receptive field size; larger sizes capture broader structures but lose finer details.\n",
        "- **Stride**: Controls the step size of the kernel across the input; larger strides reduce output size but may lose information.\n",
        "- **Padding**: Adjusts the spatial dimensions of the output; proper padding helps in maintaining useful spatial information.\n",
        "\n",
        "These concepts are foundational to understanding how convolutional neural networks process and extract meaningful features from data, particularly images."
      ]
    },
    {
      "cell_type": "markdown",
      "metadata": {
        "id": "ljCHUWDp8fUJ"
      },
      "source": [
        "### 7.1 Stepping through `nn.Conv2d()`\n"
      ]
    },
    {
      "cell_type": "markdown",
      "metadata": {
        "id": "lQJqO_uf8fUJ"
      },
      "source": [
        "\n",
        "We could start using our model above and see what happens but let's first step through the two new layers we've added:\n",
        "* [`nn.Conv2d()`](https://pytorch.org/docs/stable/generated/torch.nn.Conv2d.html), also known as a convolutional layer.\n",
        "* [`nn.MaxPool2d()`](https://pytorch.org/docs/stable/generated/torch.nn.MaxPool2d.html), also known as a max pooling layer.\n",
        "\n",
        "> **Question:** What does the \"2d\" in `nn.Conv2d()` stand for?\n",
        ">\n",
        "> The 2d is for 2-dimensional data. As in, our images have two dimensions: height and width. Yes, there's color channel dimension but each of the color channel dimensions have two dimensions too: height and width.\n",
        ">\n",
        "> For other dimensional data (such as 1D for text or 3D for 3D objects) there's also `nn.Conv1d()` and `nn.Conv3d()`.\n",
        "\n",
        "To test the layers out, let's create some toy data just like the data used on CNN Explainer."
      ]
    },
    {
      "cell_type": "code",
      "execution_count": 33,
      "metadata": {
        "colab": {
          "base_uri": "https://localhost:8080/"
        },
        "id": "--BzThHb8fUJ",
        "outputId": "e7c8377f-a4e6-4961-bb40-2444ac83b095"
      },
      "outputs": [
        {
          "output_type": "stream",
          "name": "stdout",
          "text": [
            "Image batch shape: torch.Size([32, 3, 64, 64]) -> [batch_size, color_channels, height, width]\n",
            "Single image shape: torch.Size([3, 64, 64]) -> [color_channels, height, width]\n",
            "Single image pixel values:\n",
            "tensor([[[ 1.9269,  1.4873,  0.9007,  ...,  1.8446, -1.1845,  1.3835],\n",
            "         [ 1.4451,  0.8564,  2.2181,  ...,  0.3399,  0.7200,  0.4114],\n",
            "         [ 1.9312,  1.0119, -1.4364,  ..., -0.5558,  0.7043,  0.7099],\n",
            "         ...,\n",
            "         [-0.5610, -0.4830,  0.4770,  ..., -0.2713, -0.9537, -0.6737],\n",
            "         [ 0.3076, -0.1277,  0.0366,  ..., -2.0060,  0.2824, -0.8111],\n",
            "         [-1.5486,  0.0485, -0.7712,  ..., -0.1403,  0.9416, -0.0118]],\n",
            "\n",
            "        [[-0.5197,  1.8524,  1.8365,  ...,  0.8935, -1.5114, -0.8515],\n",
            "         [ 2.0818,  1.0677, -1.4277,  ...,  1.6612, -2.6223, -0.4319],\n",
            "         [-0.1010, -0.4388, -1.9775,  ...,  0.2106,  0.2536, -0.7318],\n",
            "         ...,\n",
            "         [ 0.2779,  0.7342, -0.3736,  ..., -0.4601,  0.1815,  0.1850],\n",
            "         [ 0.7205, -0.2833,  0.0937,  ..., -0.1002, -2.3609,  2.2465],\n",
            "         [-1.3242, -0.1973,  0.2920,  ...,  0.5409,  0.6940,  1.8563]],\n",
            "\n",
            "        [[-0.7978,  1.0261,  1.1465,  ...,  1.2134,  0.9354, -0.0780],\n",
            "         [-1.4647, -1.9571,  0.1017,  ..., -1.9986, -0.7409,  0.7011],\n",
            "         [-1.3938,  0.8466, -1.7191,  ..., -1.1867,  0.1320,  0.3407],\n",
            "         ...,\n",
            "         [ 0.8206, -0.3745,  1.2499,  ..., -0.0676,  0.0385,  0.6335],\n",
            "         [-0.5589, -0.3393,  0.2347,  ...,  2.1181,  2.4569,  1.3083],\n",
            "         [-0.4092,  1.5199,  0.2401,  ..., -0.2558,  0.7870,  0.9924]]])\n"
          ]
        }
      ],
      "source": [
        "# Set the random seed for reproducibility\n",
        "torch.manual_seed(42)\n",
        "\n",
        "# Create a sample batch of random numbers with the same size as an image batch\n",
        "# Dimensions: [batch_size, color_channels, height, width]\n",
        "images = torch.randn(size=(32, 3, 64, 64))  # Generates a batch of 32 random images with 3 color channels (e.g., RGB) and 64x64 pixels\n",
        "\n",
        "# Extract a single image from the batch for testing\n",
        "test_image = images[0]  # Selects the first image in the batch for inspection\n",
        "\n",
        "# Print the shape of the entire image batch\n",
        "print(f\"Image batch shape: {images.shape} -> [batch_size, color_channels, height, width]\")\n",
        "# Expected output: torch.Size([32, 3, 64, 64])\n",
        "\n",
        "# Print the shape of the single test image\n",
        "print(f\"Single image shape: {test_image.shape} -> [color_channels, height, width]\")\n",
        "# Expected output: torch.Size([3, 64, 64])\n",
        "\n",
        "# Print the pixel values of the single test image\n",
        "print(f\"Single image pixel values:\\n{test_image}\")\n",
        "# Displays the tensor containing pixel values of the first image in the batch"
      ]
    },
    {
      "cell_type": "markdown",
      "metadata": {
        "id": "w0-hnDLY8fUK"
      },
      "source": [
        "These aren't actual images but tensors with the same shape as images. We can use them to test the layers we've added to our model."
      ]
    },
    {
      "cell_type": "markdown",
      "metadata": {
        "id": "tSm7w_DP8fUK"
      },
      "source": [
        "Let's create an example `nn.Conv2d()` with various parameters:\n",
        "* `in_channels` (int) - Number of channels in the input image.\n",
        "* `out_channels` (int) - Number of channels produced by the convolution.\n",
        "* `kernel_size` (int or tuple) - Size of the convolving kernel/filter.\n",
        "* `stride` (int or tuple, optional) - How big of a step the convolving kernel takes at a time. Default: 1.\n",
        "* `padding` (int, tuple, str) - Padding added to all four sides of input. Default: 0.\n",
        "\n",
        "![example of going through the different parameters of a Conv2d layer](https://raw.githubusercontent.com/mrdbourke/pytorch-deep-learning/main/images/03-conv2d-layer.gif)\n",
        "\n",
        "*Example of what happens when you change the hyperparameters of a `nn.Conv2d()` layer.*"
      ]
    },
    {
      "cell_type": "code",
      "execution_count": 34,
      "metadata": {
        "colab": {
          "base_uri": "https://localhost:8080/"
        },
        "id": "zZFBObzn8fUK",
        "outputId": "3e65e5ff-3907-4b6e-d3ca-e05c935d9a08"
      },
      "outputs": [
        {
          "output_type": "execute_result",
          "data": {
            "text/plain": [
              "tensor([[[ 1.5396,  0.0516,  0.6454,  ..., -0.3673,  0.8711,  0.4256],\n",
              "         [ 0.3662,  1.0114, -0.5997,  ...,  0.8983,  0.2809, -0.2741],\n",
              "         [ 1.2664, -1.4054,  0.3727,  ..., -0.3409,  1.2191, -0.0463],\n",
              "         ...,\n",
              "         [-0.1541,  0.5132, -0.3624,  ..., -0.2360, -0.4609, -0.0035],\n",
              "         [ 0.2981, -0.2432,  1.5012,  ..., -0.6289, -0.7283, -0.5767],\n",
              "         [-0.0386, -0.0781, -0.0388,  ...,  0.2842,  0.4228, -0.1802]],\n",
              "\n",
              "        [[-0.2840, -0.0319, -0.4455,  ..., -0.7956,  1.5599, -1.2449],\n",
              "         [ 0.2753, -0.1262, -0.6541,  ..., -0.2211,  0.1999, -0.8856],\n",
              "         [-0.5404, -1.5489,  0.0249,  ..., -0.5932, -1.0913, -0.3849],\n",
              "         ...,\n",
              "         [ 0.3870, -0.4064, -0.8236,  ...,  0.1734, -0.4330, -0.4951],\n",
              "         [-0.1984, -0.6386,  1.0263,  ..., -0.9401, -0.0585, -0.7833],\n",
              "         [-0.6306, -0.2052, -0.3694,  ..., -1.3248,  0.2456, -0.7134]],\n",
              "\n",
              "        [[ 0.4414,  0.5100,  0.4846,  ..., -0.8484,  0.2638,  1.1258],\n",
              "         [ 0.8117,  0.3191, -0.0157,  ...,  1.2686,  0.2319,  0.5003],\n",
              "         [ 0.3212,  0.0485, -0.2581,  ...,  0.2258,  0.2587, -0.8804],\n",
              "         ...,\n",
              "         [-0.1144, -0.1869,  0.0160,  ..., -0.8346,  0.0974,  0.8421],\n",
              "         [ 0.2941,  0.4417,  0.5866,  ..., -0.1224,  0.4814, -0.4799],\n",
              "         [ 0.6059, -0.0415, -0.2028,  ...,  0.1170,  0.2521, -0.4372]],\n",
              "\n",
              "        ...,\n",
              "\n",
              "        [[-0.2560, -0.0477,  0.6380,  ...,  0.6436,  0.7553, -0.7055],\n",
              "         [ 1.5595, -0.2209, -0.9486,  ..., -0.4876,  0.7754,  0.0750],\n",
              "         [-0.0797,  0.2471,  1.1300,  ...,  0.1505,  0.2354,  0.9576],\n",
              "         ...,\n",
              "         [ 1.1065,  0.6839,  1.2183,  ...,  0.3015, -0.1910, -0.1902],\n",
              "         [-0.3486, -0.7173, -0.3582,  ...,  0.4917,  0.7219,  0.1513],\n",
              "         [ 0.0119,  0.1017,  0.7839,  ..., -0.3752, -0.8127, -0.1257]],\n",
              "\n",
              "        [[ 0.3841,  1.1322,  0.1620,  ...,  0.7010,  0.0109,  0.6058],\n",
              "         [ 0.1664,  0.1873,  1.5924,  ...,  0.3733,  0.9096, -0.5399],\n",
              "         [ 0.4094, -0.0861, -0.7935,  ..., -0.1285, -0.9932, -0.3013],\n",
              "         ...,\n",
              "         [ 0.2688, -0.5630, -1.1902,  ...,  0.4493,  0.5404, -0.0103],\n",
              "         [ 0.0535,  0.4411,  0.5313,  ...,  0.0148, -1.0056,  0.3759],\n",
              "         [ 0.3031, -0.1590, -0.1316,  ..., -0.5384, -0.4271, -0.4876]],\n",
              "\n",
              "        [[-1.1865, -0.7280, -1.2331,  ..., -0.9013, -0.0542, -1.5949],\n",
              "         [-0.6345, -0.5920,  0.5326,  ..., -1.0395, -0.7963, -0.0647],\n",
              "         [-0.1132,  0.5166,  0.2569,  ...,  0.5595, -1.6881,  0.9485],\n",
              "         ...,\n",
              "         [-0.0254, -0.2669,  0.1927,  ..., -0.2917,  0.1088, -0.4807],\n",
              "         [-0.2609, -0.2328,  0.1404,  ..., -0.1325, -0.8436, -0.7524],\n",
              "         [-1.1399, -0.1751, -0.8705,  ...,  0.1589,  0.3377,  0.3493]]],\n",
              "       grad_fn=<SqueezeBackward1>)"
            ]
          },
          "metadata": {},
          "execution_count": 34
        }
      ],
      "source": [
        "# Set the random seed for reproducibility\n",
        "torch.manual_seed(42)\n",
        "\n",
        "# Create a convolutional layer with the same dimensions as TinyVGG\n",
        "# (try changing any of the parameters and see what happens)\n",
        "conv_layer = nn.Conv2d(\n",
        "    in_channels=3,        # Number of input channels (e.g., 3 for RGB images)\n",
        "    out_channels=10,      # Number of output channels (filters) the convolution will produce\n",
        "    kernel_size=3,        # Size of the convolutional kernel/filter (3x3 in this case)\n",
        "    stride=1,             # Stride determines how the filter moves across the input image (1 pixel at a time)\n",
        "    padding=0             # Padding adds zero-padding around the input.\n",
        "                          # \"valid\" convolution means no padding (padding=0)\n",
        "                          # \"same\" convolution preserves the input dimensions (requires padding=1 for kernel_size=3)\n",
        ")  # also try using \"valid\" or \"same\" here\n",
        "\n",
        "# Pass the data through the convolutional layer\n",
        "conv_layer(test_image) # Note: If running PyTorch <1.11.0, this will error because of shape issues (nn.Conv.2d() expects a 4d tensor as input)"
      ]
    },
    {
      "cell_type": "markdown",
      "metadata": {
        "id": "6D20qQD98fUK"
      },
      "source": [
        "If we try to pass a single image in, we get a shape mismatch error:\n",
        "\n",
        "> `RuntimeError: Expected 4-dimensional input for 4-dimensional weight [10, 3, 3, 3], but got 3-dimensional input of size [3, 64, 64] instead`\n",
        ">\n",
        "> **Note:** If you're running PyTorch 1.11.0+, this error won't occur.\n",
        "\n",
        "This is because our `nn.Conv2d()` layer expects a 4-dimensional tensor as input with size `(N, C, H, W)` or `[batch_size, color_channels, height, width]`.\n",
        "\n",
        "Right now our single image `test_image` only has a shape of `[color_channels, height, width]` or `[3, 64, 64]`.\n",
        "\n",
        "We can fix this for a single image using `test_image.unsqueeze(dim=0)` to add an extra dimension for `N`."
      ]
    },
    {
      "cell_type": "code",
      "execution_count": 35,
      "metadata": {
        "colab": {
          "base_uri": "https://localhost:8080/"
        },
        "id": "Mvp_l1858fUK",
        "outputId": "1c268add-500b-46f2-dd39-31352b1962dc"
      },
      "outputs": [
        {
          "output_type": "execute_result",
          "data": {
            "text/plain": [
              "torch.Size([1, 3, 64, 64])"
            ]
          },
          "metadata": {},
          "execution_count": 35
        }
      ],
      "source": [
        "# Add extra dimension to test image\n",
        "test_image.unsqueeze(dim=0).shape"
      ]
    },
    {
      "cell_type": "code",
      "execution_count": 36,
      "metadata": {
        "colab": {
          "base_uri": "https://localhost:8080/"
        },
        "id": "4tg2VHJe8fUK",
        "outputId": "7e001c9b-fecc-46ce-b388-495909b53252"
      },
      "outputs": [
        {
          "output_type": "execute_result",
          "data": {
            "text/plain": [
              "torch.Size([1, 10, 62, 62])"
            ]
          },
          "metadata": {},
          "execution_count": 36
        }
      ],
      "source": [
        "# Pass test image with extra dimension through conv_layer\n",
        "conv_layer(test_image.unsqueeze(dim=0)).shape"
      ]
    },
    {
      "cell_type": "markdown",
      "metadata": {
        "id": "r85ILt358fUK"
      },
      "source": [
        "Hmm, notice what happens to our shape (the same shape as the first layer of TinyVGG on [CNN Explainer](https://poloclub.github.io/cnn-explainer/)), we get different channel sizes as well as different pixel sizes.\n",
        "\n",
        "What if we changed the values of `conv_layer`?"
      ]
    },
    {
      "cell_type": "code",
      "execution_count": 37,
      "metadata": {
        "colab": {
          "base_uri": "https://localhost:8080/"
        },
        "id": "Wm81pu7f8fUK",
        "outputId": "901b0070-b772-49fd-c53e-ee184b18049f"
      },
      "outputs": [
        {
          "output_type": "execute_result",
          "data": {
            "text/plain": [
              "torch.Size([1, 10, 30, 30])"
            ]
          },
          "metadata": {},
          "execution_count": 37
        }
      ],
      "source": [
        "torch.manual_seed(42)\n",
        "# Create a new conv_layer with different values (try setting these to whatever you like)\n",
        "conv_layer_2 = nn.Conv2d(in_channels=3, # same number of color channels as our input image\n",
        "                         out_channels=10,\n",
        "                         kernel_size=(5, 5), # kernel is usually a square so a tuple also works\n",
        "                         stride=2,\n",
        "                         padding=0)\n",
        "\n",
        "# Pass single image through new conv_layer_2 (this calls nn.Conv2d()'s forward() method on the input)\n",
        "conv_layer_2(test_image.unsqueeze(dim=0)).shape"
      ]
    },
    {
      "cell_type": "markdown",
      "metadata": {
        "id": "8SeH1a898fUK"
      },
      "source": [
        "Woah, we get another shape change.\n",
        "\n",
        "Now our image is of shape `[1, 10, 30, 30]` (it will be different if you use different values) or `[batch_size=1, color_channels=10, height=30, width=30]`.\n",
        "\n",
        "What's going on here?\n",
        "\n",
        "Behind the scenes, our `nn.Conv2d()` is compressing the information stored in the image.\n",
        "\n",
        "It does this by performing operations on the input (our test image) against its internal parameters.\n",
        "\n",
        "The goal of this is similar to all of the other neural networks we've been building.\n",
        "\n",
        "Data goes in and the layers try to update their internal parameters (patterns) to lower the loss function thanks to some help of the optimizer.\n",
        "\n",
        "The only difference is *how* the different layers calculate their parameter updates or in PyTorch terms, the operation present in the layer `forward()` method.\n",
        "\n",
        "If we check out our `conv_layer_2.state_dict()` we'll find a similar weight and bias setup as we've seen before."
      ]
    },
    {
      "cell_type": "code",
      "execution_count": 38,
      "metadata": {
        "colab": {
          "base_uri": "https://localhost:8080/"
        },
        "id": "kk7ffRzL8fUK",
        "outputId": "c5f1c576-42bb-47ae-8a81-f9ce74907030"
      },
      "outputs": [
        {
          "output_type": "stream",
          "name": "stdout",
          "text": [
            "OrderedDict([('weight', tensor([[[[ 0.0883,  0.0958, -0.0271,  0.1061, -0.0253],\n",
            "          [ 0.0233, -0.0562,  0.0678,  0.1018, -0.0847],\n",
            "          [ 0.1004,  0.0216,  0.0853,  0.0156,  0.0557],\n",
            "          [-0.0163,  0.0890,  0.0171, -0.0539,  0.0294],\n",
            "          [-0.0532, -0.0135, -0.0469,  0.0766, -0.0911]],\n",
            "\n",
            "         [[-0.0532, -0.0326, -0.0694,  0.0109, -0.1140],\n",
            "          [ 0.1043, -0.0981,  0.0891,  0.0192, -0.0375],\n",
            "          [ 0.0714,  0.0180,  0.0933,  0.0126, -0.0364],\n",
            "          [ 0.0310, -0.0313,  0.0486,  0.1031,  0.0667],\n",
            "          [-0.0505,  0.0667,  0.0207,  0.0586, -0.0704]],\n",
            "\n",
            "         [[-0.1143, -0.0446, -0.0886,  0.0947,  0.0333],\n",
            "          [ 0.0478,  0.0365, -0.0020,  0.0904, -0.0820],\n",
            "          [ 0.0073, -0.0788,  0.0356, -0.0398,  0.0354],\n",
            "          [-0.0241,  0.0958, -0.0684, -0.0689, -0.0689],\n",
            "          [ 0.1039,  0.0385,  0.1111, -0.0953, -0.1145]]],\n",
            "\n",
            "\n",
            "        [[[-0.0903, -0.0777,  0.0468,  0.0413,  0.0959],\n",
            "          [-0.0596, -0.0787,  0.0613, -0.0467,  0.0701],\n",
            "          [-0.0274,  0.0661, -0.0897, -0.0583,  0.0352],\n",
            "          [ 0.0244, -0.0294,  0.0688,  0.0785, -0.0837],\n",
            "          [-0.0616,  0.1057, -0.0390, -0.0409, -0.1117]],\n",
            "\n",
            "         [[-0.0661,  0.0288, -0.0152, -0.0838,  0.0027],\n",
            "          [-0.0789, -0.0980, -0.0636, -0.1011, -0.0735],\n",
            "          [ 0.1154,  0.0218,  0.0356, -0.1077, -0.0758],\n",
            "          [-0.0384,  0.0181, -0.1016, -0.0498, -0.0691],\n",
            "          [ 0.0003, -0.0430, -0.0080, -0.0782, -0.0793]],\n",
            "\n",
            "         [[-0.0674, -0.0395, -0.0911,  0.0968, -0.0229],\n",
            "          [ 0.0994,  0.0360, -0.0978,  0.0799, -0.0318],\n",
            "          [-0.0443, -0.0958, -0.1148,  0.0330, -0.0252],\n",
            "          [ 0.0450, -0.0948,  0.0857, -0.0848, -0.0199],\n",
            "          [ 0.0241,  0.0596,  0.0932,  0.1052, -0.0916]]],\n",
            "\n",
            "\n",
            "        [[[ 0.0291, -0.0497, -0.0127, -0.0864,  0.1052],\n",
            "          [-0.0847,  0.0617,  0.0406,  0.0375, -0.0624],\n",
            "          [ 0.1050,  0.0254,  0.0149, -0.1018,  0.0485],\n",
            "          [-0.0173, -0.0529,  0.0992,  0.0257, -0.0639],\n",
            "          [-0.0584, -0.0055,  0.0645, -0.0295, -0.0659]],\n",
            "\n",
            "         [[-0.0395, -0.0863,  0.0412,  0.0894, -0.1087],\n",
            "          [ 0.0268,  0.0597,  0.0209, -0.0411,  0.0603],\n",
            "          [ 0.0607,  0.0432, -0.0203, -0.0306,  0.0124],\n",
            "          [-0.0204, -0.0344,  0.0738,  0.0992, -0.0114],\n",
            "          [-0.0259,  0.0017, -0.0069,  0.0278,  0.0324]],\n",
            "\n",
            "         [[-0.1049, -0.0426,  0.0972,  0.0450, -0.0057],\n",
            "          [-0.0696, -0.0706, -0.1034, -0.0376,  0.0390],\n",
            "          [ 0.0736,  0.0533, -0.1021, -0.0694, -0.0182],\n",
            "          [ 0.1117,  0.0167, -0.0299,  0.0478, -0.0440],\n",
            "          [-0.0747,  0.0843, -0.0525, -0.0231, -0.1149]]],\n",
            "\n",
            "\n",
            "        [[[ 0.0773,  0.0875,  0.0421, -0.0805, -0.1140],\n",
            "          [-0.0938,  0.0861,  0.0554,  0.0972,  0.0605],\n",
            "          [ 0.0292, -0.0011, -0.0878, -0.0989, -0.1080],\n",
            "          [ 0.0473, -0.0567, -0.0232, -0.0665, -0.0210],\n",
            "          [-0.0813, -0.0754,  0.0383, -0.0343,  0.0713]],\n",
            "\n",
            "         [[-0.0370, -0.0847, -0.0204, -0.0560, -0.0353],\n",
            "          [-0.1099,  0.0646, -0.0804,  0.0580,  0.0524],\n",
            "          [ 0.0825, -0.0886,  0.0830, -0.0546,  0.0428],\n",
            "          [ 0.1084, -0.0163, -0.0009, -0.0266, -0.0964],\n",
            "          [ 0.0554, -0.1146,  0.0717,  0.0864,  0.1092]],\n",
            "\n",
            "         [[-0.0272, -0.0949,  0.0260,  0.0638, -0.1149],\n",
            "          [-0.0262, -0.0692, -0.0101, -0.0568, -0.0472],\n",
            "          [-0.0367, -0.1097,  0.0947,  0.0968, -0.0181],\n",
            "          [-0.0131, -0.0471, -0.1043, -0.1124,  0.0429],\n",
            "          [-0.0634, -0.0742, -0.0090, -0.0385, -0.0374]]],\n",
            "\n",
            "\n",
            "        [[[ 0.0037, -0.0245, -0.0398, -0.0553, -0.0940],\n",
            "          [ 0.0968, -0.0462,  0.0306, -0.0401,  0.0094],\n",
            "          [ 0.1077,  0.0532, -0.1001,  0.0458,  0.1096],\n",
            "          [ 0.0304,  0.0774,  0.1138, -0.0177,  0.0240],\n",
            "          [-0.0803, -0.0238,  0.0855,  0.0592, -0.0731]],\n",
            "\n",
            "         [[-0.0926, -0.0789, -0.1140, -0.0891, -0.0286],\n",
            "          [ 0.0779,  0.0193, -0.0878, -0.0926,  0.0574],\n",
            "          [-0.0859, -0.0142,  0.0554, -0.0534, -0.0126],\n",
            "          [-0.0101, -0.0273, -0.0585, -0.1029, -0.0933],\n",
            "          [-0.0618,  0.1115, -0.0558, -0.0775,  0.0280]],\n",
            "\n",
            "         [[ 0.0318,  0.0633,  0.0878,  0.0643, -0.1145],\n",
            "          [ 0.0102,  0.0699, -0.0107, -0.0680,  0.1101],\n",
            "          [-0.0432, -0.0657, -0.1041,  0.0052,  0.0512],\n",
            "          [ 0.0256,  0.0228, -0.0876, -0.1078,  0.0020],\n",
            "          [ 0.1053,  0.0666, -0.0672, -0.0150, -0.0851]]],\n",
            "\n",
            "\n",
            "        [[[-0.0557,  0.0209,  0.0629,  0.0957, -0.1060],\n",
            "          [ 0.0772, -0.0814,  0.0432,  0.0977,  0.0016],\n",
            "          [ 0.1051, -0.0984, -0.0441,  0.0673, -0.0252],\n",
            "          [-0.0236, -0.0481,  0.0796,  0.0566,  0.0370],\n",
            "          [-0.0649, -0.0937,  0.0125,  0.0342, -0.0533]],\n",
            "\n",
            "         [[-0.0323,  0.0780,  0.0092,  0.0052, -0.0284],\n",
            "          [-0.1046, -0.1086, -0.0552, -0.0587,  0.0360],\n",
            "          [-0.0336, -0.0452,  0.1101,  0.0402,  0.0823],\n",
            "          [-0.0559, -0.0472,  0.0424, -0.0769, -0.0755],\n",
            "          [-0.0056, -0.0422, -0.0866,  0.0685,  0.0929]],\n",
            "\n",
            "         [[ 0.0187, -0.0201, -0.1070, -0.0421,  0.0294],\n",
            "          [ 0.0544, -0.0146, -0.0457,  0.0643, -0.0920],\n",
            "          [ 0.0730, -0.0448,  0.0018, -0.0228,  0.0140],\n",
            "          [-0.0349,  0.0840, -0.0030,  0.0901,  0.1110],\n",
            "          [-0.0563, -0.0842,  0.0926,  0.0905, -0.0882]]],\n",
            "\n",
            "\n",
            "        [[[-0.0089, -0.1139, -0.0945,  0.0223,  0.0307],\n",
            "          [ 0.0245, -0.0314,  0.1065,  0.0165, -0.0681],\n",
            "          [-0.0065,  0.0277,  0.0404, -0.0816,  0.0433],\n",
            "          [-0.0590, -0.0959, -0.0631,  0.1114,  0.0987],\n",
            "          [ 0.1034,  0.0678,  0.0872, -0.0155, -0.0635]],\n",
            "\n",
            "         [[ 0.0577, -0.0598, -0.0779, -0.0369,  0.0242],\n",
            "          [ 0.0594, -0.0448, -0.0680,  0.0156, -0.0681],\n",
            "          [-0.0752,  0.0602, -0.0194,  0.1055,  0.1123],\n",
            "          [ 0.0345,  0.0397,  0.0266,  0.0018, -0.0084],\n",
            "          [ 0.0016,  0.0431,  0.1074, -0.0299, -0.0488]],\n",
            "\n",
            "         [[-0.0280, -0.0558,  0.0196,  0.0862,  0.0903],\n",
            "          [ 0.0530, -0.0850, -0.0620, -0.0254, -0.0213],\n",
            "          [ 0.0095, -0.1060,  0.0359, -0.0881, -0.0731],\n",
            "          [-0.0960,  0.1006, -0.1093,  0.0871, -0.0039],\n",
            "          [-0.0134,  0.0722, -0.0107,  0.0724,  0.0835]]],\n",
            "\n",
            "\n",
            "        [[[-0.1003,  0.0444,  0.0218,  0.0248,  0.0169],\n",
            "          [ 0.0316, -0.0555, -0.0148,  0.1097,  0.0776],\n",
            "          [-0.0043, -0.1086,  0.0051, -0.0786,  0.0939],\n",
            "          [-0.0701, -0.0083, -0.0256,  0.0205,  0.1087],\n",
            "          [ 0.0110,  0.0669,  0.0896,  0.0932, -0.0399]],\n",
            "\n",
            "         [[-0.0258,  0.0556, -0.0315,  0.0541, -0.0252],\n",
            "          [-0.0783,  0.0470,  0.0177,  0.0515,  0.1147],\n",
            "          [ 0.0788,  0.1095,  0.0062, -0.0993, -0.0810],\n",
            "          [-0.0717, -0.1018, -0.0579, -0.1063, -0.1065],\n",
            "          [-0.0690, -0.1138, -0.0709,  0.0440,  0.0963]],\n",
            "\n",
            "         [[-0.0343, -0.0336,  0.0617, -0.0570, -0.0546],\n",
            "          [ 0.0711, -0.1006,  0.0141,  0.1020,  0.0198],\n",
            "          [ 0.0314, -0.0672, -0.0016,  0.0063,  0.0283],\n",
            "          [ 0.0449,  0.1003, -0.0881,  0.0035, -0.0577],\n",
            "          [-0.0913, -0.0092, -0.1016,  0.0806,  0.0134]]],\n",
            "\n",
            "\n",
            "        [[[-0.0622,  0.0603, -0.1093, -0.0447, -0.0225],\n",
            "          [-0.0981, -0.0734, -0.0188,  0.0876,  0.1115],\n",
            "          [ 0.0735, -0.0689, -0.0755,  0.1008,  0.0408],\n",
            "          [ 0.0031,  0.0156, -0.0928, -0.0386,  0.1112],\n",
            "          [-0.0285, -0.0058, -0.0959, -0.0646, -0.0024]],\n",
            "\n",
            "         [[-0.0717, -0.0143,  0.0470, -0.1130,  0.0343],\n",
            "          [-0.0763, -0.0564,  0.0443,  0.0918, -0.0316],\n",
            "          [-0.0474, -0.1044, -0.0595, -0.1011, -0.0264],\n",
            "          [ 0.0236, -0.1082,  0.1008,  0.0724, -0.1130],\n",
            "          [-0.0552,  0.0377, -0.0237, -0.0126, -0.0521]],\n",
            "\n",
            "         [[ 0.0927, -0.0645,  0.0958,  0.0075,  0.0232],\n",
            "          [ 0.0901, -0.0190, -0.0657, -0.0187,  0.0937],\n",
            "          [-0.0857,  0.0262, -0.1135,  0.0605,  0.0427],\n",
            "          [ 0.0049,  0.0496,  0.0001,  0.0639, -0.0914],\n",
            "          [-0.0170,  0.0512,  0.1150,  0.0588, -0.0840]]],\n",
            "\n",
            "\n",
            "        [[[ 0.0888, -0.0257, -0.0247, -0.1050, -0.0182],\n",
            "          [ 0.0817,  0.0161, -0.0673,  0.0355, -0.0370],\n",
            "          [ 0.1054, -0.1002, -0.0365, -0.1115, -0.0455],\n",
            "          [ 0.0364,  0.1112,  0.0194,  0.1132,  0.0226],\n",
            "          [ 0.0667,  0.0926,  0.0965, -0.0646,  0.1062]],\n",
            "\n",
            "         [[ 0.0699, -0.0540, -0.0551, -0.0969,  0.0290],\n",
            "          [-0.0936,  0.0488,  0.0365, -0.1003,  0.0315],\n",
            "          [-0.0094,  0.0527,  0.0663, -0.1148,  0.1059],\n",
            "          [ 0.0968,  0.0459, -0.1055, -0.0412, -0.0335],\n",
            "          [-0.0297,  0.0651,  0.0420,  0.0915, -0.0432]],\n",
            "\n",
            "         [[ 0.0389,  0.0411, -0.0961, -0.1120, -0.0599],\n",
            "          [ 0.0790, -0.1087, -0.1005,  0.0647,  0.0623],\n",
            "          [ 0.0950, -0.0872, -0.0845,  0.0592,  0.1004],\n",
            "          [ 0.0691,  0.0181,  0.0381,  0.1096, -0.0745],\n",
            "          [-0.0524,  0.0808, -0.0790, -0.0637,  0.0843]]]])), ('bias', tensor([ 0.0364,  0.0373, -0.0489, -0.0016,  0.1057, -0.0693,  0.0009,  0.0549,\n",
            "        -0.0797,  0.1121]))])\n"
          ]
        }
      ],
      "source": [
        "# Check out the conv_layer_2 internal parameters\n",
        "print(conv_layer_2.state_dict())"
      ]
    },
    {
      "cell_type": "markdown",
      "metadata": {
        "id": "ZERzfQb98fUK"
      },
      "source": [
        "Look at that! A bunch of random numbers for a weight and bias tensor.\n",
        "\n",
        "The shapes of these are manipulated by the inputs we passed to `nn.Conv2d()` when we set it up.\n",
        "\n",
        "Let's check them out."
      ]
    },
    {
      "cell_type": "code",
      "execution_count": 39,
      "metadata": {
        "colab": {
          "base_uri": "https://localhost:8080/"
        },
        "id": "hJY8xoLy8fUK",
        "outputId": "f9b20304-b70c-4be9-f25a-d25007c09745"
      },
      "outputs": [
        {
          "output_type": "stream",
          "name": "stdout",
          "text": [
            "conv_layer_2 weight shape: \n",
            "torch.Size([10, 3, 5, 5]) -> [out_channels=10, in_channels=3, kernel_size=5, kernel_size=5]\n",
            "\n",
            "conv_layer_2 bias shape: \n",
            "torch.Size([10]) -> [out_channels=10]\n"
          ]
        }
      ],
      "source": [
        "# Get shapes of weight and bias tensors within conv_layer_2\n",
        "print(f\"conv_layer_2 weight shape: \\n{conv_layer_2.weight.shape} -> [out_channels=10, in_channels=3, kernel_size=5, kernel_size=5]\")\n",
        "print(f\"\\nconv_layer_2 bias shape: \\n{conv_layer_2.bias.shape} -> [out_channels=10]\")"
      ]
    },
    {
      "cell_type": "markdown",
      "metadata": {
        "id": "WI3zVk9b8fUK"
      },
      "source": [
        "> **Question:** What should we set the parameters of our `nn.Conv2d()` layers?\n",
        ">\n",
        "> That's a good one. But similar to many other things in machine learning, the values of these aren't set in stone (and recall, because these values are ones we can set ourselves, they're referred to as \"**hyperparameters**\").\n",
        ">\n",
        "> The best way to find out is to try out different values and see how they effect your model's performance.\n",
        ">\n",
        "> Or even better, find a working example on a problem similar to yours (like we've done with TinyVGG) and copy it.\n",
        "\n",
        "We're working with a different of layer here to what we've seen before.\n",
        "\n",
        "But the premise remains the same: start with random numbers and update them to better represent the data."
      ]
    },
    {
      "cell_type": "markdown",
      "metadata": {
        "id": "irEdu6Ye8fUK"
      },
      "source": [
        "### 7.2 Stepping through `nn.MaxPool2d()`\n"
      ]
    },
    {
      "cell_type": "markdown",
      "metadata": {
        "id": "MeA6WxBI8fUK"
      },
      "source": [
        "\n",
        "Now let's check out what happens when we move data through `nn.MaxPool2d()`."
      ]
    },
    {
      "cell_type": "code",
      "execution_count": 40,
      "metadata": {
        "colab": {
          "base_uri": "https://localhost:8080/"
        },
        "id": "zouxPBU18fUK",
        "outputId": "e2fb33c0-9996-41e7-d6ac-aa596929fc8d"
      },
      "outputs": [
        {
          "output_type": "stream",
          "name": "stdout",
          "text": [
            "Test image original shape: torch.Size([3, 64, 64])\n",
            "Test image with unsqueezed dimension: torch.Size([1, 3, 64, 64])\n",
            "Shape after going through conv_layer(): torch.Size([1, 10, 62, 62])\n",
            "Shape after going through conv_layer() and max_pool_layer(): torch.Size([1, 10, 31, 31])\n"
          ]
        }
      ],
      "source": [
        "# Print out original image shape without and with unsqueezed dimension\n",
        "print(f\"Test image original shape: {test_image.shape}\")  # Displays the shape of the test_image tensor: [color_channels, height, width]\n",
        "print(f\"Test image with unsqueezed dimension: {test_image.unsqueeze(dim=0).shape}\")  # dim=0 adds a batch dimension and displays the new shape: [1, color_channels, height, width]\n",
        "\n",
        "# Create a sample nn.MaxPool2d() layer\n",
        "max_pool_layer = nn.MaxPool2d(kernel_size=2)  # Initializes a max pooling layer with a 2x2 window to downsample the input\n",
        "\n",
        "# Pass data through just the conv_layer\n",
        "test_image_through_conv = conv_layer(test_image.unsqueeze(dim=0))  # Applies the convolutional layer to the test_image with added batch dimension\n",
        "print(f\"Shape after going through conv_layer(): {test_image_through_conv.shape}\")  # Prints the shape of the output after convolution: [1, out_channels, new_height, new_width]\n",
        "\n",
        "# Pass data through the max pool layer\n",
        "test_image_through_conv_and_max_pool = max_pool_layer(test_image_through_conv)  # Applies the max pooling layer to the convolutional output to reduce spatial dimensions\n",
        "print(f\"Shape after going through conv_layer() and max_pool_layer(): {test_image_through_conv_and_max_pool.shape}\")  # Prints the shape after pooling: [1, out_channels, pooled_height, pooled_width]"
      ]
    },
    {
      "cell_type": "markdown",
      "metadata": {
        "id": "zs9wsQPN8fUK"
      },
      "source": [
        "Notice the change in the shapes of what's happening in and out of a `nn.MaxPool2d()` layer.\n",
        "\n",
        "The `kernel_size` of the `nn.MaxPool2d()` layer will affect the size of the output shape.\n",
        "\n",
        "In our case, the shape halves from a `62x62` image to `31x31` image.\n",
        "\n",
        "Let's see this work with a smaller tensor."
      ]
    },
    {
      "cell_type": "code",
      "execution_count": 41,
      "metadata": {
        "colab": {
          "base_uri": "https://localhost:8080/"
        },
        "id": "to1s5vGe8fUK",
        "outputId": "560870fc-861e-46ee-e260-da25f4de6c8d"
      },
      "outputs": [
        {
          "output_type": "stream",
          "name": "stdout",
          "text": [
            "Random tensor:\n",
            "tensor([[[[0.3367, 0.1288],\n",
            "          [0.2345, 0.2303]]]])\n",
            "Random tensor shape: torch.Size([1, 1, 2, 2])\n",
            "\n",
            "Max pool tensor:\n",
            "tensor([[[[0.3367]]]]) <- this is the maximum value from random_tensor\n",
            "Max pool tensor shape: torch.Size([1, 1, 1, 1])\n"
          ]
        }
      ],
      "source": [
        "torch.manual_seed(42)\n",
        "# Create a random tensor with a similar number of dimensions to our images\n",
        "random_tensor = torch.randn(size=(1, 1, 2, 2))\n",
        "print(f\"Random tensor:\\n{random_tensor}\")\n",
        "print(f\"Random tensor shape: {random_tensor.shape}\")\n",
        "\n",
        "# Create a max pool layer\n",
        "max_pool_layer = nn.MaxPool2d(kernel_size=2) # see what happens when you change the kernel_size value\n",
        "\n",
        "# Pass the random tensor through the max pool layer\n",
        "max_pool_tensor = max_pool_layer(random_tensor)\n",
        "print(f\"\\nMax pool tensor:\\n{max_pool_tensor} <- this is the maximum value from random_tensor\")\n",
        "print(f\"Max pool tensor shape: {max_pool_tensor.shape}\")"
      ]
    },
    {
      "cell_type": "markdown",
      "metadata": {
        "id": "bt40ptSF8fUK"
      },
      "source": [
        "Notice the final two dimensions between `random_tensor` and `max_pool_tensor`, they go from `[2, 2]` to `[1, 1]`.\n",
        "\n",
        "In essence, they get halved.\n",
        "\n",
        "And the change would be different for different values of `kernel_size` for `nn.MaxPool2d()`.\n",
        "\n",
        "Also notice the value leftover in `max_pool_tensor` is the **maximum** value from `random_tensor`.\n",
        "\n",
        "What's happening here?\n",
        "\n",
        "This is another important piece of the puzzle of neural networks.\n",
        "\n",
        "Essentially, **every layer in a neural network is trying to compress data from higher dimensional space to lower dimensional space**.\n",
        "\n",
        "In other words, take a lot of numbers (raw data) and learn patterns in those numbers, patterns that are predictive whilst also being *smaller* in size than the original values.\n",
        "\n",
        "From an artificial intelligence perspective, you could consider the whole goal of a neural network to *compress* information.\n",
        "\n",
        "![each layer of a neural network compresses the original input data into a smaller representation that is (hopefully) capable of making predictions on future input data](https://raw.githubusercontent.com/mrdbourke/pytorch-deep-learning/main/images/03-conv-net-as-compression.png)\n",
        "\n",
        "This means, that from the point of view of a neural network, intelligence is compression.\n",
        "\n",
        "This is the idea of the use of a `nn.MaxPool2d()` layer: take the maximum value from a portion of a tensor and disregard the rest.\n",
        "\n",
        "In essence, lowering the dimensionality of a tensor whilst still retaining a (hopefully) significant portion of the information.\n",
        "\n",
        "It is the same story for a `nn.Conv2d()` layer.\n",
        "\n",
        "Except instead of just taking the maximum, the `nn.Conv2d()` performs a convolutional operation on the data (see this in action on the [CNN Explainer webpage](https://poloclub.github.io/cnn-explainer/)).\n",
        "\n",
        "> **Exercise:** What do you think the [`nn.AvgPool2d()`](https://pytorch.org/docs/stable/generated/torch.nn.AvgPool2d.html) layer does? Try making a random tensor like we did above and passing it through. Check the input and output shapes as well as the input and output values.\n",
        "\n",
        "> **Extra-curriculum:** Lookup \"most common convolutional neural networks\", what architectures do you find? Are any of them contained within the [`torchvision.models`](https://pytorch.org/vision/stable/models.html) library? What do you think you could do with these?"
      ]
    },
    {
      "cell_type": "markdown",
      "metadata": {
        "id": "UkxyKXfn8fUL"
      },
      "source": [
        "### 7.3 Setup a loss function and optimizer for `model_2`\n"
      ]
    },
    {
      "cell_type": "markdown",
      "metadata": {
        "id": "qR8p_yBf8fUL"
      },
      "source": [
        "\n",
        "We've stepped through the layers in our first CNN enough.\n",
        "\n",
        "But remember, if something still isn't clear, try starting small.\n",
        "\n",
        "Pick a single layer of a model, pass some data through it and see what happens.\n",
        "\n",
        "Now it's time to move forward and get to training!\n",
        "\n",
        "Let's setup a loss function and an optimizer.\n",
        "\n",
        "We'll use the functions as before, `nn.CrossEntropyLoss()` as the loss function (since we're working with multi-class classification data).\n",
        "\n",
        "And `torch.optim.SGD()` as the optimizer to optimize `model_2.parameters()` with a learning rate of `0.1`."
      ]
    },
    {
      "cell_type": "code",
      "execution_count": 42,
      "metadata": {
        "id": "A_0GK72l8fUL"
      },
      "outputs": [],
      "source": [
        "# Setup a loss function and optimizer\n",
        "from helper_functions import accuracy_fn\n",
        "\n",
        "loss_fn = nn.CrossEntropyLoss()\n",
        "optimizer = torch.optim.SGD(params=model_2.parameters(),\n",
        "                            lr=0.1)"
      ]
    },
    {
      "cell_type": "markdown",
      "metadata": {
        "id": "uc1quxl18fUL"
      },
      "source": [
        "### 7.4 Training and testing `model_2` using our training and test functions\n"
      ]
    },
    {
      "cell_type": "markdown",
      "metadata": {
        "id": "9wuvKO9V8fUL"
      },
      "source": [
        "\n",
        "Loss and optimizer ready!\n",
        "\n",
        "Time to train and test.\n",
        "\n",
        "We'll use our `train_step()` and `test_step()` functions we created before.\n",
        "\n",
        "We'll also measure the time to compare it to our other models."
      ]
    },
    {
      "cell_type": "code",
      "execution_count": 43,
      "metadata": {
        "colab": {
          "base_uri": "https://localhost:8080/",
          "height": 327,
          "referenced_widgets": [
            "dc4f55a9fd4a4dfa849d905855608d8b",
            "f741bdfd8d79480a83860b6264e76deb",
            "be23dd80ee8240ea871f4956960b9461",
            "9ad8e6897f3c4cf285fdc0637e715b36",
            "6daacc8d48334140a4bd5944f828a515",
            "d34482e6598e433fa04779c8b69920e3",
            "6893d1c839e34fff9c471e5b82260d4b",
            "80e80c739b4c4875a00bc5845026b960",
            "04f624f7b381429eae976160008d28e3",
            "2827a62ca4e848168d4b91c79f2f00aa",
            "3a99c2822bba457b94da64fe9c633c53"
          ]
        },
        "id": "0RPbJDY48fUL",
        "outputId": "f582474c-a1e9-4b7c-cffe-ef8b5ec1f930"
      },
      "outputs": [
        {
          "output_type": "display_data",
          "data": {
            "text/plain": [
              "  0%|          | 0/3 [00:00<?, ?it/s]"
            ],
            "application/vnd.jupyter.widget-view+json": {
              "version_major": 2,
              "version_minor": 0,
              "model_id": "dc4f55a9fd4a4dfa849d905855608d8b"
            }
          },
          "metadata": {}
        },
        {
          "output_type": "stream",
          "name": "stdout",
          "text": [
            "Epoch: 0\n",
            "---------\n",
            "Train loss: 0.59355 | Train accuracy: 78.39%\n",
            "Test loss: 0.39711 | Test accuracy: 86.03%\n",
            "\n",
            "Epoch: 1\n",
            "---------\n",
            "Train loss: 0.35529 | Train accuracy: 87.27%\n",
            "Test loss: 0.34269 | Test accuracy: 87.69%\n",
            "\n",
            "Epoch: 2\n",
            "---------\n",
            "Train loss: 0.31593 | Train accuracy: 88.56%\n",
            "Test loss: 0.31293 | Test accuracy: 88.64%\n",
            "\n",
            "Train time on cuda: 37.508 seconds\n"
          ]
        }
      ],
      "source": [
        "torch.manual_seed(42)\n",
        "\n",
        "# Measure time\n",
        "from timeit import default_timer as timer\n",
        "train_time_start_model_2 = timer()\n",
        "\n",
        "# Train and test model\n",
        "epochs = 3\n",
        "for epoch in tqdm(range(epochs)):\n",
        "    print(f\"Epoch: {epoch}\\n---------\")\n",
        "    train_step(model=model_2,\n",
        "               data_loader=train_dataloader,\n",
        "               loss_fn=loss_fn,\n",
        "               optimizer=optimizer,\n",
        "               accuracy_fn=accuracy_fn,\n",
        "               device=device\n",
        "    )\n",
        "\n",
        "    test_step(model=model_2,\n",
        "              data_loader=test_dataloader,\n",
        "              accuracy_fn=accuracy_fn,\n",
        "              loss_fn=loss_fn,\n",
        "              device=device\n",
        "    )\n",
        "\n",
        "train_time_end_model_2 = timer()\n",
        "total_train_time_model_2 = print_train_time(start=train_time_start_model_2,\n",
        "                                            end=train_time_end_model_2,\n",
        "                                            device=device)"
      ]
    },
    {
      "cell_type": "markdown",
      "metadata": {
        "id": "gA7wn7gr8fUL"
      },
      "source": [
        "Woah! Looks like the convolutional and max pooling layers helped improve performance a little.\n",
        "\n",
        "Let's evaluate `model_2`'s results with our `eval_model()` function."
      ]
    },
    {
      "cell_type": "code",
      "execution_count": 44,
      "metadata": {
        "colab": {
          "base_uri": "https://localhost:8080/"
        },
        "id": "UzZAs75H8fUL",
        "outputId": "2d273615-6d60-4597-f106-35ff11d72a91"
      },
      "outputs": [
        {
          "output_type": "stream",
          "name": "stdout",
          "text": [
            "{'model_name': 'FashionMNISTModelV2', 'model_loss': 0.31292983889579773, 'model_acc': 88.63817891373802}\n"
          ]
        }
      ],
      "source": [
        "# Get model_2's results\n",
        "model_2_results = eval_model(model=model_2,\n",
        "                             data_loader=test_dataloader,\n",
        "                             loss_fn=loss_fn,\n",
        "                             accuracy_fn=accuracy_fn,\n",
        "                             device=device)\n",
        "print(model_2_results)"
      ]
    },
    {
      "cell_type": "markdown",
      "metadata": {
        "id": "Ffd-twNl8fUL"
      },
      "source": [
        "## 8. Compare model results and training time\n"
      ]
    },
    {
      "cell_type": "markdown",
      "metadata": {
        "id": "AxC0c_9J8fUL"
      },
      "source": [
        "\n",
        "We've trained three different models.\n",
        "\n",
        "1. `model_0` - our baseline model with two `nn.Linear()` layers.\n",
        "2. `model_1` - the same setup as our baseline model except with `nn.ReLU()` layers in between the `nn.Linear()` layers.\n",
        "3. `model_2` - our first CNN model that mimics the TinyVGG architecture on the CNN Explainer website.\n",
        "\n",
        "This is a regular practice in machine learning.\n",
        "\n",
        "Building multiple models and performing multiple training experiments to see which performs best.\n",
        "\n",
        "Let's combine our model results dictionaries into a DataFrame and find out."
      ]
    },
    {
      "cell_type": "code",
      "execution_count": 45,
      "metadata": {
        "colab": {
          "base_uri": "https://localhost:8080/",
          "height": 143
        },
        "id": "XfiNBc9R8fUL",
        "outputId": "c9d2f907-c0c7-4c51-9c2d-b06d1d79df74"
      },
      "outputs": [
        {
          "output_type": "execute_result",
          "data": {
            "text/plain": [
              "            model_name  model_loss  model_acc\n",
              "0  FashionMNISTModelV0    0.476639  83.426518\n",
              "1  FashionMNISTModelV1    0.685001  75.019968\n",
              "2  FashionMNISTModelV2    0.312930  88.638179"
            ],
            "text/html": [
              "\n",
              "  <div id=\"df-9eb1110a-5bae-4ada-8e12-cb9af28c70e2\" class=\"colab-df-container\">\n",
              "    <div>\n",
              "<style scoped>\n",
              "    .dataframe tbody tr th:only-of-type {\n",
              "        vertical-align: middle;\n",
              "    }\n",
              "\n",
              "    .dataframe tbody tr th {\n",
              "        vertical-align: top;\n",
              "    }\n",
              "\n",
              "    .dataframe thead th {\n",
              "        text-align: right;\n",
              "    }\n",
              "</style>\n",
              "<table border=\"1\" class=\"dataframe\">\n",
              "  <thead>\n",
              "    <tr style=\"text-align: right;\">\n",
              "      <th></th>\n",
              "      <th>model_name</th>\n",
              "      <th>model_loss</th>\n",
              "      <th>model_acc</th>\n",
              "    </tr>\n",
              "  </thead>\n",
              "  <tbody>\n",
              "    <tr>\n",
              "      <th>0</th>\n",
              "      <td>FashionMNISTModelV0</td>\n",
              "      <td>0.476639</td>\n",
              "      <td>83.426518</td>\n",
              "    </tr>\n",
              "    <tr>\n",
              "      <th>1</th>\n",
              "      <td>FashionMNISTModelV1</td>\n",
              "      <td>0.685001</td>\n",
              "      <td>75.019968</td>\n",
              "    </tr>\n",
              "    <tr>\n",
              "      <th>2</th>\n",
              "      <td>FashionMNISTModelV2</td>\n",
              "      <td>0.312930</td>\n",
              "      <td>88.638179</td>\n",
              "    </tr>\n",
              "  </tbody>\n",
              "</table>\n",
              "</div>\n",
              "    <div class=\"colab-df-buttons\">\n",
              "\n",
              "  <div class=\"colab-df-container\">\n",
              "    <button class=\"colab-df-convert\" onclick=\"convertToInteractive('df-9eb1110a-5bae-4ada-8e12-cb9af28c70e2')\"\n",
              "            title=\"Convert this dataframe to an interactive table.\"\n",
              "            style=\"display:none;\">\n",
              "\n",
              "  <svg xmlns=\"http://www.w3.org/2000/svg\" height=\"24px\" viewBox=\"0 -960 960 960\">\n",
              "    <path d=\"M120-120v-720h720v720H120Zm60-500h600v-160H180v160Zm220 220h160v-160H400v160Zm0 220h160v-160H400v160ZM180-400h160v-160H180v160Zm440 0h160v-160H620v160ZM180-180h160v-160H180v160Zm440 0h160v-160H620v160Z\"/>\n",
              "  </svg>\n",
              "    </button>\n",
              "\n",
              "  <style>\n",
              "    .colab-df-container {\n",
              "      display:flex;\n",
              "      gap: 12px;\n",
              "    }\n",
              "\n",
              "    .colab-df-convert {\n",
              "      background-color: #E8F0FE;\n",
              "      border: none;\n",
              "      border-radius: 50%;\n",
              "      cursor: pointer;\n",
              "      display: none;\n",
              "      fill: #1967D2;\n",
              "      height: 32px;\n",
              "      padding: 0 0 0 0;\n",
              "      width: 32px;\n",
              "    }\n",
              "\n",
              "    .colab-df-convert:hover {\n",
              "      background-color: #E2EBFA;\n",
              "      box-shadow: 0px 1px 2px rgba(60, 64, 67, 0.3), 0px 1px 3px 1px rgba(60, 64, 67, 0.15);\n",
              "      fill: #174EA6;\n",
              "    }\n",
              "\n",
              "    .colab-df-buttons div {\n",
              "      margin-bottom: 4px;\n",
              "    }\n",
              "\n",
              "    [theme=dark] .colab-df-convert {\n",
              "      background-color: #3B4455;\n",
              "      fill: #D2E3FC;\n",
              "    }\n",
              "\n",
              "    [theme=dark] .colab-df-convert:hover {\n",
              "      background-color: #434B5C;\n",
              "      box-shadow: 0px 1px 3px 1px rgba(0, 0, 0, 0.15);\n",
              "      filter: drop-shadow(0px 1px 2px rgba(0, 0, 0, 0.3));\n",
              "      fill: #FFFFFF;\n",
              "    }\n",
              "  </style>\n",
              "\n",
              "    <script>\n",
              "      const buttonEl =\n",
              "        document.querySelector('#df-9eb1110a-5bae-4ada-8e12-cb9af28c70e2 button.colab-df-convert');\n",
              "      buttonEl.style.display =\n",
              "        google.colab.kernel.accessAllowed ? 'block' : 'none';\n",
              "\n",
              "      async function convertToInteractive(key) {\n",
              "        const element = document.querySelector('#df-9eb1110a-5bae-4ada-8e12-cb9af28c70e2');\n",
              "        const dataTable =\n",
              "          await google.colab.kernel.invokeFunction('convertToInteractive',\n",
              "                                                    [key], {});\n",
              "        if (!dataTable) return;\n",
              "\n",
              "        const docLinkHtml = 'Like what you see? Visit the ' +\n",
              "          '<a target=\"_blank\" href=https://colab.research.google.com/notebooks/data_table.ipynb>data table notebook</a>'\n",
              "          + ' to learn more about interactive tables.';\n",
              "        element.innerHTML = '';\n",
              "        dataTable['output_type'] = 'display_data';\n",
              "        await google.colab.output.renderOutput(dataTable, element);\n",
              "        const docLink = document.createElement('div');\n",
              "        docLink.innerHTML = docLinkHtml;\n",
              "        element.appendChild(docLink);\n",
              "      }\n",
              "    </script>\n",
              "  </div>\n",
              "\n",
              "\n",
              "<div id=\"df-76d08673-d2fd-436b-b83c-5edc0f466d4c\">\n",
              "  <button class=\"colab-df-quickchart\" onclick=\"quickchart('df-76d08673-d2fd-436b-b83c-5edc0f466d4c')\"\n",
              "            title=\"Suggest charts\"\n",
              "            style=\"display:none;\">\n",
              "\n",
              "<svg xmlns=\"http://www.w3.org/2000/svg\" height=\"24px\"viewBox=\"0 0 24 24\"\n",
              "     width=\"24px\">\n",
              "    <g>\n",
              "        <path d=\"M19 3H5c-1.1 0-2 .9-2 2v14c0 1.1.9 2 2 2h14c1.1 0 2-.9 2-2V5c0-1.1-.9-2-2-2zM9 17H7v-7h2v7zm4 0h-2V7h2v10zm4 0h-2v-4h2v4z\"/>\n",
              "    </g>\n",
              "</svg>\n",
              "  </button>\n",
              "\n",
              "<style>\n",
              "  .colab-df-quickchart {\n",
              "      --bg-color: #E8F0FE;\n",
              "      --fill-color: #1967D2;\n",
              "      --hover-bg-color: #E2EBFA;\n",
              "      --hover-fill-color: #174EA6;\n",
              "      --disabled-fill-color: #AAA;\n",
              "      --disabled-bg-color: #DDD;\n",
              "  }\n",
              "\n",
              "  [theme=dark] .colab-df-quickchart {\n",
              "      --bg-color: #3B4455;\n",
              "      --fill-color: #D2E3FC;\n",
              "      --hover-bg-color: #434B5C;\n",
              "      --hover-fill-color: #FFFFFF;\n",
              "      --disabled-bg-color: #3B4455;\n",
              "      --disabled-fill-color: #666;\n",
              "  }\n",
              "\n",
              "  .colab-df-quickchart {\n",
              "    background-color: var(--bg-color);\n",
              "    border: none;\n",
              "    border-radius: 50%;\n",
              "    cursor: pointer;\n",
              "    display: none;\n",
              "    fill: var(--fill-color);\n",
              "    height: 32px;\n",
              "    padding: 0;\n",
              "    width: 32px;\n",
              "  }\n",
              "\n",
              "  .colab-df-quickchart:hover {\n",
              "    background-color: var(--hover-bg-color);\n",
              "    box-shadow: 0 1px 2px rgba(60, 64, 67, 0.3), 0 1px 3px 1px rgba(60, 64, 67, 0.15);\n",
              "    fill: var(--button-hover-fill-color);\n",
              "  }\n",
              "\n",
              "  .colab-df-quickchart-complete:disabled,\n",
              "  .colab-df-quickchart-complete:disabled:hover {\n",
              "    background-color: var(--disabled-bg-color);\n",
              "    fill: var(--disabled-fill-color);\n",
              "    box-shadow: none;\n",
              "  }\n",
              "\n",
              "  .colab-df-spinner {\n",
              "    border: 2px solid var(--fill-color);\n",
              "    border-color: transparent;\n",
              "    border-bottom-color: var(--fill-color);\n",
              "    animation:\n",
              "      spin 1s steps(1) infinite;\n",
              "  }\n",
              "\n",
              "  @keyframes spin {\n",
              "    0% {\n",
              "      border-color: transparent;\n",
              "      border-bottom-color: var(--fill-color);\n",
              "      border-left-color: var(--fill-color);\n",
              "    }\n",
              "    20% {\n",
              "      border-color: transparent;\n",
              "      border-left-color: var(--fill-color);\n",
              "      border-top-color: var(--fill-color);\n",
              "    }\n",
              "    30% {\n",
              "      border-color: transparent;\n",
              "      border-left-color: var(--fill-color);\n",
              "      border-top-color: var(--fill-color);\n",
              "      border-right-color: var(--fill-color);\n",
              "    }\n",
              "    40% {\n",
              "      border-color: transparent;\n",
              "      border-right-color: var(--fill-color);\n",
              "      border-top-color: var(--fill-color);\n",
              "    }\n",
              "    60% {\n",
              "      border-color: transparent;\n",
              "      border-right-color: var(--fill-color);\n",
              "    }\n",
              "    80% {\n",
              "      border-color: transparent;\n",
              "      border-right-color: var(--fill-color);\n",
              "      border-bottom-color: var(--fill-color);\n",
              "    }\n",
              "    90% {\n",
              "      border-color: transparent;\n",
              "      border-bottom-color: var(--fill-color);\n",
              "    }\n",
              "  }\n",
              "</style>\n",
              "\n",
              "  <script>\n",
              "    async function quickchart(key) {\n",
              "      const quickchartButtonEl =\n",
              "        document.querySelector('#' + key + ' button');\n",
              "      quickchartButtonEl.disabled = true;  // To prevent multiple clicks.\n",
              "      quickchartButtonEl.classList.add('colab-df-spinner');\n",
              "      try {\n",
              "        const charts = await google.colab.kernel.invokeFunction(\n",
              "            'suggestCharts', [key], {});\n",
              "      } catch (error) {\n",
              "        console.error('Error during call to suggestCharts:', error);\n",
              "      }\n",
              "      quickchartButtonEl.classList.remove('colab-df-spinner');\n",
              "      quickchartButtonEl.classList.add('colab-df-quickchart-complete');\n",
              "    }\n",
              "    (() => {\n",
              "      let quickchartButtonEl =\n",
              "        document.querySelector('#df-76d08673-d2fd-436b-b83c-5edc0f466d4c button');\n",
              "      quickchartButtonEl.style.display =\n",
              "        google.colab.kernel.accessAllowed ? 'block' : 'none';\n",
              "    })();\n",
              "  </script>\n",
              "</div>\n",
              "\n",
              "  <div id=\"id_54e08a7a-6f11-4388-a5ae-a36fbed73e19\">\n",
              "    <style>\n",
              "      .colab-df-generate {\n",
              "        background-color: #E8F0FE;\n",
              "        border: none;\n",
              "        border-radius: 50%;\n",
              "        cursor: pointer;\n",
              "        display: none;\n",
              "        fill: #1967D2;\n",
              "        height: 32px;\n",
              "        padding: 0 0 0 0;\n",
              "        width: 32px;\n",
              "      }\n",
              "\n",
              "      .colab-df-generate:hover {\n",
              "        background-color: #E2EBFA;\n",
              "        box-shadow: 0px 1px 2px rgba(60, 64, 67, 0.3), 0px 1px 3px 1px rgba(60, 64, 67, 0.15);\n",
              "        fill: #174EA6;\n",
              "      }\n",
              "\n",
              "      [theme=dark] .colab-df-generate {\n",
              "        background-color: #3B4455;\n",
              "        fill: #D2E3FC;\n",
              "      }\n",
              "\n",
              "      [theme=dark] .colab-df-generate:hover {\n",
              "        background-color: #434B5C;\n",
              "        box-shadow: 0px 1px 3px 1px rgba(0, 0, 0, 0.15);\n",
              "        filter: drop-shadow(0px 1px 2px rgba(0, 0, 0, 0.3));\n",
              "        fill: #FFFFFF;\n",
              "      }\n",
              "    </style>\n",
              "    <button class=\"colab-df-generate\" onclick=\"generateWithVariable('compare_results')\"\n",
              "            title=\"Generate code using this dataframe.\"\n",
              "            style=\"display:none;\">\n",
              "\n",
              "  <svg xmlns=\"http://www.w3.org/2000/svg\" height=\"24px\"viewBox=\"0 0 24 24\"\n",
              "       width=\"24px\">\n",
              "    <path d=\"M7,19H8.4L18.45,9,17,7.55,7,17.6ZM5,21V16.75L18.45,3.32a2,2,0,0,1,2.83,0l1.4,1.43a1.91,1.91,0,0,1,.58,1.4,1.91,1.91,0,0,1-.58,1.4L9.25,21ZM18.45,9,17,7.55Zm-12,3A5.31,5.31,0,0,0,4.9,8.1,5.31,5.31,0,0,0,1,6.5,5.31,5.31,0,0,0,4.9,4.9,5.31,5.31,0,0,0,6.5,1,5.31,5.31,0,0,0,8.1,4.9,5.31,5.31,0,0,0,12,6.5,5.46,5.46,0,0,0,6.5,12Z\"/>\n",
              "  </svg>\n",
              "    </button>\n",
              "    <script>\n",
              "      (() => {\n",
              "      const buttonEl =\n",
              "        document.querySelector('#id_54e08a7a-6f11-4388-a5ae-a36fbed73e19 button.colab-df-generate');\n",
              "      buttonEl.style.display =\n",
              "        google.colab.kernel.accessAllowed ? 'block' : 'none';\n",
              "\n",
              "      buttonEl.onclick = () => {\n",
              "        google.colab.notebook.generateWithVariable('compare_results');\n",
              "      }\n",
              "      })();\n",
              "    </script>\n",
              "  </div>\n",
              "\n",
              "    </div>\n",
              "  </div>\n"
            ],
            "application/vnd.google.colaboratory.intrinsic+json": {
              "type": "dataframe",
              "variable_name": "compare_results",
              "summary": "{\n  \"name\": \"compare_results\",\n  \"rows\": 3,\n  \"fields\": [\n    {\n      \"column\": \"model_name\",\n      \"properties\": {\n        \"dtype\": \"string\",\n        \"num_unique_values\": 3,\n        \"samples\": [\n          \"FashionMNISTModelV0\",\n          \"FashionMNISTModelV1\",\n          \"FashionMNISTModelV2\"\n        ],\n        \"semantic_type\": \"\",\n        \"description\": \"\"\n      }\n    },\n    {\n      \"column\": \"model_loss\",\n      \"properties\": {\n        \"dtype\": \"number\",\n        \"std\": 0.18648156579580363,\n        \"min\": 0.31292983889579773,\n        \"max\": 0.6850008964538574,\n        \"num_unique_values\": 3,\n        \"samples\": [\n          0.47663894295692444,\n          0.6850008964538574,\n          0.31292983889579773\n        ],\n        \"semantic_type\": \"\",\n        \"description\": \"\"\n      }\n    },\n    {\n      \"column\": \"model_acc\",\n      \"properties\": {\n        \"dtype\": \"number\",\n        \"std\": 6.871282702742449,\n        \"min\": 75.01996805111821,\n        \"max\": 88.63817891373802,\n        \"num_unique_values\": 3,\n        \"samples\": [\n          83.42651757188499,\n          75.01996805111821,\n          88.63817891373802\n        ],\n        \"semantic_type\": \"\",\n        \"description\": \"\"\n      }\n    }\n  ]\n}"
            }
          },
          "metadata": {},
          "execution_count": 45
        }
      ],
      "source": [
        "import pandas as pd\n",
        "compare_results = pd.DataFrame([model_0_results, model_1_results, model_2_results])\n",
        "compare_results"
      ]
    },
    {
      "cell_type": "markdown",
      "metadata": {
        "id": "3yql8Tvf8fUL"
      },
      "source": [
        "Nice!\n",
        "\n",
        "We can add the training time values too."
      ]
    },
    {
      "cell_type": "code",
      "execution_count": 46,
      "metadata": {
        "colab": {
          "base_uri": "https://localhost:8080/",
          "height": 143
        },
        "id": "ytO1O8zB8fUL",
        "outputId": "9b3f365f-6dda-4499-812e-bbe9ca46a7da"
      },
      "outputs": [
        {
          "output_type": "execute_result",
          "data": {
            "text/plain": [
              "            model_name  model_loss  model_acc  training_time\n",
              "0  FashionMNISTModelV0    0.476639  83.426518      27.630151\n",
              "1  FashionMNISTModelV1    0.685001  75.019968      33.641891\n",
              "2  FashionMNISTModelV2    0.312930  88.638179      37.508124"
            ],
            "text/html": [
              "\n",
              "  <div id=\"df-90972cf6-2413-4839-b19e-7204f7728188\" class=\"colab-df-container\">\n",
              "    <div>\n",
              "<style scoped>\n",
              "    .dataframe tbody tr th:only-of-type {\n",
              "        vertical-align: middle;\n",
              "    }\n",
              "\n",
              "    .dataframe tbody tr th {\n",
              "        vertical-align: top;\n",
              "    }\n",
              "\n",
              "    .dataframe thead th {\n",
              "        text-align: right;\n",
              "    }\n",
              "</style>\n",
              "<table border=\"1\" class=\"dataframe\">\n",
              "  <thead>\n",
              "    <tr style=\"text-align: right;\">\n",
              "      <th></th>\n",
              "      <th>model_name</th>\n",
              "      <th>model_loss</th>\n",
              "      <th>model_acc</th>\n",
              "      <th>training_time</th>\n",
              "    </tr>\n",
              "  </thead>\n",
              "  <tbody>\n",
              "    <tr>\n",
              "      <th>0</th>\n",
              "      <td>FashionMNISTModelV0</td>\n",
              "      <td>0.476639</td>\n",
              "      <td>83.426518</td>\n",
              "      <td>27.630151</td>\n",
              "    </tr>\n",
              "    <tr>\n",
              "      <th>1</th>\n",
              "      <td>FashionMNISTModelV1</td>\n",
              "      <td>0.685001</td>\n",
              "      <td>75.019968</td>\n",
              "      <td>33.641891</td>\n",
              "    </tr>\n",
              "    <tr>\n",
              "      <th>2</th>\n",
              "      <td>FashionMNISTModelV2</td>\n",
              "      <td>0.312930</td>\n",
              "      <td>88.638179</td>\n",
              "      <td>37.508124</td>\n",
              "    </tr>\n",
              "  </tbody>\n",
              "</table>\n",
              "</div>\n",
              "    <div class=\"colab-df-buttons\">\n",
              "\n",
              "  <div class=\"colab-df-container\">\n",
              "    <button class=\"colab-df-convert\" onclick=\"convertToInteractive('df-90972cf6-2413-4839-b19e-7204f7728188')\"\n",
              "            title=\"Convert this dataframe to an interactive table.\"\n",
              "            style=\"display:none;\">\n",
              "\n",
              "  <svg xmlns=\"http://www.w3.org/2000/svg\" height=\"24px\" viewBox=\"0 -960 960 960\">\n",
              "    <path d=\"M120-120v-720h720v720H120Zm60-500h600v-160H180v160Zm220 220h160v-160H400v160Zm0 220h160v-160H400v160ZM180-400h160v-160H180v160Zm440 0h160v-160H620v160ZM180-180h160v-160H180v160Zm440 0h160v-160H620v160Z\"/>\n",
              "  </svg>\n",
              "    </button>\n",
              "\n",
              "  <style>\n",
              "    .colab-df-container {\n",
              "      display:flex;\n",
              "      gap: 12px;\n",
              "    }\n",
              "\n",
              "    .colab-df-convert {\n",
              "      background-color: #E8F0FE;\n",
              "      border: none;\n",
              "      border-radius: 50%;\n",
              "      cursor: pointer;\n",
              "      display: none;\n",
              "      fill: #1967D2;\n",
              "      height: 32px;\n",
              "      padding: 0 0 0 0;\n",
              "      width: 32px;\n",
              "    }\n",
              "\n",
              "    .colab-df-convert:hover {\n",
              "      background-color: #E2EBFA;\n",
              "      box-shadow: 0px 1px 2px rgba(60, 64, 67, 0.3), 0px 1px 3px 1px rgba(60, 64, 67, 0.15);\n",
              "      fill: #174EA6;\n",
              "    }\n",
              "\n",
              "    .colab-df-buttons div {\n",
              "      margin-bottom: 4px;\n",
              "    }\n",
              "\n",
              "    [theme=dark] .colab-df-convert {\n",
              "      background-color: #3B4455;\n",
              "      fill: #D2E3FC;\n",
              "    }\n",
              "\n",
              "    [theme=dark] .colab-df-convert:hover {\n",
              "      background-color: #434B5C;\n",
              "      box-shadow: 0px 1px 3px 1px rgba(0, 0, 0, 0.15);\n",
              "      filter: drop-shadow(0px 1px 2px rgba(0, 0, 0, 0.3));\n",
              "      fill: #FFFFFF;\n",
              "    }\n",
              "  </style>\n",
              "\n",
              "    <script>\n",
              "      const buttonEl =\n",
              "        document.querySelector('#df-90972cf6-2413-4839-b19e-7204f7728188 button.colab-df-convert');\n",
              "      buttonEl.style.display =\n",
              "        google.colab.kernel.accessAllowed ? 'block' : 'none';\n",
              "\n",
              "      async function convertToInteractive(key) {\n",
              "        const element = document.querySelector('#df-90972cf6-2413-4839-b19e-7204f7728188');\n",
              "        const dataTable =\n",
              "          await google.colab.kernel.invokeFunction('convertToInteractive',\n",
              "                                                    [key], {});\n",
              "        if (!dataTable) return;\n",
              "\n",
              "        const docLinkHtml = 'Like what you see? Visit the ' +\n",
              "          '<a target=\"_blank\" href=https://colab.research.google.com/notebooks/data_table.ipynb>data table notebook</a>'\n",
              "          + ' to learn more about interactive tables.';\n",
              "        element.innerHTML = '';\n",
              "        dataTable['output_type'] = 'display_data';\n",
              "        await google.colab.output.renderOutput(dataTable, element);\n",
              "        const docLink = document.createElement('div');\n",
              "        docLink.innerHTML = docLinkHtml;\n",
              "        element.appendChild(docLink);\n",
              "      }\n",
              "    </script>\n",
              "  </div>\n",
              "\n",
              "\n",
              "<div id=\"df-7f586fa1-9fd5-4cb0-ae8f-7636d31ae574\">\n",
              "  <button class=\"colab-df-quickchart\" onclick=\"quickchart('df-7f586fa1-9fd5-4cb0-ae8f-7636d31ae574')\"\n",
              "            title=\"Suggest charts\"\n",
              "            style=\"display:none;\">\n",
              "\n",
              "<svg xmlns=\"http://www.w3.org/2000/svg\" height=\"24px\"viewBox=\"0 0 24 24\"\n",
              "     width=\"24px\">\n",
              "    <g>\n",
              "        <path d=\"M19 3H5c-1.1 0-2 .9-2 2v14c0 1.1.9 2 2 2h14c1.1 0 2-.9 2-2V5c0-1.1-.9-2-2-2zM9 17H7v-7h2v7zm4 0h-2V7h2v10zm4 0h-2v-4h2v4z\"/>\n",
              "    </g>\n",
              "</svg>\n",
              "  </button>\n",
              "\n",
              "<style>\n",
              "  .colab-df-quickchart {\n",
              "      --bg-color: #E8F0FE;\n",
              "      --fill-color: #1967D2;\n",
              "      --hover-bg-color: #E2EBFA;\n",
              "      --hover-fill-color: #174EA6;\n",
              "      --disabled-fill-color: #AAA;\n",
              "      --disabled-bg-color: #DDD;\n",
              "  }\n",
              "\n",
              "  [theme=dark] .colab-df-quickchart {\n",
              "      --bg-color: #3B4455;\n",
              "      --fill-color: #D2E3FC;\n",
              "      --hover-bg-color: #434B5C;\n",
              "      --hover-fill-color: #FFFFFF;\n",
              "      --disabled-bg-color: #3B4455;\n",
              "      --disabled-fill-color: #666;\n",
              "  }\n",
              "\n",
              "  .colab-df-quickchart {\n",
              "    background-color: var(--bg-color);\n",
              "    border: none;\n",
              "    border-radius: 50%;\n",
              "    cursor: pointer;\n",
              "    display: none;\n",
              "    fill: var(--fill-color);\n",
              "    height: 32px;\n",
              "    padding: 0;\n",
              "    width: 32px;\n",
              "  }\n",
              "\n",
              "  .colab-df-quickchart:hover {\n",
              "    background-color: var(--hover-bg-color);\n",
              "    box-shadow: 0 1px 2px rgba(60, 64, 67, 0.3), 0 1px 3px 1px rgba(60, 64, 67, 0.15);\n",
              "    fill: var(--button-hover-fill-color);\n",
              "  }\n",
              "\n",
              "  .colab-df-quickchart-complete:disabled,\n",
              "  .colab-df-quickchart-complete:disabled:hover {\n",
              "    background-color: var(--disabled-bg-color);\n",
              "    fill: var(--disabled-fill-color);\n",
              "    box-shadow: none;\n",
              "  }\n",
              "\n",
              "  .colab-df-spinner {\n",
              "    border: 2px solid var(--fill-color);\n",
              "    border-color: transparent;\n",
              "    border-bottom-color: var(--fill-color);\n",
              "    animation:\n",
              "      spin 1s steps(1) infinite;\n",
              "  }\n",
              "\n",
              "  @keyframes spin {\n",
              "    0% {\n",
              "      border-color: transparent;\n",
              "      border-bottom-color: var(--fill-color);\n",
              "      border-left-color: var(--fill-color);\n",
              "    }\n",
              "    20% {\n",
              "      border-color: transparent;\n",
              "      border-left-color: var(--fill-color);\n",
              "      border-top-color: var(--fill-color);\n",
              "    }\n",
              "    30% {\n",
              "      border-color: transparent;\n",
              "      border-left-color: var(--fill-color);\n",
              "      border-top-color: var(--fill-color);\n",
              "      border-right-color: var(--fill-color);\n",
              "    }\n",
              "    40% {\n",
              "      border-color: transparent;\n",
              "      border-right-color: var(--fill-color);\n",
              "      border-top-color: var(--fill-color);\n",
              "    }\n",
              "    60% {\n",
              "      border-color: transparent;\n",
              "      border-right-color: var(--fill-color);\n",
              "    }\n",
              "    80% {\n",
              "      border-color: transparent;\n",
              "      border-right-color: var(--fill-color);\n",
              "      border-bottom-color: var(--fill-color);\n",
              "    }\n",
              "    90% {\n",
              "      border-color: transparent;\n",
              "      border-bottom-color: var(--fill-color);\n",
              "    }\n",
              "  }\n",
              "</style>\n",
              "\n",
              "  <script>\n",
              "    async function quickchart(key) {\n",
              "      const quickchartButtonEl =\n",
              "        document.querySelector('#' + key + ' button');\n",
              "      quickchartButtonEl.disabled = true;  // To prevent multiple clicks.\n",
              "      quickchartButtonEl.classList.add('colab-df-spinner');\n",
              "      try {\n",
              "        const charts = await google.colab.kernel.invokeFunction(\n",
              "            'suggestCharts', [key], {});\n",
              "      } catch (error) {\n",
              "        console.error('Error during call to suggestCharts:', error);\n",
              "      }\n",
              "      quickchartButtonEl.classList.remove('colab-df-spinner');\n",
              "      quickchartButtonEl.classList.add('colab-df-quickchart-complete');\n",
              "    }\n",
              "    (() => {\n",
              "      let quickchartButtonEl =\n",
              "        document.querySelector('#df-7f586fa1-9fd5-4cb0-ae8f-7636d31ae574 button');\n",
              "      quickchartButtonEl.style.display =\n",
              "        google.colab.kernel.accessAllowed ? 'block' : 'none';\n",
              "    })();\n",
              "  </script>\n",
              "</div>\n",
              "\n",
              "  <div id=\"id_5ea63f7d-8d62-4a1f-a9fe-a6b955e304c0\">\n",
              "    <style>\n",
              "      .colab-df-generate {\n",
              "        background-color: #E8F0FE;\n",
              "        border: none;\n",
              "        border-radius: 50%;\n",
              "        cursor: pointer;\n",
              "        display: none;\n",
              "        fill: #1967D2;\n",
              "        height: 32px;\n",
              "        padding: 0 0 0 0;\n",
              "        width: 32px;\n",
              "      }\n",
              "\n",
              "      .colab-df-generate:hover {\n",
              "        background-color: #E2EBFA;\n",
              "        box-shadow: 0px 1px 2px rgba(60, 64, 67, 0.3), 0px 1px 3px 1px rgba(60, 64, 67, 0.15);\n",
              "        fill: #174EA6;\n",
              "      }\n",
              "\n",
              "      [theme=dark] .colab-df-generate {\n",
              "        background-color: #3B4455;\n",
              "        fill: #D2E3FC;\n",
              "      }\n",
              "\n",
              "      [theme=dark] .colab-df-generate:hover {\n",
              "        background-color: #434B5C;\n",
              "        box-shadow: 0px 1px 3px 1px rgba(0, 0, 0, 0.15);\n",
              "        filter: drop-shadow(0px 1px 2px rgba(0, 0, 0, 0.3));\n",
              "        fill: #FFFFFF;\n",
              "      }\n",
              "    </style>\n",
              "    <button class=\"colab-df-generate\" onclick=\"generateWithVariable('compare_results')\"\n",
              "            title=\"Generate code using this dataframe.\"\n",
              "            style=\"display:none;\">\n",
              "\n",
              "  <svg xmlns=\"http://www.w3.org/2000/svg\" height=\"24px\"viewBox=\"0 0 24 24\"\n",
              "       width=\"24px\">\n",
              "    <path d=\"M7,19H8.4L18.45,9,17,7.55,7,17.6ZM5,21V16.75L18.45,3.32a2,2,0,0,1,2.83,0l1.4,1.43a1.91,1.91,0,0,1,.58,1.4,1.91,1.91,0,0,1-.58,1.4L9.25,21ZM18.45,9,17,7.55Zm-12,3A5.31,5.31,0,0,0,4.9,8.1,5.31,5.31,0,0,0,1,6.5,5.31,5.31,0,0,0,4.9,4.9,5.31,5.31,0,0,0,6.5,1,5.31,5.31,0,0,0,8.1,4.9,5.31,5.31,0,0,0,12,6.5,5.46,5.46,0,0,0,6.5,12Z\"/>\n",
              "  </svg>\n",
              "    </button>\n",
              "    <script>\n",
              "      (() => {\n",
              "      const buttonEl =\n",
              "        document.querySelector('#id_5ea63f7d-8d62-4a1f-a9fe-a6b955e304c0 button.colab-df-generate');\n",
              "      buttonEl.style.display =\n",
              "        google.colab.kernel.accessAllowed ? 'block' : 'none';\n",
              "\n",
              "      buttonEl.onclick = () => {\n",
              "        google.colab.notebook.generateWithVariable('compare_results');\n",
              "      }\n",
              "      })();\n",
              "    </script>\n",
              "  </div>\n",
              "\n",
              "    </div>\n",
              "  </div>\n"
            ],
            "application/vnd.google.colaboratory.intrinsic+json": {
              "type": "dataframe",
              "variable_name": "compare_results",
              "summary": "{\n  \"name\": \"compare_results\",\n  \"rows\": 3,\n  \"fields\": [\n    {\n      \"column\": \"model_name\",\n      \"properties\": {\n        \"dtype\": \"string\",\n        \"num_unique_values\": 3,\n        \"samples\": [\n          \"FashionMNISTModelV0\",\n          \"FashionMNISTModelV1\",\n          \"FashionMNISTModelV2\"\n        ],\n        \"semantic_type\": \"\",\n        \"description\": \"\"\n      }\n    },\n    {\n      \"column\": \"model_loss\",\n      \"properties\": {\n        \"dtype\": \"number\",\n        \"std\": 0.18648156579580363,\n        \"min\": 0.31292983889579773,\n        \"max\": 0.6850008964538574,\n        \"num_unique_values\": 3,\n        \"samples\": [\n          0.47663894295692444,\n          0.6850008964538574,\n          0.31292983889579773\n        ],\n        \"semantic_type\": \"\",\n        \"description\": \"\"\n      }\n    },\n    {\n      \"column\": \"model_acc\",\n      \"properties\": {\n        \"dtype\": \"number\",\n        \"std\": 6.871282702742449,\n        \"min\": 75.01996805111821,\n        \"max\": 88.63817891373802,\n        \"num_unique_values\": 3,\n        \"samples\": [\n          83.42651757188499,\n          75.01996805111821,\n          88.63817891373802\n        ],\n        \"semantic_type\": \"\",\n        \"description\": \"\"\n      }\n    },\n    {\n      \"column\": \"training_time\",\n      \"properties\": {\n        \"dtype\": \"number\",\n        \"std\": 4.977669243041854,\n        \"min\": 27.63015072600001,\n        \"max\": 37.50812444000002,\n        \"num_unique_values\": 3,\n        \"samples\": [\n          27.63015072600001,\n          33.64189093700003,\n          37.50812444000002\n        ],\n        \"semantic_type\": \"\",\n        \"description\": \"\"\n      }\n    }\n  ]\n}"
            }
          },
          "metadata": {},
          "execution_count": 46
        }
      ],
      "source": [
        "# Add training times to results comparison\n",
        "compare_results[\"training_time\"] = [total_train_time_model_0,\n",
        "                                    total_train_time_model_1,\n",
        "                                    total_train_time_model_2]\n",
        "compare_results"
      ]
    },
    {
      "cell_type": "markdown",
      "metadata": {
        "id": "fSrPb5pS8fUL"
      },
      "source": [
        "It looks like our CNN (`FashionMNISTModelV2`) model performed the best (lowest loss, highest accuracy) but had the longest training time.\n",
        "\n",
        "And our baseline model (`FashionMNISTModelV0`) performed better than `model_1` (`FashionMNISTModelV1`).\n",
        "\n",
        "### Performance-speed tradeoff\n",
        "\n",
        "Something to be aware of in machine learning is the **performance-speed** tradeoff.\n",
        "\n",
        "Generally, you get better performance out of a larger, more complex model (like we did with `model_2`).\n",
        "\n",
        "However, this performance increase often comes at a sacrifice of training speed and inference speed.\n",
        "\n",
        "> **Note:** The training times you get will be very dependent on the hardware you use.\n",
        ">\n",
        "> Generally, the more CPU cores you have, the faster your models will train on CPU. And similar for GPUs.\n",
        ">\n",
        "> Newer hardware (in terms of age) will also often train models faster due to incorporating technological advances.\n",
        "\n",
        "How about we get visual?"
      ]
    },
    {
      "cell_type": "code",
      "execution_count": 47,
      "metadata": {
        "colab": {
          "base_uri": "https://localhost:8080/",
          "height": 487
        },
        "id": "cw0sIMRW8fUL",
        "outputId": "c4eff5d6-7752-4da6-a573-d8138522428e"
      },
      "outputs": [
        {
          "output_type": "display_data",
          "data": {
            "text/plain": [
              "<Figure size 640x480 with 1 Axes>"
            ],
            "image/png": "[encoded data removed]"
          },
          "metadata": {}
        }
      ],
      "source": [
        "# Visualize our model results\n",
        "compare_results.set_index(\"model_name\")[\"model_acc\"].plot(kind=\"barh\")  # Set 'model_name' as the index and plot 'model_acc' as a horizontal bar chart\n",
        "plt.xlabel(\"accuracy (%)\")  # Set the label for the x-axis to display accuracy in percentage\n",
        "plt.ylabel(\"model\")  # Set the label for the y-axis to display model names\n",
        "plt.title(\"Model Accuracy Comparison\")  # (Optional) Add a title to the plot for better context\n",
        "plt.tight_layout()  # (Optional) Adjust the layout to prevent clipping of labels\n",
        "plt.show()  # Display the plot"
      ]
    },
    {
      "cell_type": "markdown",
      "metadata": {
        "id": "T0ocwL0N8fUL"
      },
      "source": [
        "## 9. Make and evaluate random predictions with best model\n"
      ]
    },
    {
      "cell_type": "markdown",
      "metadata": {
        "id": "DK1wLjqh8fUL"
      },
      "source": [
        "\n",
        "Alright, we've compared our models to each other, let's further evaluate our best performing model, `model_2`.\n",
        "\n",
        "To do so, let's create a function `make_predictions()` where we can pass the model and some data for it to predict on."
      ]
    },
    {
      "cell_type": "code",
      "execution_count": 48,
      "metadata": {
        "id": "GKUnseYU8fUL"
      },
      "outputs": [],
      "source": [
        "def make_predictions(model: torch.nn.Module, data: list, device: torch.device = device):\n",
        "    \"\"\"\n",
        "    Generates prediction probabilities for a given model and dataset.\n",
        "\n",
        "    Args:\n",
        "        model (torch.nn.Module): Trained PyTorch model.\n",
        "        data (list): List of input data samples.\n",
        "        device (torch.device): Device to run the model on (e.g., 'cpu' or 'cuda').\n",
        "\n",
        "    Returns:\n",
        "        torch.Tensor: Tensor containing prediction probabilities for each input sample.\n",
        "    \"\"\"\n",
        "    pred_probs = []  # List to store prediction probabilities\n",
        "    model.eval()  # Set model to evaluation mode to disable dropout, batchnorm, etc.\n",
        "    with torch.inference_mode():  # Disable gradient calculation to save memory and computation\n",
        "        for sample in data:  # Iterate through each sample in the input data\n",
        "            # Prepare sample: add an extra batch dimension (unsqueeze) and move it to the specified device\n",
        "            sample = torch.unsqueeze(sample, dim=0).to(device)  # Unsqueeze is necessary because model expects a batch dimension\n",
        "\n",
        "            # Perform a forward pass through the model to get raw output logits\n",
        "            pred_logit = model(sample)\n",
        "\n",
        "            # Convert logits to probabilities using the softmax function\n",
        "            # Softmax is applied across the \"logits\" dimension (dim=0) since batch size is 1\n",
        "            pred_prob = torch.softmax(pred_logit.squeeze(), dim=0)\n",
        "\n",
        "            # Move probabilities back to the CPU for further processing b/c libraries like numpy don't support GPU tensors\n",
        "            pred_probs.append(pred_prob.cpu())\n",
        "\n",
        "    # Stack the list of prediction probabilities into a single tensor\n",
        "    return torch.stack(pred_probs)"
      ]
    },
    {
      "cell_type": "code",
      "execution_count": 49,
      "metadata": {
        "colab": {
          "base_uri": "https://localhost:8080/"
        },
        "id": "eWPFsF3r8fUL",
        "outputId": "68cede76-764d-447d-8901-8ba674dc9019"
      },
      "outputs": [
        {
          "output_type": "stream",
          "name": "stdout",
          "text": [
            "Test sample image shape: torch.Size([1, 28, 28])\n",
            "Test sample label: 5 (Sandal)\n"
          ]
        }
      ],
      "source": [
        "import random  # Import the random module for random sampling\n",
        "\n",
        "random.seed(42)  # Set the random seed to ensure reproducibility of results\n",
        "\n",
        "test_samples = []  # Initialize an empty list to store selected test samples\n",
        "test_labels = []   # Initialize an empty list to store corresponding labels\n",
        "\n",
        "# Randomly select 9 (k=9) unique samples from the test_data\n",
        "for sample, label in random.sample(list(test_data), k=9):   # k=9 is a randomly selected number of samples from test dataset\n",
        "    test_samples.append(sample)  # Add the selected sample to the test_samples list\n",
        "    test_labels.append(label)    # Add the corresponding label to the test_labels list\n",
        "\n",
        "# Display the shape of the first test sample and its label with the class name\n",
        "print(\n",
        "    f\"Test sample image shape: {test_samples[0].shape}\\n\"\n",
        "    f\"Test sample label: {test_labels[0]} ({class_names[test_labels[0]]})\"\n",
        ")"
      ]
    },
    {
      "cell_type": "markdown",
      "metadata": {
        "id": "Cp6cFgiN8fUL"
      },
      "source": [
        "And now we can use our `make_predictions()` function to predict on `test_samples`."
      ]
    },
    {
      "cell_type": "code",
      "execution_count": 50,
      "metadata": {
        "colab": {
          "base_uri": "https://localhost:8080/"
        },
        "id": "oLoiZ6yd8fUM",
        "outputId": "697e6ed0-b287-4001-cb51-27d7a1fe1a31"
      },
      "outputs": [
        {
          "output_type": "execute_result",
          "data": {
            "text/plain": [
              "tensor([[8.1303e-07, 7.9265e-08, 4.1449e-08, 3.3541e-08, 9.6054e-09, 9.9989e-01,\n",
              "         1.1818e-06, 2.2627e-06, 3.1423e-05, 7.1863e-05],\n",
              "        [1.4934e-01, 6.0926e-01, 3.2524e-03, 1.8190e-01, 3.8729e-02, 3.0554e-05,\n",
              "         1.6591e-02, 3.2708e-04, 4.2868e-05, 5.3429e-04]])"
            ]
          },
          "metadata": {},
          "execution_count": 50
        }
      ],
      "source": [
        "# Make predictions on test samples with model 2\n",
        "pred_probs = make_predictions(model=model_2,\n",
        "                             data=test_samples)  # Invoke the make_predictions function using model_2 and the prepared test_samples\n",
        "\n",
        "# View first two prediction probabilities list\n",
        "pred_probs[:2]  # Retrieve and display the prediction probabilities for the first two test samples"
      ]
    },
    {
      "cell_type": "markdown",
      "metadata": {
        "id": "bE_Fu5Af8fUM"
      },
      "source": [
        "Excellent!\n",
        "\n",
        "And now we can go from prediction probabilities to prediction labels by taking the `torch.argmax()` of the output of the `torch.softmax()` activation function."
      ]
    },
    {
      "cell_type": "code",
      "execution_count": 51,
      "metadata": {
        "colab": {
          "base_uri": "https://localhost:8080/"
        },
        "id": "K4GVcz-y8fUM",
        "outputId": "858f94b9-e08d-4c38-def7-c9e96d6a8b48"
      },
      "outputs": [
        {
          "output_type": "execute_result",
          "data": {
            "text/plain": [
              "tensor([5, 1, 7, 4, 3, 0, 4, 7, 1])"
            ]
          },
          "metadata": {},
          "execution_count": 51
        }
      ],
      "source": [
        "# Turn the prediction probabilities into prediction labels by taking the argmax()\n",
        "pred_classes = pred_probs.argmax(dim=1)\n",
        "pred_classes"
      ]
    },
    {
      "cell_type": "code",
      "execution_count": 52,
      "metadata": {
        "colab": {
          "base_uri": "https://localhost:8080/"
        },
        "id": "BtkOsrPL8fUM",
        "outputId": "3e7d1517-8eb7-4420-a1fd-220b2b12831a"
      },
      "outputs": [
        {
          "output_type": "execute_result",
          "data": {
            "text/plain": [
              "([5, 1, 7, 4, 3, 0, 4, 7, 1], tensor([5, 1, 7, 4, 3, 0, 4, 7, 1]))"
            ]
          },
          "metadata": {},
          "execution_count": 52
        }
      ],
      "source": [
        "# Are our predictions in the same form as our test labels?\n",
        "test_labels, pred_classes"
      ]
    },
    {
      "cell_type": "markdown",
      "metadata": {
        "id": "YdRCkT_k8fUM"
      },
      "source": [
        "Now our predicted classes are in the same format as our test labels, we can compare.\n",
        "\n",
        "Since we're dealing with image data, let's stay true to the data explorer's motto.\n",
        "\n",
        "\"Visualize, visualize, visualize!\""
      ]
    },
    {
      "cell_type": "code",
      "execution_count": 53,
      "metadata": {
        "colab": {
          "base_uri": "https://localhost:8080/",
          "height": 749
        },
        "id": "YNFVVbiq8fUM",
        "outputId": "6b66a660-4e0e-42e6-e495-5e77d3060b3e"
      },
      "outputs": [
        {
          "output_type": "display_data",
          "data": {
            "text/plain": [
              "<Figure size 900x900 with 9 Axes>"
            ],
            "image/png": "[encoded data removed]"
          },
          "metadata": {}
        }
      ],
      "source": [
        "# Plot predictions\n",
        "plt.figure(figsize=(9, 9))  # Initialize a new figure with a specified size of 9x9 inches\n",
        "nrows = 3  # Define the number of rows in the subplot grid\n",
        "ncols = 3  # Define the number of columns in the subplot grid\n",
        "\n",
        "for i, sample in enumerate(test_samples):  # Iterate over each test sample with its index. i starts from 0\n",
        "    # Create a subplot in the grid at position i+1\n",
        "    plt.subplot(nrows, ncols, i + 1)    # i+1 because indexing starts from 0\n",
        "\n",
        "    # Plot the target image\n",
        "    plt.imshow(sample.squeeze(), cmap=\"gray\")  # Display the image after removing any singleton dimensions and use a grayscale colormap\n",
        "\n",
        "    # Find the prediction label (in text form, e.g., \"Sandal\")\n",
        "    pred_label = class_names[pred_classes[i]]  # Map the predicted class index to its corresponding class name\n",
        "\n",
        "    # Get the truth label (in text form, e.g., \"T-shirt\")\n",
        "    truth_label = class_names[test_labels[i]]  # Map the true class index to its corresponding class name\n",
        "\n",
        "    # Create the title text of the plot\n",
        "    title_text = f\"Pred: {pred_label} | Truth: {truth_label}\"  # Format the title to show both predicted and true labels\n",
        "\n",
        "    # Check for equality and change title color accordingly\n",
        "    if pred_label == truth_label:\n",
        "        plt.title(title_text, fontsize=10, c=\"g\")  # Set title with green color if prediction is correct\n",
        "    else:\n",
        "        plt.title(title_text, fontsize=10, c=\"r\")  # Set title with red color if prediction is incorrect\n",
        "\n",
        "    plt.axis(False)  # Hide the axis ticks and labels"
      ]
    },
    {
      "cell_type": "markdown",
      "metadata": {
        "id": "GT0Exj6L8fUM"
      },
      "source": [
        "Well, well, well, doesn't that look good!\n",
        "\n",
        "Not bad for a couple dozen lines of PyTorch code!"
      ]
    },
    {
      "cell_type": "markdown",
      "metadata": {
        "id": "3qvW06Nx8fUM"
      },
      "source": [
        "## 10. Making a confusion matrix for further prediction evaluation\n"
      ]
    },
    {
      "cell_type": "markdown",
      "metadata": {
        "id": "C2UE4il-8fUM"
      },
      "source": [
        "\n",
        "There are many [different evaluation metrics](https://www.learnpytorch.io/02_pytorch_classification/#9-more-classification-evaluation-metrics) we can use for classification problems.\n",
        "\n",
        "One of the most visual is a [confusion matrix](https://www.dataschool.io/simple-guide-to-confusion-matrix-terminology/).\n",
        "\n",
        "A confusion matrix shows you where your classification model got confused between predictions and true labels.\n",
        "\n",
        "To make a confusion matrix, we'll go through three steps:\n",
        "1. Make predictions with our trained model, `model_2` (a confusion matrix compares predictions to true labels).\n",
        "2. Make a confusion matrix using [`torchmetrics.ConfusionMatrix`](https://torchmetrics.readthedocs.io/en/latest/references/modules.html?highlight=confusion#confusionmatrix).\n",
        "3. Plot the confusion matrix using [`mlxtend.plotting.plot_confusion_matrix()`](http://rasbt.github.io/mlxtend/user_guide/plotting/plot_confusion_matrix/).\n",
        "\n",
        "Let's start by making predictions with our trained model."
      ]
    },
    {
      "cell_type": "markdown",
      "metadata": {
        "id": "Ng6BRCsQ8fUM"
      },
      "source": [
        "### 10.1 Making predictions"
      ]
    },
    {
      "cell_type": "code",
      "execution_count": 54,
      "metadata": {
        "colab": {
          "base_uri": "https://localhost:8080/",
          "height": 66,
          "referenced_widgets": [
            "32db1b84061e4e218634ba021bc81481",
            "73e63981596b4babbebd7e18759f57cb",
            "7f50a6150d1d49c2b657e0d91dced714",
            "a63770aefd0547c7a717546140bde484",
            "2327683466df4f16b277cae05c74b618",
            "789f27bf9746414898c1370936895de2",
            "e8f72070a6454b25b5f91c90d3cbff81",
            "18bdc9633a9e453fb83ec588128cc2ca",
            "aa7c0f5e9ddb4efdb12a95045bcdbac4",
            "e677df5a5eca4e708a1f68447335eead",
            "9a8103b05c824003bd1243df2a8b77fd"
          ]
        },
        "id": "z-OAdXKE8fUM",
        "outputId": "90203c40-1045-409d-8262-6ab055bd1980"
      },
      "outputs": [
        {
          "output_type": "display_data",
          "data": {
            "text/plain": [
              "Making predictions:   0%|          | 0/313 [00:00<?, ?it/s]"
            ],
            "application/vnd.jupyter.widget-view+json": {
              "version_major": 2,
              "version_minor": 0,
              "model_id": "32db1b84061e4e218634ba021bc81481"
            }
          },
          "metadata": {}
        },
        {
          "output_type": "execute_result",
          "data": {
            "text/plain": [
              "tensor([9, 2, 1, 1, 6, 1, 4, 6, 5, 7])"
            ]
          },
          "metadata": {},
          "execution_count": 54
        }
      ],
      "source": [
        "# Import tqdm for progress bar\n",
        "from tqdm.auto import tqdm  # tqdm.auto automatically selects the best progress bar format based on the environment\n",
        "\n",
        "# 1. Make predictions with trained model\n",
        "y_preds = []  # Initialize an empty list to store prediction results\n",
        "model_2.eval()  # Set the model to evaluation mode to disable dropout and other training-specific layers\n",
        "\n",
        "with torch.inference_mode():  # Disable gradient calculations for faster and memory-efficient inference\n",
        "    for X, y in tqdm(test_dataloader, desc=\"Making predictions\"):  # Iterate over the test dataloader with a progress bar\n",
        "        # Send data and targets to target device\n",
        "        X, y = X.to(device), y.to(device)  # Move input features X and labels y to the specified device (CPU or GPU)\n",
        "\n",
        "        # Do the forward pass\n",
        "        y_logit = model_2(X)  # Perform a forward pass through model_2 to obtain raw output logits\n",
        "\n",
        "        # Turn predictions from logits -> prediction probabilities -> predictions labels\n",
        "        y_pred = torch.softmax(y_logit, dim=1).argmax(dim=1)\n",
        "        # Apply softmax to convert logits to probabilities across the class dimension (dim=1)\n",
        "        # Then, use argmax to get the predicted class labels by selecting the index with the highest probability\n",
        "\n",
        "        # Put predictions on CPU for evaluation\n",
        "        y_preds.append(y_pred.cpu())  # Move the predicted labels to CPU and append them to the y_preds list\n",
        "\n",
        "# Concatenate list of predictions into a tensor\n",
        "y_pred_tensor = torch.cat(y_preds)  # Combine all prediction tensors in y_preds into a single tensor for further evaluation\n",
        "y_pred_tensor[:10]                  # Print the first 10 predicted labels"
      ]
    },
    {
      "cell_type": "markdown",
      "metadata": {
        "id": "x_DLDGhN8fUM"
      },
      "source": [
        "### 10.2 torchmetrics and mlxtend"
      ]
    },
    {
      "cell_type": "code",
      "execution_count": 55,
      "metadata": {
        "colab": {
          "base_uri": "https://localhost:8080/"
        },
        "id": "Vnsi69MN8fUM",
        "outputId": "e985e47c-951c-4cb8-b659-8cca183fb033"
      },
      "outputs": [
        {
          "output_type": "stream",
          "name": "stdout",
          "text": [
            "\u001b[?25l   \u001b[90m━━━━━━━━━━━━━━━━━━━━━━━━━━━━━━━━━━━━━━━━\u001b[0m \u001b[32m0.0/926.4 kB\u001b[0m \u001b[31m?\u001b[0m eta \u001b[36m-:--:--\u001b[0m\r\u001b[2K   \u001b[91m━━━━━━━━━━━━━━━━━━━━━━━━━━━━━━━\u001b[0m\u001b[90m╺\u001b[0m\u001b[90m━━━━━━━━\u001b[0m \u001b[32m727.0/926.4 kB\u001b[0m \u001b[31m23.3 MB/s\u001b[0m eta \u001b[36m0:00:01\u001b[0m\r\u001b[2K   \u001b[90m━━━━━━━━━━━━━━━━━━━━━━━━━━━━━━━━━━━━━━━━\u001b[0m \u001b[32m926.4/926.4 kB\u001b[0m \u001b[31m18.7 MB/s\u001b[0m eta \u001b[36m0:00:00\u001b[0m\n",
            "\u001b[?25hmlxtend version: 0.23.3\n"
          ]
        }
      ],
      "source": [
        "# See if torchmetrics exists, if not, install it\n",
        "try:\n",
        "    import torchmetrics, mlxtend  # Attempt to import the torchmetrics and mlxtend libraries\n",
        "    print(f\"mlxtend version: {mlxtend.__version__}\")  # Print the currently installed version of mlxtend\n",
        "    assert int(mlxtend.__version__.split(\".\")[1]) >= 19, \"mlxtend version should be 0.19.0 or higher\"\n",
        "    # Ensure that the minor version of mlxtend is at least 19 (i.e., version 0.19.0 or higher)\n",
        "except:\n",
        "    %pip install -q torchmetrics -U mlxtend  # Install or upgrade torchmetrics and mlxtend quietly\n",
        "    # Note: If you're using Google Colab, installing packages may require restarting the runtime\n",
        "    import torchmetrics, mlxtend  # Re-import torchmetrics and mlxtend after installation\n",
        "    print(f\"mlxtend version: {mlxtend.__version__}\")  # Print the updated version of mlxtend to confirm installation"
      ]
    },
    {
      "cell_type": "markdown",
      "metadata": {
        "id": "ughpA1DD8fUM"
      },
      "source": [
        "To plot the confusion matrix, we need to make sure we've got and [`mlxtend`](http://rasbt.github.io/mlxtend/) version of 0.19.0 or higher."
      ]
    },
    {
      "cell_type": "code",
      "execution_count": 56,
      "metadata": {
        "colab": {
          "base_uri": "https://localhost:8080/"
        },
        "id": "vYuQnxe78fUM",
        "outputId": "22b02c25-5cbf-4179-b2de-9c487676d37d"
      },
      "outputs": [
        {
          "output_type": "stream",
          "name": "stdout",
          "text": [
            "0.23.3\n"
          ]
        }
      ],
      "source": [
        "# Import mlxtend upgraded version. This code makes sure mlxtend is at least version 0.19.0\n",
        "import mlxtend\n",
        "print(mlxtend.__version__)\n",
        "assert int(mlxtend.__version__.split(\".\")[1]) >= 19 # should be version 0.19.0 or higher"
      ]
    },
    {
      "cell_type": "markdown",
      "metadata": {
        "id": "Nlaqjvvx8fUM"
      },
      "source": [
        "### 10.3 Confusion matrix"
      ]
    },
    {
      "cell_type": "markdown",
      "metadata": {
        "id": "2vjwAcfm8fUM"
      },
      "source": [
        "\n",
        "\n",
        "#### 1. How Does the `ConfusionMatrix` Instance Work?\n"
      ]
    },
    {
      "cell_type": "markdown",
      "metadata": {
        "id": "sRKlQI-F8fUM"
      },
      "source": [
        "\n",
        "- **Instance Behavior**:\n",
        "  - The `ConfusionMatrix` class from `torchmetrics` allows its instances to be callable because it implements a special method called `__call__`.\n",
        "  - When you write `confmat(preds=y_pred_tensor, target=test_data.targets)`, this internally invokes the `__call__` method of the `ConfusionMatrix` instance.\n",
        "\n",
        "- **Inputs to `__call__`**:\n",
        "  - `preds`: Predicted labels from your model.\n",
        "  - `target`: True labels from your dataset.\n",
        "  - The method processes these inputs to compute the confusion matrix.\n",
        "\n",
        "- **Documentation**:\n",
        "  - For more details, refer to the official [TorchMetrics ConfusionMatrix Documentation](https://torchmetrics.readthedocs.io/en/stable/classification/confusion_matrix.html), which explains the input arguments and functionality.\n"
      ]
    },
    {
      "cell_type": "markdown",
      "metadata": {
        "id": "cc6fICic8fUM"
      },
      "source": [
        "\n",
        "#### 2. Setting Up and Plotting the Confusion Matrix\n"
      ]
    },
    {
      "cell_type": "markdown",
      "metadata": {
        "id": "ypwyNnqJ8fUM"
      },
      "source": [
        "\n",
        "- **Imports**:\n",
        "  - `ConfusionMatrix` computes the confusion matrix for evaluating classification models.\n",
        "  - `plot_confusion_matrix` visualizes the confusion matrix.\n",
        "\n",
        "- **Steps**:\n",
        "  - A `ConfusionMatrix` instance is initialized with the number of classes (`num_classes`) and task type (`task='multiclass'`).\n",
        "  - The instance is called with `preds` and `target` to compute the confusion matrix tensor.\n",
        "  - The tensor is converted to a NumPy array and passed to `plot_confusion_matrix` for visualization.\n",
        "\n",
        "- **Documentation**:\n",
        "  - For more details, refer to the official [mlxtend `plot_confusion_matrix` Documentation](http://rasbt.github.io/mlxtend/user_guide/plotting/plot_confusion_matrix/)\n"
      ]
    },
    {
      "cell_type": "markdown",
      "metadata": {
        "id": "4oUIXl818fUM"
      },
      "source": [
        "\n",
        "#### 3. Importing and Verifying `mlxtend` Version\n"
      ]
    },
    {
      "cell_type": "markdown",
      "metadata": {
        "id": "jjH9ZVBC8fUM"
      },
      "source": [
        "\n",
        "- **Purpose**:\n",
        "  - Ensures compatibility with plotting features provided by `mlxtend`.\n",
        "  - The version is checked to ensure it is at least 0.19.0."
      ]
    },
    {
      "cell_type": "markdown",
      "metadata": {
        "id": "oKudEG7z8fUM"
      },
      "source": [
        "#### Code Implementation"
      ]
    },
    {
      "cell_type": "code",
      "execution_count": 57,
      "metadata": {
        "colab": {
          "base_uri": "https://localhost:8080/",
          "height": 667
        },
        "id": "nZUFaalo8fUM",
        "outputId": "68c884b8-602d-402b-cf74-429030549cc6"
      },
      "outputs": [
        {
          "output_type": "display_data",
          "data": {
            "text/plain": [
              "<Figure size 1000x700 with 1 Axes>"
            ],
            "image/png": "[encoded data removed]"
          },
          "metadata": {}
        }
      ],
      "source": [
        "from torchmetrics import ConfusionMatrix  # Import the ConfusionMatrix class from torchmetrics\n",
        "from mlxtend.plotting import plot_confusion_matrix  # Import the plot_confusion_matrix function from mlxtend.plotting\n",
        "\n",
        "# Setup confusion matrix instance and compare predictions to targets\n",
        "confmat = ConfusionMatrix(num_classes=len(class_names),  # Specify the number of classes\n",
        "                          task='multiclass')  # Indicate that this is a multiclass classification problem\n",
        "confmat_tensor = confmat(preds=y_pred_tensor,  # Compute the confusion matrix using predicted labels\n",
        "                         target=test_data.targets)  # Compare against true target labels\n",
        "\n",
        "# Plot the confusion matrix\n",
        "fig, ax = plot_confusion_matrix(conf_mat=confmat_tensor.numpy(),  # Convert the confusion matrix tensor to a NumPy array for compatibility\n",
        "                                class_names=class_names,          # Provide class names for labeling axes of the confusion matrix\n",
        "                                figsize=(10, 7))                  # Set the figure size to 10 inches by 7 inches for better visualization\n",
        "\n",
        ""
      ]
    },
    {
      "cell_type": "markdown",
      "metadata": {
        "id": "7dU29OYG8fUN"
      },
      "source": [
        "Woah! Doesn't that look good?\n",
        "\n",
        "We can see our model does fairly well since most of the dark squares are down the diagonal from top left to bottom right (and ideal model will have only values in these squares and 0 everywhere else).\n",
        "\n",
        "The model gets most \"confused\" on classes that are similar, for example predicting \"Pullover\" for images that are actually labelled \"Shirt\".\n",
        "\n",
        "And the same for predicting \"Shirt\" for classes that are actually labelled \"T-shirt/top\".\n",
        "\n",
        "This kind of information is often more helpful than a single accuracy metric because it tells use *where* a model is getting things wrong.\n",
        "\n",
        "It also hints at *why* the model may be getting certain things wrong.\n",
        "\n",
        "It's understandable the model sometimes predicts \"Shirt\" for images labelled \"T-shirt/top\".\n",
        "\n",
        "We can use this kind of information to further inspect our models and data to see how it could be improved.\n",
        "\n",
        "> **Exercise:** Use the trained `model_2` to make predictions on the test FashionMNIST dataset. Then plot some predictions where the model was wrong alongside what the label of the image should've been. After visualizing these predictions do you think it's more of a modelling error or a data error? As in, could the model do better or are the labels of the data too close to each other (e.g. a \"Shirt\" label is too close to \"T-shirt/top\")?"
      ]
    },
    {
      "cell_type": "markdown",
      "metadata": {
        "id": "DcEIukSU8fUN"
      },
      "source": [
        "## 11. Save and load best performing model\n"
      ]
    },
    {
      "cell_type": "markdown",
      "metadata": {
        "id": "AxBe9x9V8fUN"
      },
      "source": [
        "\n",
        "Let's finish this section off by saving and loading in our best performing model.\n",
        "\n",
        "Recall from [notebook 01](https://www.learnpytorch.io/01_pytorch_workflow/#5-saving-and-loading-a-pytorch-model) we can save and load a PyTorch model using a combination of:\n",
        "* `torch.save` - a function to save a whole PyTorch model or a model's `state_dict()`.\n",
        "* `torch.load` - a function to load in a saved PyTorch object.\n",
        "* `torch.nn.Module.load_state_dict()` - a function to load a saved `state_dict()` into an existing model instance.\n",
        "\n",
        "You can see more of these three in the [PyTorch saving and loading models documentation](https://pytorch.org/tutorials/beginner/saving_loading_models.html).\n",
        "\n",
        "For now, let's save our `model_2`'s `state_dict()` then load it back in and evaluate it to make sure the save and load went correctly."
      ]
    },
    {
      "cell_type": "code",
      "execution_count": 58,
      "metadata": {
        "colab": {
          "base_uri": "https://localhost:8080/"
        },
        "id": "FQZFc59L8fUN",
        "outputId": "a890a151-6740-4725-faf3-720232a8b6b2"
      },
      "outputs": [
        {
          "output_type": "stream",
          "name": "stdout",
          "text": [
            "Saving model to: models/03_pytorch_computer_vision_model_2.pth\n"
          ]
        }
      ],
      "source": [
        "from pathlib import Path  # Import Path class from pathlib for handling filesystem paths\n",
        "\n",
        "# Create models directory (if it doesn't already exist)\n",
        "# Reference: https://docs.python.org/3/library/pathlib.html#pathlib.Path.mkdir\n",
        "MODEL_PATH = Path(\"models\")  # Define the path for the models directory\n",
        "MODEL_PATH.mkdir(\n",
        "    parents=True,  # Create any necessary parent directories\n",
        "    exist_ok=True   # Do not raise an error if the directory already exists\n",
        ")\n",
        "\n",
        "# Define the name and full path for saving the model\n",
        "MODEL_NAME = \"03_pytorch_computer_vision_model_2.pth\"  # Name of the model file\n",
        "MODEL_SAVE_PATH = MODEL_PATH / MODEL_NAME  # Combine directory and filename to get full save path\n",
        "\n",
        "# Save the model's state dictionary to the specified path\n",
        "print(f\"Saving model to: {MODEL_SAVE_PATH}\")  # Inform the user where the model is being saved\n",
        "torch.save(\n",
        "    obj=model_2.state_dict(),  # Extract the state dictionary (learned parameters) from model_2\n",
        "    f=MODEL_SAVE_PATH           # Specify the file path where the state dictionary will be saved\n",
        ")"
      ]
    },
    {
      "cell_type": "markdown",
      "metadata": {
        "id": "ya-bU_Gy8fUN"
      },
      "source": [
        "Now we've got a saved model `state_dict()` we can load it back in using a combination of `load_state_dict()` and `torch.load()`.\n",
        "\n",
        "Since we're using `load_state_dict()`, we'll need to create a new instance of `FashionMNISTModelV2()` with the same input parameters as our saved model `state_dict()`."
      ]
    },
    {
      "cell_type": "code",
      "execution_count": 59,
      "metadata": {
        "colab": {
          "base_uri": "https://localhost:8080/"
        },
        "id": "bLZWYmCE8fUN",
        "outputId": "26985543-0d73-4d5a-c5cf-b6b7b8ec02fd"
      },
      "outputs": [
        {
          "output_type": "stream",
          "name": "stderr",
          "text": [
            "<ipython-input-59-01e1a5266d0e>:8: FutureWarning: You are using `torch.load` with `weights_only=False` (the current default value), which uses the default pickle module implicitly. It is possible to construct malicious pickle data which will execute arbitrary code during unpickling (See https://github.com/pytorch/pytorch/blob/main/SECURITY.md#untrusted-models for more details). In a future release, the default value for `weights_only` will be flipped to `True`. This limits the functions that could be executed during unpickling. Arbitrary objects will no longer be allowed to be loaded via this mode unless they are explicitly allowlisted by the user via `torch.serialization.add_safe_globals`. We recommend you start setting `weights_only=True` for any use case where you don't have full control of the loaded file. Please open an issue on GitHub for any issues related to this experimental feature.\n",
            "  loaded_model_2.load_state_dict(torch.load(f=MODEL_SAVE_PATH))\n"
          ]
        }
      ],
      "source": [
        "# Create a new instance of FashionMNISTModelV2 (the same class as our saved state_dict())\n",
        "# Note: loading model will error if the shapes here aren't the same as the saved version\n",
        "loaded_model_2 = FashionMNISTModelV2(input_shape=1,\n",
        "                                    hidden_units=10, # try changing this to 128 and seeing what happens\n",
        "                                    output_shape=10)\n",
        "\n",
        "# Load in the saved state_dict()\n",
        "loaded_model_2.load_state_dict(torch.load(f=MODEL_SAVE_PATH))\n",
        "\n",
        "# Send model to GPU\n",
        "loaded_model_2 = loaded_model_2.to(device)"
      ]
    },
    {
      "cell_type": "markdown",
      "metadata": {
        "id": "6-YVUUSh8fUN"
      },
      "source": [
        "And now we've got a loaded model we can evaluate it with `eval_model()` to make sure its parameters work similarly to `model_2` prior to saving."
      ]
    },
    {
      "cell_type": "code",
      "execution_count": 60,
      "metadata": {
        "colab": {
          "base_uri": "https://localhost:8080/"
        },
        "id": "5YTSnrd18fUN",
        "outputId": "481faea4-176f-4e42-c476-26a219d9039a"
      },
      "outputs": [
        {
          "output_type": "execute_result",
          "data": {
            "text/plain": [
              "{'model_name': 'FashionMNISTModelV2',\n",
              " 'model_loss': 0.31292983889579773,\n",
              " 'model_acc': 88.63817891373802}"
            ]
          },
          "metadata": {},
          "execution_count": 60
        }
      ],
      "source": [
        "# Evaluate loaded model\n",
        "torch.manual_seed(42)\n",
        "\n",
        "loaded_model_2_results = eval_model(\n",
        "    model=loaded_model_2,\n",
        "    data_loader=test_dataloader,\n",
        "    loss_fn=loss_fn,\n",
        "    accuracy_fn=accuracy_fn\n",
        ")\n",
        "\n",
        "loaded_model_2_results"
      ]
    },
    {
      "cell_type": "markdown",
      "metadata": {
        "id": "803pziRE8fUN"
      },
      "source": [
        "Do these results look the same as `model_2_results`?"
      ]
    },
    {
      "cell_type": "code",
      "execution_count": 61,
      "metadata": {
        "colab": {
          "base_uri": "https://localhost:8080/"
        },
        "id": "3CsS-fXg8fUN",
        "outputId": "c11d9cb3-cacd-472d-9f54-c0d3e09bafb0"
      },
      "outputs": [
        {
          "output_type": "execute_result",
          "data": {
            "text/plain": [
              "{'model_name': 'FashionMNISTModelV2',\n",
              " 'model_loss': 0.31292983889579773,\n",
              " 'model_acc': 88.63817891373802}"
            ]
          },
          "metadata": {},
          "execution_count": 61
        }
      ],
      "source": [
        "model_2_results"
      ]
    },
    {
      "cell_type": "markdown",
      "metadata": {
        "id": "Ri6ulqVn8fUN"
      },
      "source": [
        "We can find out if two tensors are close to each other using `torch.isclose()` and passing in a tolerance level of closeness via the parameters `atol` (absolute tolerance) and `rtol` (relative tolerance).\n",
        "\n",
        "If our model's results are close, the output of `torch.isclose()` should be true."
      ]
    },
    {
      "cell_type": "code",
      "execution_count": 62,
      "metadata": {
        "colab": {
          "base_uri": "https://localhost:8080/"
        },
        "id": "q65s6qC_8fUN",
        "outputId": "3831d5b2-d931-4e69-9f7d-61643f4842c1"
      },
      "outputs": [
        {
          "output_type": "execute_result",
          "data": {
            "text/plain": [
              "tensor(True)"
            ]
          },
          "metadata": {},
          "execution_count": 62
        }
      ],
      "source": [
        "# Check to see if results are close to each other (if they are very far away, there may be an error)\n",
        "torch.isclose(torch.tensor(model_2_results[\"model_loss\"]),\n",
        "              torch.tensor(loaded_model_2_results[\"model_loss\"]),\n",
        "              atol=1e-08, # absolute tolerance\n",
        "              rtol=0.0001) # relative tolerance"
      ]
    },
    {
      "cell_type": "markdown",
      "metadata": {
        "id": "rk7xg1Xa8fUN"
      },
      "source": [
        "## Exercises\n"
      ]
    },
    {
      "cell_type": "markdown",
      "metadata": {
        "id": "q79SoXM58fUN"
      },
      "source": [
        "\n",
        "All of the exercises are focused on practicing the code in the sections above.\n",
        "\n",
        "You should be able to complete them by referencing each section or by following the resource(s) linked.\n",
        "\n",
        "All exercises should be completed using [device-agnostic code](https://pytorch.org/docs/stable/notes/cuda.html#device-agnostic-code).\n",
        "\n",
        "**Resources:**\n",
        "* [Exercise template notebook for 03](https://github.com/mrdbourke/pytorch-deep-learning/blob/main/extras/exercises/03_pytorch_computer_vision_exercises.ipynb)\n",
        "* [Example solutions notebook for 03](https://github.com/mrdbourke/pytorch-deep-learning/blob/main/extras/solutions/03_pytorch_computer_vision_exercise_solutions.ipynb) (try the exercises *before* looking at this)\n",
        "\n",
        "1. What are 3 areas in industry where computer vision is currently being used?\n",
        "2. Search \"what is overfitting in machine learning\" and write down a sentence about what you find.\n",
        "3. Search \"ways to prevent overfitting in machine learning\", write down 3 of the things you find and a sentence about each. **Note:** there are lots of these, so don't worry too much about all of them, just pick 3 and start with those.\n",
        "4. Spend 20-minutes reading and clicking through the [CNN Explainer website](https://poloclub.github.io/cnn-explainer/).\n",
        "    * Upload your own example image using the \"upload\" button and see what happens in each layer of a CNN as your image passes through it.\n",
        "5. Load the [`torchvision.datasets.MNIST()`](https://pytorch.org/vision/stable/generated/torchvision.datasets.MNIST.html#torchvision.datasets.MNIST) train and test datasets.\n",
        "6. Visualize at least 5 different samples of the MNIST training dataset.\n",
        "7. Turn the MNIST train and test datasets into dataloaders using `torch.utils.data.DataLoader`, set the `batch_size=32`.\n",
        "8. Recreate `model_2` used in this notebook (the same model from the [CNN Explainer website](https://poloclub.github.io/cnn-explainer/), also known as TinyVGG) capable of fitting on the MNIST dataset.\n",
        "9. Train the model you built in exercise 8. on CPU and GPU and see how long it takes on each.\n",
        "10. Make predictions using your trained model and visualize at least 5 of them comparing the prediction to the target label.\n",
        "11. Plot a confusion matrix comparing your model's predictions to the truth labels.\n",
        "12. Create a random tensor of shape `[1, 3, 64, 64]` and pass it through a `nn.Conv2d()` layer with various hyperparameter settings (these can be any settings you choose), what do you notice if the `kernel_size` parameter goes up and down?\n",
        "13. Use a model similar to the trained `model_2` from this notebook to make predictions on the test [`torchvision.datasets.FashionMNIST`](https://pytorch.org/vision/main/generated/torchvision.datasets.FashionMNIST.html) dataset.\n",
        "    * Then plot some predictions where the model was wrong alongside what the label of the image should've been.\n",
        "    * After visualizing these predictions do you think it's more of a modelling error or a data error?\n",
        "    * As in, could the model do better or are the labels of the data too close to each other (e.g. a \"Shirt\" label is too close to \"T-shirt/top\")?\n",
        "\n",
        "## Extra-curriculum\n",
        "* **Watch:** [MIT's Introduction to Deep Computer Vision](https://www.youtube.com/watch?v=iaSUYvmCekI&list=PLtBw6njQRU-rwp5__7C0oIVt26ZgjG9NI&index=3) lecture. This will give you a great intuition behind convolutional neural networks.\n",
        "* Spend 10-minutes clicking through the different options of the [PyTorch vision library](https://pytorch.org/vision/stable/index.html), what different modules are available?\n",
        "* Lookup \"most common convolutional neural networks\", what architectures do you find? Are any of them contained within the [`torchvision.models`](https://pytorch.org/vision/stable/models.html) library? What do you think you could do with these?\n",
        "* For a large number of pretrained PyTorch computer vision models as well as many different extensions to PyTorch's computer vision functionalities check out the [PyTorch Image Models library `timm`](https://github.com/rwightman/pytorch-image-models/) (Torch Image Models) by Ross Wightman."
      ]
    }
  ],
  "metadata": {
    "kernelspec": {
      "display_name": "Python 3",
      "name": "python3"
    },
    "language_info": {
      "codemirror_mode": {
        "name": "ipython",
        "version": 3
      },
      "file_extension": ".py",
      "mimetype": "text/x-python",
      "name": "python",
      "nbconvert_exporter": "python",
      "pygments_lexer": "ipython3",
      "version": "3.12.6"
    },
    "colab": {
      "provenance": [],
      "gpuType": "T4",
      "include_colab_link": true
    },
    "accelerator": "GPU",
    "widgets": {
      "application/vnd.jupyter.widget-state+json": {
        "87f9c23c5cc0462097fae4365de26ed2": {
          "model_module": "@jupyter-widgets/controls",
          "model_name": "HBoxModel",
          "model_module_version": "1.5.0",
          "state": {
            "_dom_classes": [],
            "_model_module": "@jupyter-widgets/controls",
            "_model_module_version": "1.5.0",
            "_model_name": "HBoxModel",
            "_view_count": null,
            "_view_module": "@jupyter-widgets/controls",
            "_view_module_version": "1.5.0",
            "_view_name": "HBoxView",
            "box_style": "",
            "children": [
              "IPY_MODEL_f08f1421d4b84a44b86ee429fc1259a0",
              "IPY_MODEL_a6d1862ff3d242aaad2819ddc3e4a6b9",
              "IPY_MODEL_94db0d40b8294b7e9513dd65ca1d29f1"
            ],
            "layout": "IPY_MODEL_549a3d3188364ee98d57faf6585a7389"
          }
        },
        "f08f1421d4b84a44b86ee429fc1259a0": {
          "model_module": "@jupyter-widgets/controls",
          "model_name": "HTMLModel",
          "model_module_version": "1.5.0",
          "state": {
            "_dom_classes": [],
            "_model_module": "@jupyter-widgets/controls",
            "_model_module_version": "1.5.0",
            "_model_name": "HTMLModel",
            "_view_count": null,
            "_view_module": "@jupyter-widgets/controls",
            "_view_module_version": "1.5.0",
            "_view_name": "HTMLView",
            "description": "",
            "description_tooltip": null,
            "layout": "IPY_MODEL_afe33f448a004b12807976a181980d3d",
            "placeholder": "​",
            "style": "IPY_MODEL_d6b40b425b824b97bc90e7c8a19ddb7a",
            "value": "Epochs: 100%"
          }
        },
        "a6d1862ff3d242aaad2819ddc3e4a6b9": {
          "model_module": "@jupyter-widgets/controls",
          "model_name": "FloatProgressModel",
          "model_module_version": "1.5.0",
          "state": {
            "_dom_classes": [],
            "_model_module": "@jupyter-widgets/controls",
            "_model_module_version": "1.5.0",
            "_model_name": "FloatProgressModel",
            "_view_count": null,
            "_view_module": "@jupyter-widgets/controls",
            "_view_module_version": "1.5.0",
            "_view_name": "ProgressView",
            "bar_style": "success",
            "description": "",
            "description_tooltip": null,
            "layout": "IPY_MODEL_aa7b72b547614745bb206721e7728617",
            "max": 3,
            "min": 0,
            "orientation": "horizontal",
            "style": "IPY_MODEL_34415457a256458a819486efa8accbed",
            "value": 3
          }
        },
        "94db0d40b8294b7e9513dd65ca1d29f1": {
          "model_module": "@jupyter-widgets/controls",
          "model_name": "HTMLModel",
          "model_module_version": "1.5.0",
          "state": {
            "_dom_classes": [],
            "_model_module": "@jupyter-widgets/controls",
            "_model_module_version": "1.5.0",
            "_model_name": "HTMLModel",
            "_view_count": null,
            "_view_module": "@jupyter-widgets/controls",
            "_view_module_version": "1.5.0",
            "_view_name": "HTMLView",
            "description": "",
            "description_tooltip": null,
            "layout": "IPY_MODEL_b0b6ae6ab9074b1782d5e2eaac0984b2",
            "placeholder": "​",
            "style": "IPY_MODEL_43cf24a0b3334a6c8a8001ae2de37b09",
            "value": " 3/3 [00:27&lt;00:00,  9.20s/it]"
          }
        },
        "549a3d3188364ee98d57faf6585a7389": {
          "model_module": "@jupyter-widgets/base",
          "model_name": "LayoutModel",
          "model_module_version": "1.2.0",
          "state": {
            "_model_module": "@jupyter-widgets/base",
            "_model_module_version": "1.2.0",
            "_model_name": "LayoutModel",
            "_view_count": null,
            "_view_module": "@jupyter-widgets/base",
            "_view_module_version": "1.2.0",
            "_view_name": "LayoutView",
            "align_content": null,
            "align_items": null,
            "align_self": null,
            "border": null,
            "bottom": null,
            "display": null,
            "flex": null,
            "flex_flow": null,
            "grid_area": null,
            "grid_auto_columns": null,
            "grid_auto_flow": null,
            "grid_auto_rows": null,
            "grid_column": null,
            "grid_gap": null,
            "grid_row": null,
            "grid_template_areas": null,
            "grid_template_columns": null,
            "grid_template_rows": null,
            "height": null,
            "justify_content": null,
            "justify_items": null,
            "left": null,
            "margin": null,
            "max_height": null,
            "max_width": null,
            "min_height": null,
            "min_width": null,
            "object_fit": null,
            "object_position": null,
            "order": null,
            "overflow": null,
            "overflow_x": null,
            "overflow_y": null,
            "padding": null,
            "right": null,
            "top": null,
            "visibility": null,
            "width": null
          }
        },
        "afe33f448a004b12807976a181980d3d": {
          "model_module": "@jupyter-widgets/base",
          "model_name": "LayoutModel",
          "model_module_version": "1.2.0",
          "state": {
            "_model_module": "@jupyter-widgets/base",
            "_model_module_version": "1.2.0",
            "_model_name": "LayoutModel",
            "_view_count": null,
            "_view_module": "@jupyter-widgets/base",
            "_view_module_version": "1.2.0",
            "_view_name": "LayoutView",
            "align_content": null,
            "align_items": null,
            "align_self": null,
            "border": null,
            "bottom": null,
            "display": null,
            "flex": null,
            "flex_flow": null,
            "grid_area": null,
            "grid_auto_columns": null,
            "grid_auto_flow": null,
            "grid_auto_rows": null,
            "grid_column": null,
            "grid_gap": null,
            "grid_row": null,
            "grid_template_areas": null,
            "grid_template_columns": null,
            "grid_template_rows": null,
            "height": null,
            "justify_content": null,
            "justify_items": null,
            "left": null,
            "margin": null,
            "max_height": null,
            "max_width": null,
            "min_height": null,
            "min_width": null,
            "object_fit": null,
            "object_position": null,
            "order": null,
            "overflow": null,
            "overflow_x": null,
            "overflow_y": null,
            "padding": null,
            "right": null,
            "top": null,
            "visibility": null,
            "width": null
          }
        },
        "d6b40b425b824b97bc90e7c8a19ddb7a": {
          "model_module": "@jupyter-widgets/controls",
          "model_name": "DescriptionStyleModel",
          "model_module_version": "1.5.0",
          "state": {
            "_model_module": "@jupyter-widgets/controls",
            "_model_module_version": "1.5.0",
            "_model_name": "DescriptionStyleModel",
            "_view_count": null,
            "_view_module": "@jupyter-widgets/base",
            "_view_module_version": "1.2.0",
            "_view_name": "StyleView",
            "description_width": ""
          }
        },
        "aa7b72b547614745bb206721e7728617": {
          "model_module": "@jupyter-widgets/base",
          "model_name": "LayoutModel",
          "model_module_version": "1.2.0",
          "state": {
            "_model_module": "@jupyter-widgets/base",
            "_model_module_version": "1.2.0",
            "_model_name": "LayoutModel",
            "_view_count": null,
            "_view_module": "@jupyter-widgets/base",
            "_view_module_version": "1.2.0",
            "_view_name": "LayoutView",
            "align_content": null,
            "align_items": null,
            "align_self": null,
            "border": null,
            "bottom": null,
            "display": null,
            "flex": null,
            "flex_flow": null,
            "grid_area": null,
            "grid_auto_columns": null,
            "grid_auto_flow": null,
            "grid_auto_rows": null,
            "grid_column": null,
            "grid_gap": null,
            "grid_row": null,
            "grid_template_areas": null,
            "grid_template_columns": null,
            "grid_template_rows": null,
            "height": null,
            "justify_content": null,
            "justify_items": null,
            "left": null,
            "margin": null,
            "max_height": null,
            "max_width": null,
            "min_height": null,
            "min_width": null,
            "object_fit": null,
            "object_position": null,
            "order": null,
            "overflow": null,
            "overflow_x": null,
            "overflow_y": null,
            "padding": null,
            "right": null,
            "top": null,
            "visibility": null,
            "width": null
          }
        },
        "34415457a256458a819486efa8accbed": {
          "model_module": "@jupyter-widgets/controls",
          "model_name": "ProgressStyleModel",
          "model_module_version": "1.5.0",
          "state": {
            "_model_module": "@jupyter-widgets/controls",
            "_model_module_version": "1.5.0",
            "_model_name": "ProgressStyleModel",
            "_view_count": null,
            "_view_module": "@jupyter-widgets/base",
            "_view_module_version": "1.2.0",
            "_view_name": "StyleView",
            "bar_color": null,
            "description_width": ""
          }
        },
        "b0b6ae6ab9074b1782d5e2eaac0984b2": {
          "model_module": "@jupyter-widgets/base",
          "model_name": "LayoutModel",
          "model_module_version": "1.2.0",
          "state": {
            "_model_module": "@jupyter-widgets/base",
            "_model_module_version": "1.2.0",
            "_model_name": "LayoutModel",
            "_view_count": null,
            "_view_module": "@jupyter-widgets/base",
            "_view_module_version": "1.2.0",
            "_view_name": "LayoutView",
            "align_content": null,
            "align_items": null,
            "align_self": null,
            "border": null,
            "bottom": null,
            "display": null,
            "flex": null,
            "flex_flow": null,
            "grid_area": null,
            "grid_auto_columns": null,
            "grid_auto_flow": null,
            "grid_auto_rows": null,
            "grid_column": null,
            "grid_gap": null,
            "grid_row": null,
            "grid_template_areas": null,
            "grid_template_columns": null,
            "grid_template_rows": null,
            "height": null,
            "justify_content": null,
            "justify_items": null,
            "left": null,
            "margin": null,
            "max_height": null,
            "max_width": null,
            "min_height": null,
            "min_width": null,
            "object_fit": null,
            "object_position": null,
            "order": null,
            "overflow": null,
            "overflow_x": null,
            "overflow_y": null,
            "padding": null,
            "right": null,
            "top": null,
            "visibility": null,
            "width": null
          }
        },
        "43cf24a0b3334a6c8a8001ae2de37b09": {
          "model_module": "@jupyter-widgets/controls",
          "model_name": "DescriptionStyleModel",
          "model_module_version": "1.5.0",
          "state": {
            "_model_module": "@jupyter-widgets/controls",
            "_model_module_version": "1.5.0",
            "_model_name": "DescriptionStyleModel",
            "_view_count": null,
            "_view_module": "@jupyter-widgets/base",
            "_view_module_version": "1.2.0",
            "_view_name": "StyleView",
            "description_width": ""
          }
        },
        "1ffaa66bc057400486d70bc842ca88a0": {
          "model_module": "@jupyter-widgets/controls",
          "model_name": "HBoxModel",
          "model_module_version": "1.5.0",
          "state": {
            "_dom_classes": [],
            "_model_module": "@jupyter-widgets/controls",
            "_model_module_version": "1.5.0",
            "_model_name": "HBoxModel",
            "_view_count": null,
            "_view_module": "@jupyter-widgets/controls",
            "_view_module_version": "1.5.0",
            "_view_name": "HBoxView",
            "box_style": "",
            "children": [
              "IPY_MODEL_07f2e53ff753409d933310405fabe541",
              "IPY_MODEL_27bdc6862d92470fa95355ba78ed203a",
              "IPY_MODEL_5bf2ebae378f4f9594bf7627d3511caf"
            ],
            "layout": "IPY_MODEL_8cc1bde438bd4831a7afb163eec20db7"
          }
        },
        "07f2e53ff753409d933310405fabe541": {
          "model_module": "@jupyter-widgets/controls",
          "model_name": "HTMLModel",
          "model_module_version": "1.5.0",
          "state": {
            "_dom_classes": [],
            "_model_module": "@jupyter-widgets/controls",
            "_model_module_version": "1.5.0",
            "_model_name": "HTMLModel",
            "_view_count": null,
            "_view_module": "@jupyter-widgets/controls",
            "_view_module_version": "1.5.0",
            "_view_name": "HTMLView",
            "description": "",
            "description_tooltip": null,
            "layout": "IPY_MODEL_ab7381dcb147491791787f3f795c974f",
            "placeholder": "​",
            "style": "IPY_MODEL_d7f199600dcf45aa901e73340f1edd91",
            "value": "Training Epochs: 100%"
          }
        },
        "27bdc6862d92470fa95355ba78ed203a": {
          "model_module": "@jupyter-widgets/controls",
          "model_name": "FloatProgressModel",
          "model_module_version": "1.5.0",
          "state": {
            "_dom_classes": [],
            "_model_module": "@jupyter-widgets/controls",
            "_model_module_version": "1.5.0",
            "_model_name": "FloatProgressModel",
            "_view_count": null,
            "_view_module": "@jupyter-widgets/controls",
            "_view_module_version": "1.5.0",
            "_view_name": "ProgressView",
            "bar_style": "success",
            "description": "",
            "description_tooltip": null,
            "layout": "IPY_MODEL_ddaa91cfc62a4a62bab8c292bd68a490",
            "max": 3,
            "min": 0,
            "orientation": "horizontal",
            "style": "IPY_MODEL_49ce3ce1cf094a1bacfedad4e62c4d97",
            "value": 3
          }
        },
        "5bf2ebae378f4f9594bf7627d3511caf": {
          "model_module": "@jupyter-widgets/controls",
          "model_name": "HTMLModel",
          "model_module_version": "1.5.0",
          "state": {
            "_dom_classes": [],
            "_model_module": "@jupyter-widgets/controls",
            "_model_module_version": "1.5.0",
            "_model_name": "HTMLModel",
            "_view_count": null,
            "_view_module": "@jupyter-widgets/controls",
            "_view_module_version": "1.5.0",
            "_view_name": "HTMLView",
            "description": "",
            "description_tooltip": null,
            "layout": "IPY_MODEL_588397756cf846c0acbe716171ad5b61",
            "placeholder": "​",
            "style": "IPY_MODEL_98fe13f15b434c819f14e8542260cb3d",
            "value": " 3/3 [00:33&lt;00:00, 11.22s/it]"
          }
        },
        "8cc1bde438bd4831a7afb163eec20db7": {
          "model_module": "@jupyter-widgets/base",
          "model_name": "LayoutModel",
          "model_module_version": "1.2.0",
          "state": {
            "_model_module": "@jupyter-widgets/base",
            "_model_module_version": "1.2.0",
            "_model_name": "LayoutModel",
            "_view_count": null,
            "_view_module": "@jupyter-widgets/base",
            "_view_module_version": "1.2.0",
            "_view_name": "LayoutView",
            "align_content": null,
            "align_items": null,
            "align_self": null,
            "border": null,
            "bottom": null,
            "display": null,
            "flex": null,
            "flex_flow": null,
            "grid_area": null,
            "grid_auto_columns": null,
            "grid_auto_flow": null,
            "grid_auto_rows": null,
            "grid_column": null,
            "grid_gap": null,
            "grid_row": null,
            "grid_template_areas": null,
            "grid_template_columns": null,
            "grid_template_rows": null,
            "height": null,
            "justify_content": null,
            "justify_items": null,
            "left": null,
            "margin": null,
            "max_height": null,
            "max_width": null,
            "min_height": null,
            "min_width": null,
            "object_fit": null,
            "object_position": null,
            "order": null,
            "overflow": null,
            "overflow_x": null,
            "overflow_y": null,
            "padding": null,
            "right": null,
            "top": null,
            "visibility": null,
            "width": null
          }
        },
        "ab7381dcb147491791787f3f795c974f": {
          "model_module": "@jupyter-widgets/base",
          "model_name": "LayoutModel",
          "model_module_version": "1.2.0",
          "state": {
            "_model_module": "@jupyter-widgets/base",
            "_model_module_version": "1.2.0",
            "_model_name": "LayoutModel",
            "_view_count": null,
            "_view_module": "@jupyter-widgets/base",
            "_view_module_version": "1.2.0",
            "_view_name": "LayoutView",
            "align_content": null,
            "align_items": null,
            "align_self": null,
            "border": null,
            "bottom": null,
            "display": null,
            "flex": null,
            "flex_flow": null,
            "grid_area": null,
            "grid_auto_columns": null,
            "grid_auto_flow": null,
            "grid_auto_rows": null,
            "grid_column": null,
            "grid_gap": null,
            "grid_row": null,
            "grid_template_areas": null,
            "grid_template_columns": null,
            "grid_template_rows": null,
            "height": null,
            "justify_content": null,
            "justify_items": null,
            "left": null,
            "margin": null,
            "max_height": null,
            "max_width": null,
            "min_height": null,
            "min_width": null,
            "object_fit": null,
            "object_position": null,
            "order": null,
            "overflow": null,
            "overflow_x": null,
            "overflow_y": null,
            "padding": null,
            "right": null,
            "top": null,
            "visibility": null,
            "width": null
          }
        },
        "d7f199600dcf45aa901e73340f1edd91": {
          "model_module": "@jupyter-widgets/controls",
          "model_name": "DescriptionStyleModel",
          "model_module_version": "1.5.0",
          "state": {
            "_model_module": "@jupyter-widgets/controls",
            "_model_module_version": "1.5.0",
            "_model_name": "DescriptionStyleModel",
            "_view_count": null,
            "_view_module": "@jupyter-widgets/base",
            "_view_module_version": "1.2.0",
            "_view_name": "StyleView",
            "description_width": ""
          }
        },
        "ddaa91cfc62a4a62bab8c292bd68a490": {
          "model_module": "@jupyter-widgets/base",
          "model_name": "LayoutModel",
          "model_module_version": "1.2.0",
          "state": {
            "_model_module": "@jupyter-widgets/base",
            "_model_module_version": "1.2.0",
            "_model_name": "LayoutModel",
            "_view_count": null,
            "_view_module": "@jupyter-widgets/base",
            "_view_module_version": "1.2.0",
            "_view_name": "LayoutView",
            "align_content": null,
            "align_items": null,
            "align_self": null,
            "border": null,
            "bottom": null,
            "display": null,
            "flex": null,
            "flex_flow": null,
            "grid_area": null,
            "grid_auto_columns": null,
            "grid_auto_flow": null,
            "grid_auto_rows": null,
            "grid_column": null,
            "grid_gap": null,
            "grid_row": null,
            "grid_template_areas": null,
            "grid_template_columns": null,
            "grid_template_rows": null,
            "height": null,
            "justify_content": null,
            "justify_items": null,
            "left": null,
            "margin": null,
            "max_height": null,
            "max_width": null,
            "min_height": null,
            "min_width": null,
            "object_fit": null,
            "object_position": null,
            "order": null,
            "overflow": null,
            "overflow_x": null,
            "overflow_y": null,
            "padding": null,
            "right": null,
            "top": null,
            "visibility": null,
            "width": null
          }
        },
        "49ce3ce1cf094a1bacfedad4e62c4d97": {
          "model_module": "@jupyter-widgets/controls",
          "model_name": "ProgressStyleModel",
          "model_module_version": "1.5.0",
          "state": {
            "_model_module": "@jupyter-widgets/controls",
            "_model_module_version": "1.5.0",
            "_model_name": "ProgressStyleModel",
            "_view_count": null,
            "_view_module": "@jupyter-widgets/base",
            "_view_module_version": "1.2.0",
            "_view_name": "StyleView",
            "bar_color": null,
            "description_width": ""
          }
        },
        "588397756cf846c0acbe716171ad5b61": {
          "model_module": "@jupyter-widgets/base",
          "model_name": "LayoutModel",
          "model_module_version": "1.2.0",
          "state": {
            "_model_module": "@jupyter-widgets/base",
            "_model_module_version": "1.2.0",
            "_model_name": "LayoutModel",
            "_view_count": null,
            "_view_module": "@jupyter-widgets/base",
            "_view_module_version": "1.2.0",
            "_view_name": "LayoutView",
            "align_content": null,
            "align_items": null,
            "align_self": null,
            "border": null,
            "bottom": null,
            "display": null,
            "flex": null,
            "flex_flow": null,
            "grid_area": null,
            "grid_auto_columns": null,
            "grid_auto_flow": null,
            "grid_auto_rows": null,
            "grid_column": null,
            "grid_gap": null,
            "grid_row": null,
            "grid_template_areas": null,
            "grid_template_columns": null,
            "grid_template_rows": null,
            "height": null,
            "justify_content": null,
            "justify_items": null,
            "left": null,
            "margin": null,
            "max_height": null,
            "max_width": null,
            "min_height": null,
            "min_width": null,
            "object_fit": null,
            "object_position": null,
            "order": null,
            "overflow": null,
            "overflow_x": null,
            "overflow_y": null,
            "padding": null,
            "right": null,
            "top": null,
            "visibility": null,
            "width": null
          }
        },
        "98fe13f15b434c819f14e8542260cb3d": {
          "model_module": "@jupyter-widgets/controls",
          "model_name": "DescriptionStyleModel",
          "model_module_version": "1.5.0",
          "state": {
            "_model_module": "@jupyter-widgets/controls",
            "_model_module_version": "1.5.0",
            "_model_name": "DescriptionStyleModel",
            "_view_count": null,
            "_view_module": "@jupyter-widgets/base",
            "_view_module_version": "1.2.0",
            "_view_name": "StyleView",
            "description_width": ""
          }
        },
        "dc4f55a9fd4a4dfa849d905855608d8b": {
          "model_module": "@jupyter-widgets/controls",
          "model_name": "HBoxModel",
          "model_module_version": "1.5.0",
          "state": {
            "_dom_classes": [],
            "_model_module": "@jupyter-widgets/controls",
            "_model_module_version": "1.5.0",
            "_model_name": "HBoxModel",
            "_view_count": null,
            "_view_module": "@jupyter-widgets/controls",
            "_view_module_version": "1.5.0",
            "_view_name": "HBoxView",
            "box_style": "",
            "children": [
              "IPY_MODEL_f741bdfd8d79480a83860b6264e76deb",
              "IPY_MODEL_be23dd80ee8240ea871f4956960b9461",
              "IPY_MODEL_9ad8e6897f3c4cf285fdc0637e715b36"
            ],
            "layout": "IPY_MODEL_6daacc8d48334140a4bd5944f828a515"
          }
        },
        "f741bdfd8d79480a83860b6264e76deb": {
          "model_module": "@jupyter-widgets/controls",
          "model_name": "HTMLModel",
          "model_module_version": "1.5.0",
          "state": {
            "_dom_classes": [],
            "_model_module": "@jupyter-widgets/controls",
            "_model_module_version": "1.5.0",
            "_model_name": "HTMLModel",
            "_view_count": null,
            "_view_module": "@jupyter-widgets/controls",
            "_view_module_version": "1.5.0",
            "_view_name": "HTMLView",
            "description": "",
            "description_tooltip": null,
            "layout": "IPY_MODEL_d34482e6598e433fa04779c8b69920e3",
            "placeholder": "​",
            "style": "IPY_MODEL_6893d1c839e34fff9c471e5b82260d4b",
            "value": "100%"
          }
        },
        "be23dd80ee8240ea871f4956960b9461": {
          "model_module": "@jupyter-widgets/controls",
          "model_name": "FloatProgressModel",
          "model_module_version": "1.5.0",
          "state": {
            "_dom_classes": [],
            "_model_module": "@jupyter-widgets/controls",
            "_model_module_version": "1.5.0",
            "_model_name": "FloatProgressModel",
            "_view_count": null,
            "_view_module": "@jupyter-widgets/controls",
            "_view_module_version": "1.5.0",
            "_view_name": "ProgressView",
            "bar_style": "success",
            "description": "",
            "description_tooltip": null,
            "layout": "IPY_MODEL_80e80c739b4c4875a00bc5845026b960",
            "max": 3,
            "min": 0,
            "orientation": "horizontal",
            "style": "IPY_MODEL_04f624f7b381429eae976160008d28e3",
            "value": 3
          }
        },
        "9ad8e6897f3c4cf285fdc0637e715b36": {
          "model_module": "@jupyter-widgets/controls",
          "model_name": "HTMLModel",
          "model_module_version": "1.5.0",
          "state": {
            "_dom_classes": [],
            "_model_module": "@jupyter-widgets/controls",
            "_model_module_version": "1.5.0",
            "_model_name": "HTMLModel",
            "_view_count": null,
            "_view_module": "@jupyter-widgets/controls",
            "_view_module_version": "1.5.0",
            "_view_name": "HTMLView",
            "description": "",
            "description_tooltip": null,
            "layout": "IPY_MODEL_2827a62ca4e848168d4b91c79f2f00aa",
            "placeholder": "​",
            "style": "IPY_MODEL_3a99c2822bba457b94da64fe9c633c53",
            "value": " 3/3 [00:37&lt;00:00, 12.40s/it]"
          }
        },
        "6daacc8d48334140a4bd5944f828a515": {
          "model_module": "@jupyter-widgets/base",
          "model_name": "LayoutModel",
          "model_module_version": "1.2.0",
          "state": {
            "_model_module": "@jupyter-widgets/base",
            "_model_module_version": "1.2.0",
            "_model_name": "LayoutModel",
            "_view_count": null,
            "_view_module": "@jupyter-widgets/base",
            "_view_module_version": "1.2.0",
            "_view_name": "LayoutView",
            "align_content": null,
            "align_items": null,
            "align_self": null,
            "border": null,
            "bottom": null,
            "display": null,
            "flex": null,
            "flex_flow": null,
            "grid_area": null,
            "grid_auto_columns": null,
            "grid_auto_flow": null,
            "grid_auto_rows": null,
            "grid_column": null,
            "grid_gap": null,
            "grid_row": null,
            "grid_template_areas": null,
            "grid_template_columns": null,
            "grid_template_rows": null,
            "height": null,
            "justify_content": null,
            "justify_items": null,
            "left": null,
            "margin": null,
            "max_height": null,
            "max_width": null,
            "min_height": null,
            "min_width": null,
            "object_fit": null,
            "object_position": null,
            "order": null,
            "overflow": null,
            "overflow_x": null,
            "overflow_y": null,
            "padding": null,
            "right": null,
            "top": null,
            "visibility": null,
            "width": null
          }
        },
        "d34482e6598e433fa04779c8b69920e3": {
          "model_module": "@jupyter-widgets/base",
          "model_name": "LayoutModel",
          "model_module_version": "1.2.0",
          "state": {
            "_model_module": "@jupyter-widgets/base",
            "_model_module_version": "1.2.0",
            "_model_name": "LayoutModel",
            "_view_count": null,
            "_view_module": "@jupyter-widgets/base",
            "_view_module_version": "1.2.0",
            "_view_name": "LayoutView",
            "align_content": null,
            "align_items": null,
            "align_self": null,
            "border": null,
            "bottom": null,
            "display": null,
            "flex": null,
            "flex_flow": null,
            "grid_area": null,
            "grid_auto_columns": null,
            "grid_auto_flow": null,
            "grid_auto_rows": null,
            "grid_column": null,
            "grid_gap": null,
            "grid_row": null,
            "grid_template_areas": null,
            "grid_template_columns": null,
            "grid_template_rows": null,
            "height": null,
            "justify_content": null,
            "justify_items": null,
            "left": null,
            "margin": null,
            "max_height": null,
            "max_width": null,
            "min_height": null,
            "min_width": null,
            "object_fit": null,
            "object_position": null,
            "order": null,
            "overflow": null,
            "overflow_x": null,
            "overflow_y": null,
            "padding": null,
            "right": null,
            "top": null,
            "visibility": null,
            "width": null
          }
        },
        "6893d1c839e34fff9c471e5b82260d4b": {
          "model_module": "@jupyter-widgets/controls",
          "model_name": "DescriptionStyleModel",
          "model_module_version": "1.5.0",
          "state": {
            "_model_module": "@jupyter-widgets/controls",
            "_model_module_version": "1.5.0",
            "_model_name": "DescriptionStyleModel",
            "_view_count": null,
            "_view_module": "@jupyter-widgets/base",
            "_view_module_version": "1.2.0",
            "_view_name": "StyleView",
            "description_width": ""
          }
        },
        "80e80c739b4c4875a00bc5845026b960": {
          "model_module": "@jupyter-widgets/base",
          "model_name": "LayoutModel",
          "model_module_version": "1.2.0",
          "state": {
            "_model_module": "@jupyter-widgets/base",
            "_model_module_version": "1.2.0",
            "_model_name": "LayoutModel",
            "_view_count": null,
            "_view_module": "@jupyter-widgets/base",
            "_view_module_version": "1.2.0",
            "_view_name": "LayoutView",
            "align_content": null,
            "align_items": null,
            "align_self": null,
            "border": null,
            "bottom": null,
            "display": null,
            "flex": null,
            "flex_flow": null,
            "grid_area": null,
            "grid_auto_columns": null,
            "grid_auto_flow": null,
            "grid_auto_rows": null,
            "grid_column": null,
            "grid_gap": null,
            "grid_row": null,
            "grid_template_areas": null,
            "grid_template_columns": null,
            "grid_template_rows": null,
            "height": null,
            "justify_content": null,
            "justify_items": null,
            "left": null,
            "margin": null,
            "max_height": null,
            "max_width": null,
            "min_height": null,
            "min_width": null,
            "object_fit": null,
            "object_position": null,
            "order": null,
            "overflow": null,
            "overflow_x": null,
            "overflow_y": null,
            "padding": null,
            "right": null,
            "top": null,
            "visibility": null,
            "width": null
          }
        },
        "04f624f7b381429eae976160008d28e3": {
          "model_module": "@jupyter-widgets/controls",
          "model_name": "ProgressStyleModel",
          "model_module_version": "1.5.0",
          "state": {
            "_model_module": "@jupyter-widgets/controls",
            "_model_module_version": "1.5.0",
            "_model_name": "ProgressStyleModel",
            "_view_count": null,
            "_view_module": "@jupyter-widgets/base",
            "_view_module_version": "1.2.0",
            "_view_name": "StyleView",
            "bar_color": null,
            "description_width": ""
          }
        },
        "2827a62ca4e848168d4b91c79f2f00aa": {
          "model_module": "@jupyter-widgets/base",
          "model_name": "LayoutModel",
          "model_module_version": "1.2.0",
          "state": {
            "_model_module": "@jupyter-widgets/base",
            "_model_module_version": "1.2.0",
            "_model_name": "LayoutModel",
            "_view_count": null,
            "_view_module": "@jupyter-widgets/base",
            "_view_module_version": "1.2.0",
            "_view_name": "LayoutView",
            "align_content": null,
            "align_items": null,
            "align_self": null,
            "border": null,
            "bottom": null,
            "display": null,
            "flex": null,
            "flex_flow": null,
            "grid_area": null,
            "grid_auto_columns": null,
            "grid_auto_flow": null,
            "grid_auto_rows": null,
            "grid_column": null,
            "grid_gap": null,
            "grid_row": null,
            "grid_template_areas": null,
            "grid_template_columns": null,
            "grid_template_rows": null,
            "height": null,
            "justify_content": null,
            "justify_items": null,
            "left": null,
            "margin": null,
            "max_height": null,
            "max_width": null,
            "min_height": null,
            "min_width": null,
            "object_fit": null,
            "object_position": null,
            "order": null,
            "overflow": null,
            "overflow_x": null,
            "overflow_y": null,
            "padding": null,
            "right": null,
            "top": null,
            "visibility": null,
            "width": null
          }
        },
        "3a99c2822bba457b94da64fe9c633c53": {
          "model_module": "@jupyter-widgets/controls",
          "model_name": "DescriptionStyleModel",
          "model_module_version": "1.5.0",
          "state": {
            "_model_module": "@jupyter-widgets/controls",
            "_model_module_version": "1.5.0",
            "_model_name": "DescriptionStyleModel",
            "_view_count": null,
            "_view_module": "@jupyter-widgets/base",
            "_view_module_version": "1.2.0",
            "_view_name": "StyleView",
            "description_width": ""
          }
        },
        "32db1b84061e4e218634ba021bc81481": {
          "model_module": "@jupyter-widgets/controls",
          "model_name": "HBoxModel",
          "model_module_version": "1.5.0",
          "state": {
            "_dom_classes": [],
            "_model_module": "@jupyter-widgets/controls",
            "_model_module_version": "1.5.0",
            "_model_name": "HBoxModel",
            "_view_count": null,
            "_view_module": "@jupyter-widgets/controls",
            "_view_module_version": "1.5.0",
            "_view_name": "HBoxView",
            "box_style": "",
            "children": [
              "IPY_MODEL_73e63981596b4babbebd7e18759f57cb",
              "IPY_MODEL_7f50a6150d1d49c2b657e0d91dced714",
              "IPY_MODEL_a63770aefd0547c7a717546140bde484"
            ],
            "layout": "IPY_MODEL_2327683466df4f16b277cae05c74b618"
          }
        },
        "73e63981596b4babbebd7e18759f57cb": {
          "model_module": "@jupyter-widgets/controls",
          "model_name": "HTMLModel",
          "model_module_version": "1.5.0",
          "state": {
            "_dom_classes": [],
            "_model_module": "@jupyter-widgets/controls",
            "_model_module_version": "1.5.0",
            "_model_name": "HTMLModel",
            "_view_count": null,
            "_view_module": "@jupyter-widgets/controls",
            "_view_module_version": "1.5.0",
            "_view_name": "HTMLView",
            "description": "",
            "description_tooltip": null,
            "layout": "IPY_MODEL_789f27bf9746414898c1370936895de2",
            "placeholder": "​",
            "style": "IPY_MODEL_e8f72070a6454b25b5f91c90d3cbff81",
            "value": "Making predictions: 100%"
          }
        },
        "7f50a6150d1d49c2b657e0d91dced714": {
          "model_module": "@jupyter-widgets/controls",
          "model_name": "FloatProgressModel",
          "model_module_version": "1.5.0",
          "state": {
            "_dom_classes": [],
            "_model_module": "@jupyter-widgets/controls",
            "_model_module_version": "1.5.0",
            "_model_name": "FloatProgressModel",
            "_view_count": null,
            "_view_module": "@jupyter-widgets/controls",
            "_view_module_version": "1.5.0",
            "_view_name": "ProgressView",
            "bar_style": "success",
            "description": "",
            "description_tooltip": null,
            "layout": "IPY_MODEL_18bdc9633a9e453fb83ec588128cc2ca",
            "max": 313,
            "min": 0,
            "orientation": "horizontal",
            "style": "IPY_MODEL_aa7c0f5e9ddb4efdb12a95045bcdbac4",
            "value": 313
          }
        },
        "a63770aefd0547c7a717546140bde484": {
          "model_module": "@jupyter-widgets/controls",
          "model_name": "HTMLModel",
          "model_module_version": "1.5.0",
          "state": {
            "_dom_classes": [],
            "_model_module": "@jupyter-widgets/controls",
            "_model_module_version": "1.5.0",
            "_model_name": "HTMLModel",
            "_view_count": null,
            "_view_module": "@jupyter-widgets/controls",
            "_view_module_version": "1.5.0",
            "_view_name": "HTMLView",
            "description": "",
            "description_tooltip": null,
            "layout": "IPY_MODEL_e677df5a5eca4e708a1f68447335eead",
            "placeholder": "​",
            "style": "IPY_MODEL_9a8103b05c824003bd1243df2a8b77fd",
            "value": " 313/313 [00:01&lt;00:00, 239.51it/s]"
          }
        },
        "2327683466df4f16b277cae05c74b618": {
          "model_module": "@jupyter-widgets/base",
          "model_name": "LayoutModel",
          "model_module_version": "1.2.0",
          "state": {
            "_model_module": "@jupyter-widgets/base",
            "_model_module_version": "1.2.0",
            "_model_name": "LayoutModel",
            "_view_count": null,
            "_view_module": "@jupyter-widgets/base",
            "_view_module_version": "1.2.0",
            "_view_name": "LayoutView",
            "align_content": null,
            "align_items": null,
            "align_self": null,
            "border": null,
            "bottom": null,
            "display": null,
            "flex": null,
            "flex_flow": null,
            "grid_area": null,
            "grid_auto_columns": null,
            "grid_auto_flow": null,
            "grid_auto_rows": null,
            "grid_column": null,
            "grid_gap": null,
            "grid_row": null,
            "grid_template_areas": null,
            "grid_template_columns": null,
            "grid_template_rows": null,
            "height": null,
            "justify_content": null,
            "justify_items": null,
            "left": null,
            "margin": null,
            "max_height": null,
            "max_width": null,
            "min_height": null,
            "min_width": null,
            "object_fit": null,
            "object_position": null,
            "order": null,
            "overflow": null,
            "overflow_x": null,
            "overflow_y": null,
            "padding": null,
            "right": null,
            "top": null,
            "visibility": null,
            "width": null
          }
        },
        "789f27bf9746414898c1370936895de2": {
          "model_module": "@jupyter-widgets/base",
          "model_name": "LayoutModel",
          "model_module_version": "1.2.0",
          "state": {
            "_model_module": "@jupyter-widgets/base",
            "_model_module_version": "1.2.0",
            "_model_name": "LayoutModel",
            "_view_count": null,
            "_view_module": "@jupyter-widgets/base",
            "_view_module_version": "1.2.0",
            "_view_name": "LayoutView",
            "align_content": null,
            "align_items": null,
            "align_self": null,
            "border": null,
            "bottom": null,
            "display": null,
            "flex": null,
            "flex_flow": null,
            "grid_area": null,
            "grid_auto_columns": null,
            "grid_auto_flow": null,
            "grid_auto_rows": null,
            "grid_column": null,
            "grid_gap": null,
            "grid_row": null,
            "grid_template_areas": null,
            "grid_template_columns": null,
            "grid_template_rows": null,
            "height": null,
            "justify_content": null,
            "justify_items": null,
            "left": null,
            "margin": null,
            "max_height": null,
            "max_width": null,
            "min_height": null,
            "min_width": null,
            "object_fit": null,
            "object_position": null,
            "order": null,
            "overflow": null,
            "overflow_x": null,
            "overflow_y": null,
            "padding": null,
            "right": null,
            "top": null,
            "visibility": null,
            "width": null
          }
        },
        "e8f72070a6454b25b5f91c90d3cbff81": {
          "model_module": "@jupyter-widgets/controls",
          "model_name": "DescriptionStyleModel",
          "model_module_version": "1.5.0",
          "state": {
            "_model_module": "@jupyter-widgets/controls",
            "_model_module_version": "1.5.0",
            "_model_name": "DescriptionStyleModel",
            "_view_count": null,
            "_view_module": "@jupyter-widgets/base",
            "_view_module_version": "1.2.0",
            "_view_name": "StyleView",
            "description_width": ""
          }
        },
        "18bdc9633a9e453fb83ec588128cc2ca": {
          "model_module": "@jupyter-widgets/base",
          "model_name": "LayoutModel",
          "model_module_version": "1.2.0",
          "state": {
            "_model_module": "@jupyter-widgets/base",
            "_model_module_version": "1.2.0",
            "_model_name": "LayoutModel",
            "_view_count": null,
            "_view_module": "@jupyter-widgets/base",
            "_view_module_version": "1.2.0",
            "_view_name": "LayoutView",
            "align_content": null,
            "align_items": null,
            "align_self": null,
            "border": null,
            "bottom": null,
            "display": null,
            "flex": null,
            "flex_flow": null,
            "grid_area": null,
            "grid_auto_columns": null,
            "grid_auto_flow": null,
            "grid_auto_rows": null,
            "grid_column": null,
            "grid_gap": null,
            "grid_row": null,
            "grid_template_areas": null,
            "grid_template_columns": null,
            "grid_template_rows": null,
            "height": null,
            "justify_content": null,
            "justify_items": null,
            "left": null,
            "margin": null,
            "max_height": null,
            "max_width": null,
            "min_height": null,
            "min_width": null,
            "object_fit": null,
            "object_position": null,
            "order": null,
            "overflow": null,
            "overflow_x": null,
            "overflow_y": null,
            "padding": null,
            "right": null,
            "top": null,
            "visibility": null,
            "width": null
          }
        },
        "aa7c0f5e9ddb4efdb12a95045bcdbac4": {
          "model_module": "@jupyter-widgets/controls",
          "model_name": "ProgressStyleModel",
          "model_module_version": "1.5.0",
          "state": {
            "_model_module": "@jupyter-widgets/controls",
            "_model_module_version": "1.5.0",
            "_model_name": "ProgressStyleModel",
            "_view_count": null,
            "_view_module": "@jupyter-widgets/base",
            "_view_module_version": "1.2.0",
            "_view_name": "StyleView",
            "bar_color": null,
            "description_width": ""
          }
        },
        "e677df5a5eca4e708a1f68447335eead": {
          "model_module": "@jupyter-widgets/base",
          "model_name": "LayoutModel",
          "model_module_version": "1.2.0",
          "state": {
            "_model_module": "@jupyter-widgets/base",
            "_model_module_version": "1.2.0",
            "_model_name": "LayoutModel",
            "_view_count": null,
            "_view_module": "@jupyter-widgets/base",
            "_view_module_version": "1.2.0",
            "_view_name": "LayoutView",
            "align_content": null,
            "align_items": null,
            "align_self": null,
            "border": null,
            "bottom": null,
            "display": null,
            "flex": null,
            "flex_flow": null,
            "grid_area": null,
            "grid_auto_columns": null,
            "grid_auto_flow": null,
            "grid_auto_rows": null,
            "grid_column": null,
            "grid_gap": null,
            "grid_row": null,
            "grid_template_areas": null,
            "grid_template_columns": null,
            "grid_template_rows": null,
            "height": null,
            "justify_content": null,
            "justify_items": null,
            "left": null,
            "margin": null,
            "max_height": null,
            "max_width": null,
            "min_height": null,
            "min_width": null,
            "object_fit": null,
            "object_position": null,
            "order": null,
            "overflow": null,
            "overflow_x": null,
            "overflow_y": null,
            "padding": null,
            "right": null,
            "top": null,
            "visibility": null,
            "width": null
          }
        },
        "9a8103b05c824003bd1243df2a8b77fd": {
          "model_module": "@jupyter-widgets/controls",
          "model_name": "DescriptionStyleModel",
          "model_module_version": "1.5.0",
          "state": {
            "_model_module": "@jupyter-widgets/controls",
            "_model_module_version": "1.5.0",
            "_model_name": "DescriptionStyleModel",
            "_view_count": null,
            "_view_module": "@jupyter-widgets/base",
            "_view_module_version": "1.2.0",
            "_view_name": "StyleView",
            "description_width": ""
          }
        }
      }
    }
  },
  "nbformat": 4,
  "nbformat_minor": 0
}