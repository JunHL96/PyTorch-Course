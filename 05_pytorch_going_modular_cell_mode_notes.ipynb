{
  "cells": [
    {
      "cell_type": "markdown",
      "metadata": {
        "id": "dks8VZTD9ASh"
      },
      "source": [
        "<a href=\"https://colab.research.google.com/drive/1MZAZ5bNSVGJbnTHq5ZvM4jqwN8tsI7MV#scrollTo=FIZjNcO0pWY-\" target=\"_parent\"><img src=\"https://colab.research.google.com/assets/colab-badge.svg\" alt=\"Open In Colab\"/></a>"
      ]
    },
    {
      "cell_type": "markdown",
      "metadata": {
        "id": "6VEUZf5y9ASk"
      },
      "source": [
        "# 05. Going Modular: Part 1 (cell mode)\n"
      ]
    },
    {
      "cell_type": "markdown",
      "metadata": {
        "id": "NERgV7tx9ASk"
      },
      "source": [
        "\n",
        "This notebook is part 1/2 of section [05. Going Modular](https://www.learnpytorch.io/05_pytorch_going_modular/).\n",
        "\n",
        "For reference, the two parts are:\n",
        "1. [**05. Going Modular: Part 1 (cell mode)**](https://github.com/mrdbourke/pytorch-deep-learning/blob/main/going_modular/05_pytorch_going_modular_cell_mode.ipynb) - this notebook is run as a traditional Jupyter Notebook/Google Colab notebook and is a condensed version of [notebook 04](https://www.learnpytorch.io/04_pytorch_custom_datasets/).\n",
        "2. [**05. Going Modular: Part 2 (script mode)**](https://github.com/mrdbourke/pytorch-deep-learning/blob/main/going_modular/05_pytorch_going_modular_script_mode.ipynb) - this notebook is the same as number 1 but with added functionality to turn each of the major sections into Python scripts, such as, `data_setup.py` and `train.py`.\n",
        "\n",
        "Why two parts?\n",
        "\n",
        "Because sometimes the best way to learn something is to see how it *differs* from something else.\n",
        "\n",
        "If you run each notebook side-by-side you'll see how they differ and that's where the key learnings are."
      ]
    },
    {
      "cell_type": "markdown",
      "metadata": {
        "id": "dc8U_AzB9ASk"
      },
      "source": [
        "## What is cell mode?\n"
      ]
    },
    {
      "cell_type": "markdown",
      "metadata": {
        "id": "XCTyXuUu9ASl"
      },
      "source": [
        "\n",
        "A cell mode notebook is a regular notebook run exactly how we've been running them through the course.\n",
        "\n",
        "Some cells contain text and others contain code."
      ]
    },
    {
      "cell_type": "markdown",
      "metadata": {
        "id": "6M1Kog5U9ASl"
      },
      "source": [
        "## What's the difference between this notebook (Part 1) and the script mode notebook (Part 2)?\n"
      ]
    },
    {
      "cell_type": "markdown",
      "metadata": {
        "id": "2nkbz6rt9ASl"
      },
      "source": [
        "\n",
        "This notebook, 05. PyTorch Going Modular: Part 1 (cell mode), runs a cleaned up version of the most useful code from section [04. PyTorch Custom Datasets](https://www.learnpytorch.io/04_pytorch_custom_datasets/).\n",
        "\n",
        "Running this notebook end-to-end will result in recreating the image classification model we built in notebook 04 (TinyVGG) trained on images of pizza, steak and sushi.\n",
        "\n",
        "The main difference between this notebook (Part 1) and Part 2 is that each section in Part 2 (script mode) has an extra subsection (e.g. 2.1, 3.1, 4.1) for turning cell code into script code."
      ]
    },
    {
      "cell_type": "markdown",
      "metadata": {
        "id": "o194DZEc9ASl"
      },
      "source": [
        "## Where can you get help?\n"
      ]
    },
    {
      "cell_type": "markdown",
      "metadata": {
        "id": "BhJl6jBO9ASl"
      },
      "source": [
        "\n",
        "You can find the book version of this section [05. PyTorch Going Modular on learnpytorch.io](https://www.learnpytorch.io/05_pytorch_going_modular/).\n",
        "\n",
        "The rest of the materials for this course [are available on GitHub](https://github.com/mrdbourke/pytorch-deep-learning).\n",
        "\n",
        "If you run into trouble, you can ask a question on the course [GitHub Discussions page](https://github.com/mrdbourke/pytorch-deep-learning/discussions).\n",
        "\n",
        "And of course, there's the [PyTorch documentation](https://pytorch.org/docs/stable/index.html) and [PyTorch developer forums](https://discuss.pytorch.org/), a very helpful place for all things PyTorch."
      ]
    },
    {
      "cell_type": "markdown",
      "metadata": {
        "id": "NqCsAUzW9ASl"
      },
      "source": [
        "## 0. Running a notebook in cell mode\n"
      ]
    },
    {
      "cell_type": "markdown",
      "metadata": {
        "id": "-i8FIDzl9ASm"
      },
      "source": [
        "\n",
        "As discussed, we're going to be running this notebook normally.\n",
        "\n",
        "One cell at a time.\n",
        "\n",
        "The code is from notebook 04, however, it has been condensed down to its core functionality."
      ]
    },
    {
      "cell_type": "markdown",
      "metadata": {
        "id": "ADh-6tOm9ASm"
      },
      "source": [
        "## 1. Get data\n"
      ]
    },
    {
      "cell_type": "markdown",
      "metadata": {
        "id": "qKAMWKhw9ASm"
      },
      "source": [
        "\n",
        "We're going to start by downloading the same data we used in [notebook 04](https://www.learnpytorch.io/04_pytorch_custom_datasets/#1-get-data), the `pizza_steak_sushi` dataset with images of pizza, steak and sushi."
      ]
    },
    {
      "cell_type": "code",
      "execution_count": 1,
      "metadata": {
        "colab": {
          "base_uri": "https://localhost:8080/"
        },
        "id": "AuMvK4Q19ASm",
        "outputId": "81cfd173-0b4d-4623-a2a5-a82a76acbae8"
      },
      "outputs": [
        {
          "output_type": "stream",
          "name": "stdout",
          "text": [
            "Did not find data/pizza_steak_sushi directory, creating one...\n",
            "Downloading pizza, steak, sushi data...\n",
            "Unzipping pizza, steak, sushi data...\n"
          ]
        }
      ],
      "source": [
        "import os\n",
        "import zipfile\n",
        "\n",
        "from pathlib import Path\n",
        "\n",
        "import requests\n",
        "\n",
        "# Setup path to data folder\n",
        "data_path = Path(\"data/\")\n",
        "image_path = data_path / \"pizza_steak_sushi\"\n",
        "\n",
        "# If the image folder doesn't exist, download it and prepare it...\n",
        "if image_path.is_dir():\n",
        "    print(f\"{image_path} directory exists.\")\n",
        "else:\n",
        "    print(f\"Did not find {image_path} directory, creating one...\")\n",
        "    image_path.mkdir(parents=True, exist_ok=True)\n",
        "\n",
        "# Download pizza, steak, sushi data\n",
        "with open(data_path / \"pizza_steak_sushi.zip\", \"wb\") as f:\n",
        "    request = requests.get(\"https://github.com/mrdbourke/pytorch-deep-learning/raw/main/data/pizza_steak_sushi.zip\")\n",
        "    print(\"Downloading pizza, steak, sushi data...\")\n",
        "    f.write(request.content)\n",
        "\n",
        "# Unzip pizza, steak, sushi data\n",
        "with zipfile.ZipFile(data_path / \"pizza_steak_sushi.zip\", \"r\") as zip_ref:\n",
        "    print(\"Unzipping pizza, steak, sushi data...\")\n",
        "    zip_ref.extractall(image_path)\n",
        "\n",
        "# Remove zip file\n",
        "os.remove(data_path / \"pizza_steak_sushi.zip\")"
      ]
    },
    {
      "cell_type": "markdown",
      "metadata": {
        "id": "4OxUHz6H9ASn"
      },
      "source": [
        "#### Explanation of the Code\n"
      ]
    },
    {
      "cell_type": "markdown",
      "metadata": {
        "id": "u_Pn77ce9ASn"
      },
      "source": [
        "\n",
        "This Python script is designed to download and prepare a dataset of images (pizza, steak, and sushi) for use in a machine learning project. Below is a detailed breakdown of the code, including explanations of the key components.\n",
        "\n",
        "##### 1. **Importing Libraries**\n",
        "   - `os`: Provides functions for interacting with the operating system, such as file and directory manipulation.\n",
        "   - `zipfile`: Allows for reading and writing ZIP files.\n",
        "   - `Path` from `pathlib`: A module that provides an object-oriented interface for working with filesystem paths.\n",
        "   - `requests`: A library for making HTTP requests, used here to download the dataset.\n",
        "\n",
        "##### 2. **Setting Up the Data Path**\n",
        "   - `data_path = Path(\"data/\")`: Creates a `Path` object pointing to a directory named `data`. The `Path` class is used to handle filesystem paths in a more intuitive way compared to traditional string-based paths.\n",
        "   - `image_path = data_path / \"pizza_steak_sushi\"`: Combines the `data_path` with a subdirectory named `pizza_steak_sushi` to create a new `Path` object. This is where the dataset will be stored.\n",
        "\n",
        "##### 3. **Checking and Creating the Directory**\n",
        "   - `if image_path.is_dir():`: Checks if the `image_path` directory already exists.\n",
        "   - `image_path.mkdir(parents=True, exist_ok=True)`: If the directory does not exist, it creates it. The `parents=True` argument ensures that any necessary parent directories are also created, and `exist_ok=True` prevents an error if the directory already exists.\n",
        "\n",
        "##### 4. **Downloading the Dataset**\n",
        "   - `with open(data_path / \"pizza_steak_sushi.zip\", \"wb\") as f:`: Opens a file in write-binary mode (`\"wb\"`). The `with` statement ensures that the file is properly closed after the block of code is executed, even if an error occurs. The file is named `pizza_steak_sushi.zip` and is stored in the `data_path` directory.\n",
        "   - `request = requests.get(...)`: Sends an HTTP GET request to download the dataset from the specified URL.\n",
        "   - `f.write(request.content)`: Writes the content of the HTTP response (the downloaded data) to the file `f`.\n",
        "\n",
        "##### 5. **Unzipping the Dataset**\n",
        "   - `with zipfile.ZipFile(data_path / \"pizza_steak_sushi.zip\", \"r\") as zip_ref:`: Opens the ZIP file in read mode (`\"r\"`). The `with` statement ensures that the ZIP file is properly closed after the block of code is executed.\n",
        "   - `zip_ref.extractall(image_path)`: Extracts all the contents of the ZIP file to the `image_path` directory.\n",
        "\n",
        "##### 6. **Removing the ZIP File**\n",
        "   - `os.remove(data_path / \"pizza_steak_sushi.zip\")`: Deletes the ZIP file after its contents have been extracted, to save space.\n",
        "\n",
        "##### 7. **Key Concepts and Variables**\n",
        "   - **`Path`**: An object-oriented way to handle filesystem paths. It allows for easy manipulation of paths, such as joining them or checking if they exist.\n",
        "   - **`with open(...) as f:`**: A context manager that ensures the file is properly managed (opened and closed) within the block. The `as f` part assigns the file object to the variable `f`.\n",
        "   - **`\"wb\"`**: A file mode that stands for \"write binary\". It opens the file for writing in binary mode, which is necessary for writing non-text data like images or ZIP files.\n",
        "   - **`f.write(...)`**: A method of the file object `f` that writes data to the file. In this case, it writes the binary content of the downloaded dataset.\n",
        "   - **`zip_ref`**: A variable that holds the `ZipFile` object, which is used to interact with the ZIP file (e.g., extracting its contents).\n",
        "\n",
        "##### 8. **Other Common File Modes**\n",
        "   - **`\"r\"`**: Read mode (default). Opens the file for reading.\n",
        "   - **`\"w\"`**: Write mode. Opens the file for writing, overwriting the file if it exists.\n",
        "   - **`\"a\"`**: Append mode. Opens the file for writing, but appends to the end of the file if it exists.\n",
        "   - **`\"rb\"`**: Read binary mode. Opens the file for reading in binary mode.\n",
        "   - **`\"ab\"`**: Append binary mode. Opens the file for appending in binary mode.\n",
        "\n",
        "This script is a common pattern in data preparation workflows, where datasets are downloaded, extracted, and organized for further processing."
      ]
    },
    {
      "cell_type": "code",
      "execution_count": 2,
      "metadata": {
        "colab": {
          "base_uri": "https://localhost:8080/"
        },
        "id": "iTio8pk49ASn",
        "outputId": "d0b59ad1-1b92-48cc-acd2-80409b397254"
      },
      "outputs": [
        {
          "output_type": "execute_result",
          "data": {
            "text/plain": [
              "(PosixPath('data/pizza_steak_sushi/train'),\n",
              " PosixPath('data/pizza_steak_sushi/test'))"
            ]
          },
          "metadata": {},
          "execution_count": 2
        }
      ],
      "source": [
        "# Setup train and testing paths\n",
        "train_dir = image_path / \"train\"\n",
        "test_dir = image_path / \"test\"\n",
        "\n",
        "train_dir, test_dir"
      ]
    },
    {
      "cell_type": "markdown",
      "metadata": {
        "id": "UVAaiJJt9ASn"
      },
      "source": [
        "## 2. Create Datasets and DataLoaders\n"
      ]
    },
    {
      "cell_type": "markdown",
      "metadata": {
        "id": "dzC-y9WE9ASn"
      },
      "source": [
        "\n",
        "Now we'll turn the image dataset into PyTorch `Dataset`'s and `DataLoader`'s."
      ]
    },
    {
      "cell_type": "code",
      "execution_count": 3,
      "metadata": {
        "colab": {
          "base_uri": "https://localhost:8080/"
        },
        "id": "OaPONpaC9ASn",
        "outputId": "366ff688-8203-46b7-c39b-19ff73065788"
      },
      "outputs": [
        {
          "output_type": "stream",
          "name": "stdout",
          "text": [
            "Train data:\n",
            "Dataset ImageFolder\n",
            "    Number of datapoints: 225\n",
            "    Root location: data/pizza_steak_sushi/train\n",
            "    StandardTransform\n",
            "Transform: Compose(\n",
            "               Resize(size=(64, 64), interpolation=bilinear, max_size=None, antialias=True)\n",
            "               ToTensor()\n",
            "           )\n",
            "Test data:\n",
            "Dataset ImageFolder\n",
            "    Number of datapoints: 75\n",
            "    Root location: data/pizza_steak_sushi/test\n",
            "    StandardTransform\n",
            "Transform: Compose(\n",
            "               Resize(size=(64, 64), interpolation=bilinear, max_size=None, antialias=True)\n",
            "               ToTensor()\n",
            "           )\n"
          ]
        }
      ],
      "source": [
        "from torchvision import datasets, transforms\n",
        "\n",
        "# Create simple transform\n",
        "data_transform = transforms.Compose([\n",
        "    transforms.Resize((64, 64)),\n",
        "    transforms.ToTensor(),\n",
        "])\n",
        "\n",
        "# Use ImageFolder to create dataset(s)\n",
        "train_data = datasets.ImageFolder(root=train_dir, # target folder of images\n",
        "                                  transform=data_transform, # transforms to perform on data (images)\n",
        "                                  target_transform=None) # transforms to perform on labels (if necessary)\n",
        "\n",
        "test_data = datasets.ImageFolder(root=test_dir,\n",
        "                                 transform=data_transform)\n",
        "\n",
        "print(f\"Train data:\\n{train_data}\\nTest data:\\n{test_data}\")"
      ]
    },
    {
      "cell_type": "markdown",
      "metadata": {
        "id": "4djDzFy89ASo"
      },
      "source": [
        "#### Explanation of `transforms.Compose` and `transforms.Resize`\n"
      ]
    },
    {
      "cell_type": "markdown",
      "metadata": {
        "id": "RMEmZknX9ASo"
      },
      "source": [
        "\n",
        "In PyTorch, the `torchvision.transforms` module provides a variety of image transformations that can be applied to datasets. These transformations are often used to preprocess images before feeding them into a neural network. The `transforms.Compose` function is a key part of this process.\n",
        "\n",
        "##### 1. **`transforms.Compose`**:\n",
        "   - **Purpose**: `transforms.Compose` is used to chain multiple image transformations together. It takes a list of transformations and applies them sequentially to the input image.\n",
        "   - **Usage**: You pass a list of transformations to `transforms.Compose`, and it returns a single callable object that applies all the transformations in the specified order.\n",
        "\n",
        "   ```python\n",
        "   data_transform = transforms.Compose([\n",
        "       transforms.Resize((64, 64)),\n",
        "       transforms.ToTensor(),\n",
        "   ])\n",
        "   ```\n",
        "\n",
        "   In this example, `data_transform` is a callable object that first resizes the image to 64x64 pixels and then converts it to a PyTorch tensor.\n",
        "\n",
        "##### 2. **`transforms.Resize`**:\n",
        "   - **Purpose**: `transforms.Resize` is used to resize an image to a specified size. This is often necessary because neural networks typically expect input images of a fixed size.\n",
        "   - **Usage**: You specify the desired size as a tuple (height, width). The image will be resized to this size.\n",
        "\n",
        "   ```python\n",
        "   transforms.Resize((64, 64))\n",
        "   ```\n",
        "\n",
        "   This transformation resizes the image to 64x64 pixels.\n",
        "\n",
        "##### 3. **Why `Resize` is Inside `Compose`**:\n",
        "   - **Sequential Application**: By placing `transforms.Resize` inside `transforms.Compose`, you ensure that the resizing operation is applied first, followed by any other transformations specified in the list.\n",
        "   - **Modularity and Reusability**: Using `Compose` allows you to define a sequence of transformations once and reuse it across different datasets or data loaders. This makes your code more modular and easier to maintain.\n",
        "\n",
        "##### 4. **Example Workflow**:\n",
        "   - **Step 1**: Define the transformations using `transforms.Compose`.\n",
        "     ```python\n",
        "     data_transform = transforms.Compose([\n",
        "         transforms.Resize((64, 64)),\n",
        "         transforms.ToTensor(),\n",
        "     ])\n",
        "     ```\n",
        "   - **Step 2**: Apply these transformations to your dataset using `datasets.ImageFolder`.\n",
        "     ```python\n",
        "     train_data = datasets.ImageFolder(root=train_dir, transform=data_transform)\n",
        "     test_data = datasets.ImageFolder(root=test_dir, transform=data_transform)\n",
        "     ```\n",
        "   - **Step 3**: When you access an image from `train_data` or `test_data`, the transformations defined in `data_transform` will be applied automatically.\n",
        "\n",
        "##### 5. **Other Common Transformations**:\n",
        "   - **`transforms.ToTensor()`**: Converts a PIL image or NumPy array to a PyTorch tensor. It also scales the pixel values to the range [0, 1].\n",
        "   - **`transforms.Normalize(mean, std)`**: Normalizes a tensor image with mean and standard deviation.\n",
        "   - **`transforms.RandomHorizontalFlip()`**: Randomly flips the image horizontally.\n",
        "   - **`transforms.RandomRotation(degrees)`**: Randomly rotates the image by a specified number of degrees.\n",
        "\n"
      ]
    },
    {
      "cell_type": "markdown",
      "metadata": {
        "id": "VNwLf9ed9ASo"
      },
      "source": [
        "## 2. Create Datasets and DataLoaders\n"
      ]
    },
    {
      "cell_type": "markdown",
      "metadata": {
        "id": "z6YEIMq69ASo"
      },
      "source": [
        "\n",
        "Now we'll turn the image dataset into PyTorch `Dataset`'s and `DataLoader`'s."
      ]
    },
    {
      "cell_type": "code",
      "execution_count": 4,
      "metadata": {
        "colab": {
          "base_uri": "https://localhost:8080/"
        },
        "id": "q5XtAN939ASo",
        "outputId": "2d903edb-1281-4272-88a9-2097b410d6f0"
      },
      "outputs": [
        {
          "output_type": "stream",
          "name": "stdout",
          "text": [
            "Train data:\n",
            "Dataset ImageFolder\n",
            "    Number of datapoints: 225\n",
            "    Root location: data/pizza_steak_sushi/train\n",
            "    StandardTransform\n",
            "Transform: Compose(\n",
            "               Resize(size=(64, 64), interpolation=bilinear, max_size=None, antialias=True)\n",
            "               ToTensor()\n",
            "           )\n",
            "Test data:\n",
            "Dataset ImageFolder\n",
            "    Number of datapoints: 75\n",
            "    Root location: data/pizza_steak_sushi/test\n",
            "    StandardTransform\n",
            "Transform: Compose(\n",
            "               Resize(size=(64, 64), interpolation=bilinear, max_size=None, antialias=True)\n",
            "               ToTensor()\n",
            "           )\n"
          ]
        }
      ],
      "source": [
        "from torchvision import datasets, transforms\n",
        "\n",
        "# Create simple transform\n",
        "data_transform = transforms.Compose([\n",
        "    transforms.Resize((64, 64)),\n",
        "    transforms.ToTensor(),\n",
        "])\n",
        "\n",
        "# Use ImageFolder to create dataset(s)\n",
        "train_data = datasets.ImageFolder(root=train_dir, # target folder of images\n",
        "                                  transform=data_transform, # transforms to perform on data (images)\n",
        "                                  target_transform=None) # transforms to perform on labels (if necessary)\n",
        "\n",
        "test_data = datasets.ImageFolder(root=test_dir,\n",
        "                                 transform=data_transform)\n",
        "\n",
        "print(f\"Train data:\\n{train_data}\\nTest data:\\n{test_data}\")"
      ]
    },
    {
      "cell_type": "markdown",
      "metadata": {
        "id": "Pwl355eh9ASo"
      },
      "source": [
        "\n",
        "\n",
        "`datasets.ImageFolder` is a utility provided by PyTorch's `torchvision.datasets` module that simplifies the process of loading image datasets stored in a folder structure. It is particularly useful when your dataset is organized such that each class of images is stored in its own subdirectory. Here’s a slightly more detailed summary of what it does:\n",
        "\n",
        "1. **Folder Structure**:\n",
        "   - The dataset should be organized with each subdirectory representing a class, and the images for that class stored within that subdirectory. For example:\n",
        "     ```\n",
        "     train_dir/\n",
        "     ├── class1/\n",
        "     │   ├── img1.jpg\n",
        "     │   ├── img2.jpg\n",
        "     │   └── ...\n",
        "     ├── class2/\n",
        "     │   ├── img1.jpg\n",
        "     │   ├── img2.jpg\n",
        "     │   └── ...\n",
        "     └── ...\n",
        "     ```\n",
        "\n",
        "2. **Automatic Labeling**:\n",
        "   - `ImageFolder` automatically assigns labels to the images based on the subdirectory they are in. For instance, images in `class1/` will be labeled as `0`, images in `class2/` will be labeled as `1`, and so on. This makes it easy to handle datasets with multiple classes.\n",
        "\n",
        "3. **Transformations**:\n",
        "   - You can specify a `transform` parameter to apply a series of transformations (e.g., resizing, converting to tensor) to each image as it is loaded. This ensures that the images are preprocessed consistently before being fed into a model.\n",
        "   - Optionally, you can specify a `target_transform` to apply transformations to the labels, though this is less commonly used.\n",
        "\n",
        "4. **Usage**:\n",
        "   - To create a dataset, you simply provide the root directory of your dataset and the desired transformations. For example:\n",
        "     ```python\n",
        "     train_data = datasets.ImageFolder(root=train_dir, transform=data_transform)\n",
        "     ```\n",
        "\n",
        "5. **Accessing Data**:\n",
        "   - Once the dataset is created, you can access individual images and their labels using indexing. For example:\n",
        "     ```python\n",
        "     image, label = train_data[0]  # Get the first image and its label\n",
        "     ```\n",
        "\n",
        "6. **Dataset Information**:\n",
        "   - The `print` statement in the original code displays information about the datasets, such as the number of classes and the total number of images. This helps you verify that the dataset has been loaded correctly.\n",
        "\n"
      ]
    },
    {
      "cell_type": "code",
      "execution_count": 5,
      "metadata": {
        "colab": {
          "base_uri": "https://localhost:8080/"
        },
        "id": "nqzcjefC9ASo",
        "outputId": "ce726d90-a730-4bf9-cc86-1bd30b19b315"
      },
      "outputs": [
        {
          "output_type": "execute_result",
          "data": {
            "text/plain": [
              "['pizza', 'steak', 'sushi']"
            ]
          },
          "metadata": {},
          "execution_count": 5
        }
      ],
      "source": [
        "# Get class names as a list\n",
        "class_names = train_data.classes\n",
        "class_names"
      ]
    },
    {
      "cell_type": "code",
      "execution_count": 6,
      "metadata": {
        "colab": {
          "base_uri": "https://localhost:8080/"
        },
        "id": "3k8aDXEq9ASo",
        "outputId": "0631fe05-f3ed-4a5b-b7ba-8cf3fcd6d1af"
      },
      "outputs": [
        {
          "output_type": "execute_result",
          "data": {
            "text/plain": [
              "{'pizza': 0, 'steak': 1, 'sushi': 2}"
            ]
          },
          "metadata": {},
          "execution_count": 6
        }
      ],
      "source": [
        "# Can also get class names as a dict\n",
        "class_dict = train_data.class_to_idx\n",
        "class_dict"
      ]
    },
    {
      "cell_type": "code",
      "execution_count": 7,
      "metadata": {
        "colab": {
          "base_uri": "https://localhost:8080/"
        },
        "id": "EIjaZ_FO9ASo",
        "outputId": "b743d38d-6e38-4036-ed3e-7e60166be4c0"
      },
      "outputs": [
        {
          "output_type": "execute_result",
          "data": {
            "text/plain": [
              "(225, 75)"
            ]
          },
          "metadata": {},
          "execution_count": 7
        }
      ],
      "source": [
        "# Check the lengths\n",
        "len(train_data), len(test_data)"
      ]
    },
    {
      "cell_type": "code",
      "execution_count": 8,
      "metadata": {
        "colab": {
          "base_uri": "https://localhost:8080/"
        },
        "id": "rZj_fueW9ASp",
        "outputId": "efeb95d7-7ad2-498f-fde6-b8757f6f303f"
      },
      "outputs": [
        {
          "output_type": "execute_result",
          "data": {
            "text/plain": [
              "(<torch.utils.data.dataloader.DataLoader at 0x7a381618a010>,\n",
              " <torch.utils.data.dataloader.DataLoader at 0x7a381617ab90>)"
            ]
          },
          "metadata": {},
          "execution_count": 8
        }
      ],
      "source": [
        "# Turn train and test Datasets into DataLoaders\n",
        "from torch.utils.data import DataLoader\n",
        "train_dataloader = DataLoader(dataset=train_data,\n",
        "                              batch_size=1, # how many samples per batch?\n",
        "                              num_workers=1, # how many subprocesses to use for data loading? (higher = more)\n",
        "                              shuffle=True) # shuffle the data?\n",
        "\n",
        "test_dataloader = DataLoader(dataset=test_data,\n",
        "                             batch_size=1,\n",
        "                             num_workers=1,\n",
        "                             shuffle=False) # don't usually need to shuffle testing data\n",
        "\n",
        "train_dataloader, test_dataloader"
      ]
    },
    {
      "cell_type": "markdown",
      "metadata": {
        "id": "EOSmqmeH9ASp"
      },
      "source": [
        "\n",
        "`DataLoader` in PyTorch is used to efficiently load and iterate over datasets, especially when training machine learning models. Here’s a concise summary of why datasets are turned into `DataLoader`s:\n",
        "\n",
        "1. **Batching**:\n",
        "   - `DataLoader` allows you to specify a `batch_size`, which groups multiple samples (e.g., images) into batches. This is essential for training models, as most models process data in batches rather than one sample at a time.\n",
        "\n",
        "2. **Shuffling**:\n",
        "   - For training data, shuffling (`shuffle=True`) is important to ensure that the model does not learn the order of the data, which can lead to overfitting or poor generalization.\n",
        "\n",
        "3. **Parallel Loading**:\n",
        "   - The `num_workers` parameter allows you to load data in parallel using multiple subprocesses, speeding up data loading and reducing bottlenecks during training.\n",
        "\n",
        "4. **Iteration**:\n",
        "   - `DataLoader` provides an easy way to iterate over the dataset in batches, making it straightforward to feed data into a model during training or evaluation.\n",
        "\n",
        "5. **Testing Data**:\n",
        "   - For testing data, shuffling is typically not needed (`shuffle=False`), as the order of evaluation does not affect the model's performance.\n",
        "\n"
      ]
    },
    {
      "cell_type": "code",
      "execution_count": 9,
      "metadata": {
        "colab": {
          "base_uri": "https://localhost:8080/"
        },
        "id": "PCwaHgMX9ASp",
        "outputId": "f6c07f08-565c-4be3-8b67-141c7ce7b573"
      },
      "outputs": [
        {
          "output_type": "stream",
          "name": "stdout",
          "text": [
            "Image shape: torch.Size([1, 3, 64, 64]) -> [batch_size, color_channels, height, width]\n",
            "Label shape: torch.Size([1])\n"
          ]
        }
      ],
      "source": [
        "# Check out single image size/shape\n",
        "img, label = next(iter(train_dataloader))\n",
        "\n",
        "# Batch size will now be 1, try changing the batch_size parameter above and see what happens\n",
        "print(f\"Image shape: {img.shape} -> [batch_size, color_channels, height, width]\")\n",
        "print(f\"Label shape: {label.shape}\")"
      ]
    },
    {
      "cell_type": "markdown",
      "metadata": {
        "id": "SeRuVvH19ASp"
      },
      "source": [
        "## 3. Making a model (TinyVGG)\n"
      ]
    },
    {
      "cell_type": "markdown",
      "metadata": {
        "id": "mkBFuyoG9ASp"
      },
      "source": [
        "\n",
        "We're going to use the same model we used in notebook 04: TinyVGG from the CNN Explainer website.\n",
        "\n",
        "The only change here from notebook 04 is that a docstring has been added using [Google's Style Guide for Python](https://google.github.io/styleguide/pyguide.html#384-classes)."
      ]
    },
    {
      "cell_type": "code",
      "execution_count": 10,
      "metadata": {
        "id": "IZkGEm529ASp"
      },
      "outputs": [],
      "source": [
        "import torch\n",
        "\n",
        "from torch import nn\n",
        "\n",
        "class TinyVGG(nn.Module):\n",
        "  \"\"\"Creates the TinyVGG architecture.\n",
        "\n",
        "  Replicates the TinyVGG architecture from the CNN explainer website in PyTorch.\n",
        "  See the original architecture here: https://poloclub.github.io/cnn-explainer/\n",
        "\n",
        "  Args:\n",
        "    input_shape: An integer indicating number of input channels.\n",
        "    hidden_units: An integer indicating number of hidden units between layers.\n",
        "    output_shape: An integer indicating number of output units.\n",
        "  \"\"\"\n",
        "  def __init__(self, input_shape: int, hidden_units: int, output_shape: int) -> None:\n",
        "      super().__init__()\n",
        "      self.conv_block_1 = nn.Sequential(\n",
        "          nn.Conv2d(in_channels=input_shape,\n",
        "                    out_channels=hidden_units,\n",
        "                    kernel_size=3, # how big is the square that's going over the image?\n",
        "                    stride=1, # default\n",
        "                    padding=0), # options = \"valid\" (no padding) or \"same\" (output has same shape as input) or int for specific number\n",
        "          nn.ReLU(),\n",
        "          nn.Conv2d(in_channels=hidden_units,\n",
        "                    out_channels=hidden_units,\n",
        "                    kernel_size=3,\n",
        "                    stride=1,\n",
        "                    padding=0),\n",
        "          nn.ReLU(),\n",
        "          nn.MaxPool2d(kernel_size=2,\n",
        "                        stride=2) # default stride value is same as kernel_size\n",
        "      )\n",
        "      self.conv_block_2 = nn.Sequential(\n",
        "          nn.Conv2d(hidden_units, hidden_units, kernel_size=3, padding=0),\n",
        "          nn.ReLU(),\n",
        "          nn.Conv2d(hidden_units, hidden_units, kernel_size=3, padding=0),\n",
        "          nn.ReLU(),\n",
        "          nn.MaxPool2d(2)\n",
        "      )\n",
        "      self.classifier = nn.Sequential(\n",
        "          nn.Flatten(),\n",
        "          # Where did this in_features shape come from?\n",
        "          # It's because each layer of our network compresses and changes the shape of our inputs data.\n",
        "          nn.Linear(in_features=hidden_units*13*13,\n",
        "                    out_features=output_shape)\n",
        "      )\n",
        "\n",
        "  def forward(self, x: torch.Tensor):\n",
        "      x = self.conv_block_1(x)\n",
        "      x = self.conv_block_2(x)\n",
        "      x = self.classifier(x)\n",
        "      return x\n",
        "      # return self.classifier(self.block_2(self.block_1(x))) # <- leverage the benefits of operator fusion"
      ]
    },
    {
      "cell_type": "code",
      "execution_count": 11,
      "metadata": {
        "colab": {
          "base_uri": "https://localhost:8080/"
        },
        "id": "xqygLj159ASp",
        "outputId": "08179b8d-63a4-4272-8dfa-9377c3b32b5d"
      },
      "outputs": [
        {
          "output_type": "stream",
          "name": "stdout",
          "text": [
            "Using device: cuda\n"
          ]
        },
        {
          "output_type": "execute_result",
          "data": {
            "text/plain": [
              "TinyVGG(\n",
              "  (conv_block_1): Sequential(\n",
              "    (0): Conv2d(3, 10, kernel_size=(3, 3), stride=(1, 1))\n",
              "    (1): ReLU()\n",
              "    (2): Conv2d(10, 10, kernel_size=(3, 3), stride=(1, 1))\n",
              "    (3): ReLU()\n",
              "    (4): MaxPool2d(kernel_size=2, stride=2, padding=0, dilation=1, ceil_mode=False)\n",
              "  )\n",
              "  (conv_block_2): Sequential(\n",
              "    (0): Conv2d(10, 10, kernel_size=(3, 3), stride=(1, 1))\n",
              "    (1): ReLU()\n",
              "    (2): Conv2d(10, 10, kernel_size=(3, 3), stride=(1, 1))\n",
              "    (3): ReLU()\n",
              "    (4): MaxPool2d(kernel_size=2, stride=2, padding=0, dilation=1, ceil_mode=False)\n",
              "  )\n",
              "  (classifier): Sequential(\n",
              "    (0): Flatten(start_dim=1, end_dim=-1)\n",
              "    (1): Linear(in_features=1690, out_features=3, bias=True)\n",
              "  )\n",
              ")"
            ]
          },
          "metadata": {},
          "execution_count": 11
        }
      ],
      "source": [
        "import torch\n",
        "\n",
        "# Setup device-agnostic code\n",
        "if torch.cuda.is_available():\n",
        "    device = \"cuda\" # NVIDIA GPU\n",
        "elif torch.backends.mps.is_available():\n",
        "    device = \"mps\" # Apple GPU\n",
        "else:\n",
        "    device = \"cpu\" # Defaults to CPU if NVIDIA GPU/Apple GPU aren't available\n",
        "\n",
        "print(f\"Using device: {device}\")\n",
        "\n",
        "# Instantiate an instance of the model\n",
        "torch.manual_seed(42)\n",
        "model_0 = TinyVGG(input_shape=3, # number of color channels (3 for RGB)\n",
        "                  hidden_units=10,\n",
        "                  output_shape=len(train_data.classes)).to(device)\n",
        "model_0"
      ]
    },
    {
      "cell_type": "markdown",
      "metadata": {
        "id": "mLBZVhKv9ASp"
      },
      "source": [
        "To test our model let's do a single forward pass (pass a sample batch from the training set through our model)."
      ]
    },
    {
      "cell_type": "code",
      "execution_count": 12,
      "metadata": {
        "colab": {
          "base_uri": "https://localhost:8080/"
        },
        "id": "AkTUwKhV9ASp",
        "outputId": "8cf2b89e-d7e8-42f0-cc8c-c8171ddaafb3"
      },
      "outputs": [
        {
          "output_type": "stream",
          "name": "stdout",
          "text": [
            "Single image shape: torch.Size([1, 3, 64, 64])\n",
            "\n",
            "Output logits:\n",
            "tensor([[ 0.0208, -0.0020,  0.0095]], device='cuda:0')\n",
            "\n",
            "Output prediction probabilities:\n",
            "tensor([[0.3371, 0.3295, 0.3333]], device='cuda:0')\n",
            "\n",
            "Output prediction label:\n",
            "tensor([0], device='cuda:0')\n",
            "\n",
            "Actual label:\n",
            "0\n"
          ]
        }
      ],
      "source": [
        "# 1. Get a batch of images and labels from the DataLoader\n",
        "img_batch, label_batch = next(iter(train_dataloader))\n",
        "\n",
        "# 2. Get a single image from the batch and unsqueeze the image so its shape fits the model\n",
        "img_single, label_single = img_batch[0].unsqueeze(dim=0), label_batch[0]\n",
        "print(f\"Single image shape: {img_single.shape}\\n\")\n",
        "\n",
        "# 3. Perform a forward pass on a single image\n",
        "model_0.eval()\n",
        "with torch.inference_mode():\n",
        "    pred = model_0(img_single.to(device))\n",
        "\n",
        "# 4. Print out what's happening and convert model logits -> pred probs -> pred label\n",
        "print(f\"Output logits:\\n{pred}\\n\")\n",
        "print(f\"Output prediction probabilities:\\n{torch.softmax(pred, dim=1)}\\n\")\n",
        "print(f\"Output prediction label:\\n{torch.argmax(torch.softmax(pred, dim=1), dim=1)}\\n\")\n",
        "print(f\"Actual label:\\n{label_single}\")"
      ]
    },
    {
      "cell_type": "markdown",
      "metadata": {
        "id": "Wr5XiPx89ASp"
      },
      "source": [
        "#### Explanation of `next(iter(train_dataloader))` and Batch Structure\n"
      ]
    },
    {
      "cell_type": "markdown",
      "metadata": {
        "id": "FT1JiQer9ASq"
      },
      "source": [
        "\n",
        "When working with `DataLoader` in PyTorch, each batch typically consists of two parts: the **input data** (e.g., images) and the **labels** (e.g., class indices). This is why `next(iter(train_dataloader))` returns two variables: one for the batch of images and one for the corresponding labels.\n",
        "\n",
        "##### 1. **Why Two Variables?**\n",
        "   - **`img_batch`**: This contains the batch of images (or input data) from the dataset.\n",
        "   - **`label_batch`**: This contains the corresponding labels for the images in the batch.\n",
        "   - This separation is necessary because, during training or evaluation, the model needs both the input data and the ground truth labels to compute predictions and losses.\n",
        "\n",
        "##### 2. **Why Does the Batch Consist of Two Parts?**\n",
        "   - In supervised learning, each data sample has an input (e.g., an image) and a corresponding label (e.g., the class of the image).\n",
        "   - The `DataLoader` groups these pairs into batches, so each batch contains:\n",
        "     - A tensor of input data (e.g., a batch of images).\n",
        "     - A tensor of labels (e.g., a batch of class indices).\n",
        "\n",
        "##### 3. **What Does `next(iter(train_dataloader))` Do?**\n",
        "   - **`iter(train_dataloader)`**: Converts the `DataLoader` into an iterator, allowing you to fetch batches one at a time.\n",
        "   - **`next(...)`**: Retrieves the next batch from the iterator. Since each batch contains both images and labels, `next(...)` returns two tensors: one for the images and one for the labels.\n",
        "\n",
        "##### 4. **Example Breakdown**:\n",
        "   ```python\n",
        "   img_batch, label_batch = next(iter(train_dataloader))\n",
        "   ```\n",
        "   - `img_batch`: A tensor containing a batch of images (e.g., shape `[batch_size, channels, height, width]`).\n",
        "   - `label_batch`: A tensor containing the corresponding labels (e.g., shape `[batch_size]`).\n",
        "\n"
      ]
    },
    {
      "cell_type": "markdown",
      "metadata": {
        "id": "pRWlo92G9ASq"
      },
      "source": [
        "## 4. Creating `train_step()` and `test_step()` functions and `train()` to combine them  \n"
      ]
    },
    {
      "cell_type": "markdown",
      "metadata": {
        "id": "SWMQNqvR9ASq"
      },
      "source": [
        "\n",
        "Rather than writing them again, we can reuse the `train_step()` and `test_step()` functions from [notebook 04](https://www.learnpytorch.io/04_pytorch_custom_datasets/#75-create-train-test-loop-functions).\n",
        "\n",
        "The same goes for the `train()` function we created.\n",
        "\n",
        "The only difference here is that these functions have had docstrings added to them in [Google's Python Functions and Methods Style Guide](https://google.github.io/styleguide/pyguide.html#383-functions-and-methods).\n",
        "\n",
        "Let's start by making `train_step()`."
      ]
    },
    {
      "cell_type": "markdown",
      "metadata": {
        "id": "I5wMp23n9ASq"
      },
      "source": [
        "### `train_step()`"
      ]
    },
    {
      "cell_type": "code",
      "execution_count": 13,
      "metadata": {
        "id": "F7j8WZDS9ASq"
      },
      "outputs": [],
      "source": [
        "from typing import Tuple\n",
        "\n",
        "def train_step(model: torch.nn.Module,\n",
        "               dataloader: torch.utils.data.DataLoader,\n",
        "               loss_fn: torch.nn.Module,\n",
        "               optimizer: torch.optim.Optimizer,\n",
        "               device: torch.device) -> Tuple[float, float]:\n",
        "  \"\"\"Trains a PyTorch model for a single epoch.\n",
        "\n",
        "  Turns a target PyTorch model to training mode and then\n",
        "  runs through all of the required training steps (forward\n",
        "  pass, loss calculation, optimizer step).\n",
        "\n",
        "  Args:\n",
        "    model: A PyTorch model to be trained.\n",
        "    dataloader: A DataLoader instance for the model to be trained on.\n",
        "    loss_fn: A PyTorch loss function to minimize.\n",
        "    optimizer: A PyTorch optimizer to help minimize the loss function.\n",
        "    device: A target device to compute on (e.g. \"cuda\" or \"cpu\").\n",
        "\n",
        "  Returns:\n",
        "    A tuple of training loss and training accuracy metrics.\n",
        "    In the form (train_loss, train_accuracy). For example:\n",
        "\n",
        "    (0.1112, 0.8743)\n",
        "  \"\"\"\n",
        "  # Put model in train mode\n",
        "  model.train()\n",
        "\n",
        "  # Setup train loss and train accuracy values\n",
        "  train_loss, train_acc = 0, 0\n",
        "\n",
        "  # Loop through data loader data batches\n",
        "  for batch, (X, y) in enumerate(dataloader):\n",
        "      # Send data to target device\n",
        "      X, y = X.to(device), y.to(device)\n",
        "\n",
        "      # 1. Forward pass\n",
        "      y_pred = model(X)\n",
        "\n",
        "      # 2. Calculate  and accumulate loss\n",
        "      loss = loss_fn(y_pred, y)\n",
        "      train_loss += loss.item()\n",
        "\n",
        "      # 3. Optimizer zero grad\n",
        "      optimizer.zero_grad()\n",
        "\n",
        "      # 4. Loss backward\n",
        "      loss.backward()\n",
        "\n",
        "      # 5. Optimizer step\n",
        "      optimizer.step()\n",
        "\n",
        "      # Calculate and accumulate accuracy metric across all batches\n",
        "      y_pred_class = torch.argmax(torch.softmax(y_pred, dim=1), dim=1)\n",
        "      train_acc += (y_pred_class == y).sum().item()/len(y_pred)\n",
        "\n",
        "  # Adjust metrics to get average loss and accuracy per batch\n",
        "  train_loss = train_loss / len(dataloader)\n",
        "  train_acc = train_acc / len(dataloader)\n",
        "  return train_loss, train_acc"
      ]
    },
    {
      "cell_type": "markdown",
      "metadata": {
        "id": "JCz1xynD9ASq"
      },
      "source": [
        "#### Explanation of `Tuple` and `train_loss += loss.item()`\n"
      ]
    },
    {
      "cell_type": "markdown",
      "metadata": {
        "id": "eJnHQz_19ASq"
      },
      "source": [
        "\n",
        "Let's break down the key parts of the code to understand why a `Tuple` is used and why `train_loss += loss.item()` is used.\n",
        "\n",
        "##### Why is `Tuple` Used Here?\n",
        "\n",
        "1. **Return Type Annotation**:\n",
        "   - The function `train_step` is annotated to return a `Tuple[float, float]`. This means the function will return a tuple containing two `float` values: the training loss and the training accuracy.\n",
        "   - Using a tuple is a convenient way to return multiple values from a function in Python. In this case, the function needs to return both the average training loss and the average training accuracy for the epoch.\n",
        "\n",
        "2. **Example**:\n",
        "   - The function returns a tuple like `(0.1112, 0.8743)`, where `0.1112` is the average training loss and `0.8743` is the average training accuracy.\n",
        "\n",
        "##### Why is `train_loss += loss.item()` Used Here?\n",
        "\n",
        "1. **Accumulating Loss**:\n",
        "   - `train_loss += loss.item()` is used to accumulate the loss over all batches in the epoch.\n",
        "   - `loss.item()` extracts the scalar value from the loss tensor. This is necessary because `loss` is a tensor, and we need to convert it to a Python float to accumulate it.\n",
        "\n",
        "2. **Average Loss Calculation**:\n",
        "   - After processing all batches, the total loss is divided by the number of batches (`len(dataloader)`) to get the average loss per batch for the epoch.\n",
        "   - This gives a more accurate representation of the model's performance over the entire dataset.\n",
        "\n",
        "3. **When to Use `loss.item()`**:\n",
        "   - Use `loss.item()` when you need to extract the scalar value from a single-element tensor. This is common when accumulating metrics like loss or accuracy during training or evaluation.\n",
        "\n"
      ]
    },
    {
      "cell_type": "markdown",
      "metadata": {
        "id": "IDbvFUad9ASq"
      },
      "source": [
        "### `test_step()`"
      ]
    },
    {
      "cell_type": "code",
      "execution_count": 14,
      "metadata": {
        "id": "kHcJU8e19ASr"
      },
      "outputs": [],
      "source": [
        "def test_step(model: torch.nn.Module,\n",
        "              dataloader: torch.utils.data.DataLoader,\n",
        "              loss_fn: torch.nn.Module,\n",
        "              device: torch.device) -> Tuple[float, float]:\n",
        "  \"\"\"Tests a PyTorch model for a single epoch.\n",
        "\n",
        "  Turns a target PyTorch model to \"eval\" mode and then performs\n",
        "  a forward pass on a testing dataset.\n",
        "\n",
        "  Args:\n",
        "    model: A PyTorch model to be tested.\n",
        "    dataloader: A DataLoader instance for the model to be tested on.\n",
        "    loss_fn: A PyTorch loss function to calculate loss on the test data.\n",
        "    device: A target device to compute on (e.g. \"cuda\" or \"cpu\").\n",
        "\n",
        "  Returns:\n",
        "    A tuple of testing loss and testing accuracy metrics.\n",
        "    In the form (test_loss, test_accuracy). For example:\n",
        "\n",
        "    (0.0223, 0.8985)\n",
        "  \"\"\"\n",
        "  # Put model in eval mode\n",
        "  model.eval()\n",
        "\n",
        "  # Setup test loss and test accuracy values\n",
        "  test_loss, test_acc = 0, 0\n",
        "\n",
        "  # Turn on inference context manager\n",
        "  with torch.inference_mode():\n",
        "      # Loop through DataLoader batches\n",
        "      for batch, (X, y) in enumerate(dataloader):\n",
        "          # Send data to target device\n",
        "          X, y = X.to(device), y.to(device)\n",
        "\n",
        "          # 1. Forward pass\n",
        "          test_pred_logits = model(X)\n",
        "\n",
        "          # 2. Calculate and accumulate loss\n",
        "          loss = loss_fn(test_pred_logits, y)\n",
        "          test_loss += loss.item()\n",
        "\n",
        "          # Calculate and accumulate accuracy\n",
        "          test_pred_labels = test_pred_logits.argmax(dim=1)\n",
        "          test_acc += ((test_pred_labels == y).sum().item()/len(test_pred_labels))\n",
        "\n",
        "  # Adjust metrics to get average loss and accuracy per batch\n",
        "  test_loss = test_loss / len(dataloader)\n",
        "  test_acc = test_acc / len(dataloader)\n",
        "  return test_loss, test_acc"
      ]
    },
    {
      "cell_type": "markdown",
      "metadata": {
        "id": "tR6WC02k9ASr"
      },
      "source": [
        "### `train()` - Combining `train_step()` and `test_step()`"
      ]
    },
    {
      "cell_type": "markdown",
      "metadata": {
        "id": "loSb_qEm9ASr"
      },
      "source": [
        "And we'll combine `train_step()` and `test_step()` into `train()`."
      ]
    },
    {
      "cell_type": "code",
      "execution_count": 15,
      "metadata": {
        "id": "pJObs0_W9ASr"
      },
      "outputs": [],
      "source": [
        "from typing import Dict, List\n",
        "\n",
        "from tqdm.auto import tqdm\n",
        "\n",
        "def train(model: torch.nn.Module,\n",
        "          train_dataloader: torch.utils.data.DataLoader,\n",
        "          test_dataloader: torch.utils.data.DataLoader,\n",
        "          optimizer: torch.optim.Optimizer,\n",
        "          loss_fn: torch.nn.Module,\n",
        "          epochs: int,\n",
        "          device: torch.device) -> Dict[str, List[float]]:\n",
        "  \"\"\"Trains and tests a PyTorch model.\n",
        "\n",
        "  Passes a target PyTorch models through train_step() and test_step()\n",
        "  functions for a number of epochs, training and testing the model\n",
        "  in the same epoch loop.\n",
        "\n",
        "  Calculates, prints and stores evaluation metrics throughout.\n",
        "\n",
        "  Args:\n",
        "    model: A PyTorch model to be trained and tested.\n",
        "    train_dataloader: A DataLoader instance for the model to be trained on.\n",
        "    test_dataloader: A DataLoader instance for the model to be tested on.\n",
        "    optimizer: A PyTorch optimizer to help minimize the loss function.\n",
        "    loss_fn: A PyTorch loss function to calculate loss on both datasets.\n",
        "    epochs: An integer indicating how many epochs to train for.\n",
        "    device: A target device to compute on (e.g. \"cuda\" or \"cpu\").\n",
        "\n",
        "  Returns:\n",
        "    A dictionary of training and testing loss as well as training and\n",
        "    testing accuracy metrics. Each metric has a value in a list for\n",
        "    each epoch.\n",
        "    In the form: {train_loss: [...],\n",
        "                  train_acc: [...],\n",
        "                  test_loss: [...],\n",
        "                  test_acc: [...]}\n",
        "    For example if training for epochs=2:\n",
        "                 {train_loss: [2.0616, 1.0537],\n",
        "                  train_acc: [0.3945, 0.3945],\n",
        "                  test_loss: [1.2641, 1.5706],\n",
        "                  test_acc: [0.3400, 0.2973]}\n",
        "  \"\"\"\n",
        "  # Create empty results dictionary\n",
        "  results = {\"train_loss\": [],\n",
        "      \"train_acc\": [],\n",
        "      \"test_loss\": [],\n",
        "      \"test_acc\": []\n",
        "  }\n",
        "\n",
        "  # Loop through training and testing steps for a number of epochs\n",
        "  for epoch in tqdm(range(epochs)):\n",
        "      train_loss, train_acc = train_step(model=model,\n",
        "                                          dataloader=train_dataloader,\n",
        "                                          loss_fn=loss_fn,\n",
        "                                          optimizer=optimizer,\n",
        "                                          device=device)\n",
        "      test_loss, test_acc = test_step(model=model,\n",
        "          dataloader=test_dataloader,\n",
        "          loss_fn=loss_fn,\n",
        "          device=device)\n",
        "\n",
        "      # Print out what's happening\n",
        "      print(\n",
        "          f\"Epoch: {epoch+1} | \"\n",
        "          f\"train_loss: {train_loss:.4f} | \"\n",
        "          f\"train_acc: {train_acc:.4f} | \"\n",
        "          f\"test_loss: {test_loss:.4f} | \"\n",
        "          f\"test_acc: {test_acc:.4f}\"\n",
        "      )\n",
        "\n",
        "      # Update results dictionary\n",
        "      results[\"train_loss\"].append(train_loss)\n",
        "      results[\"train_acc\"].append(train_acc)\n",
        "      results[\"test_loss\"].append(test_loss)\n",
        "      results[\"test_acc\"].append(test_acc)\n",
        "\n",
        "  # Return the filled results at the end of the epochs\n",
        "  return results"
      ]
    },
    {
      "cell_type": "markdown",
      "metadata": {
        "id": "AJ4JEpGn9ASr"
      },
      "source": [
        "#### Explanation of `train()`\n"
      ]
    },
    {
      "cell_type": "markdown",
      "metadata": {
        "id": "W9FQgOVl9ASr"
      },
      "source": [
        "\n",
        "This code defines a function `train` that trains and tests a PyTorch model over multiple epochs, storing and returning the results in a dictionary. Let's break down the key parts of the code to understand why an empty results dictionary is created and what `from typing import Dict, List` is for.\n",
        "\n",
        "##### 1. **Why Create an Empty Results Dictionary?**\n",
        "\n",
        "- **Purpose**: The empty results dictionary is created to store the training and testing metrics (loss and accuracy) for each epoch.\n",
        "- **Structure**: The dictionary has four keys: `train_loss`, `train_acc`, `test_loss`, and `test_acc`. Each key maps to a list that will store the corresponding metric values for each epoch.\n",
        "- **Usage**: As the model is trained and tested over multiple epochs, the results for each epoch are appended to the respective lists in the dictionary. This allows for easy tracking and analysis of the model's performance over time.\n",
        "\n",
        "##### 2. **What is `from typing import Dict, List` For?**\n",
        "\n",
        "- **Type Annotations**: The `typing` module provides type hints that help in documenting the expected types of function arguments and return values. This improves code readability and can help catch type-related errors early.\n",
        "- **`Dict`**: Used to specify that a variable is a dictionary. In this case, the `results` dictionary is annotated as `Dict[str, List[float]]`, meaning it is a dictionary where the keys are strings and the values are lists of floats.\n",
        "- **`List`**: Used to specify that a variable is a list. Here, the values in the `results` dictionary are lists of floats, so `List[float]` is used to indicate this.\n",
        "\n",
        "##### 3. **Code Breakdown**\n",
        "\n",
        "- **Initialize Results Dictionary**:\n",
        "  ```python\n",
        "  results = {\"train_loss\": [],\n",
        "             \"train_acc\": [],\n",
        "             \"test_loss\": [],\n",
        "             \"test_acc\": []}\n",
        "  ```\n",
        "  - This creates an empty dictionary with keys for training loss, training accuracy, testing loss, and testing accuracy. Each key maps to an empty list that will store the metric values for each epoch.\n",
        "\n",
        "- **Loop Through Epochs**:\n",
        "  ```python\n",
        "  for epoch in tqdm(range(epochs)):\n",
        "  ```\n",
        "  - The loop iterates over the specified number of epochs, using `tqdm` to display a progress bar.\n",
        "\n",
        "- **Training and Testing**:\n",
        "  ```python\n",
        "  train_loss, train_acc = train_step(model=model,\n",
        "                                     dataloader=train_dataloader,\n",
        "                                     loss_fn=loss_fn,\n",
        "                                     optimizer=optimizer,\n",
        "                                     device=device)\n",
        "  test_loss, test_acc = test_step(model=model,\n",
        "                                  dataloader=test_dataloader,\n",
        "                                  loss_fn=loss_fn,\n",
        "                                  device=device)\n",
        "  ```\n",
        "  - Calls `train_step` and `test_step` to train and test the model for one epoch, returning the loss and accuracy metrics.\n",
        "\n",
        "- **Update Results Dictionary**:\n",
        "  ```python\n",
        "  results[\"train_loss\"].append(train_loss)\n",
        "  results[\"train_acc\"].append(train_acc)\n",
        "  results[\"test_loss\"].append(test_loss)\n",
        "  results[\"test_acc\"].append(test_acc)\n",
        "  ```\n",
        "  - Appends the metrics for the current epoch to the respective lists in the `results` dictionary.\n",
        "\n",
        "- **Return Results**:\n",
        "  ```python\n",
        "  return results\n",
        "  ```\n",
        "  - After all epochs are completed, the function returns the `results` dictionary containing the metrics for each epoch.\n",
        "\n",
        "##### 4. **Summary**\n",
        "\n",
        "- **Empty Results Dictionary**: Created to store and track training and testing metrics (loss and accuracy) over multiple epochs.\n",
        "- **`from typing import Dict, List`**: Used for type annotations to specify that the `results` dictionary is a `Dict[str, List[float]]`, improving code readability and type safety.\n",
        "\n",
        "This approach ensures that the training and testing metrics are systematically recorded and can be easily analyzed or visualized after the training process."
      ]
    },
    {
      "cell_type": "markdown",
      "metadata": {
        "id": "r0mjI-kB9ASr"
      },
      "source": [
        "## 5. Creating a function to save the model\n"
      ]
    },
    {
      "cell_type": "markdown",
      "metadata": {
        "id": "aKPmCR8o9ASr"
      },
      "source": [
        "\n",
        "Let's setup a function to save our model to a directory."
      ]
    },
    {
      "cell_type": "code",
      "execution_count": 16,
      "metadata": {
        "id": "oyTYJ7039ASr"
      },
      "outputs": [],
      "source": [
        "from pathlib import Path\n",
        "\n",
        "def save_model(model: torch.nn.Module,\n",
        "               target_dir: str,\n",
        "               model_name: str):\n",
        "  \"\"\"Saves a PyTorch model to a target directory.\n",
        "\n",
        "  Args:\n",
        "    model: A target PyTorch model to save.\n",
        "    target_dir: A directory for saving the model to.\n",
        "    model_name: A filename for the saved model. Should include\n",
        "      either \".pth\" or \".pt\" as the file extension.\n",
        "\n",
        "  Example usage:\n",
        "    save_model(model=model_0,\n",
        "               target_dir=\"models\",\n",
        "               model_name=\"05_going_modular_tingvgg_model.pth\")\n",
        "  \"\"\"\n",
        "  # Create target directory\n",
        "  target_dir_path = Path(target_dir)\n",
        "  target_dir_path.mkdir(parents=True,\n",
        "                        exist_ok=True)\n",
        "\n",
        "  # Create model save path\n",
        "  assert model_name.endswith(\".pth\") or model_name.endswith(\".pt\"), \"model_name should end with '.pt' or '.pth'\"\n",
        "  model_save_path = target_dir_path / model_name\n",
        "\n",
        "  # Save the model state_dict()\n",
        "  print(f\"[INFO] Saving model to: {model_save_path}\")\n",
        "  torch.save(obj=model.state_dict(),\n",
        "             f=model_save_path)"
      ]
    },
    {
      "cell_type": "markdown",
      "metadata": {
        "id": "RT24bktE9ASr"
      },
      "source": [
        "## 6. Train, evaluate and save the model\n"
      ]
    },
    {
      "cell_type": "markdown",
      "metadata": {
        "id": "n1fFroB09ASr"
      },
      "source": [
        "\n",
        "Let's leverage the functions we've got above to train, test and save a model to file.\n"
      ]
    },
    {
      "cell_type": "code",
      "execution_count": 17,
      "metadata": {
        "colab": {
          "base_uri": "https://localhost:8080/",
          "height": 171,
          "referenced_widgets": [
            "27ac4eb548e14f07aba653e82a533fe5",
            "3b1fd234aee24719a841560cd7c19306",
            "0d98c912a9a6448593955f0aab51a1f1",
            "1883a55446934ef5873c059d1d68c204",
            "e2be293d960647bc9ce367da1bf43d98",
            "6469a95389a4417283f63a60c8c3e1aa",
            "7775714e68d545169ce84bcce545dc04",
            "fb363e3db9264099a7b6893ccd16a975",
            "c65b6ae15e6b45198da09223c1ceeb18",
            "d4d31375b7fe4e1cb64ee14316c90ce4",
            "02989f84241643f68a72858bf511b715"
          ]
        },
        "id": "JVh0UMbu9ASr",
        "outputId": "b977a32e-099a-4934-b6ec-c5edf48f7af1"
      },
      "outputs": [
        {
          "output_type": "display_data",
          "data": {
            "text/plain": [
              "  0%|          | 0/5 [00:00<?, ?it/s]"
            ],
            "application/vnd.jupyter.widget-view+json": {
              "version_major": 2,
              "version_minor": 0,
              "model_id": "27ac4eb548e14f07aba653e82a533fe5"
            }
          },
          "metadata": {}
        },
        {
          "output_type": "stream",
          "name": "stdout",
          "text": [
            "Epoch: 1 | train_loss: 1.0928 | train_acc: 0.3956 | test_loss: 1.0724 | test_acc: 0.4267\n",
            "Epoch: 2 | train_loss: 1.0123 | train_acc: 0.4800 | test_loss: 0.9924 | test_acc: 0.4267\n",
            "Epoch: 3 | train_loss: 0.9822 | train_acc: 0.5644 | test_loss: 0.9849 | test_acc: 0.4800\n",
            "Epoch: 4 | train_loss: 0.9120 | train_acc: 0.5867 | test_loss: 0.9866 | test_acc: 0.4267\n",
            "Epoch: 5 | train_loss: 0.8853 | train_acc: 0.5733 | test_loss: 0.9952 | test_acc: 0.4800\n",
            "[INFO] Total training time: 8.485 seconds\n",
            "[INFO] Saving model to: models/05_going_modular_cell_mode_tinyvgg_model.pth\n"
          ]
        }
      ],
      "source": [
        "# Set random seeds\n",
        "torch.manual_seed(42)\n",
        "torch.cuda.manual_seed(42)\n",
        "\n",
        "# Set number of epochs\n",
        "NUM_EPOCHS = 5\n",
        "\n",
        "# Recreate an instance of TinyVGG\n",
        "model_0 = TinyVGG(input_shape=3, # number of color channels (3 for RGB)\n",
        "                  hidden_units=10,\n",
        "                  output_shape=len(train_data.classes)).to(device)\n",
        "\n",
        "# Setup loss function and optimizer\n",
        "loss_fn = nn.CrossEntropyLoss()\n",
        "optimizer = torch.optim.Adam(params=model_0.parameters(), lr=0.001)\n",
        "\n",
        "# Start the timer\n",
        "from timeit import default_timer as timer\n",
        "start_time = timer()\n",
        "\n",
        "# Train model_0\n",
        "model_0_results = train(model=model_0,\n",
        "                        train_dataloader=train_dataloader,\n",
        "                        test_dataloader=test_dataloader,\n",
        "                        optimizer=optimizer,\n",
        "                        loss_fn=loss_fn,\n",
        "                        epochs=NUM_EPOCHS,\n",
        "                        device=device)\n",
        "\n",
        "# End the timer and print out how long it took\n",
        "end_time = timer()\n",
        "print(f\"[INFO] Total training time: {end_time-start_time:.3f} seconds\")\n",
        "\n",
        "# Save the model\n",
        "save_model(model=model_0,\n",
        "           target_dir=\"models\",\n",
        "           model_name=\"05_going_modular_cell_mode_tinyvgg_model.pth\")"
      ]
    },
    {
      "cell_type": "markdown",
      "metadata": {
        "id": "x1YieZ2q9ASr"
      },
      "source": [
        "We finish with a saved image classification model at `models/05_going_modular_cell_mode_tinyvgg_model.pth`.\n",
        "\n",
        "The code continues in [05. Going Modular: Part 2 (script mode)](https://github.com/mrdbourke/pytorch-deep-learning/blob/main/going_modular/05_pytorch_going_modular_script_mode.ipynb)."
      ]
    }
  ],
  "metadata": {
    "kernelspec": {
      "display_name": "Python 3",
      "name": "python3"
    },
    "language_info": {
      "codemirror_mode": {
        "name": "ipython",
        "version": 3
      },
      "file_extension": ".py",
      "mimetype": "text/x-python",
      "name": "python",
      "nbconvert_exporter": "python",
      "pygments_lexer": "ipython3",
      "version": "3.12.8"
    },
    "colab": {
      "provenance": [],
      "gpuType": "T4"
    },
    "accelerator": "GPU",
    "widgets": {
      "application/vnd.jupyter.widget-state+json": {
        "27ac4eb548e14f07aba653e82a533fe5": {
          "model_module": "@jupyter-widgets/controls",
          "model_name": "HBoxModel",
          "model_module_version": "1.5.0",
          "state": {
            "_dom_classes": [],
            "_model_module": "@jupyter-widgets/controls",
            "_model_module_version": "1.5.0",
            "_model_name": "HBoxModel",
            "_view_count": null,
            "_view_module": "@jupyter-widgets/controls",
            "_view_module_version": "1.5.0",
            "_view_name": "HBoxView",
            "box_style": "",
            "children": [
              "IPY_MODEL_3b1fd234aee24719a841560cd7c19306",
              "IPY_MODEL_0d98c912a9a6448593955f0aab51a1f1",
              "IPY_MODEL_1883a55446934ef5873c059d1d68c204"
            ],
            "layout": "IPY_MODEL_e2be293d960647bc9ce367da1bf43d98"
          }
        },
        "3b1fd234aee24719a841560cd7c19306": {
          "model_module": "@jupyter-widgets/controls",
          "model_name": "HTMLModel",
          "model_module_version": "1.5.0",
          "state": {
            "_dom_classes": [],
            "_model_module": "@jupyter-widgets/controls",
            "_model_module_version": "1.5.0",
            "_model_name": "HTMLModel",
            "_view_count": null,
            "_view_module": "@jupyter-widgets/controls",
            "_view_module_version": "1.5.0",
            "_view_name": "HTMLView",
            "description": "",
            "description_tooltip": null,
            "layout": "IPY_MODEL_6469a95389a4417283f63a60c8c3e1aa",
            "placeholder": "​",
            "style": "IPY_MODEL_7775714e68d545169ce84bcce545dc04",
            "value": "100%"
          }
        },
        "0d98c912a9a6448593955f0aab51a1f1": {
          "model_module": "@jupyter-widgets/controls",
          "model_name": "FloatProgressModel",
          "model_module_version": "1.5.0",
          "state": {
            "_dom_classes": [],
            "_model_module": "@jupyter-widgets/controls",
            "_model_module_version": "1.5.0",
            "_model_name": "FloatProgressModel",
            "_view_count": null,
            "_view_module": "@jupyter-widgets/controls",
            "_view_module_version": "1.5.0",
            "_view_name": "ProgressView",
            "bar_style": "success",
            "description": "",
            "description_tooltip": null,
            "layout": "IPY_MODEL_fb363e3db9264099a7b6893ccd16a975",
            "max": 5,
            "min": 0,
            "orientation": "horizontal",
            "style": "IPY_MODEL_c65b6ae15e6b45198da09223c1ceeb18",
            "value": 5
          }
        },
        "1883a55446934ef5873c059d1d68c204": {
          "model_module": "@jupyter-widgets/controls",
          "model_name": "HTMLModel",
          "model_module_version": "1.5.0",
          "state": {
            "_dom_classes": [],
            "_model_module": "@jupyter-widgets/controls",
            "_model_module_version": "1.5.0",
            "_model_name": "HTMLModel",
            "_view_count": null,
            "_view_module": "@jupyter-widgets/controls",
            "_view_module_version": "1.5.0",
            "_view_name": "HTMLView",
            "description": "",
            "description_tooltip": null,
            "layout": "IPY_MODEL_d4d31375b7fe4e1cb64ee14316c90ce4",
            "placeholder": "​",
            "style": "IPY_MODEL_02989f84241643f68a72858bf511b715",
            "value": " 5/5 [00:08&lt;00:00,  1.58s/it]"
          }
        },
        "e2be293d960647bc9ce367da1bf43d98": {
          "model_module": "@jupyter-widgets/base",
          "model_name": "LayoutModel",
          "model_module_version": "1.2.0",
          "state": {
            "_model_module": "@jupyter-widgets/base",
            "_model_module_version": "1.2.0",
            "_model_name": "LayoutModel",
            "_view_count": null,
            "_view_module": "@jupyter-widgets/base",
            "_view_module_version": "1.2.0",
            "_view_name": "LayoutView",
            "align_content": null,
            "align_items": null,
            "align_self": null,
            "border": null,
            "bottom": null,
            "display": null,
            "flex": null,
            "flex_flow": null,
            "grid_area": null,
            "grid_auto_columns": null,
            "grid_auto_flow": null,
            "grid_auto_rows": null,
            "grid_column": null,
            "grid_gap": null,
            "grid_row": null,
            "grid_template_areas": null,
            "grid_template_columns": null,
            "grid_template_rows": null,
            "height": null,
            "justify_content": null,
            "justify_items": null,
            "left": null,
            "margin": null,
            "max_height": null,
            "max_width": null,
            "min_height": null,
            "min_width": null,
            "object_fit": null,
            "object_position": null,
            "order": null,
            "overflow": null,
            "overflow_x": null,
            "overflow_y": null,
            "padding": null,
            "right": null,
            "top": null,
            "visibility": null,
            "width": null
          }
        },
        "6469a95389a4417283f63a60c8c3e1aa": {
          "model_module": "@jupyter-widgets/base",
          "model_name": "LayoutModel",
          "model_module_version": "1.2.0",
          "state": {
            "_model_module": "@jupyter-widgets/base",
            "_model_module_version": "1.2.0",
            "_model_name": "LayoutModel",
            "_view_count": null,
            "_view_module": "@jupyter-widgets/base",
            "_view_module_version": "1.2.0",
            "_view_name": "LayoutView",
            "align_content": null,
            "align_items": null,
            "align_self": null,
            "border": null,
            "bottom": null,
            "display": null,
            "flex": null,
            "flex_flow": null,
            "grid_area": null,
            "grid_auto_columns": null,
            "grid_auto_flow": null,
            "grid_auto_rows": null,
            "grid_column": null,
            "grid_gap": null,
            "grid_row": null,
            "grid_template_areas": null,
            "grid_template_columns": null,
            "grid_template_rows": null,
            "height": null,
            "justify_content": null,
            "justify_items": null,
            "left": null,
            "margin": null,
            "max_height": null,
            "max_width": null,
            "min_height": null,
            "min_width": null,
            "object_fit": null,
            "object_position": null,
            "order": null,
            "overflow": null,
            "overflow_x": null,
            "overflow_y": null,
            "padding": null,
            "right": null,
            "top": null,
            "visibility": null,
            "width": null
          }
        },
        "7775714e68d545169ce84bcce545dc04": {
          "model_module": "@jupyter-widgets/controls",
          "model_name": "DescriptionStyleModel",
          "model_module_version": "1.5.0",
          "state": {
            "_model_module": "@jupyter-widgets/controls",
            "_model_module_version": "1.5.0",
            "_model_name": "DescriptionStyleModel",
            "_view_count": null,
            "_view_module": "@jupyter-widgets/base",
            "_view_module_version": "1.2.0",
            "_view_name": "StyleView",
            "description_width": ""
          }
        },
        "fb363e3db9264099a7b6893ccd16a975": {
          "model_module": "@jupyter-widgets/base",
          "model_name": "LayoutModel",
          "model_module_version": "1.2.0",
          "state": {
            "_model_module": "@jupyter-widgets/base",
            "_model_module_version": "1.2.0",
            "_model_name": "LayoutModel",
            "_view_count": null,
            "_view_module": "@jupyter-widgets/base",
            "_view_module_version": "1.2.0",
            "_view_name": "LayoutView",
            "align_content": null,
            "align_items": null,
            "align_self": null,
            "border": null,
            "bottom": null,
            "display": null,
            "flex": null,
            "flex_flow": null,
            "grid_area": null,
            "grid_auto_columns": null,
            "grid_auto_flow": null,
            "grid_auto_rows": null,
            "grid_column": null,
            "grid_gap": null,
            "grid_row": null,
            "grid_template_areas": null,
            "grid_template_columns": null,
            "grid_template_rows": null,
            "height": null,
            "justify_content": null,
            "justify_items": null,
            "left": null,
            "margin": null,
            "max_height": null,
            "max_width": null,
            "min_height": null,
            "min_width": null,
            "object_fit": null,
            "object_position": null,
            "order": null,
            "overflow": null,
            "overflow_x": null,
            "overflow_y": null,
            "padding": null,
            "right": null,
            "top": null,
            "visibility": null,
            "width": null
          }
        },
        "c65b6ae15e6b45198da09223c1ceeb18": {
          "model_module": "@jupyter-widgets/controls",
          "model_name": "ProgressStyleModel",
          "model_module_version": "1.5.0",
          "state": {
            "_model_module": "@jupyter-widgets/controls",
            "_model_module_version": "1.5.0",
            "_model_name": "ProgressStyleModel",
            "_view_count": null,
            "_view_module": "@jupyter-widgets/base",
            "_view_module_version": "1.2.0",
            "_view_name": "StyleView",
            "bar_color": null,
            "description_width": ""
          }
        },
        "d4d31375b7fe4e1cb64ee14316c90ce4": {
          "model_module": "@jupyter-widgets/base",
          "model_name": "LayoutModel",
          "model_module_version": "1.2.0",
          "state": {
            "_model_module": "@jupyter-widgets/base",
            "_model_module_version": "1.2.0",
            "_model_name": "LayoutModel",
            "_view_count": null,
            "_view_module": "@jupyter-widgets/base",
            "_view_module_version": "1.2.0",
            "_view_name": "LayoutView",
            "align_content": null,
            "align_items": null,
            "align_self": null,
            "border": null,
            "bottom": null,
            "display": null,
            "flex": null,
            "flex_flow": null,
            "grid_area": null,
            "grid_auto_columns": null,
            "grid_auto_flow": null,
            "grid_auto_rows": null,
            "grid_column": null,
            "grid_gap": null,
            "grid_row": null,
            "grid_template_areas": null,
            "grid_template_columns": null,
            "grid_template_rows": null,
            "height": null,
            "justify_content": null,
            "justify_items": null,
            "left": null,
            "margin": null,
            "max_height": null,
            "max_width": null,
            "min_height": null,
            "min_width": null,
            "object_fit": null,
            "object_position": null,
            "order": null,
            "overflow": null,
            "overflow_x": null,
            "overflow_y": null,
            "padding": null,
            "right": null,
            "top": null,
            "visibility": null,
            "width": null
          }
        },
        "02989f84241643f68a72858bf511b715": {
          "model_module": "@jupyter-widgets/controls",
          "model_name": "DescriptionStyleModel",
          "model_module_version": "1.5.0",
          "state": {
            "_model_module": "@jupyter-widgets/controls",
            "_model_module_version": "1.5.0",
            "_model_name": "DescriptionStyleModel",
            "_view_count": null,
            "_view_module": "@jupyter-widgets/base",
            "_view_module_version": "1.2.0",
            "_view_name": "StyleView",
            "description_width": ""
          }
        }
      }
    }
  },
  "nbformat": 4,
  "nbformat_minor": 0
}