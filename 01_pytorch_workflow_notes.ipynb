{
  "cells": [
    {
      "cell_type": "markdown",
      "metadata": {
        "id": "view-in-github",
        "colab_type": "text"
      },
      "source": [
        "<a href=\"https://colab.research.google.com/github/JunHL96/PyTorch-Course/blob/main/01_pytorch_workflow_notes.ipynb\" target=\"_parent\"><img src=\"https://colab.research.google.com/assets/colab-badge.svg\" alt=\"Open In Colab\"/></a>"
      ]
    },
    {
      "cell_type": "markdown",
      "metadata": {
        "id": "BO1YO2YtCfJt"
      },
      "source": [
        "# 01. PyTorch Workflow\n",
        "\n",
        "Let's explore an example of a PyTorch end-to-end workflow\n",
        "\n",
        "* Ground truth notebook: https://github.com/mrdbourke/pytorch-deep-learning/blob/main/01_pytorch_workflow\n",
        "* Book version of notebook: https://github.com/mrdbourke/pytorch-deep-learning-book/blob/main/01_pytorch_workflow\n",
        "* Ask a question: https://github.com/mrdbourke/pytorch-deep-learning/discussions\n",
        "\n",
        "## Example Workflow:\n",
        "\n",
        "1. Get data ready (turn into tensors)\n",
        "2. Build or pick a pretrained model (to suit your problem)\n",
        "* 2.1) Pick a loss function & optimizer\n",
        "* 2.2) Build a training loop\n",
        "* 2.3) Repeat step 2 until ready to move to step 3\n",
        "3. Fit the model to the data and make a prediction\n",
        "4. Evaluate the model\n",
        "5. Improve through experimentation\n",
        "6. Save and reload your trained model."
      ]
    },
    {
      "cell_type": "code",
      "execution_count": null,
      "metadata": {
        "trusted": false,
        "id": "E-YzZef7CfJv",
        "outputId": "df0ec6ab-0e64-4248-be44-9b31889ec5d1"
      },
      "outputs": [
        {
          "name": "stdout",
          "output_type": "stream",
          "text": [
            "Pytorch version: 2.5.0\n"
          ]
        }
      ],
      "source": [
        "import torch\n",
        "from torch import nn # nn contains all of PyTorch's building blocks for neural networks\n",
        "import matplotlib.pyplot as plt\n",
        "\n",
        "print(f\"Pytorch version: {torch.__version__}\")"
      ]
    },
    {
      "cell_type": "code",
      "execution_count": null,
      "metadata": {
        "trusted": false,
        "id": "cWRx24XqCfJw",
        "outputId": "b000210e-fc17-4067-f196-a872566d75b1"
      },
      "outputs": [
        {
          "name": "stdout",
          "output_type": "stream",
          "text": [
            "Using device: mps\n"
          ]
        }
      ],
      "source": [
        "# Setup device-agnostic code\n",
        "if torch.cuda.is_available():\n",
        "    device = \"cuda\" # NVIDIA GPU\n",
        "elif torch.backends.mps.is_available():\n",
        "    device = \"mps\" # Apple GPU\n",
        "else:\n",
        "    device = \"cpu\" # Defaults to CPU if NVIDIA GPU/Apple GPU aren't available\n",
        "\n",
        "print(f\"Using device: {device}\")"
      ]
    },
    {
      "cell_type": "code",
      "execution_count": null,
      "metadata": {
        "trusted": false,
        "id": "8-gOinvzCfJw",
        "outputId": "c5d8f0ee-a99a-451d-f184-2051d6557dfd"
      },
      "outputs": [
        {
          "data": {
            "text/plain": [
              "{1: 'data (prepare and load)',\n",
              " 2: 'build model',\n",
              " 3: 'fitting the model to data (training)',\n",
              " 4: 'making predictions and evaluating a model (inference)',\n",
              " 5: 'saving and loading a model',\n",
              " 6: 'putting it all together'}"
            ]
          },
          "execution_count": 321,
          "metadata": {},
          "output_type": "execute_result"
        }
      ],
      "source": [
        "what_we_are_covering = {1: \"data (prepare and load)\",\n",
        "                        2: \"build model\",\n",
        "                        3: \"fitting the model to data (training)\",\n",
        "                        4: \"making predictions and evaluating a model (inference)\",\n",
        "                        5: \"saving and loading a model\",\n",
        "                        6: \"putting it all together\"}\n",
        "\n",
        "what_we_are_covering"
      ]
    },
    {
      "cell_type": "markdown",
      "metadata": {
        "id": "RalxnOTtCfJx"
      },
      "source": [
        "## 1. Data (preparing and loading)\n",
        "\n",
        "Data can be almost everything in ML:\n",
        "* Excel spreadsheet\n",
        "* Images of any kind\n",
        "* Videos (YouTube has lots of data)\n",
        "* Audio (Songs, podcasts, etc.)\n",
        "* DNA\n",
        "* Text\n",
        "\n",
        "ML is a game of two parts:\n",
        "1. Get data into a numerical representation\n",
        "2. Build a model to learn patterns in that numerical representation.\n",
        "\n",
        "![machine learning is a game of two parts: 1. turn your data into a representative set of numbers and 2. build or pick a model to learn the representation as best as possible](https://raw.githubusercontent.com/mrdbourke/pytorch-deep-learning/main/images/01-machine-learning-a-game-of-two-parts.png)\n",
        "\n",
        "To showcase this, let's create some *known* data using the linear regression formula:\n",
        "\n",
        "### Linear Regression Formula\n",
        "\n",
        "Linear regression models the relationship between a dependent variable (target) and one or more independent variables (features). The formula is:\n",
        "\n",
        "**y = β<sub>0</sub> + β<sub>1</sub>x<sub>1</sub> + β<sub>2</sub>x<sub>2</sub> + ... + β<sub>n</sub>x<sub>n</sub> + ε**\n",
        "\n",
        "- **y**: The predicted output (dependent variable).\n",
        "- **β<sub>0</sub>**: The intercept (constant term).\n",
        "- **β<sub>1</sub>, β<sub>2</sub>, ..., β<sub>n</sub>**: Coefficients representing the impact of each independent variable (x<sub>1</sub>, x<sub>2</sub>, ..., x<sub>n</sub>).\n",
        "- **x<sub>1</sub>, x<sub>2</sub>, ..., x<sub>n</sub>**: Independent variables (features).\n",
        "- **ε**: Error term (difference between predicted and actual values).\n",
        "\n",
        "In simple linear regression (one feature), the formula simplifies to:\n",
        "\n",
        "**y = β<sub>0</sub> + β<sub>1</sub>x + ε**\n",
        "\n",
        "We'll use a linear regression formula to make a straight line with *known* **parameters**.\n"
      ]
    },
    {
      "cell_type": "code",
      "execution_count": null,
      "metadata": {
        "trusted": false,
        "id": "WXKiSMLzCfJx",
        "outputId": "1c2012ee-46cd-4caa-c373-39044af36333"
      },
      "outputs": [
        {
          "data": {
            "text/plain": [
              "(tensor([[0.0000],\n",
              "         [0.0200],\n",
              "         [0.0400],\n",
              "         [0.0600],\n",
              "         [0.0800],\n",
              "         [0.1000],\n",
              "         [0.1200],\n",
              "         [0.1400],\n",
              "         [0.1600],\n",
              "         [0.1800]]),\n",
              " tensor([[0.3000],\n",
              "         [0.3140],\n",
              "         [0.3280],\n",
              "         [0.3420],\n",
              "         [0.3560],\n",
              "         [0.3700],\n",
              "         [0.3840],\n",
              "         [0.3980],\n",
              "         [0.4120],\n",
              "         [0.4260]]))"
            ]
          },
          "execution_count": 322,
          "metadata": {},
          "output_type": "execute_result"
        }
      ],
      "source": [
        "# Create *known* parameters for linear regression\n",
        "# The weight determines how much influence the input feature x has on the output y.\n",
        "weight = 0.7  # The slope (coefficient) of the line (β₁ in y = β₀ + β₁x)\n",
        "# The bias adjusts the output independently of the input x.\n",
        "bias = 0.3    # The intercept (constant) of the line (β₀ in y = β₀ + β₁x)\n",
        "\n",
        "# Create input data (X) for linear regression\n",
        "start = 0     # Starting value of X (independent variable)\n",
        "end = 1       # Ending value of X\n",
        "step = 0.02   # Step size for generating values of X (i.e., increments of 0.02)\n",
        "X = torch.arange(start, end, step).unsqueeze(dim=1)\n",
        "# torch.arange creates a range of values from 0 to 1 (exclusive) with step size of 0.02\n",
        "# unsqueeze adds a dimension to the tensor (makes it a column vector). This is important to do for later on when we work with models\n",
        "\n",
        "# Generate target values (y) using the linear regression formula\n",
        "y = weight * X + bias  # This simulates a linear relationship between X and y (y = β₀ + β₁x)\n",
        "\n",
        "# Output the first 10 values of X and y (input and output #s)\n",
        "X[:10], y[:10]\n"
      ]
    },
    {
      "cell_type": "code",
      "execution_count": null,
      "metadata": {
        "trusted": false,
        "id": "B85RpBYVCfJx",
        "outputId": "7b14cd5b-a5ad-4244-a82c-526cf4831647"
      },
      "outputs": [
        {
          "data": {
            "text/plain": [
              "(50, 50)"
            ]
          },
          "execution_count": 323,
          "metadata": {},
          "output_type": "execute_result"
        }
      ],
      "source": [
        "len(X), len(y)"
      ]
    },
    {
      "cell_type": "markdown",
      "metadata": {
        "id": "BBYY5g_WCfJx"
      },
      "source": [
        "### Splitting data into training and test sets (one of the most important concepts in ML in general)\n",
        "\n",
        "| Split | Purpose | Amount of total data | How often is it used? |\n",
        "| ----- | ----- | ----- | ----- |\n",
        "| **Training set** | The model learns from this data (like the course materials you study during the semester). | ~60-80% | Always |\n",
        "| **Validation set** | The model gets tuned on this data (like the practice exam you take before the final exam). | ~10-20% | Often but not always |\n",
        "| **Testing set** | The model gets evaluated on this data to test what it has learned (like the final exam you take at the end of the semester). | ~10-20% | Always |\n",
        "\n",
        "**Goal**: Generalization - The ability for a ML model to perform well on data it hasn't seen before."
      ]
    },
    {
      "cell_type": "code",
      "execution_count": null,
      "metadata": {
        "trusted": false,
        "id": "GctnoJziCfJy",
        "outputId": "15afa0cb-e357-467b-f300-43a1862538e7"
      },
      "outputs": [
        {
          "data": {
            "text/plain": [
              "(40, 40, 10, 10)"
            ]
          },
          "execution_count": 324,
          "metadata": {},
          "output_type": "execute_result"
        }
      ],
      "source": [
        "# Create a train/test split\n",
        "\n",
        "# Calculate the index to split the data (80% for training, 20% for testing)\n",
        "train_split = int(0.8 * len(X))  # 80% of the length of the dataset will be for training\n",
        "train_split  # This variable holds the index for splitting the data\n",
        "\n",
        "# Split the data into training and testing sets\n",
        "X_train, y_train = X[:train_split], y[:train_split]  # The first 80% of X and y for training\n",
        "X_test, y_test = X[train_split:], y[train_split:]    # The remaining 20% of X and y for testing\n",
        "\n",
        "# Output the lengths of the training and testing sets for verification (training split + test split))\n",
        "len(X_train), len(y_train), len(X_test), len(y_test)\n"
      ]
    },
    {
      "cell_type": "markdown",
      "metadata": {
        "id": "i2sbpgFdCfJy"
      },
      "source": [
        "How might we better visualize our data?\n",
        "\n",
        "This is where the data explorer's motto comes in!\n",
        "\n",
        "\"Visualize, visualize, visualize!\""
      ]
    },
    {
      "cell_type": "code",
      "execution_count": null,
      "metadata": {
        "trusted": false,
        "id": "lYgXRda5CfJy"
      },
      "outputs": [],
      "source": [
        "def plot_predictions(train_data=X_train,\n",
        "                     train_labels=y_train,\n",
        "                     test_data=X_test,\n",
        "                     test_labels=y_test,\n",
        "                     predictions=None):\n",
        "    \"\"\"\n",
        "    Plots training data, test data, and compares predictions if provided.\n",
        "\n",
        "    Parameters:\n",
        "    - train_data: The input features for training data (X_train).\n",
        "    - train_labels: The corresponding target values for training data (y_train).\n",
        "    - test_data: The input features for test data (X_test).\n",
        "    - test_labels: The corresponding target values for test data (y_test).\n",
        "    - predictions: The predicted values (optional) for the test data.\n",
        "    \"\"\"\n",
        "\n",
        "    # https://matplotlib.org/stable/api/_as_gen/matplotlib.pyplot.scatter.html\n",
        "\n",
        "    # Plot training data in blue\n",
        "    plt.scatter(train_data, train_labels, c=\"b\", s=4, label=\"Training data\")\n",
        "    # `plt.scatter` creates a scatter plot for the training data (X_train, y_train) in blue (c=\"b\").\n",
        "    # `s=4` sets the size of the points to 4, and `label` adds a legend entry for the training data.\n",
        "\n",
        "    # Plot test data in green\n",
        "    plt.scatter(test_data, test_labels, c=\"g\", s=4, label=\"Test data\")\n",
        "    # Similarly, test data (X_test, y_test) is plotted in green (c=\"g\") with a legend entry for the test data.\n",
        "\n",
        "    # Plot predictions in red if they exist\n",
        "    if predictions is not None:\n",
        "        plt.scatter(test_data, predictions, c=\"r\", s=4, label=\"Predictions\")\n",
        "        # If predictions are provided, they are plotted in red (c=\"r\").\n",
        "        # This shows how the predicted values compare to the actual test data.\n",
        "\n",
        "    # Plot a line of best fit (if predictions exist)\n",
        "    if predictions is not None:\n",
        "        plt.plot(test_data, predictions, c=\"r\", label=\"Line of best fit\")\n",
        "        # `plt.plot` creates a line of best fit using the test data and the predictions.\n",
        "        # This red line represents the linear relationship the model has learned.\n",
        "\n",
        "     # Add legend and labels\n",
        "    plt.legend(prop={\"size\": 14})  # Displays the legend with font size 14 to differentiate training, test data, and predictions.\n",
        "\n",
        "    plt.xlabel(\"X\")  # Labels the x-axis as \"X\" (the input feature).\n",
        "\n",
        "    plt.ylabel(\"y\")  # Labels the y-axis as \"y\" (the target/output variable).\n",
        "\n",
        "    # The final plot will show:\n",
        "    # - Training data in blue\n",
        "    # - Test data in green\n",
        "    # - Predictions and line of best fit (if provided) in red\n",
        "    # With a larger, clearer legend to distinguish between these elements.\n",
        "\n",
        "\n",
        "    # The final plot will show training data in blue, test data in green, and, if provided, predictions and the line of best fit in red.\n"
      ]
    },
    {
      "cell_type": "code",
      "execution_count": null,
      "metadata": {
        "trusted": false,
        "id": "00IL3vsbCfJy",
        "outputId": "ca18d434-34e1-4efc-a08b-f5409bcc4bb2"
      },
      "outputs": [
        {
          "data": {
            "image/png": "[encoded data removed]",
            "text/plain": [
              "<Figure size 640x480 with 1 Axes>"
            ]
          },
          "metadata": {},
          "output_type": "display_data"
        }
      ],
      "source": [
        "plot_predictions();"
      ]
    },
    {
      "cell_type": "markdown",
      "metadata": {
        "id": "fCemdGf-CfJy"
      },
      "source": [
        "## 2. Build Model\n",
        "\n",
        "Now that we've got some data, let's build a model to use the blue dots to predict the green dots.\n",
        "\n",
        "This is where we will need OOP.\n",
        "\n",
        "### What our model does (in the code below):\n",
        "* Start with random values (weight & bias)\n",
        "* Look at training data and adjust the random values to better represent (or get closer to) the ideal values (the weight and bias values we used to create the data).\n",
        "\n",
        "### How does it work?\n",
        "Through two main algorithms:\n",
        "\n",
        "1. **Gradient Descent**:\n",
        "   - **Goal**: Gradient descent is an optimization algorithm that helps adjust the model’s parameters (weights and biases) to minimize a **loss function** (which tells us how far off our predictions are from the actual data). The lower the loss, the better the model is performing.\n",
        "   - **Process**:\n",
        "     1. **Start with random values**: The model begins with random values for its weights and biases.\n",
        "     2. **Calculate the loss**: For every prediction the model makes, compare it to the actual data using a loss function like **Mean Squared Error (MSE)**. MSE measures how far the predicted values are from the actual values.\n",
        "     3. **Compute the gradient**: In ML, gradient is a derivative of a function that has more than one input variable. Think of it as a slope or vector that is the measure of how much the loss will change if you adjust each of the parameters. Gradients point in the direction of increasing loss, so by following the opposite direction, we can reduce the loss.\n",
        "     4. **Update parameters**: The model's weights and biases are updated by a small amount in the direction that reduces the loss. This process is repeated until the model's parameters settle at values that minimize the error.\n",
        "     - **Key Idea**: We want to reduce the error between the predicted and actual values, so the weights and biases are adjusted iteratively by using gradients to guide those adjustments.\n",
        "   \n",
        "2. **Backpropagation**:\n",
        "   - **Goal**: Backpropagation computes how much each parameter (weight and bias) contributed to the overall error (loss), so the model knows exactly how to adjust them.\n",
        "   - **Process**:\n",
        "     1. **Forward pass**: Input data passes through the network, layer by layer, and the model makes a prediction using the current weights and biases.\n",
        "     2. **Calculate the loss**: The model compares the prediction to the actual data using the loss function (e.g., MSE) to determine how far off the prediction was.\n",
        "     3. **Backward pass (Backpropagation)**: The loss is then “propagated backward” through the network by calculating how much each weight and bias influenced the loss. This is done using the **chain rule** from calculus, which breaks the error into pieces that allow the model to understand the impact of each parameter.\n",
        "     4. **Gradient computation**: Backpropagation computes the gradient (or slope) of the loss function with respect to each parameter in the network, starting from the output layer and moving backward to the input layer.\n",
        "     5. **Update parameters**: These gradients are then used by gradient descent to update the weights and biases in a way that reduces the error for the next prediction.\n",
        "\n",
        "   - **Key Idea**: Backpropagation helps calculate the gradients needed to update each weight and bias by understanding how each one contributed to the error. This is critical for making the model learn."
      ]
    },
    {
      "cell_type": "markdown",
      "metadata": {
        "id": "xwDRn396CfJy"
      },
      "source": [
        "### Relationship between loss function, backpropagation, and gradient descent\n",
        "\n",
        "The **loss function** quantifies how far the model is from the optimal solution, **backpropagation** calculates the gradients of the loss function with respect to each model parameter by propagating the error backward through the network, and **gradient descent** is the mechanism that iteratively reduces this loss by updating the model parameters based on these gradients."
      ]
    },
    {
      "cell_type": "markdown",
      "metadata": {
        "id": "q4fTZxB_CfJz"
      },
      "source": [
        "### Why backpropogation instead of calculating the error by propagating forward?\n",
        "\n",
        "Backpropagation is preferred over forward propagation for calculating error because:\n",
        "\n",
        "1. **Chain Rule of Calculus**:\n",
        "   - Backpropagation uses the **chain rule** to compute how the loss changes with respect to each parameter, starting from the output layer and moving backward. This allows efficient gradient calculation for each layer.\n",
        "\n",
        "2. **Final Error at Output**:\n",
        "   - The error is only available at the **final output layer** after a forward pass. Backpropagation propagates this error backward to attribute it to earlier layers, adjusting their parameters accordingly.\n",
        "\n",
        "3. **Parameter Dependencies**:\n",
        "   - Each layer’s output affects subsequent layers, so backpropagation efficiently computes how each layer’s parameters contributed to the final error by propagating gradients from the output backward.\n",
        "\n",
        "4. **Efficiency**:\n",
        "   - Backpropagation avoids recalculating intermediate values by reusing the forward pass results, making it much more efficient than propagating gradients forward.\n",
        "\n",
        "5. **Conclusion**:\n",
        "   - Backpropagation efficiently calculates how each layer’s parameters contribute to the final error using the chain rule, starting from the output. Forward propagation computes predictions but cannot provide the necessary information to adjust parameters."
      ]
    },
    {
      "cell_type": "markdown",
      "metadata": {
        "id": "LWWw-k0jCfJz"
      },
      "source": [
        "Think of Gradient Descent as a curved graph for each parameter:\n",
        "\n",
        "![Gradient Descent Image](https://images.javatpoint.com/tutorial/machine-learning/images/gradient-descent-in-machine-learning2.png)"
      ]
    },
    {
      "cell_type": "code",
      "execution_count": null,
      "metadata": {
        "trusted": false,
        "id": "utwwtRNUCfJz"
      },
      "outputs": [],
      "source": [
        "# Create a linear regression model class inheriting from nn.Module (the base class for all neural network modules)\n",
        "class LinearRegressionModel(nn.Module):\n",
        "    # Constructor method for the class. It's called when a new instance of the class is created.\n",
        "    def __init__(self):\n",
        "        # super will call the __init__ method of the parent class (nn.Module) to ensure that all its functionality is initialized\n",
        "        super().__init__()\n",
        "        # Define the weights parameter initialized randomly with requires_grad=True to compute gradients for optimization\n",
        "        self.weight = nn.Parameter(torch.randn(1, # start with a random weight and try to adjust it to the ideal weight\n",
        "                                                requires_grad=True, # This is true by default so we don't need to explicitly set it True here\n",
        "                                                dtype=torch.float))  # <- This is float32 by default so we don't need to explicitly set it like this here\n",
        "\n",
        "        # Define the bias parameter initialized randomly with requires_grad=True to compute gradients\n",
        "        self.bias = nn.Parameter(torch.randn(1, # start with a random bias and try to adjust it to the ideal bias\n",
        "                                             requires_grad=True,\n",
        "                                             dtype=torch.float))\n",
        "\n",
        "    # Forward method defines how input data x is transformed to produce the output data\n",
        "    # Implements the forward pass, where 'x' is an input tensor and the output is a processed tensor, both of type torch.Tensor.\n",
        "    def forward(self, x: torch.Tensor) -> torch.Tensor:\n",
        "        # Apply the linear regression formula y = wx + b\n",
        "        return self.weight * x + self.bias\n",
        "\n",
        "# The goal is to start with random weights and biases, run it through the forward pass,\n",
        "# and then update the weights and biases to represent the known parameters (currently 0.7 and 0.3) as closely as possible\n",
        "# Through an algorithm called gradient descent, this is achieved."
      ]
    },
    {
      "cell_type": "markdown",
      "metadata": {
        "id": "nenilK2cCfJz"
      },
      "source": [
        "### PyTorch model building essentials\n",
        "\n",
        "PyTorch has four (give or take) essential modules you can use to create almost any kind of neural network you can imagine.\n",
        "\n",
        "They are [`torch.nn`](https://pytorch.org/docs/stable/nn.html), [`torch.optim`](https://pytorch.org/docs/stable/optim.html), [`torch.utils.data.Dataset`](https://pytorch.org/docs/stable/data.html#torch.utils.data.Dataset) and [`torch.utils.data.DataLoader`](https://pytorch.org/docs/stable/data.html). For now, we'll focus on the first two and get to the other two later (though you may be able to guess what they do).\n",
        "\n",
        "| PyTorch module | What does it do? |\n",
        "| ----- | ----- |\n",
        "| [`torch.nn`](https://pytorch.org/docs/stable/nn.html) | Contains all of the building blocks for computational graphs (essentially a series of computations executed in a particular way). |\n",
        "| [`torch.nn.Parameter`](https://pytorch.org/docs/stable/generated/torch.nn.parameter.Parameter.html#parameter) | This is a special kind of tensor that is specifically designed to be used as part of the learnable parameters in a neural network. It essentially stores tensors that can be used with `nn.Module`. If `requires_grad=True` gradients (used for updating model parameters via [**gradient descent**](https://ml-cheatsheet.readthedocs.io/en/latest/gradient_descent.html))  are calculated automatically, this is often referred to as \"autograd\".  |\n",
        "| [`torch.nn.Module`](https://pytorch.org/docs/stable/generated/torch.nn.Module.html#torch.nn.Module) | The base class for all neural network modules, all the building blocks for neural networks are subclasses. If you're building a neural network in PyTorch, your models should subclass `nn.Module`. Requires a `forward()` method be implemented. |\n",
        "| [`torch.optim`](https://pytorch.org/docs/stable/optim.html) | Contains various optimization algorithms (these tell the model parameters stored in `nn.Parameter` how to best change to improve gradient descent and in turn reduce the loss). |\n",
        "| `def forward()` | All `nn.Module` subclasses require a `forward()` method, this defines the computation that will take place on the data passed to the particular `nn.Module` (e.g. the linear regression formula above). |\n",
        "\n",
        "If the above sounds complex, think of like this, almost everything in a PyTorch neural network comes from `torch.nn`,\n",
        "* `nn.Module` contains the larger building blocks (layers)\n",
        "* `nn.Parameter` contains the smaller parameters like weights and biases (put these together to make `nn.Module`(s))\n",
        "* `forward()` tells the larger blocks how to make calculations on inputs (tensors full of data) within  `nn.Module`(s)\n",
        "* `torch.optim` contains optimization methods on how to improve the parameters within `nn.Parameter` to better represent input data\n",
        "\n",
        "![a pytorch linear model with annotations](https://raw.githubusercontent.com/mrdbourke/pytorch-deep-learning/main/images/01-pytorch-linear-model-annotated.png)\n",
        "*Basic building blocks of creating a PyTorch model by subclassing `nn.Module`. For objects that subclass `nn.Module`, the `forward()` method must be defined.*\n",
        "\n",
        "> **Resource:** See more of these essential modules and their use cases in the [PyTorch Cheat Sheet](https://pytorch.org/tutorials/beginner/ptcheat.html).\n"
      ]
    },
    {
      "cell_type": "markdown",
      "metadata": {
        "id": "W_vv2KRoCfJz"
      },
      "source": [
        "### Checking the contents of our PyTorch model\n",
        "\n",
        "Now that we've created a model, let's see what is inside\n",
        "\n",
        "We can check out our model parameters using `.parameters()`.\n"
      ]
    },
    {
      "cell_type": "code",
      "execution_count": null,
      "metadata": {
        "trusted": false,
        "id": "jOhNPbMACfJz",
        "outputId": "5a0f322d-d746-42e0-da55-0fae1b55b1ba"
      },
      "outputs": [
        {
          "data": {
            "text/plain": [
              "[Parameter containing:\n",
              " tensor([0.3367], requires_grad=True),\n",
              " Parameter containing:\n",
              " tensor([0.1288], requires_grad=True)]"
            ]
          },
          "execution_count": 328,
          "metadata": {},
          "output_type": "execute_result"
        }
      ],
      "source": [
        "# Set a fixed seed for reproducibility (ensures the same random numbers are generated each time)\n",
        "torch.manual_seed(42)\n",
        "\n",
        "# Instantiate the linear regression model (this creates an instance with random weight and bias)\n",
        "model_0 = LinearRegressionModel()\n",
        "\n",
        "# Retrieve the list of parameters (weights and biases) of the model for inspection\n",
        "list(model_0.parameters())"
      ]
    },
    {
      "cell_type": "markdown",
      "metadata": {
        "id": "C190ps06CfJz"
      },
      "source": [
        "We can also get the state (what the model contains) of the model using [`.state_dict()`](https://pytorch.org/docs/stable/generated/torch.nn.Module.html#torch.nn.Module.state_dict)."
      ]
    },
    {
      "cell_type": "code",
      "execution_count": null,
      "metadata": {
        "trusted": false,
        "id": "JMBwrAWvCfJz",
        "outputId": "d56028ad-37aa-4d69-a814-9476e00c6ab3"
      },
      "outputs": [
        {
          "data": {
            "text/plain": [
              "OrderedDict([('weight', tensor([0.3367])), ('bias', tensor([0.1288]))])"
            ]
          },
          "execution_count": 329,
          "metadata": {},
          "output_type": "execute_result"
        }
      ],
      "source": [
        "# List named parameters and their corresponding values\n",
        "model_0.state_dict()"
      ]
    },
    {
      "cell_type": "markdown",
      "metadata": {
        "id": "P6sRKRu6CfJz"
      },
      "source": [
        "\n",
        "Notice how the values for `weights` and `bias` from `model_0.state_dict()` come out as random float tensors?\n",
        "\n",
        "This is because we initialized them above using `torch.randn()`.\n",
        "\n",
        "Essentially we want to start from random parameters and get the model to update them towards parameters that fit our data best (the hardcoded `weight` and `bias` values we set when creating our straight line data). In this case, that would be 0.7 and 0.3 for weight and bias respectively.\n",
        "\n",
        "> **Exercise:** Try changing the `torch.manual_seed()` value two cells above, see what happens to the weights and bias values.\n",
        "\n",
        "Because our model starts with random values, right now it'll have poor predictive power.\n",
        "\n"
      ]
    },
    {
      "cell_type": "markdown",
      "metadata": {
        "id": "KkovkjxMCfJz"
      },
      "source": [
        "### Making predictions with using `torch.inference_mode()`\n",
        "\n",
        "To check our model's predictive power, let's see how well it predicts `y_test` based on `X_test`.\n",
        "\n",
        "When we pass data to our model, it will go through the model's `forward()` method and produce a result using the computation we've defined."
      ]
    },
    {
      "cell_type": "code",
      "execution_count": null,
      "metadata": {
        "trusted": false,
        "id": "SYF_m7ATCfJz",
        "outputId": "dee03188-5d23-4f33-fcd6-dc5084ae74ed"
      },
      "outputs": [
        {
          "data": {
            "text/plain": [
              "(tensor([[0.8000],\n",
              "         [0.8200],\n",
              "         [0.8400],\n",
              "         [0.8600],\n",
              "         [0.8800],\n",
              "         [0.9000],\n",
              "         [0.9200],\n",
              "         [0.9400],\n",
              "         [0.9600],\n",
              "         [0.9800]]),\n",
              " tensor([[0.8600],\n",
              "         [0.8740],\n",
              "         [0.8880],\n",
              "         [0.9020],\n",
              "         [0.9160],\n",
              "         [0.9300],\n",
              "         [0.9440],\n",
              "         [0.9580],\n",
              "         [0.9720],\n",
              "         [0.9860]]))"
            ]
          },
          "execution_count": 330,
          "metadata": {},
          "output_type": "execute_result"
        }
      ],
      "source": [
        "X_test, y_test\n",
        "# An ideal model will input X_test and output y_test values exactly, i.e., the model should have no error"
      ]
    },
    {
      "cell_type": "code",
      "execution_count": null,
      "metadata": {
        "trusted": false,
        "id": "NuXCOm6_CfJz",
        "outputId": "a8dff83f-9d2f-4dd1-97bb-0203f5ecd74b"
      },
      "outputs": [
        {
          "data": {
            "text/plain": [
              "tensor([[0.3982],\n",
              "        [0.4049],\n",
              "        [0.4116],\n",
              "        [0.4184],\n",
              "        [0.4251],\n",
              "        [0.4318],\n",
              "        [0.4386],\n",
              "        [0.4453],\n",
              "        [0.4520],\n",
              "        [0.4588]])"
            ]
          },
          "execution_count": 331,
          "metadata": {},
          "output_type": "execute_result"
        }
      ],
      "source": [
        "# Make predictions with model\n",
        "with torch.inference_mode():\n",
        "    y_pred = model_0(X_test) # we pass the X_test data through our model\n",
        "\n",
        "# Note that inference mode temporarily disables autograd, which can speed up prediction computations\n",
        "\n",
        "# Inference mode is preferred over no_grad mode because it saves memory and speeds up computations, especially when dealing with large datasets.\n",
        "\n",
        "y_pred"
      ]
    },
    {
      "cell_type": "code",
      "execution_count": null,
      "metadata": {
        "trusted": false,
        "id": "OviEYkP-CfJz",
        "outputId": "9d083007-9185-4747-e5e6-3648109f1462"
      },
      "outputs": [
        {
          "data": {
            "image/png": "[encoded data removed]",
            "text/plain": [
              "<Figure size 640x480 with 1 Axes>"
            ]
          },
          "metadata": {},
          "output_type": "display_data"
        }
      ],
      "source": [
        "plot_predictions(predictions=y_pred)"
      ]
    },
    {
      "cell_type": "markdown",
      "metadata": {
        "id": "rrUr3aZVCfJ0"
      },
      "source": [
        "Currently, our model is making random predictions that are far from where our data actually lies. This is because we haven't trained our model yet.\n",
        "\n",
        "Right now, our model is making predictions using random parameters to make calculations (random guessing). It's not looking at the blue dots to predict the green dots at all."
      ]
    },
    {
      "cell_type": "markdown",
      "metadata": {
        "id": "OoiigKTcCfJ0"
      },
      "source": [
        "## 3. Train Model\n",
        "\n",
        "Right now, our model is making prediction using random parameters to make calculations. It is basically guessing randomly.\n",
        "\n",
        "We could attempt to hard-code the ideal values, but most of the time we would not know what the ideal parameters are for a model.\n",
        "\n",
        "The whole idea of training is for a model to move from some *unknown* parameters (these may be random) to some *known* parameters i.e. from a poor representation of the data to a better representation of the data.\n",
        "\n",
        "One way to measure how inaccurate or how wrong your model's predictions are is to use a loss function.\n",
        "\n",
        "### Creating a loss function and optimizer in PyTorch\n",
        "\n",
        "| Function | What does it do? | Where does it live in PyTorch? | Common values |\n",
        "| ----- | ----- | ----- | ----- |\n",
        "| **Loss function** | Measures how wrong your model's predictions (e.g. `y_pred`) are compared to the truth labels (e.g. `y_test`). Lower the better. | PyTorch has plenty of built-in loss functions in [`torch.nn`](https://pytorch.org/docs/stable/nn.html#loss-functions). | Mean absolute error (MAE) for regression problems ([`torch.nn.L1Loss()`](https://pytorch.org/docs/stable/generated/torch.nn.L1Loss.html)). Binary cross entropy for binary classification problems ([`torch.nn.BCELoss()`](https://pytorch.org/docs/stable/generated/torch.nn.BCELoss.html)).  |\n",
        "| **Optimizer** | Tells your model how to update its internal parameters to best lower the loss. | You can find various optimization function implementations in [`torch.optim`](https://pytorch.org/docs/stable/optim.html). | Stochastic gradient descent ([`torch.optim.SGD()`](https://pytorch.org/docs/stable/generated/torch.optim.SGD.html#torch.optim.SGD)). Adam optimizer ([`torch.optim.Adam()`](https://pytorch.org/docs/stable/generated/torch.optim.Adam.html#torch.optim.Adam)). |\n",
        "\n",
        "Let's create a loss function and an optimizer we can use to help improve our model.\n",
        "\n",
        "Depending on what kind of problem you're working on will depend on what loss function and what optimizer you use.\n",
        "\n",
        "However, there are some common values, that are known to work well such as the SGD (stochastic gradient descent) or Adam optimizer. And the MAE (mean absolute error) loss function for regression problems (predicting a number) or binary cross entropy loss function for classification problems (predicting one thing or another).\n",
        "\n",
        "For our problem, since we're predicting a number, let's use MAE (which is under `torch.nn.L1Loss()`) in PyTorch as our loss function.\n",
        "\n",
        "![what MAE loss looks like for our plot data](https://raw.githubusercontent.com/mrdbourke/pytorch-deep-learning/main/images/01-mae-loss-annotated.png)\n",
        "*Mean absolute error (MAE, in PyTorch: `torch.nn.L1Loss`) measures the absolute difference between two points (predictions and labels) and then takes the mean across all examples.*\n",
        "\n",
        "And we'll use SGD, `torch.optim.SGD(params, lr)` where:\n",
        "\n",
        "* `params` is the target model parameters you'd like to optimize (e.g. the `weights` and `bias` values we randomly set before).\n",
        "* `lr` is the **learning rate** you'd like the optimizer to update the parameters at, higher means the optimizer will try larger updates (these can sometimes be too large and the optimizer will fail to work), lower means the optimizer will try smaller updates (these can sometimes be too small and the optimizer will take too long to find the ideal values). The learning rate is considered a **hyperparameter** (because it's set by a machine learning engineer). Common starting values for the learning rate are `0.01`, `0.001`, `0.0001`, however, these can also be adjusted over time (this is called [learning rate scheduling](https://pytorch.org/docs/stable/optim.html#how-to-adjust-learning-rate)).\n",
        "\n",
        "\n",
        "### Code Implementation:"
      ]
    },
    {
      "cell_type": "code",
      "execution_count": null,
      "metadata": {
        "trusted": false,
        "id": "0V_jAAS1CfJ0"
      },
      "outputs": [],
      "source": [
        "# Create a loss function using L1 Loss (MAE), which calculates the absolute differences between predicted and target values\n",
        "loss_fn = nn.L1Loss()\n",
        "\n",
        "# Create the optimizer using Stochastic Gradient Descent (SGD), with the model's parameters and a learning rate of 0.01\n",
        "optimizer = torch.optim.SGD(params=model_0.parameters(), # parameters of the target model to optimize\n",
        "                            lr=0.01) # learning rate: how much the optimizer should change parameters at each step.\n",
        "                                     # higher=more (less stable), lower=less (more stable)"
      ]
    },
    {
      "cell_type": "markdown",
      "metadata": {
        "id": "oBcQTma4CfJ0"
      },
      "source": [
        "### Creating an optimization loop in PyTorch\n",
        "\n",
        "Now that we have a loss function and an optimizer, now we can create a **training loop** (and **testing loop**)\n",
        "\n",
        "The **training loop** involves the model going through the training data and learning the relationships between the `features` and `labels`.\n",
        "\n",
        "The **testing loop** involves evaluating how well the model has learned patterns from the training data by using the testing data, which the model has not seen during training."
      ]
    },
    {
      "cell_type": "markdown",
      "metadata": {
        "id": "mM2-4HHrCfJ0"
      },
      "source": [
        "### PyTorch training loop\n",
        "| Number | Step name | What does it do? | Code example |\n",
        "| ----- | ----- | ----- | ----- |\n",
        "| 1 | Forward pass | The model goes through all of the training data once, performing its `forward()` function calculations. | `model(x_train)` |\n",
        "| 2 | Calculate the loss | The model's outputs (predictions) are compared to the ground truth and evaluated to see how wrong they are. | `loss = loss_fn(y_pred, y_train)` |\n",
        "| 3 | Zero gradients | The optimizers gradients are set to zero (they are accumulated by default) so they can be recalculated for the specific training step. | `optimizer.zero_grad()` |\n",
        "| 4 | Perform backpropagation on the loss | Computes the gradient of the loss with respect for every model parameter to be updated  (each parameter with `requires_grad=True`). This is known as **backpropagation**, hence \"backwards\".  | `loss.backward()` |\n",
        "| 5 | Update the optimizer (**gradient descent**) | Update the parameters with `requires_grad=True` with respect to the loss gradients in order to improve them. | `optimizer.step()` |\n",
        "\n",
        "![pytorch training loop annotated](https://raw.githubusercontent.com/mrdbourke/pytorch-deep-learning/main/images/01-pytorch-training-loop-annotated.png)\n",
        "\n",
        "> **Note:** The above is just one example of how the steps could be ordered or described. With experience you'll find making PyTorch training loops can be quite flexible.\n",
        ">\n",
        "> And on the ordering of things, the above is a good default order but you may see slightly different orders. Some rules of thumb:\n",
        "> * Calculate the loss (`loss = ...`) *before* performing backpropagation on it (`loss.backward()`).\n",
        "> * Zero gradients (`optimizer.zero_grad()`) *before* computing the gradients of the loss with respect to every model parameter (`loss.backward()`).\n",
        "> * Step the optimizer (`optimizer.step()`) *after* performing backpropagation on the loss (`loss.backward()`).\n",
        "\n"
      ]
    },
    {
      "cell_type": "markdown",
      "metadata": {
        "id": "3xQaEkByCfJ0"
      },
      "source": [
        "### PyTorch testing loop\n",
        "\n",
        "As for the testing loop (evaluating our model), the typical steps include:\n",
        "\n",
        "| Number | Step name | What does it do? | Code example |\n",
        "| ----- | ----- | ----- | ----- |\n",
        "| 1 | Forward pass | The model goes through all of the testing data once, performing its `forward()` function calculations. | `model(x_test)` |\n",
        "| 2 | Calculate the loss | The model's outputs (predictions) are compared to the ground truth and evaluated to see how wrong they are. | `loss = loss_fn(y_pred, y_test)` |\n",
        "| 3 | Calulate evaluation metrics (optional) | Alongside the loss value you may want to calculate other evaluation metrics such as accuracy on the test set. | Custom functions |\n",
        "\n",
        "Notice the testing loop doesn't contain performing backpropagation (`loss.backward()`) or stepping the optimizer (`optimizer.step()`), this is because no parameters in the model are being changed during testing, they've already been calculated. For testing, we're only interested in the output of the forward pass through the model.\n",
        "\n",
        "![pytorch annotated testing loop](https://raw.githubusercontent.com/mrdbourke/pytorch-deep-learning/main/images/01-pytorch-testing-loop-annotated.png)\n"
      ]
    },
    {
      "cell_type": "markdown",
      "metadata": {
        "id": "kIPItu7jCfJ0"
      },
      "source": [
        "### What are Loss Values?\n",
        "\n",
        "Loss values are a way to measure how well a machine learning model's predictions match the actual target values. In simple terms, they tell you how far off your model's predictions are from the correct answers.\n",
        "\n",
        "#### Key Points:\n",
        "\n",
        "1. **Quantifying Error**:\n",
        "   The loss function calculates the difference (error) between the model’s predicted output and the actual target (true) output.\n",
        "   - For example, in regression tasks, if the model predicts a value like 20 but the actual value is 25, the loss function measures the size of this error.\n",
        "\n",
        "2. **Single Number**:\n",
        "   The result of this calculation is a single number that represents how poorly or well the model is performing. Lower loss means better performance (i.e., smaller error), and higher loss means worse performance.\n",
        "\n",
        "3. **Training Loss vs. Testing Loss**:\n",
        "   - **Training Loss**: The loss calculated on the training dataset, which the model learns from.\n",
        "   - **Testing Loss**: The loss calculated on the test (or validation) dataset, which is unseen by the model during training. This helps evaluate how well the model generalizes to new data.\n",
        "\n",
        "4. **Loss Function**:\n",
        "   The specific way in which the loss is calculated depends on the type of task. Common loss functions include:\n",
        "   - **Mean Squared Error (MSE)**: Used for regression tasks, it calculates the average squared difference between predicted and actual values.\n",
        "   - **Cross-Entropy Loss**: Used for classification tasks, it measures the difference between predicted probability distributions and actual class labels.\n",
        "\n",
        "In short, **loss values guide the model in learning**. During training, the model adjusts its parameters (weights and biases) to minimize the loss, which improves its predictions."
      ]
    },
    {
      "cell_type": "markdown",
      "metadata": {
        "id": "0QA2Wm35CfJ0"
      },
      "source": [
        "### Writing the code to train and test our model:"
      ]
    },
    {
      "cell_type": "code",
      "execution_count": null,
      "metadata": {
        "trusted": false,
        "id": "IDejjaCNCfJ0",
        "outputId": "a8e0276f-aa20-4807-f109-40ed13f4e778"
      },
      "outputs": [
        {
          "name": "stdout",
          "output_type": "stream",
          "text": [
            "Epoch: 0 | MAE Train Loss: 0.31288138031959534 | MAE Test Loss: 0.48106518387794495 \n",
            "OrderedDict({'weight': tensor([0.3406]), 'bias': tensor([0.1388])})\n",
            "Epoch: 10 | MAE Train Loss: 0.1976713240146637 | MAE Test Loss: 0.3463551998138428 \n",
            "OrderedDict({'weight': tensor([0.3796]), 'bias': tensor([0.2388])})\n",
            "Epoch: 20 | MAE Train Loss: 0.08908725529909134 | MAE Test Loss: 0.21729660034179688 \n",
            "OrderedDict({'weight': tensor([0.4184]), 'bias': tensor([0.3333])})\n",
            "Epoch: 30 | MAE Train Loss: 0.053148526698350906 | MAE Test Loss: 0.14464017748832703 \n",
            "OrderedDict({'weight': tensor([0.4512]), 'bias': tensor([0.3768])})\n",
            "Epoch: 40 | MAE Train Loss: 0.04543796554207802 | MAE Test Loss: 0.11360953003168106 \n",
            "OrderedDict({'weight': tensor([0.4748]), 'bias': tensor([0.3868])})\n",
            "Epoch: 50 | MAE Train Loss: 0.04167863354086876 | MAE Test Loss: 0.09919948130846024 \n",
            "OrderedDict({'weight': tensor([0.4938]), 'bias': tensor([0.3843])})\n",
            "Epoch: 60 | MAE Train Loss: 0.03818932920694351 | MAE Test Loss: 0.08886633068323135 \n",
            "OrderedDict({'weight': tensor([0.5116]), 'bias': tensor([0.3788])})\n",
            "Epoch: 70 | MAE Train Loss: 0.03476089984178543 | MAE Test Loss: 0.0805937647819519 \n",
            "OrderedDict({'weight': tensor([0.5288]), 'bias': tensor([0.3718])})\n",
            "Epoch: 80 | MAE Train Loss: 0.03132382780313492 | MAE Test Loss: 0.07232122868299484 \n",
            "OrderedDict({'weight': tensor([0.5459]), 'bias': tensor([0.3648])})\n",
            "Epoch: 90 | MAE Train Loss: 0.02788740023970604 | MAE Test Loss: 0.06473556160926819 \n",
            "OrderedDict({'weight': tensor([0.5629]), 'bias': tensor([0.3573])})\n",
            "Epoch: 100 | MAE Train Loss: 0.024458957836031914 | MAE Test Loss: 0.05646304413676262 \n",
            "OrderedDict({'weight': tensor([0.5800]), 'bias': tensor([0.3503])})\n",
            "Epoch: 110 | MAE Train Loss: 0.021020209416747093 | MAE Test Loss: 0.04819049686193466 \n",
            "OrderedDict({'weight': tensor([0.5972]), 'bias': tensor([0.3433])})\n",
            "Epoch: 120 | MAE Train Loss: 0.01758546754717827 | MAE Test Loss: 0.04060482233762741 \n",
            "OrderedDict({'weight': tensor([0.6141]), 'bias': tensor([0.3358])})\n",
            "Epoch: 130 | MAE Train Loss: 0.014155392535030842 | MAE Test Loss: 0.03233227878808975 \n",
            "OrderedDict({'weight': tensor([0.6313]), 'bias': tensor([0.3288])})\n",
            "Epoch: 140 | MAE Train Loss: 0.010716588236391544 | MAE Test Loss: 0.024059748277068138 \n",
            "OrderedDict({'weight': tensor([0.6485]), 'bias': tensor([0.3218])})\n",
            "Epoch: 150 | MAE Train Loss: 0.0072835348546504974 | MAE Test Loss: 0.016474086791276932 \n",
            "OrderedDict({'weight': tensor([0.6654]), 'bias': tensor([0.3143])})\n",
            "Epoch: 160 | MAE Train Loss: 0.003851778106763959 | MAE Test Loss: 0.008201557211577892 \n",
            "OrderedDict({'weight': tensor([0.6826]), 'bias': tensor([0.3073])})\n",
            "Epoch: 170 | MAE Train Loss: 0.00893248151987791 | MAE Test Loss: 0.005023092031478882 \n",
            "OrderedDict({'weight': tensor([0.6951]), 'bias': tensor([0.2993])})\n",
            "Epoch: 180 | MAE Train Loss: 0.00893248151987791 | MAE Test Loss: 0.005023092031478882 \n",
            "OrderedDict({'weight': tensor([0.6951]), 'bias': tensor([0.2993])})\n",
            "Epoch: 190 | MAE Train Loss: 0.00893248151987791 | MAE Test Loss: 0.005023092031478882 \n",
            "OrderedDict({'weight': tensor([0.6951]), 'bias': tensor([0.2993])})\n"
          ]
        }
      ],
      "source": [
        "torch.manual_seed(42)  # Set random seed for reproducibility\n",
        "\n",
        "# Set the number of epochs (how many times the model will pass over the training data)\n",
        "epochs = 200\n",
        "\n",
        "# Create empty lists to track loss values for both training and testing data\n",
        "train_loss_values = []  # Stores the loss values for the training dataset\n",
        "test_loss_values = []   # Stores the loss values for the testing dataset\n",
        "epoch_count = []        # Tracks the epochs when losses are recorded\n",
        "\n",
        "### Training the model\n",
        "\n",
        "for epoch in range(epochs):\n",
        "    ### Training\n",
        "\n",
        "    # Set the model to training mode (enables gradient calculation, and if using layers like dropout, they behave correctly for training)\n",
        "    model_0.train()\n",
        "\n",
        "    # 1. Forward pass on training data to get predictions (model processes the input data X_train and generates output predictions y_pred)\n",
        "    y_pred = model_0(X_train)\n",
        "\n",
        "    # 2. Calculate training loss (loss_fn compares the predicted values (y_pred) to the actual target values (y_train) to quantify the error)\n",
        "    loss = loss_fn(y_pred, y_train) # loss_fn(prediction, target)\n",
        "\n",
        "    # 3. Zero the gradients (clears old gradients from previous iterations, preventing accumulation that would mess up the updates)\n",
        "    optimizer.zero_grad()\n",
        "\n",
        "    # 4. Backpropagate the loss (calculates how the loss changes with respect to each model parameter using the chain rule)\n",
        "    loss.backward()\n",
        "\n",
        "    # 5. Update model parameters based on calculated gradients (optimizer adjusts model weights in the direction that reduces the loss)\n",
        "    optimizer.step() # this should always go after backpropagation\n",
        "\n",
        "### Testing the model (with data it has never seen before)\n",
        "\n",
        "    # Set the model to evaluation mode (disables gradient calculation and sets dropout layers to inference mode)\n",
        "    model_0.eval()\n",
        "\n",
        "    with torch.inference_mode():  # Disable gradient calculation for efficiency during evaluation/testing\n",
        "        # 1. Forward pass on test data to get predictions (assess model performance on unseen data)\n",
        "        test_pred = model_0(X_test)\n",
        "\n",
        "        # 2. Calculate testing loss (quantifies how far off predictions are from actual values in test data)\n",
        "        test_loss = loss_fn(test_pred, y_test)\n",
        "\n",
        "        # Log and print progress every 10 epochs\n",
        "        if epoch % 10 == 0:\n",
        "            epoch_count.append(epoch)  # Track current epoch number\n",
        "            train_loss_values.append(loss.detach().numpy())  # Save training loss (detach to prevent storing gradients)\n",
        "            test_loss_values.append(test_loss.detach().numpy())  # Save testing loss\n",
        "            print(f\"Epoch: {epoch} | MAE Train Loss: {loss} | MAE Test Loss: {test_loss} \")\n",
        "            print(model_0.state_dict())"
      ]
    },
    {
      "cell_type": "markdown",
      "metadata": {
        "id": "iuYu65uGCfJ0"
      },
      "source": [
        "> **Note:** Due to the random nature of machine learning, you will likely get slightly different results (different loss and prediction values) depending on whether your model was trained on CPU or GPU. This is true even if you use the same random seed on either device. If the difference is large, you may want to look for errors, however, if it is small (ideally it is), you can ignore it."
      ]
    },
    {
      "cell_type": "code",
      "execution_count": null,
      "metadata": {
        "id": "qKacK7u_CfJ0",
        "outputId": "6f06de71-9fbd-4adb-f538-8411a7c165c0"
      },
      "outputs": [
        {
          "data": {
            "image/png": "[encoded data removed]",
            "text/plain": [
              "<Figure size 640x480 with 1 Axes>"
            ]
          },
          "metadata": {},
          "output_type": "display_data"
        }
      ],
      "source": [
        "# Plot the loss curves - this is one way we can keep track of our model's training and testing performance\n",
        "plt.plot(epoch_count, train_loss_values, label=\"Train loss\")\n",
        "plt.plot(epoch_count, test_loss_values, label=\"Test loss\")\n",
        "plt.title(\" Training and test loss curves\")\n",
        "plt.xlabel(\"Epoch\")\n",
        "plt.ylabel(\"Loss\")\n",
        "plt.legend();"
      ]
    },
    {
      "cell_type": "markdown",
      "metadata": {
        "id": "G7nr9j6RCfJ0"
      },
      "source": [
        "> Note that the loss does go down for both in increments (gradient descent)."
      ]
    },
    {
      "cell_type": "code",
      "execution_count": null,
      "metadata": {
        "id": "wqKjWExoCfJ1",
        "outputId": "d9aac460-c94f-4f47-de10-25ba7653173b"
      },
      "outputs": [
        {
          "name": "stdout",
          "output_type": "stream",
          "text": [
            "The model learned the following values for weights and bias:\n",
            "OrderedDict({'weight': tensor([0.6990]), 'bias': tensor([0.3093])})\n",
            "\n",
            "And the original values for weights and bias are:\n",
            "weights: 0.7, bias: 0.3\n"
          ]
        }
      ],
      "source": [
        "# Import the pprint function to pretty-print the model's state dictionary for improved readability\n",
        "from pprint import pprint\n",
        "\n",
        "# Print a message to indicate that the following output shows the model's learned parameters (weights and bias) after training\n",
        "print(\"The model learned the following values for weights and bias:\")\n",
        "\n",
        "# Pretty-print the model's state dictionary, which contains the learned weights and bias after training\n",
        "pprint(model_0.state_dict())\n",
        "\n",
        "# Print a message to indicate that the next output will show the original, pre-training values for weights and bias\n",
        "print(\"\\nAnd the original values for weights and bias are:\")\n",
        "\n",
        "# Print the original values for weights and bias (initial values before any training)\n",
        "print(f\"weights: {weight}, bias: {bias}\")"
      ]
    },
    {
      "cell_type": "markdown",
      "metadata": {
        "id": "6NWrZbVBCfJ1"
      },
      "source": [
        "Try changing to `epochs` from 100 to a higher number and note how the loss curves and the weights and bias parameter values change.\n",
        "\n",
        "Instead of hard-coding the ideal weight and bias, we trained a model to figure them out."
      ]
    },
    {
      "cell_type": "markdown",
      "metadata": {
        "id": "xsmixcsQCfJ1"
      },
      "source": [
        "## 4. Making predictions with a trained PyTorch model (inference)\n",
        "\n",
        "Once you've trained a model, you'll likely want to make predictions with it.\n",
        "\n",
        "We've already seen a glimpse of this in the training and testing code above, the steps to do it outside of the training/testing loop are similar.\n",
        "\n",
        "There are three things to remember when making predictions (also called performing inference) with a PyTorch model:\n",
        "\n",
        "1. Set the model in evaluation mode (`model.eval()`).\n",
        "2. Make the predictions using the inference mode context manager (`with torch.inference_mode(): ...`).\n",
        "3. All predictions should be made with objects on the same device (e.g. data and model on GPU only or data and model on CPU only).\n",
        "\n",
        "The first two items make sure all helpful calculations and settings PyTorch uses behind the scenes during training but aren't necessary for inference are turned off (this results in faster computation). And the third ensures that you won't run into cross-device errors."
      ]
    },
    {
      "cell_type": "code",
      "execution_count": null,
      "metadata": {
        "id": "TSHHprj4CfJ1",
        "outputId": "20baa6ae-52c0-41f5-bbeb-14be00005886"
      },
      "outputs": [
        {
          "data": {
            "text/plain": [
              "tensor([[0.8685],\n",
              "        [0.8825],\n",
              "        [0.8965],\n",
              "        [0.9105],\n",
              "        [0.9245],\n",
              "        [0.9384],\n",
              "        [0.9524],\n",
              "        [0.9664],\n",
              "        [0.9804],\n",
              "        [0.9944]])"
            ]
          },
          "execution_count": 337,
          "metadata": {},
          "output_type": "execute_result"
        }
      ],
      "source": [
        "# Set the model in evaluation mode. This is done to ensure that the model is in the correct mode for inference\n",
        "model_0.eval()\n",
        "\n",
        "# Setup the inference mode context manager.This context manager ensures that all calculations within it are done in inference mode\n",
        "with torch.inference_mode():\n",
        "    # Make sure the calculations are done with the model and data on the same device\n",
        "    # - in this specific example, the data and model are on the CPU by default\n",
        "\n",
        "    # Using device agnostic code. Comment out if you don't have a GPU\n",
        "    #model_0.to(device)\n",
        "    #X_test = X_test.to(device)\n",
        "\n",
        "    # Perform the inference using the model and data. The output of the model is stored in the variable y_pred\n",
        "    y_pred = model_0(X_test)\n",
        "\n",
        "# Print the output of the model\n",
        "y_pred"
      ]
    },
    {
      "cell_type": "code",
      "execution_count": null,
      "metadata": {
        "id": "eTXBLx0xCfJ1",
        "outputId": "f3f7491a-a5cb-410d-a34c-8317301a1086"
      },
      "outputs": [
        {
          "data": {
            "image/png": "[encoded data removed]",
            "text/plain": [
              "<Figure size 640x480 with 1 Axes>"
            ]
          },
          "metadata": {},
          "output_type": "display_data"
        }
      ],
      "source": [
        "plot_predictions(predictions=y_pred)"
      ]
    },
    {
      "cell_type": "markdown",
      "metadata": {
        "id": "474-2-JCCfJ1"
      },
      "source": [
        "We have reduced the difference between our model's predictions and the ideal outcomes."
      ]
    },
    {
      "cell_type": "markdown",
      "metadata": {
        "id": "QumxUNXNCfJ1"
      },
      "source": [
        "## 5. Saving and loading a PyTorch model\n",
        "\n",
        "If you've trained a PyTorch model, then you'd likely want to save it and export it somewhere; you have a trained model you'd like to export to some sort of application where others can use it.\n",
        "\n",
        "For saving and loading models in PyTorch, there are three main methods to be aware of:\n",
        "\n",
        "| PyTorch method | What does it do? |\n",
        "| ----- | ----- |\n",
        "| [`torch.save`](https://pytorch.org/docs/stable/torch.html?highlight=save#torch.save) | Saves a serialized object to disk using Python's [`pickle`](https://docs.python.org/3/library/pickle.html) utility. Models, tensors and various other Python objects like dictionaries can be saved using `torch.save`.  |\n",
        "| [`torch.load`](https://pytorch.org/docs/stable/torch.html?highlight=torch%20load#torch.load) | Uses `pickle`'s unpickling features to deserialize and load pickled Python object files (like models, tensors or dictionaries) into memory. You can also set which device to load the object to (CPU, GPU etc). |\n",
        "| [`torch.nn.Module.load_state_dict`](https://pytorch.org/docs/stable/generated/torch.nn.Module.html?highlight=load_state_dict#torch.nn.Module.load_state_dict)| Loads a model's parameter dictionary (`model.state_dict()`) using a saved `state_dict()` object. |\n",
        "\n",
        "\n",
        "> **Note:** As stated in [Python's `pickle` documentation](https://docs.python.org/3/library/pickle.html), the `pickle` module **is not secure**. That means you should only ever unpickle (load) data you trust. That goes for loading PyTorch models as well. Only ever use saved PyTorch models from sources you trust."
      ]
    },
    {
      "cell_type": "markdown",
      "metadata": {
        "id": "jV0-rxe3CfJ1"
      },
      "source": [
        "### Saving a PyTorch model's `state_dict()`\n",
        "\n",
        "The [recommended way](https://pytorch.org/tutorials/beginner/saving_loading_models.html#saving-loading-model-for-inference) for saving and loading a model for inference (making predictions) is by saving and loading a model's `state_dict()`.\n",
        "\n",
        "Let's see how we can do that in a few steps:\n",
        "\n",
        "1. We'll create a directory for saving models to called `models` using Python's `pathlib` module.\n",
        "2. We'll create a file path to save the model to.\n",
        "3. We'll call `torch.save(obj, f)` where `obj` is the target model's `state_dict()` and `f` is the filename of where to save the model.\n",
        "\n",
        "> **Note:** It's common convention for PyTorch saved models or objects to end with `.pt` or `.pth`, like `saved_model_01.pth`.\n",
        "\n",
        "### Additional Explanations\n",
        "\n",
        "#### Why Save Only the `state_dict()`?\n",
        "- **Efficiency**: Saving the `state_dict()` is more efficient and faster compared to saving the entire model because it only saves the model parameters (weights and biases), not the architecture. This allows you to change or modify the model architecture later if needed.\n",
        "- **Flexibility**: When loading a model for inference or further training, defining the model class separately and loading the `state_dict()` makes it easier to use the saved model in different scripts or projects without worrying about architecture dependencies.\n",
        "\n",
        "#### Saving Model Checkpoints\n",
        "It’s common to save checkpoints during training to resume later or choose the best-performing model. In these cases, you can save both the `state_dict()` and optimizer’s `state_dict()`.\n",
        "\n",
        "### Key Points:\n",
        "- **Directory Creation**: `Path.mkdir(exist_ok=True)` ensures the directory is created if it doesn’t exist already.\n",
        "- **Saving**: `torch.save(model.state_dict(), model_save_path)` saves the model parameters, but not the model architecture.\n",
        "- **Extensions**: Common extensions for PyTorch models are `.pth` or `.pt`."
      ]
    },
    {
      "cell_type": "code",
      "execution_count": null,
      "metadata": {
        "id": "6U9tc2I0CfJ1",
        "outputId": "55eb49f3-3c90-456c-a3bb-dd113b52de3b"
      },
      "outputs": [
        {
          "name": "stdout",
          "output_type": "stream",
          "text": [
            "Saving model to: models/01_pytorch_workflow_model_0.pth\n"
          ]
        }
      ],
      "source": [
        "from pathlib import Path  # Import the Path class from the pathlib module for handling file and directory paths in an OS-independent manner.\n",
        "\n",
        "# 1. Create models directory. Define the directory path for saving the model.\n",
        "MODEL_PATH = Path(\"models\") # Save our models to a new folder called \"models\"\n",
        "MODEL_PATH.mkdir(parents=True, # 'parents=True' ensures that any missing parent directories are created.\n",
        "                 exist_ok=True) # 'exist_ok=True' prevents an error if the directory already exists.\n",
        "\n",
        "# 2. Create model save path\n",
        "MODEL_NAME = \"01_pytorch_workflow_model_0.pth\" # Define the filename for saving the model.\n",
        "MODEL_SAVE_PATH = MODEL_PATH / MODEL_NAME # Use the '/' operator to join the directory path and the filename.\n",
        "\n",
        "# 3. Save the model state dictionary to the save path\n",
        "print(f\"Saving model to: {MODEL_SAVE_PATH}\") # Print the path where the model is being saved.\n",
        "torch.save(obj=model_0.state_dict(), # Use torch.save() to save the model's state_dict (parameters) to the specified path.\n",
        "           f=MODEL_SAVE_PATH)"
      ]
    },
    {
      "cell_type": "markdown",
      "metadata": {
        "id": "vUOJbOF1CfJ1"
      },
      "source": [
        "If you check the VSCode explorer tab, you’ll notice that a new folder named models has been created, and inside it, you’ll find the saved model file."
      ]
    },
    {
      "cell_type": "code",
      "execution_count": null,
      "metadata": {
        "id": "DK_CncctCfJ1",
        "outputId": "0364111e-8e44-4718-d079-353e09a4fd28"
      },
      "outputs": [
        {
          "name": "stdout",
          "output_type": "stream",
          "text": [
            "-rw-r--r--@ 1 jun_macbook  staff  1680 Oct 26 15:51 models/01_pytorch_workflow_model_0.pth\n"
          ]
        }
      ],
      "source": [
        "# Check the saved file path\n",
        "!ls -l models/01_pytorch_workflow_model_0.pth"
      ]
    },
    {
      "cell_type": "markdown",
      "metadata": {
        "id": "kzqsE2-3CfJ2"
      },
      "source": [
        "### Loading a saved PyTorch model's `state_dict()`\n",
        "\n",
        "Since we've now got a saved model `state_dict()` at `models/01_pytorch_workflow_model_0.pth` we can now load it in using `torch.nn.Module.load_state_dict(torch.load(f))` where `f` is the filepath of our saved model `state_dict()`.\n",
        "\n",
        "Why call `torch.load()` inside `torch.nn.Module.load_state_dict()`?\n",
        "\n",
        "Because we only saved the model's `state_dict()` which is a dictionary of learned parameters and not the *entire* model, we first have to load the `state_dict()` with `torch.load()` and then pass that `state_dict()` to a new instance of our model (which is a subclass of `nn.Module`).\n",
        "\n",
        "Why not save the entire model?\n",
        "\n",
        "[Saving the entire model](https://pytorch.org/tutorials/beginner/saving_loading_models.html#save-load-entire-model) rather than just the `state_dict()` is more intuitive, however, to quote the PyTorch documentation (italics mine):\n",
        "\n",
        "> The disadvantage of this approach *(saving the whole model)* is that the serialized data is bound to the specific classes and the exact directory structure used when the model is saved...\n",
        ">\n",
        "> Because of this, your code can break in various ways when used in other projects or after refactors.\n",
        "\n",
        "So instead, we're using the flexible method of saving and loading just the `state_dict()`, which again is basically a dictionary of model parameters.\n",
        "\n",
        "Let's test it out by creating another instance of `LinearRegressionModel()`, which is a subclass of `torch.nn.Module` and will hence have the in-built method `load_state_dict()`."
      ]
    },
    {
      "cell_type": "code",
      "execution_count": null,
      "metadata": {
        "id": "ytE7WNyrCfJ2",
        "outputId": "6d87b6f8-a479-4b1c-9301-56edd3a72f6e"
      },
      "outputs": [
        {
          "name": "stderr",
          "output_type": "stream",
          "text": [
            "/var/folders/d_/bbmbtkjx5bldzz_9b7565vyh0000gn/T/ipykernel_1724/3302440209.py:7: FutureWarning: You are using `torch.load` with `weights_only=False` (the current default value), which uses the default pickle module implicitly. It is possible to construct malicious pickle data which will execute arbitrary code during unpickling (See https://github.com/pytorch/pytorch/blob/main/SECURITY.md#untrusted-models for more details). In a future release, the default value for `weights_only` will be flipped to `True`. This limits the functions that could be executed during unpickling. Arbitrary objects will no longer be allowed to be loaded via this mode unless they are explicitly allowlisted by the user via `torch.serialization.add_safe_globals`. We recommend you start setting `weights_only=True` for any use case where you don't have full control of the loaded file. Please open an issue on GitHub for any issues related to this experimental feature.\n",
            "  loaded_model_0.load_state_dict(torch.load(f=MODEL_SAVE_PATH))\n"
          ]
        },
        {
          "data": {
            "text/plain": [
              "<All keys matched successfully>"
            ]
          },
          "execution_count": 341,
          "metadata": {},
          "output_type": "execute_result"
        }
      ],
      "source": [
        "# Instantiate a new instance of the model (this creates an untrained model with random weights)\n",
        "loaded_model_0 = LinearRegressionModel()\n",
        "\n",
        "# Load the trained state_dict (a dictionary containing model parameters such as weights and biases)\n",
        "# The state_dict was saved after training, and now we're loading it into the new model instance\n",
        "# This effectively transfers the learned parameters to the new model, allowing it to make predictions as if it had been trained with the same data.\n",
        "loaded_model_0.load_state_dict(torch.load(f=MODEL_SAVE_PATH))"
      ]
    },
    {
      "cell_type": "markdown",
      "metadata": {
        "id": "K2gPd94zCfJ2"
      },
      "source": [
        "Now to test our loaded model, let's perform inference with it (make predictions) on the test data.\n",
        "\n",
        "Remember the rules for performing inference with PyTorch models?\n",
        "\n",
        "If not, here's a refresher:\n",
        "\n",
        "<details>\n",
        "    <summary>PyTorch inference rules</summary>\n",
        "    <ol>\n",
        "      <li> Set the model in evaluation mode (<code>model.eval()</code>). </li>\n",
        "      <li> Make the predictions using the inference mode context manager (<code>with torch.inference_mode(): ...</code>). </li>\n",
        "      <li> All predictions should be made with objects on the same device (e.g. data and model on GPU only or data and model on CPU only).</li>\n",
        "    </ol>\n",
        "</details>"
      ]
    },
    {
      "cell_type": "code",
      "execution_count": null,
      "metadata": {
        "id": "8I0FgFcLCfJ2",
        "outputId": "66a3e3cc-52c0-4b71-d56e-b966dbd4dfeb"
      },
      "outputs": [
        {
          "data": {
            "text/plain": [
              "tensor([[0.8685],\n",
              "        [0.8825],\n",
              "        [0.8965],\n",
              "        [0.9105],\n",
              "        [0.9245],\n",
              "        [0.9384],\n",
              "        [0.9524],\n",
              "        [0.9664],\n",
              "        [0.9804],\n",
              "        [0.9944]])"
            ]
          },
          "execution_count": 342,
          "metadata": {},
          "output_type": "execute_result"
        }
      ],
      "source": [
        "# 1. Put the loaded model into evaluation mode (we need to do this to make predictions)\n",
        "# This disables layers like dropout and batch normalization, ensuring consistent predictions.\n",
        "loaded_model_0.eval()\n",
        "\n",
        "# 2. Use the inference mode context manager\n",
        "# Inference mode disables gradient calculation to save memory and improve performance, since we don't need backpropagation during prediction.\n",
        "with torch.inference_mode():\n",
        "    # Perform a forward pass on the test data to make predictions using the loaded model\n",
        "    loaded_model_preds = loaded_model_0(X_test)\n",
        "\n",
        "loaded_model_preds"
      ]
    },
    {
      "cell_type": "markdown",
      "metadata": {
        "id": "DdyGgKXLCfJ2"
      },
      "source": [
        "Now we've made some predictions with the loaded model, let's see if they're the same as the previous predictions.\n"
      ]
    },
    {
      "cell_type": "code",
      "execution_count": null,
      "metadata": {
        "id": "PcbeWFe6CfJ2",
        "outputId": "07c215ba-5916-4a1b-adf2-91b0e9262b1a"
      },
      "outputs": [
        {
          "data": {
            "text/plain": [
              "tensor([[True],\n",
              "        [True],\n",
              "        [True],\n",
              "        [True],\n",
              "        [True],\n",
              "        [True],\n",
              "        [True],\n",
              "        [True],\n",
              "        [True],\n",
              "        [True]])"
            ]
          },
          "execution_count": 343,
          "metadata": {},
          "output_type": "execute_result"
        }
      ],
      "source": [
        "# Compare previous model predictions with loaded model predictions (these should be the same)\n",
        "y_pred == loaded_model_preds"
      ]
    },
    {
      "cell_type": "markdown",
      "metadata": {
        "id": "vQPXEqx_CfJ2"
      },
      "source": [
        "Nice!\n",
        "\n",
        "It looks like the loaded model predictions are the same as the previous model predictions (predictions made prior to saving). This indicates our model is saving and loading as expected.\n",
        "\n",
        "> **Note:** There are more methods to save and load PyTorch models but those are extra-curriculum. See the [PyTorch guide for saving and loading models](https://pytorch.org/tutorials/beginner/saving_loading_models.html#saving-and-loading-models) for more."
      ]
    },
    {
      "cell_type": "markdown",
      "metadata": {
        "id": "W3JjD3pWCfJ2"
      },
      "source": [
        "continue with 7:38:00"
      ]
    }
  ],
  "metadata": {
    "kernelspec": {
      "display_name": ".venv",
      "language": "python",
      "name": "python3"
    },
    "language_info": {
      "codemirror_mode": {
        "name": "ipython",
        "version": 3
      },
      "file_extension": ".py",
      "mimetype": "text/x-python",
      "name": "python",
      "nbconvert_exporter": "python",
      "pygments_lexer": "ipython3",
      "version": "3.12.6"
    },
    "colab": {
      "provenance": [],
      "include_colab_link": true
    }
  },
  "nbformat": 4,
  "nbformat_minor": 0
}