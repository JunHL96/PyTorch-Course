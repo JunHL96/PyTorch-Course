{
  "cells": [
    {
      "cell_type": "markdown",
      "metadata": {
        "id": "view-in-github",
        "colab_type": "text"
      },
      "source": [
        "<a href=\"https://colab.research.google.com/github/JunHL96/PyTorch-Course/blob/main/01_pytorch_workflow_notes.ipynb\" target=\"_parent\"><img src=\"https://colab.research.google.com/assets/colab-badge.svg\" alt=\"Open In Colab\"/></a>"
      ]
    },
    {
      "cell_type": "markdown",
      "metadata": {
        "id": "r8GAuU1xbkS1"
      },
      "source": [
        "# 01. PyTorch Workflow\n",
        "\n",
        "Let's explore an example of a PyTorch end-to-end workflow\n",
        "\n",
        "* Ground truth notebook: https://github.com/mrdbourke/pytorch-deep-learning/blob/main/01_pytorch_workflow\n",
        "* Book version of notebook: https://github.com/mrdbourke/pytorch-deep-learning-book/blob/main/01_pytorch_workflow\n",
        "* Ask a question: https://github.com/mrdbourke/pytorch-deep-learning/discussions\n",
        "\n",
        "## Example Workflow:\n",
        "\n",
        "1. Get data ready (turn into tensors)\n",
        "2. Build or pick a pretrained model (to suit your problem)\n",
        "* 2.1) Pick a loss function & optimizer\n",
        "* 2.2) Build a training loop\n",
        "* 2.3) Repeat step 2 until ready to move to step 3\n",
        "3. Fit the model to the data and make a prediction\n",
        "4. Evaluate the model\n",
        "5. Improve through experimentation\n",
        "6. Save and reload your trained model."
      ]
    },
    {
      "cell_type": "code",
      "execution_count": 1,
      "metadata": {
        "trusted": false,
        "colab": {
          "base_uri": "https://localhost:8080/"
        },
        "id": "3I7hBhz9bkS4",
        "outputId": "89383e3f-1e7f-4cba-d7d1-f8a059589aca"
      },
      "outputs": [
        {
          "output_type": "stream",
          "name": "stdout",
          "text": [
            "Pytorch version: 2.5.0+cu121\n"
          ]
        }
      ],
      "source": [
        "import torch\n",
        "from torch import nn # nn contains all of PyTorch's building blocks for neural networks\n",
        "import matplotlib.pyplot as plt\n",
        "\n",
        "print(f\"Pytorch version: {torch.__version__}\")"
      ]
    },
    {
      "cell_type": "code",
      "execution_count": 2,
      "metadata": {
        "trusted": false,
        "colab": {
          "base_uri": "https://localhost:8080/"
        },
        "id": "nIjSPKTnbkS6",
        "outputId": "c677a84d-d8fc-4a19-f505-1df66615641f"
      },
      "outputs": [
        {
          "output_type": "stream",
          "name": "stdout",
          "text": [
            "Using device: cpu\n"
          ]
        }
      ],
      "source": [
        "# Setup device-agnostic code\n",
        "if torch.cuda.is_available():\n",
        "    device = \"cuda\" # NVIDIA GPU\n",
        "elif torch.backends.mps.is_available():\n",
        "    device = \"mps\" # Apple GPU\n",
        "else:\n",
        "    device = \"cpu\" # Defaults to CPU if NVIDIA GPU/Apple GPU aren't available\n",
        "\n",
        "print(f\"Using device: {device}\")"
      ]
    },
    {
      "cell_type": "code",
      "execution_count": 3,
      "metadata": {
        "trusted": false,
        "colab": {
          "base_uri": "https://localhost:8080/"
        },
        "id": "nl-4yhy5bkS6",
        "outputId": "02f03421-a03c-4135-f5dc-4eb519feef04"
      },
      "outputs": [
        {
          "output_type": "execute_result",
          "data": {
            "text/plain": [
              "{1: 'data (prepare and load)',\n",
              " 2: 'build model',\n",
              " 3: 'fitting the model to data (training)',\n",
              " 4: 'making predictions and evaluating a model (inference)',\n",
              " 5: 'saving and loading a model',\n",
              " 6: 'putting it all together'}"
            ]
          },
          "metadata": {},
          "execution_count": 3
        }
      ],
      "source": [
        "what_we_are_covering = {1: \"data (prepare and load)\",\n",
        "                        2: \"build model\",\n",
        "                        3: \"fitting the model to data (training)\",\n",
        "                        4: \"making predictions and evaluating a model (inference)\",\n",
        "                        5: \"saving and loading a model\",\n",
        "                        6: \"putting it all together\"}\n",
        "\n",
        "what_we_are_covering"
      ]
    },
    {
      "cell_type": "markdown",
      "metadata": {
        "id": "d33dknIQbkS6"
      },
      "source": [
        "## 1. Data (preparing and loading)\n",
        "\n",
        "Data can be almost everything in ML:\n",
        "* Excel spreadsheet\n",
        "* Images of any kind\n",
        "* Videos (YouTube has lots of data)\n",
        "* Audio (Songs, podcasts, etc.)\n",
        "* DNA\n",
        "* Text\n",
        "\n",
        "ML is a game of two parts:\n",
        "1. Get data into a numerical representation\n",
        "2. Build a model to learn patterns in that numerical representation.\n",
        "\n",
        "![machine learning is a game of two parts: 1. turn your data into a representative set of numbers and 2. build or pick a model to learn the representation as best as possible](https://raw.githubusercontent.com/mrdbourke/pytorch-deep-learning/main/images/01-machine-learning-a-game-of-two-parts.png)\n",
        "\n",
        "To showcase this, let's create some *known* data using the linear regression formula:\n",
        "\n",
        "### Linear Regression Formula\n",
        "\n",
        "Linear regression models the relationship between a dependent variable (target) and one or more independent variables (features). The formula is:\n",
        "\n",
        "**y = β<sub>0</sub> + β<sub>1</sub>x<sub>1</sub> + β<sub>2</sub>x<sub>2</sub> + ... + β<sub>n</sub>x<sub>n</sub> + ε**\n",
        "\n",
        "- **y**: The predicted output (dependent variable).\n",
        "- **β<sub>0</sub>**: The intercept (constant term).\n",
        "- **β<sub>1</sub>, β<sub>2</sub>, ..., β<sub>n</sub>**: Coefficients representing the impact of each independent variable (x<sub>1</sub>, x<sub>2</sub>, ..., x<sub>n</sub>).\n",
        "- **x<sub>1</sub>, x<sub>2</sub>, ..., x<sub>n</sub>**: Independent variables (features).\n",
        "- **ε**: Error term (difference between predicted and actual values).\n",
        "\n",
        "In simple linear regression (one feature), the formula simplifies to:\n",
        "\n",
        "**y = β<sub>0</sub> + β<sub>1</sub>x + ε**\n",
        "\n",
        "We'll use a linear regression formula to make a straight line with *known* **parameters**.\n"
      ]
    },
    {
      "cell_type": "code",
      "execution_count": 4,
      "metadata": {
        "trusted": false,
        "colab": {
          "base_uri": "https://localhost:8080/"
        },
        "id": "raf-oKirbkS7",
        "outputId": "bd00b451-1064-423b-a5da-ed0c90cd2d2c"
      },
      "outputs": [
        {
          "output_type": "execute_result",
          "data": {
            "text/plain": [
              "(tensor([[0.0000],\n",
              "         [0.0200],\n",
              "         [0.0400],\n",
              "         [0.0600],\n",
              "         [0.0800],\n",
              "         [0.1000],\n",
              "         [0.1200],\n",
              "         [0.1400],\n",
              "         [0.1600],\n",
              "         [0.1800]]),\n",
              " tensor([[0.3000],\n",
              "         [0.3140],\n",
              "         [0.3280],\n",
              "         [0.3420],\n",
              "         [0.3560],\n",
              "         [0.3700],\n",
              "         [0.3840],\n",
              "         [0.3980],\n",
              "         [0.4120],\n",
              "         [0.4260]]))"
            ]
          },
          "metadata": {},
          "execution_count": 4
        }
      ],
      "source": [
        "# Create *known* parameters for linear regression\n",
        "# The weight determines how much influence the input feature x has on the output y.\n",
        "weight = 0.7  # The slope (coefficient) of the line (β₁ in y = β₀ + β₁x)\n",
        "# The bias adjusts the output independently of the input x.\n",
        "bias = 0.3    # The intercept (constant) of the line (β₀ in y = β₀ + β₁x)\n",
        "\n",
        "# Create input data (X) for linear regression\n",
        "start = 0     # Starting value of X (independent variable)\n",
        "end = 1       # Ending value of X\n",
        "step = 0.02   # Step size for generating values of X (i.e., increments of 0.02)\n",
        "X = torch.arange(start, end, step).unsqueeze(dim=1)\n",
        "# torch.arange creates a range of values from 0 to 1 (exclusive) with step size of 0.02\n",
        "# unsqueeze adds a dimension to the tensor (makes it a column vector). This is important to do for later on when we work with models\n",
        "\n",
        "# Generate target values (y) using the linear regression formula\n",
        "y = weight * X + bias  # This simulates a linear relationship between X and y (y = β₀ + β₁x)\n",
        "\n",
        "# Output the first 10 values of X and y (input and output #s)\n",
        "X[:10], y[:10]\n"
      ]
    },
    {
      "cell_type": "code",
      "execution_count": 5,
      "metadata": {
        "trusted": false,
        "colab": {
          "base_uri": "https://localhost:8080/"
        },
        "id": "o_fAMvBVbkS7",
        "outputId": "2a6f91e8-116c-49e4-f5a1-655c00f1ad77"
      },
      "outputs": [
        {
          "output_type": "execute_result",
          "data": {
            "text/plain": [
              "(50, 50)"
            ]
          },
          "metadata": {},
          "execution_count": 5
        }
      ],
      "source": [
        "len(X), len(y)"
      ]
    },
    {
      "cell_type": "markdown",
      "metadata": {
        "id": "nfMPavexbkS7"
      },
      "source": [
        "### Splitting data into training and test sets (one of the most important concepts in ML in general)\n",
        "\n",
        "| Split | Purpose | Amount of total data | How often is it used? |\n",
        "| ----- | ----- | ----- | ----- |\n",
        "| **Training set** | The model learns from this data (like the course materials you study during the semester). | ~60-80% | Always |\n",
        "| **Validation set** | The model gets tuned on this data (like the practice exam you take before the final exam). | ~10-20% | Often but not always |\n",
        "| **Testing set** | The model gets evaluated on this data to test what it has learned (like the final exam you take at the end of the semester). | ~10-20% | Always |\n",
        "\n",
        "**Goal**: Generalization - The ability for a ML model to perform well on data it hasn't seen before."
      ]
    },
    {
      "cell_type": "code",
      "execution_count": 6,
      "metadata": {
        "trusted": false,
        "colab": {
          "base_uri": "https://localhost:8080/"
        },
        "id": "VONksApZbkS7",
        "outputId": "5cd66157-4977-4d04-b95c-3f9902eaafd8"
      },
      "outputs": [
        {
          "output_type": "execute_result",
          "data": {
            "text/plain": [
              "(40, 40, 10, 10)"
            ]
          },
          "metadata": {},
          "execution_count": 6
        }
      ],
      "source": [
        "# Create a train/test split\n",
        "\n",
        "# Calculate the index to split the data (80% for training, 20% for testing)\n",
        "train_split = int(0.8 * len(X))  # 80% of the length of the dataset will be for training\n",
        "train_split  # This variable holds the index for splitting the data\n",
        "\n",
        "# Split the data into training and testing sets\n",
        "X_train, y_train = X[:train_split], y[:train_split]  # The first 80% of X and y for training\n",
        "X_test, y_test = X[train_split:], y[train_split:]    # The remaining 20% of X and y for testing\n",
        "\n",
        "# Output the lengths of the training and testing sets for verification (training split + test split))\n",
        "len(X_train), len(y_train), len(X_test), len(y_test)\n"
      ]
    },
    {
      "cell_type": "markdown",
      "metadata": {
        "id": "azXga9cfbkS8"
      },
      "source": [
        "How might we better visualize our data?\n",
        "\n",
        "This is where the data explorer's motto comes in!\n",
        "\n",
        "\"Visualize, visualize, visualize!\""
      ]
    },
    {
      "cell_type": "code",
      "execution_count": 7,
      "metadata": {
        "trusted": false,
        "id": "hrKIq6AZbkS8"
      },
      "outputs": [],
      "source": [
        "def plot_predictions(train_data=X_train,\n",
        "                     train_labels=y_train,\n",
        "                     test_data=X_test,\n",
        "                     test_labels=y_test,\n",
        "                     predictions=None):\n",
        "    \"\"\"\n",
        "    Plots training data, test data, and compares predictions if provided.\n",
        "\n",
        "    Parameters:\n",
        "    - train_data: The input features for training data (X_train).\n",
        "    - train_labels: The corresponding target values for training data (y_train).\n",
        "    - test_data: The input features for test data (X_test).\n",
        "    - test_labels: The corresponding target values for test data (y_test).\n",
        "    - predictions: The predicted values (optional) for the test data.\n",
        "    \"\"\"\n",
        "\n",
        "    # https://matplotlib.org/stable/api/_as_gen/matplotlib.pyplot.scatter.html\n",
        "\n",
        "    # Plot training data in blue\n",
        "    plt.scatter(train_data, train_labels, c=\"b\", s=4, label=\"Training data\")\n",
        "    # `plt.scatter` creates a scatter plot for the training data (X_train, y_train) in blue (c=\"b\").\n",
        "    # `s=4` sets the size of the points to 4, and `label` adds a legend entry for the training data.\n",
        "\n",
        "    # Plot test data in green\n",
        "    plt.scatter(test_data, test_labels, c=\"g\", s=4, label=\"Test data\")\n",
        "    # Similarly, test data (X_test, y_test) is plotted in green (c=\"g\") with a legend entry for the test data.\n",
        "\n",
        "    # Plot predictions in red if they exist\n",
        "    if predictions is not None:\n",
        "        plt.scatter(test_data, predictions, c=\"r\", s=4, label=\"Predictions\")\n",
        "        # If predictions are provided, they are plotted in red (c=\"r\").\n",
        "        # This shows how the predicted values compare to the actual test data.\n",
        "\n",
        "    # Plot a line of best fit (if predictions exist)\n",
        "    if predictions is not None:\n",
        "        plt.plot(test_data, predictions, c=\"r\", label=\"Line of best fit\")\n",
        "        # `plt.plot` creates a line of best fit using the test data and the predictions.\n",
        "        # This red line represents the linear relationship the model has learned.\n",
        "\n",
        "     # Add legend and labels\n",
        "    plt.legend(prop={\"size\": 14})  # Displays the legend with font size 14 to differentiate training, test data, and predictions.\n",
        "\n",
        "    plt.xlabel(\"X\")  # Labels the x-axis as \"X\" (the input feature).\n",
        "\n",
        "    plt.ylabel(\"y\")  # Labels the y-axis as \"y\" (the target/output variable).\n",
        "\n",
        "    # The final plot will show:\n",
        "    # - Training data in blue\n",
        "    # - Test data in green\n",
        "    # - Predictions and line of best fit (if provided) in red\n",
        "    # With a larger, clearer legend to distinguish between these elements.\n",
        "\n",
        "\n",
        "    # The final plot will show training data in blue, test data in green, and, if provided, predictions and the line of best fit in red.\n"
      ]
    },
    {
      "cell_type": "code",
      "execution_count": 8,
      "metadata": {
        "trusted": false,
        "colab": {
          "base_uri": "https://localhost:8080/",
          "height": 449
        },
        "id": "8z3q1mvNbkS8",
        "outputId": "a1cdeae0-f73b-47ac-bc9b-da518e119504"
      },
      "outputs": [
        {
          "output_type": "display_data",
          "data": {
            "text/plain": [
              "<Figure size 640x480 with 1 Axes>"
            ],
            "image/png": "[encoded data removed]"
          },
          "metadata": {}
        }
      ],
      "source": [
        "plot_predictions();"
      ]
    },
    {
      "cell_type": "markdown",
      "metadata": {
        "id": "UC2u6K62bkS8"
      },
      "source": [
        "## 2. Build Model\n",
        "\n",
        "Now that we've got some data, let's build a model to use the blue dots to predict the green dots.\n",
        "\n",
        "This is where we will need OOP.\n",
        "\n",
        "### What our model does (in the code below):\n",
        "* Start with random values (weight & bias)\n",
        "* Look at training data and adjust the random values to better represent (or get closer to) the ideal values (the weight and bias values we used to create the data).\n",
        "\n",
        "### How does it work?\n",
        "Through two main algorithms:\n",
        "\n",
        "1. **Gradient Descent**:\n",
        "   - **Goal**: Gradient descent is an optimization algorithm that helps adjust the model’s parameters (weights and biases) to minimize a **loss function** (which tells us how far off our predictions are from the actual data). The lower the loss, the better the model is performing.\n",
        "   - **Process**:\n",
        "     1. **Start with random values**: The model begins with random values for its weights and biases.\n",
        "     2. **Calculate the loss**: For every prediction the model makes, compare it to the actual data using a loss function like **Mean Squared Error (MSE)**. MSE measures how far the predicted values are from the actual values.\n",
        "     3. **Compute the gradient**: In math, gradient is a slope that is the change in y over change in x. In ML, the gradient is a vector that is measure of how much the loss will change if you adjust each weight and bias. Gradients point in the direction of increasing loss, so by following the opposite direction, we can reduce the loss.\n",
        "     4. **Update parameters**: The model's weights and biases are updated by a small amount in the direction that reduces the loss. This process is repeated until the model's parameters settle at values that minimize the error.\n",
        "     - **Key Idea**: We want to reduce the error between the predicted and actual values, so the weights and biases are adjusted iteratively by using gradients to guide those adjustments.\n",
        "   \n",
        "2. **Backpropagation**:\n",
        "   - **Goal**: Backpropagation computes how much each parameter (weight and bias) contributed to the overall error (loss), so the model knows exactly how to adjust them.\n",
        "   - **Process**:\n",
        "     1. **Forward pass**: Input data passes through the network, layer by layer, and the model makes a prediction using the current weights and biases.\n",
        "     2. **Calculate the loss**: The model compares the prediction to the actual data using the loss function (e.g., MSE) to determine how far off the prediction was.\n",
        "     3. **Backward pass (Backpropagation)**: The loss is then “propagated backward” through the network by calculating how much each weight and bias influenced the loss. This is done using the **chain rule** from calculus, which breaks the error into pieces that allow the model to understand the impact of each parameter.\n",
        "     4. **Gradient computation**: Backpropagation computes the gradient (or slope) of the loss function with respect to each parameter in the network, starting from the output layer and moving backward to the input layer.\n",
        "     5. **Update parameters**: These gradients are then used by gradient descent to update the weights and biases in a way that reduces the error for the next prediction.\n",
        "\n",
        "   - **Key Idea**: Backpropagation helps calculate the gradients needed to update each weight and bias by understanding how each one contributed to the error. This is critical for making the model learn."
      ]
    },
    {
      "cell_type": "code",
      "execution_count": 9,
      "metadata": {
        "trusted": false,
        "id": "TlRRZcXxbkS8"
      },
      "outputs": [],
      "source": [
        "# Create a linear regression model class inheriting from nn.Module (the base class for all neural network modules)\n",
        "class LinearRegressionModel(nn.Module):\n",
        "    # Constructor method for the class. It's called when a new instance of the class is created.\n",
        "    def __init__(self):\n",
        "        # super will call the __init__ method of the parent class (nn.Module) to ensure that all its functionality is initialized\n",
        "        super().__init__()\n",
        "        # Define the weights parameter initialized randomly with requires_grad=True to compute gradients for optimization\n",
        "        self.weight = nn.Parameter(torch.randn(1, # start with a random weight and try to adjust it to the ideal weight\n",
        "                                                requires_grad=True, # This is true by default so we don't need to explicitly set it True here\n",
        "                                                dtype=torch.float))  # <- This is float32 by default so we don't need to explicitly set it like this here\n",
        "\n",
        "        # Define the bias parameter initialized randomly with requires_grad=True to compute gradients\n",
        "        self.bias = nn.Parameter(torch.randn(1, # start with a random bias and try to adjust it to the ideal bias\n",
        "                                             requires_grad=True,\n",
        "                                             dtype=torch.float))\n",
        "\n",
        "    # Forward method defines how input data x is transformed to produce the output data\n",
        "    # Implements the forward pass, where 'x' is an input tensor and the output is a processed tensor, both of type torch.Tensor.\n",
        "    def forward(self, x: torch.Tensor) -> torch.Tensor:\n",
        "        # Apply the linear regression formula y = wx + b\n",
        "        return self.weight * x + self.bias\n",
        "\n",
        "# The goal is to start with random weights and biases, run it through the forward pass,\n",
        "# and then update the weights and biases to represent the known parameters (currently 0.7 and 0.3) as closely as possible\n",
        "# Through an algorithm called gradient descent, this is achieved."
      ]
    },
    {
      "cell_type": "markdown",
      "metadata": {
        "id": "JDWg1sNBbkS8"
      },
      "source": [
        "### PyTorch model building essentials\n",
        "\n",
        "PyTorch has four (give or take) essential modules you can use to create almost any kind of neural network you can imagine.\n",
        "\n",
        "They are [`torch.nn`](https://pytorch.org/docs/stable/nn.html), [`torch.optim`](https://pytorch.org/docs/stable/optim.html), [`torch.utils.data.Dataset`](https://pytorch.org/docs/stable/data.html#torch.utils.data.Dataset) and [`torch.utils.data.DataLoader`](https://pytorch.org/docs/stable/data.html). For now, we'll focus on the first two and get to the other two later (though you may be able to guess what they do).\n",
        "\n",
        "| PyTorch module | What does it do? |\n",
        "| ----- | ----- |\n",
        "| [`torch.nn`](https://pytorch.org/docs/stable/nn.html) | Contains all of the building blocks for computational graphs (essentially a series of computations executed in a particular way). |\n",
        "| [`torch.nn.Parameter`](https://pytorch.org/docs/stable/generated/torch.nn.parameter.Parameter.html#parameter) | This is a special kind of tensor that is specifically designed to be used as part of the learnable parameters in a neural network. It essentially stores tensors that can be used with `nn.Module`. If `requires_grad=True` gradients (used for updating model parameters via [**gradient descent**](https://ml-cheatsheet.readthedocs.io/en/latest/gradient_descent.html))  are calculated automatically, this is often referred to as \"autograd\".  |\n",
        "| [`torch.nn.Module`](https://pytorch.org/docs/stable/generated/torch.nn.Module.html#torch.nn.Module) | The base class for all neural network modules, all the building blocks for neural networks are subclasses. If you're building a neural network in PyTorch, your models should subclass `nn.Module`. Requires a `forward()` method be implemented. |\n",
        "| [`torch.optim`](https://pytorch.org/docs/stable/optim.html) | Contains various optimization algorithms (these tell the model parameters stored in `nn.Parameter` how to best change to improve gradient descent and in turn reduce the loss). |\n",
        "| `def forward()` | All `nn.Module` subclasses require a `forward()` method, this defines the computation that will take place on the data passed to the particular `nn.Module` (e.g. the linear regression formula above). |\n",
        "\n",
        "If the above sounds complex, think of like this, almost everything in a PyTorch neural network comes from `torch.nn`,\n",
        "* `nn.Module` contains the larger building blocks (layers)\n",
        "* `nn.Parameter` contains the smaller parameters like weights and biases (put these together to make `nn.Module`(s))\n",
        "* `forward()` tells the larger blocks how to make calculations on inputs (tensors full of data) within  `nn.Module`(s)\n",
        "* `torch.optim` contains optimization methods on how to improve the parameters within `nn.Parameter` to better represent input data\n",
        "\n",
        "![a pytorch linear model with annotations](https://raw.githubusercontent.com/mrdbourke/pytorch-deep-learning/main/images/01-pytorch-linear-model-annotated.png)\n",
        "*Basic building blocks of creating a PyTorch model by subclassing `nn.Module`. For objects that subclass `nn.Module`, the `forward()` method must be defined.*\n",
        "\n",
        "> **Resource:** See more of these essential modules and their use cases in the [PyTorch Cheat Sheet](https://pytorch.org/tutorials/beginner/ptcheat.html).\n"
      ]
    },
    {
      "cell_type": "markdown",
      "metadata": {
        "id": "utX4IlOpbkS9"
      },
      "source": [
        "### Checking the contents of our PyTorch model\n",
        "\n",
        "Now that we've created a model, let's see what is inside\n",
        "\n",
        "We can check out our model parameters using `.parameters()`.\n"
      ]
    },
    {
      "cell_type": "code",
      "execution_count": 10,
      "metadata": {
        "colab": {
          "base_uri": "https://localhost:8080/"
        },
        "id": "hdFRQRr8bkS9",
        "outputId": "2fb22e39-8a77-4016-be35-8677d0906909"
      },
      "outputs": [
        {
          "output_type": "execute_result",
          "data": {
            "text/plain": [
              "[Parameter containing:\n",
              " tensor([0.3367], requires_grad=True),\n",
              " Parameter containing:\n",
              " tensor([0.1288], requires_grad=True)]"
            ]
          },
          "metadata": {},
          "execution_count": 10
        }
      ],
      "source": [
        "# Set a fixed seed for reproducibility (ensures the same random numbers are generated each time)\n",
        "torch.manual_seed(42)\n",
        "\n",
        "# Instantiate the linear regression model (this creates an instance with random weight and bias)\n",
        "model_0 = LinearRegressionModel()\n",
        "\n",
        "# Retrieve the list of parameters (weights and biases) of the model for inspection\n",
        "list(model_0.parameters())"
      ]
    },
    {
      "cell_type": "markdown",
      "metadata": {
        "id": "Z6bTg84dbkS9"
      },
      "source": [
        "We can also get the state (what the model contains) of the model using [`.state_dict()`](https://pytorch.org/docs/stable/generated/torch.nn.Module.html#torch.nn.Module.state_dict)."
      ]
    },
    {
      "cell_type": "code",
      "execution_count": 11,
      "metadata": {
        "colab": {
          "base_uri": "https://localhost:8080/"
        },
        "id": "E5XQOUKibkS9",
        "outputId": "2cdbf5fe-9b8f-4472-9d0a-0e22a086caa1"
      },
      "outputs": [
        {
          "output_type": "execute_result",
          "data": {
            "text/plain": [
              "OrderedDict([('weight', tensor([0.3367])), ('bias', tensor([0.1288]))])"
            ]
          },
          "metadata": {},
          "execution_count": 11
        }
      ],
      "source": [
        "# List named parameters and their corresponding values\n",
        "model_0.state_dict()"
      ]
    },
    {
      "cell_type": "markdown",
      "metadata": {
        "id": "Ycy9QHEzbkS9"
      },
      "source": [
        "\n",
        "Notice how the values for `weights` and `bias` from `model_0.state_dict()` come out as random float tensors?\n",
        "\n",
        "This is because we initialized them above using `torch.randn()`.\n",
        "\n",
        "Essentially we want to start from random parameters and get the model to update them towards parameters that fit our data best (the hardcoded `weight` and `bias` values we set when creating our straight line data). In this case, that would be 0.7 and 0.3 for weight and bias respectively.\n",
        "\n",
        "> **Exercise:** Try changing the `torch.manual_seed()` value two cells above, see what happens to the weights and bias values.\n",
        "\n",
        "Because our model starts with random values, right now it'll have poor predictive power.\n",
        "\n"
      ]
    },
    {
      "cell_type": "markdown",
      "metadata": {
        "id": "C2sIuY7BbkS9"
      },
      "source": [
        "### Making predictions with using `torch.inference_mode()`\n",
        "\n",
        "To check our model's predictive power, let's see how well it predicts `y_test` based on `X_test`.\n",
        "\n",
        "When we pass data to our model, it will go through the model's `forward()` method and produce a result using the computation we've defined."
      ]
    },
    {
      "cell_type": "code",
      "execution_count": 12,
      "metadata": {
        "colab": {
          "base_uri": "https://localhost:8080/"
        },
        "id": "A7O6oddmbkS9",
        "outputId": "5be68090-fa93-4e4e-8762-07e2d4057761"
      },
      "outputs": [
        {
          "output_type": "execute_result",
          "data": {
            "text/plain": [
              "(tensor([[0.8000],\n",
              "         [0.8200],\n",
              "         [0.8400],\n",
              "         [0.8600],\n",
              "         [0.8800],\n",
              "         [0.9000],\n",
              "         [0.9200],\n",
              "         [0.9400],\n",
              "         [0.9600],\n",
              "         [0.9800]]),\n",
              " tensor([[0.8600],\n",
              "         [0.8740],\n",
              "         [0.8880],\n",
              "         [0.9020],\n",
              "         [0.9160],\n",
              "         [0.9300],\n",
              "         [0.9440],\n",
              "         [0.9580],\n",
              "         [0.9720],\n",
              "         [0.9860]]))"
            ]
          },
          "metadata": {},
          "execution_count": 12
        }
      ],
      "source": [
        "X_test, y_test\n",
        "# An ideal model will input X_test and output y_test values exactly, i.e., the model should have no error"
      ]
    },
    {
      "cell_type": "code",
      "execution_count": 13,
      "metadata": {
        "colab": {
          "base_uri": "https://localhost:8080/"
        },
        "id": "qvRLguRebkS9",
        "outputId": "6420e0f7-4fee-49d4-b489-3b8ad783dfa5"
      },
      "outputs": [
        {
          "output_type": "execute_result",
          "data": {
            "text/plain": [
              "tensor([[0.3982],\n",
              "        [0.4049],\n",
              "        [0.4116],\n",
              "        [0.4184],\n",
              "        [0.4251],\n",
              "        [0.4318],\n",
              "        [0.4386],\n",
              "        [0.4453],\n",
              "        [0.4520],\n",
              "        [0.4588]])"
            ]
          },
          "metadata": {},
          "execution_count": 13
        }
      ],
      "source": [
        "# Make predictions with model\n",
        "with torch.inference_mode():\n",
        "    y_pred = model_0(X_test) # we pass the X_test data through our model\n",
        "\n",
        "# Note that inference mode temporarily disables autograd, which can speed up prediction computations\n",
        "\n",
        "# Inference mode is preferred over no_grad mode because it saves memory and speeds up computations, especially when dealing with large datasets.\n",
        "\n",
        "y_pred"
      ]
    },
    {
      "cell_type": "code",
      "execution_count": 14,
      "metadata": {
        "colab": {
          "base_uri": "https://localhost:8080/",
          "height": 449
        },
        "id": "uNIqUf0SbkS9",
        "outputId": "6150069a-267e-4b24-c33d-f30840d15ef0"
      },
      "outputs": [
        {
          "output_type": "display_data",
          "data": {
            "text/plain": [
              "<Figure size 640x480 with 1 Axes>"
            ],
            "image/png": "[encoded data removed]"
          },
          "metadata": {}
        }
      ],
      "source": [
        "plot_predictions(predictions=y_pred)"
      ]
    },
    {
      "cell_type": "markdown",
      "metadata": {
        "id": "HGMFjIZVbkS9"
      },
      "source": [
        "Currently, our model is making random predictions that are far from where our data actually lies. This is because we haven't trained our model yet.\n",
        "\n",
        "Right now, our model is making predictions using random parameters to make calculations (random guessing). It's not looking at the blue dots to predict the green dots at all."
      ]
    },
    {
      "cell_type": "markdown",
      "metadata": {
        "id": "i2m7cTbmbkS9"
      },
      "source": [
        "## 3. Train Model\n",
        "\n",
        "Right now, our model is making prediction using random parameters to make calculations. It is basically guessing randomly.\n",
        "\n",
        "We could attempt to hard-code the ideal values, but most of the time we would not know what the ideal parameters are for a model.\n",
        "\n",
        "The whole idea of training is for a model to move from some *unknown* parameters (these may be random) to some *known* parameters i.e. from a poor representation of the data to a better representation of the data.\n",
        "\n",
        "One way to measure how inaccurate or how wrong your model's predictions are is to use a loss function.\n",
        "\n",
        "### Creating a loss function and optimizer in PyTorch\n",
        "\n",
        "| Function | What does it do? | Where does it live in PyTorch? | Common values |\n",
        "| ----- | ----- | ----- | ----- |\n",
        "| **Loss function** | Measures how wrong your model's predictions (e.g. `y_pred`) are compared to the truth labels (e.g. `y_test`). Lower the better. | PyTorch has plenty of built-in loss functions in [`torch.nn`](https://pytorch.org/docs/stable/nn.html#loss-functions). | Mean absolute error (MAE) for regression problems ([`torch.nn.L1Loss()`](https://pytorch.org/docs/stable/generated/torch.nn.L1Loss.html)). Binary cross entropy for binary classification problems ([`torch.nn.BCELoss()`](https://pytorch.org/docs/stable/generated/torch.nn.BCELoss.html)).  |\n",
        "| **Optimizer** | Tells your model how to update its internal parameters to best lower the loss. | You can find various optimization function implementations in [`torch.optim`](https://pytorch.org/docs/stable/optim.html). | Stochastic gradient descent ([`torch.optim.SGD()`](https://pytorch.org/docs/stable/generated/torch.optim.SGD.html#torch.optim.SGD)). Adam optimizer ([`torch.optim.Adam()`](https://pytorch.org/docs/stable/generated/torch.optim.Adam.html#torch.optim.Adam)). |\n",
        "\n",
        "Let's create a loss function and an optimizer we can use to help improve our model.\n",
        "\n",
        "Depending on what kind of problem you're working on will depend on what loss function and what optimizer you use.\n",
        "\n",
        "However, there are some common values, that are known to work well such as the SGD (stochastic gradient descent) or Adam optimizer. And the MAE (mean absolute error) loss function for regression problems (predicting a number) or binary cross entropy loss function for classification problems (predicting one thing or another).\n",
        "\n",
        "For our problem, since we're predicting a number, let's use MAE (which is under `torch.nn.L1Loss()`) in PyTorch as our loss function.\n",
        "\n",
        "![what MAE loss looks like for our plot data](https://raw.githubusercontent.com/mrdbourke/pytorch-deep-learning/main/images/01-mae-loss-annotated.png)\n",
        "*Mean absolute error (MAE, in PyTorch: `torch.nn.L1Loss`) measures the absolute difference between two points (predictions and labels) and then takes the mean across all examples.*\n",
        "\n",
        "And we'll use SGD, `torch.optim.SGD(params, lr)` where:\n",
        "\n",
        "* `params` is the target model parameters you'd like to optimize (e.g. the `weights` and `bias` values we randomly set before).\n",
        "* `lr` is the **learning rate** you'd like the optimizer to update the parameters at, higher means the optimizer will try larger updates (these can sometimes be too large and the optimizer will fail to work), lower means the optimizer will try smaller updates (these can sometimes be too small and the optimizer will take too long to find the ideal values). The learning rate is considered a **hyperparameter** (because it's set by a machine learning engineer). Common starting values for the learning rate are `0.01`, `0.001`, `0.0001`, however, these can also be adjusted over time (this is called [learning rate scheduling](https://pytorch.org/docs/stable/optim.html#how-to-adjust-learning-rate)).\n",
        "\n",
        "\n",
        "### Code Implementation:"
      ]
    },
    {
      "cell_type": "code",
      "execution_count": 15,
      "metadata": {
        "id": "nTQW9p6WbkS-"
      },
      "outputs": [],
      "source": [
        "# Create a loss function using L1 Loss (MAE), which calculates the absolute differences between predicted and target values\n",
        "loss_fn = nn.L1Loss()\n",
        "\n",
        "# Create the optimizer using Stochastic Gradient Descent (SGD), with the model's parameters and a learning rate of 0.01\n",
        "optimizer = torch.optim.SGD(params=model_0.parameters(), # parameters of the target model to optimize\n",
        "                            lr=0.01) # learning rate: how much the optimizer should change parameters at each step.\n",
        "                                     # higher=more (less stable), lower=less (more stable)"
      ]
    },
    {
      "cell_type": "markdown",
      "metadata": {
        "id": "vOy_5T3-bkS-"
      },
      "source": [
        "### Creating an optimization loop in PyTorch\n",
        "\n",
        "Now that we have a loss function and an optimizer, now we can create a **training loop** (and **testing loop**)\n",
        "\n",
        "The **training loop** involves the model going through the training data and learning the relationships between the `features` and `labels`.\n",
        "\n",
        "The **testing loop** involves evaluating how well the model has learned patterns from the training data by using the testing data, which the model has not seen during training."
      ]
    },
    {
      "cell_type": "markdown",
      "metadata": {
        "id": "KkI4P1lgbkS-"
      },
      "source": [
        "### PyTorch training loop\n",
        "| Number | Step name | What does it do? | Code example |\n",
        "| ----- | ----- | ----- | ----- |\n",
        "| 1 | Forward pass | The model goes through all of the training data once, performing its `forward()` function calculations. | `model(x_train)` |\n",
        "| 2 | Calculate the loss | The model's outputs (predictions) are compared to the ground truth and evaluated to see how wrong they are. | `loss = loss_fn(y_pred, y_train)` |\n",
        "| 3 | Zero gradients | The optimizers gradients are set to zero (they are accumulated by default) so they can be recalculated for the specific training step. | `optimizer.zero_grad()` |\n",
        "| 4 | Perform backpropagation on the loss | Computes the gradient of the loss with respect for every model parameter to be updated  (each parameter with `requires_grad=True`). This is known as **backpropagation**, hence \"backwards\".  | `loss.backward()` |\n",
        "| 5 | Update the optimizer (**gradient descent**) | Update the parameters with `requires_grad=True` with respect to the loss gradients in order to improve them. | `optimizer.step()` |\n",
        "\n",
        "![pytorch training loop annotated](https://raw.githubusercontent.com/mrdbourke/pytorch-deep-learning/main/images/01-pytorch-training-loop-annotated.png)\n",
        "\n",
        "> **Note:** The above is just one example of how the steps could be ordered or described. With experience you'll find making PyTorch training loops can be quite flexible.\n",
        ">\n",
        "> And on the ordering of things, the above is a good default order but you may see slightly different orders. Some rules of thumb:\n",
        "> * Calculate the loss (`loss = ...`) *before* performing backpropagation on it (`loss.backward()`).\n",
        "> * Zero gradients (`optimizer.zero_grad()`) *before* computing the gradients of the loss with respect to every model parameter (`loss.backward()`).\n",
        "> * Step the optimizer (`optimizer.step()`) *after* performing backpropagation on the loss (`loss.backward()`).\n",
        "\n"
      ]
    },
    {
      "cell_type": "markdown",
      "metadata": {
        "id": "gBjCrb8ZbkS-"
      },
      "source": [
        "### PyTorch testing loop\n",
        "\n",
        "As for the testing loop (evaluating our model), the typical steps include:\n",
        "\n",
        "| Number | Step name | What does it do? | Code example |\n",
        "| ----- | ----- | ----- | ----- |\n",
        "| 1 | Forward pass | The model goes through all of the testing data once, performing its `forward()` function calculations. | `model(x_test)` |\n",
        "| 2 | Calculate the loss | The model's outputs (predictions) are compared to the ground truth and evaluated to see how wrong they are. | `loss = loss_fn(y_pred, y_test)` |\n",
        "| 3 | Calulate evaluation metrics (optional) | Alongside the loss value you may want to calculate other evaluation metrics such as accuracy on the test set. | Custom functions |\n",
        "\n",
        "Notice the testing loop doesn't contain performing backpropagation (`loss.backward()`) or stepping the optimizer (`optimizer.step()`), this is because no parameters in the model are being changed during testing, they've already been calculated. For testing, we're only interested in the output of the forward pass through the model.\n",
        "\n",
        "![pytorch annotated testing loop](https://raw.githubusercontent.com/mrdbourke/pytorch-deep-learning/main/images/01-pytorch-testing-loop-annotated.png)\n"
      ]
    },
    {
      "cell_type": "markdown",
      "metadata": {
        "id": "U4pPvbIQbkS-"
      },
      "source": [
        "### What are Loss Values?\n",
        "\n",
        "Loss values are a way to measure how well a machine learning model's predictions match the actual target values. In simple terms, they tell you how far off your model's predictions are from the correct answers.\n",
        "\n",
        "#### Key Points:\n",
        "\n",
        "1. **Quantifying Error**:\n",
        "   The loss function calculates the difference (error) between the model’s predicted output and the actual target (true) output.\n",
        "   - For example, in regression tasks, if the model predicts a value like 20 but the actual value is 25, the loss function measures the size of this error.\n",
        "\n",
        "2. **Single Number**:\n",
        "   The result of this calculation is a single number that represents how poorly or well the model is performing. Lower loss means better performance (i.e., smaller error), and higher loss means worse performance.\n",
        "\n",
        "3. **Training Loss vs. Testing Loss**:\n",
        "   - **Training Loss**: The loss calculated on the training dataset, which the model learns from.\n",
        "   - **Testing Loss**: The loss calculated on the test (or validation) dataset, which is unseen by the model during training. This helps evaluate how well the model generalizes to new data.\n",
        "\n",
        "4. **Loss Function**:\n",
        "   The specific way in which the loss is calculated depends on the type of task. Common loss functions include:\n",
        "   - **Mean Squared Error (MSE)**: Used for regression tasks, it calculates the average squared difference between predicted and actual values.\n",
        "   - **Cross-Entropy Loss**: Used for classification tasks, it measures the difference between predicted probability distributions and actual class labels.\n",
        "\n",
        "In short, **loss values guide the model in learning**. During training, the model adjusts its parameters (weights and biases) to minimize the loss, which improves its predictions."
      ]
    },
    {
      "cell_type": "code",
      "execution_count": 16,
      "metadata": {
        "colab": {
          "base_uri": "https://localhost:8080/"
        },
        "id": "EGb5eI21bkS-",
        "outputId": "f548ce48-65dd-4e62-cfd0-a99440704abc"
      },
      "outputs": [
        {
          "output_type": "stream",
          "name": "stdout",
          "text": [
            "Epoch: 0 | MAE Train Loss: 0.31288138031959534 | MAE Test Loss: 0.48106518387794495 \n",
            "Epoch: 10 | MAE Train Loss: 0.1976713240146637 | MAE Test Loss: 0.3463551998138428 \n",
            "Epoch: 20 | MAE Train Loss: 0.08908725529909134 | MAE Test Loss: 0.21729660034179688 \n",
            "Epoch: 30 | MAE Train Loss: 0.053148526698350906 | MAE Test Loss: 0.14464017748832703 \n",
            "Epoch: 40 | MAE Train Loss: 0.04543796554207802 | MAE Test Loss: 0.11360953003168106 \n",
            "Epoch: 50 | MAE Train Loss: 0.04167863354086876 | MAE Test Loss: 0.09919948130846024 \n",
            "Epoch: 60 | MAE Train Loss: 0.03818932920694351 | MAE Test Loss: 0.08886633068323135 \n",
            "Epoch: 70 | MAE Train Loss: 0.03476089984178543 | MAE Test Loss: 0.0805937647819519 \n",
            "Epoch: 80 | MAE Train Loss: 0.03132382780313492 | MAE Test Loss: 0.07232122868299484 \n",
            "Epoch: 90 | MAE Train Loss: 0.02788739837706089 | MAE Test Loss: 0.06473556160926819 \n"
          ]
        }
      ],
      "source": [
        "torch.manual_seed(42)  # Set random seed for reproducibility\n",
        "\n",
        "# Set the number of epochs (how many times the model will pass over the training data)\n",
        "epochs = 100\n",
        "\n",
        "# Create empty lists to track loss values for both training and testing data\n",
        "train_loss_values = []  # Stores the loss values for the training dataset\n",
        "test_loss_values = []   # Stores the loss values for the testing dataset\n",
        "epoch_count = []        # Tracks the epochs when losses are recorded\n",
        "\n",
        "# Train the model\n",
        "for epoch in range(epochs):\n",
        "    ### Training\n",
        "\n",
        "    # Set the model to training mode (enables gradient calculation, and if using layers like dropout, they behave correctly for training)\n",
        "    model_0.train()\n",
        "\n",
        "    # 1. Forward pass on training data to get predictions (model processes the input data X_train and generates output predictions y_pred)\n",
        "    y_pred = model_0(X_train)\n",
        "\n",
        "    # 2. Calculate training loss (loss_fn compares the predicted values (y_pred) to the actual target values (y_train) to quantify the error)\n",
        "    loss = loss_fn(y_pred, y_train) # loss_fn(prediction, target)\n",
        "\n",
        "    # 3. Zero the gradients (clears old gradients from previous iterations, preventing accumulation that would mess up the updates)\n",
        "    optimizer.zero_grad()\n",
        "\n",
        "    # 4. Backpropagate the loss (calculates how the loss changes with respect to each model parameter using the chain rule)\n",
        "    loss.backward()\n",
        "\n",
        "    # 5. Update model parameters based on calculated gradients (optimizer adjusts model weights in the direction that reduces the loss)\n",
        "    optimizer.step() # this should always go after backpropagation\n",
        "\n",
        "    ### Testing\n",
        "\n",
        "    # Set the model to evaluation mode (disables gradient calculation and sets dropout layers to inference mode)\n",
        "    model_0.eval()\n",
        "\n",
        "    with torch.inference_mode():  # Disable gradient calculation for efficiency during evaluation\n",
        "        # 1. Forward pass on test data to get predictions (assess model performance on unseen data)\n",
        "        test_pred = model_0(X_test)\n",
        "\n",
        "        # 2. Calculate testing loss (quantifies how far off predictions are from actual values in test data)\n",
        "        test_loss = loss_fn(test_pred, y_test)\n",
        "\n",
        "        # Log and print progress every 10 epochs\n",
        "        if epoch % 10 == 0:\n",
        "            epoch_count.append(epoch)  # Track current epoch number\n",
        "            train_loss_values.append(loss.detach().numpy())  # Save training loss (detach to prevent storing gradients)\n",
        "            test_loss_values.append(test_loss.detach().numpy())  # Save testing loss\n",
        "            print(f\"Epoch: {epoch} | MAE Train Loss: {loss} | MAE Test Loss: {test_loss} \")"
      ]
    },
    {
      "cell_type": "markdown",
      "metadata": {
        "id": "ORTfjAAxbkS-"
      },
      "source": [
        "Continue on 6:24:38 (https://www.youtube.com/watch?v=Z_ikDlimN6A&list=PL4bBPBIa3Hi-fOOqMAX3pIigMfkv4Cbyk)"
      ]
    }
  ],
  "metadata": {
    "kernelspec": {
      "display_name": ".venv",
      "language": "python",
      "name": "python3"
    },
    "language_info": {
      "codemirror_mode": {
        "name": "ipython",
        "version": 3
      },
      "file_extension": ".py",
      "mimetype": "text/x-python",
      "name": "python",
      "nbconvert_exporter": "python",
      "pygments_lexer": "ipython3",
      "version": "3.12.6"
    },
    "colab": {
      "provenance": [],
      "include_colab_link": true
    }
  },
  "nbformat": 4,
  "nbformat_minor": 0
}