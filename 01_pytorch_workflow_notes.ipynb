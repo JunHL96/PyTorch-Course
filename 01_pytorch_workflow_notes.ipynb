{
  "cells": [
    {
      "cell_type": "markdown",
      "metadata": {
        "id": "view-in-github",
        "colab_type": "text"
      },
      "source": [
        "<a href=\"https://colab.research.google.com/github/JunHL96/PyTorch-Course/blob/main/01_pytorch_workflow_notes.ipynb\" target=\"_parent\"><img src=\"https://colab.research.google.com/assets/colab-badge.svg\" alt=\"Open In Colab\"/></a>"
      ]
    },
    {
      "cell_type": "markdown",
      "metadata": {
        "id": "Hm4MmSKcRCYV"
      },
      "source": [
        "# 01. PyTorch Workflow\n",
        "\n",
        "Let's explore an example of a PyTorch end-to-end workflow\n",
        "\n",
        "* Ground truth notebook: https://github.com/mrdbourke/pytorch-deep-learning/blob/main/01_pytorch_workflow\n",
        "* Book version of notebook: https://github.com/mrdbourke/pytorch-deep-learning-book/blob/main/01_pytorch_workflow\n",
        "* Ask a question: https://github.com/mrdbourke/pytorch-deep-learning/discussions\n",
        "\n",
        "## Example Workflow:\n",
        "\n",
        "1. Get data ready (turn into tensors)\n",
        "2. Build or pick a pretrained model (to suit your problem)\n",
        "* 2.1) Pick a loss function & optimizer\n",
        "* 2.2) Build a training loop\n",
        "* 2.3) Repeat step 2 until ready to move to step 3\n",
        "3. Fit the model to the data and make a prediction\n",
        "4. Evaluate the model\n",
        "5. Improve through experimentation\n",
        "6. Save and reload your trained model."
      ]
    },
    {
      "cell_type": "code",
      "execution_count": 1,
      "metadata": {
        "trusted": false,
        "colab": {
          "base_uri": "https://localhost:8080/"
        },
        "id": "pIJMbnmURCYX",
        "outputId": "e51801cb-b4a4-42a5-f9d7-673fa29e15e9"
      },
      "outputs": [
        {
          "output_type": "stream",
          "name": "stdout",
          "text": [
            "Pytorch version: 2.5.0+cu121\n"
          ]
        }
      ],
      "source": [
        "import torch\n",
        "from torch import nn # nn contains all of PyTorch's building blocks for neural networks\n",
        "import matplotlib.pyplot as plt\n",
        "\n",
        "print(f\"Pytorch version: {torch.__version__}\")"
      ]
    },
    {
      "cell_type": "code",
      "execution_count": 2,
      "metadata": {
        "trusted": false,
        "colab": {
          "base_uri": "https://localhost:8080/"
        },
        "id": "psEctauRRCYX",
        "outputId": "ff9fb961-0ab3-476c-9e0a-bdc9f661f16c"
      },
      "outputs": [
        {
          "output_type": "stream",
          "name": "stdout",
          "text": [
            "Using device: cpu\n"
          ]
        }
      ],
      "source": [
        "# Setup device-agnostic code\n",
        "if torch.cuda.is_available():\n",
        "    device = \"cuda\" # NVIDIA GPU\n",
        "elif torch.backends.mps.is_available():\n",
        "    device = \"mps\" # Apple GPU\n",
        "else:\n",
        "    device = \"cpu\" # Defaults to CPU if NVIDIA GPU/Apple GPU aren't available\n",
        "\n",
        "print(f\"Using device: {device}\")"
      ]
    },
    {
      "cell_type": "code",
      "execution_count": 3,
      "metadata": {
        "trusted": false,
        "colab": {
          "base_uri": "https://localhost:8080/"
        },
        "id": "TnDnc0pCRCYY",
        "outputId": "8fd685b1-4e1e-4a60-eefa-af47a95cbcba"
      },
      "outputs": [
        {
          "output_type": "execute_result",
          "data": {
            "text/plain": [
              "{1: 'data (prepare and load)',\n",
              " 2: 'build model',\n",
              " 3: 'fitting the model to data (training)',\n",
              " 4: 'making predictions and evaluating a model (inference)',\n",
              " 5: 'saving and loading a model',\n",
              " 6: 'putting it all together'}"
            ]
          },
          "metadata": {},
          "execution_count": 3
        }
      ],
      "source": [
        "what_we_are_covering = {1: \"data (prepare and load)\",\n",
        "                        2: \"build model\",\n",
        "                        3: \"fitting the model to data (training)\",\n",
        "                        4: \"making predictions and evaluating a model (inference)\",\n",
        "                        5: \"saving and loading a model\",\n",
        "                        6: \"putting it all together\"}\n",
        "\n",
        "what_we_are_covering"
      ]
    },
    {
      "cell_type": "markdown",
      "metadata": {
        "id": "f34Y0HDeRCYY"
      },
      "source": [
        "## 1. Data (preparing and loading)\n",
        "\n",
        "Data can be almost everything in ML:\n",
        "* Excel spreadsheet\n",
        "* Images of any kind\n",
        "* Videos (YouTube has lots of data)\n",
        "* Audio (Songs, podcasts, etc.)\n",
        "* DNA\n",
        "* Text\n",
        "\n",
        "ML is a game of two parts:\n",
        "1. Get data into a numerical representation\n",
        "2. Build a model to learn patterns in that numerical representation.\n",
        "\n",
        "![machine learning is a game of two parts: 1. turn your data into a representative set of numbers and 2. build or pick a model to learn the representation as best as possible](https://raw.githubusercontent.com/mrdbourke/pytorch-deep-learning/main/images/01-machine-learning-a-game-of-two-parts.png)\n",
        "\n",
        "To showcase this, let's create some *known* data using the linear regression formula:\n",
        "\n",
        "### Linear Regression Formula\n",
        "\n",
        "Linear regression models the relationship between a dependent variable (target) and one or more independent variables (features). The formula is:\n",
        "\n",
        "**y = β<sub>0</sub> + β<sub>1</sub>x<sub>1</sub> + β<sub>2</sub>x<sub>2</sub> + ... + β<sub>n</sub>x<sub>n</sub> + ε**\n",
        "\n",
        "- **y**: The predicted output (dependent variable).\n",
        "- **β<sub>0</sub>**: The intercept (constant term).\n",
        "- **β<sub>1</sub>, β<sub>2</sub>, ..., β<sub>n</sub>**: Coefficients representing the impact of each independent variable (x<sub>1</sub>, x<sub>2</sub>, ..., x<sub>n</sub>).\n",
        "- **x<sub>1</sub>, x<sub>2</sub>, ..., x<sub>n</sub>**: Independent variables (features).\n",
        "- **ε**: Error term (difference between predicted and actual values).\n",
        "\n",
        "In simple linear regression (one feature), the formula simplifies to:\n",
        "\n",
        "**y = β<sub>0</sub> + β<sub>1</sub>x + ε**\n",
        "\n",
        "We'll use a linear regression formula to make a straight line with *known* **parameters**.\n"
      ]
    },
    {
      "cell_type": "code",
      "execution_count": 4,
      "metadata": {
        "trusted": false,
        "colab": {
          "base_uri": "https://localhost:8080/"
        },
        "id": "XlY1WpCWRCYY",
        "outputId": "cd2e48ff-6e83-4d8d-e5f0-aff9ab70229b"
      },
      "outputs": [
        {
          "output_type": "execute_result",
          "data": {
            "text/plain": [
              "(tensor([[0.0000],\n",
              "         [0.0200],\n",
              "         [0.0400],\n",
              "         [0.0600],\n",
              "         [0.0800],\n",
              "         [0.1000],\n",
              "         [0.1200],\n",
              "         [0.1400],\n",
              "         [0.1600],\n",
              "         [0.1800]]),\n",
              " tensor([[0.3000],\n",
              "         [0.3140],\n",
              "         [0.3280],\n",
              "         [0.3420],\n",
              "         [0.3560],\n",
              "         [0.3700],\n",
              "         [0.3840],\n",
              "         [0.3980],\n",
              "         [0.4120],\n",
              "         [0.4260]]))"
            ]
          },
          "metadata": {},
          "execution_count": 4
        }
      ],
      "source": [
        "# Create *known* parameters for linear regression\n",
        "# The weight determines how much influence the input feature x has on the output y.\n",
        "weight = 0.7  # The slope (coefficient) of the line (β₁ in y = β₀ + β₁x)\n",
        "# The bias adjusts the output independently of the input x.\n",
        "bias = 0.3    # The intercept (constant) of the line (β₀ in y = β₀ + β₁x)\n",
        "\n",
        "# Create input data (X) for linear regression\n",
        "start = 0     # Starting value of X (independent variable)\n",
        "end = 1       # Ending value of X\n",
        "step = 0.02   # Step size for generating values of X (i.e., increments of 0.02)\n",
        "X = torch.arange(start, end, step).unsqueeze(dim=1)\n",
        "# torch.arange creates a tensor with range of values from 0 to 0.98 (exclusive) with step size of 0.02\n",
        "# unsqueeze adds a dimension to the tensor (makes it a column vector).\n",
        "# - in this context, .unsqueeze(dim=1) adds a new dimension at index 1, transforming the tensor from a shape of [100] (1D) to [100, 1] (2D).\n",
        "\n",
        "# Generate target values (y) using the linear regression formula\n",
        "y = weight * X + bias  # This simulates a linear relationship between X and y (y = β₀ + β₁x)\n",
        "\n",
        "# Output the first 10 values of X and y (input and output #s)\n",
        "X[:10], y[:10]\n"
      ]
    },
    {
      "cell_type": "code",
      "execution_count": 5,
      "metadata": {
        "trusted": false,
        "colab": {
          "base_uri": "https://localhost:8080/"
        },
        "id": "WuWgzClpRCYY",
        "outputId": "ed26ffb2-1015-431a-d96d-17d48279f34d"
      },
      "outputs": [
        {
          "output_type": "execute_result",
          "data": {
            "text/plain": [
              "(50, 50)"
            ]
          },
          "metadata": {},
          "execution_count": 5
        }
      ],
      "source": [
        "len(X), len(y)"
      ]
    },
    {
      "cell_type": "markdown",
      "metadata": {
        "id": "zxIhpWVlRCYY"
      },
      "source": [
        "### Splitting data into training and test sets (one of the most important concepts in ML in general)\n",
        "\n",
        "| Split | Purpose | Amount of total data | How often is it used? |\n",
        "| ----- | ----- | ----- | ----- |\n",
        "| **Training set** | The model learns from this data (like the course materials you study during the semester). | ~60-80% | Always |\n",
        "| **Validation set** | The model gets tuned on this data (like the practice exam you take before the final exam). | ~10-20% | Often but not always |\n",
        "| **Testing set** | The model gets evaluated on this data to test what it has learned (like the final exam you take at the end of the semester). | ~10-20% | Always |\n",
        "\n",
        "**Goal**: Generalization - The ability for a ML model to perform well on data it hasn't seen before."
      ]
    },
    {
      "cell_type": "code",
      "execution_count": 6,
      "metadata": {
        "trusted": false,
        "colab": {
          "base_uri": "https://localhost:8080/"
        },
        "id": "pH97OUwNRCYZ",
        "outputId": "c794f423-4b4d-456a-f880-a4982685cf62"
      },
      "outputs": [
        {
          "output_type": "execute_result",
          "data": {
            "text/plain": [
              "(40, 40, 10, 10)"
            ]
          },
          "metadata": {},
          "execution_count": 6
        }
      ],
      "source": [
        "# Create a train/test split\n",
        "\n",
        "# Calculate the index to split the data (80% for training, 20% for testing)\n",
        "train_split = int(0.8 * len(X))  # 80% of the length of the dataset will be for training\n",
        "train_split  # This variable holds the index for splitting the data\n",
        "\n",
        "# Split the data into training and testing sets\n",
        "X_train, y_train = X[:train_split], y[:train_split]  # The first 80% of X and y for training\n",
        "X_test, y_test = X[train_split:], y[train_split:]    # The remaining 20% of X and y for testing\n",
        "\n",
        "# Output the lengths of the training and testing sets for verification (training split + test split))\n",
        "len(X_train), len(y_train), len(X_test), len(y_test)\n"
      ]
    },
    {
      "cell_type": "markdown",
      "metadata": {
        "id": "kuYcUNIQRCYZ"
      },
      "source": [
        "How might we better visualize our data?\n",
        "\n",
        "This is where the data explorer's motto comes in!\n",
        "\n",
        "\"Visualize, visualize, visualize!\""
      ]
    },
    {
      "cell_type": "code",
      "execution_count": 7,
      "metadata": {
        "trusted": false,
        "id": "u19CXf-WRCYZ"
      },
      "outputs": [],
      "source": [
        "def plot_predictions(train_data=X_train,\n",
        "                     train_labels=y_train,\n",
        "                     test_data=X_test,\n",
        "                     test_labels=y_test,\n",
        "                     predictions=None):\n",
        "    \"\"\"\n",
        "    Plots training data, test data, and compares predictions if provided.\n",
        "\n",
        "    Parameters:\n",
        "    - train_data: The input features for training data (X_train).\n",
        "    - train_labels: The corresponding target values for training data (y_train).\n",
        "    - test_data: The input features for test data (X_test).\n",
        "    - test_labels: The corresponding target values for test data (y_test).\n",
        "    - predictions: The predicted values (optional) for the test data.\n",
        "    \"\"\"\n",
        "\n",
        "    # https://matplotlib.org/stable/api/_as_gen/matplotlib.pyplot.scatter.html\n",
        "\n",
        "    # Plot training data in blue\n",
        "    plt.scatter(train_data, train_labels, c=\"b\", s=4, label=\"Training data\")\n",
        "    # `plt.scatter` creates a scatter plot for the training data (X_train, y_train) in blue (c=\"b\").\n",
        "    # `s=4` sets the size of the points to 4, and `label` adds a legend entry for the training data.\n",
        "\n",
        "    # Plot test data in green\n",
        "    plt.scatter(test_data, test_labels, c=\"g\", s=4, label=\"Test data\")\n",
        "    # Similarly, test data (X_test, y_test) is plotted in green (c=\"g\") with a legend entry for the test data.\n",
        "\n",
        "    # Plot predictions in red if they exist\n",
        "    if predictions is not None:\n",
        "        plt.scatter(test_data, predictions, c=\"r\", s=4, label=\"Predictions\")\n",
        "        # If predictions are provided, they are plotted in red (c=\"r\").\n",
        "        # This shows how the predicted values compare to the actual test data.\n",
        "\n",
        "    # Plot a line of best fit (if predictions exist)\n",
        "    if predictions is not None:\n",
        "        plt.plot(test_data, predictions, c=\"r\", label=\"Line of best fit\")\n",
        "        # `plt.plot` creates a line of best fit using the test data and the predictions.\n",
        "        # This red line represents the linear relationship the model has learned.\n",
        "\n",
        "     # Add legend and labels\n",
        "    plt.legend(prop={\"size\": 14})  # Displays the legend with font size 14 to differentiate training, test data, and predictions.\n",
        "\n",
        "    plt.xlabel(\"X\")  # Labels the x-axis as \"X\" (the input feature).\n",
        "\n",
        "    plt.ylabel(\"y\")  # Labels the y-axis as \"y\" (the target/output variable).\n",
        "\n",
        "    # The final plot will show:\n",
        "    # - Training data in blue\n",
        "    # - Test data in green\n",
        "    # - Predictions and line of best fit (if provided) in red\n",
        "    # With a larger, clearer legend to distinguish between these elements.\n",
        "\n",
        "\n",
        "    # The final plot will show training data in blue, test data in green, and, if provided, predictions and the line of best fit in red.\n"
      ]
    },
    {
      "cell_type": "code",
      "execution_count": 8,
      "metadata": {
        "trusted": false,
        "colab": {
          "base_uri": "https://localhost:8080/",
          "height": 449
        },
        "id": "CRJZveuORCYZ",
        "outputId": "5eede18b-fe33-42c9-f3e2-55c30cccfb8a"
      },
      "outputs": [
        {
          "output_type": "display_data",
          "data": {
            "text/plain": [
              "<Figure size 640x480 with 1 Axes>"
            ],
            "image/png": "[encoded data removed]"
          },
          "metadata": {}
        }
      ],
      "source": [
        "plot_predictions();"
      ]
    },
    {
      "cell_type": "markdown",
      "metadata": {
        "id": "QElpbK99RCYZ"
      },
      "source": [
        "## 2. Build Model\n",
        "\n",
        "Now that we've got some data, let's build a model to use the blue dots to predict the green dots.\n",
        "\n",
        "This is where we will need OOP.\n",
        "\n",
        "### What our model does (in the code below):\n",
        "* Start with random values (weight & bias)\n",
        "* Look at training data and adjust the random values to better represent (or get closer to) the ideal values (the weight and bias values we used to create the data).\n",
        "\n",
        "### How does it work?\n",
        "Through two main algorithms:\n",
        "\n",
        "1. **Gradient Descent**:\n",
        "   - **Goal**: Gradient descent is an optimization algorithm that helps adjust the model’s parameters (weights and biases) to minimize a **loss function** (which tells us how far off our predictions are from the actual data). The lower the loss, the better the model is performing.\n",
        "   - **Process**:\n",
        "     1. **Start with random values**: The model begins with random values for its weights and biases.\n",
        "     2. **Calculate the loss**: For every prediction the model makes, compare it to the actual data using a loss function like **Mean Squared Error (MSE)**. MSE measures how far the predicted values are from the actual values.\n",
        "     3. **Compute the gradient**: In ML, gradient is a derivative of a function that has more than one input variable. Think of it as a slope or vector that is the measure of how much the loss will change if you adjust each of the parameters. Gradients point in the direction of increasing loss, so by following the opposite direction, we can reduce the loss.\n",
        "     4. **Update parameters**: The model's weights and biases are updated by a small amount in the direction that reduces the loss. This process is repeated until the model's parameters settle at values that minimize the error.\n",
        "     - **Key Idea**: We want to reduce the error between the predicted and actual values, so the weights and biases are adjusted iteratively by using gradients to guide those adjustments.\n",
        "   \n",
        "2. **Backpropagation**:\n",
        "   - **Goal**: Backpropagation computes how much each parameter (weight and bias) contributed to the overall error (loss), so the model knows exactly how to adjust them.\n",
        "   - **Process**:\n",
        "     1. **Forward pass**: Input data passes through the network, layer by layer, and the model makes a prediction using the current weights and biases.\n",
        "     2. **Calculate the loss**: The model compares the prediction to the actual data using the loss function (e.g., MSE) to determine how far off the prediction was.\n",
        "     3. **Backward pass (Backpropagation)**: The loss is then “propagated backward” through the network by calculating how much each weight and bias influenced the loss. This is done using the **chain rule** from calculus, which breaks the error into pieces that allow the model to understand the impact of each parameter.\n",
        "     4. **Gradient computation**: Backpropagation computes the gradient (or slope) of the loss function with respect to each parameter in the network, starting from the output layer and moving backward to the input layer.\n",
        "     5. **Update parameters**: These gradients are then used by gradient descent to update the weights and biases in a way that reduces the error for the next prediction.\n",
        "\n",
        "   - **Key Idea**: Backpropagation helps calculate the gradients needed to update each weight and bias by understanding how each one contributed to the error. This is critical for making the model learn."
      ]
    },
    {
      "cell_type": "markdown",
      "metadata": {
        "id": "Ffrq0RLLRCYZ"
      },
      "source": [
        "### Relationship between loss function, backpropagation, and gradient descent\n",
        "\n",
        "The **loss function** quantifies how far the model is from the optimal solution, **backpropagation** calculates the gradients of the loss function with respect to each model parameter by propagating the error backward through the network, and **gradient descent** is the mechanism that iteratively reduces this loss by updating the model parameters based on these gradients."
      ]
    },
    {
      "cell_type": "markdown",
      "metadata": {
        "id": "HTA5sfP_RCYZ"
      },
      "source": [
        "### Why backpropogation instead of calculating the error by propagating forward?\n",
        "\n",
        "Backpropagation is preferred over forward propagation for calculating error because:\n",
        "\n",
        "1. **Chain Rule of Calculus**:\n",
        "   - Backpropagation uses the **chain rule** to compute how the loss changes with respect to each parameter, starting from the output layer and moving backward. This allows efficient gradient calculation for each layer.\n",
        "\n",
        "2. **Final Error at Output**:\n",
        "   - The error is only available at the **final output layer** after a forward pass. Backpropagation propagates this error backward to attribute it to earlier layers, adjusting their parameters accordingly.\n",
        "\n",
        "3. **Parameter Dependencies**:\n",
        "   - Each layer’s output affects subsequent layers, so backpropagation efficiently computes how each layer’s parameters contributed to the final error by propagating gradients from the output backward.\n",
        "\n",
        "4. **Efficiency**:\n",
        "   - Backpropagation avoids recalculating intermediate values by reusing the forward pass results, making it much more efficient than propagating gradients forward.\n",
        "\n",
        "5. **Conclusion**:\n",
        "   - Backpropagation efficiently calculates how each layer’s parameters contribute to the final error using the chain rule, starting from the output. Forward propagation computes predictions but cannot provide the necessary information to adjust parameters."
      ]
    },
    {
      "cell_type": "markdown",
      "metadata": {
        "id": "KhMQ6qCzRCYa"
      },
      "source": [
        "Think of Gradient Descent as a curved graph for each parameter:\n",
        "\n",
        "![Gradient Descent Image](https://images.javatpoint.com/tutorial/machine-learning/images/gradient-descent-in-machine-learning2.png)"
      ]
    },
    {
      "cell_type": "code",
      "execution_count": 9,
      "metadata": {
        "trusted": false,
        "id": "X3tRrVhyRCYa"
      },
      "outputs": [],
      "source": [
        "# Create a linear regression model class inheriting from nn.Module (the base class for all neural network modules)\n",
        "class LinearRegressionModel(nn.Module):\n",
        "    # Constructor method for the class. It's called when a new instance of the class is created.\n",
        "    def __init__(self):\n",
        "        # super will call the __init__ method of the parent class (nn.Module) to ensure that all its functionality is initialized\n",
        "        super().__init__()\n",
        "        # Define the weights parameter initialized randomly with requires_grad=True to compute gradients for optimization\n",
        "        self.weight = nn.Parameter(torch.randn(1, # start with a random weight and try to adjust it to the ideal weight\n",
        "                                                requires_grad=True, # This is true by default so we don't need to explicitly set it True here\n",
        "                                                dtype=torch.float))  # <- This is float32 by default so we don't need to explicitly set it like this here\n",
        "\n",
        "        # Define the bias parameter initialized randomly with requires_grad=True to compute gradients\n",
        "        self.bias = nn.Parameter(torch.randn(1, # start with a random bias and try to adjust it to the ideal bias\n",
        "                                             requires_grad=True,\n",
        "                                             dtype=torch.float))\n",
        "\n",
        "    # Forward method defines how input data x is transformed to produce the output data\n",
        "    # Implements the forward pass, where 'x' is an input tensor and the output is a processed tensor, both of type torch.Tensor.\n",
        "    def forward(self, x: torch.Tensor) -> torch.Tensor:\n",
        "        # Apply the linear regression formula y = wx + b\n",
        "        return self.weight * x + self.bias\n",
        "\n",
        "# The goal is to start with random weights and biases, run it through the forward pass,\n",
        "# and then update the weights and biases to represent the known parameters (currently 0.7 and 0.3) as closely as possible\n",
        "# Through an algorithm called gradient descent, this is achieved."
      ]
    },
    {
      "cell_type": "markdown",
      "metadata": {
        "id": "qaUzqyE2RCYa"
      },
      "source": [
        "### PyTorch model building essentials\n",
        "\n",
        "PyTorch has four (give or take) essential modules you can use to create almost any kind of neural network you can imagine.\n",
        "\n",
        "They are [`torch.nn`](https://pytorch.org/docs/stable/nn.html), [`torch.optim`](https://pytorch.org/docs/stable/optim.html), [`torch.utils.data.Dataset`](https://pytorch.org/docs/stable/data.html#torch.utils.data.Dataset) and [`torch.utils.data.DataLoader`](https://pytorch.org/docs/stable/data.html). For now, we'll focus on the first two and get to the other two later (though you may be able to guess what they do).\n",
        "\n",
        "| PyTorch module | What does it do? |\n",
        "| ----- | ----- |\n",
        "| [`torch.nn`](https://pytorch.org/docs/stable/nn.html) | Contains all of the building blocks for computational graphs (essentially a series of computations executed in a particular way). |\n",
        "| [`torch.nn.Parameter`](https://pytorch.org/docs/stable/generated/torch.nn.parameter.Parameter.html#parameter) | This is a special kind of tensor that is specifically designed to be used as part of the learnable parameters in a neural network. It essentially stores tensors that can be used with `nn.Module`. If `requires_grad=True` gradients (used for updating model parameters via [**gradient descent**](https://ml-cheatsheet.readthedocs.io/en/latest/gradient_descent.html))  are calculated automatically, this is often referred to as \"autograd\".  |\n",
        "| [`torch.nn.Module`](https://pytorch.org/docs/stable/generated/torch.nn.Module.html#torch.nn.Module) | The base class for all neural network modules, all the building blocks for neural networks are subclasses. If you're building a neural network in PyTorch, your models should subclass `nn.Module`. Requires a `forward()` method be implemented. |\n",
        "| [`torch.optim`](https://pytorch.org/docs/stable/optim.html) | Contains various optimization algorithms (these tell the model parameters stored in `nn.Parameter` how to best change to improve gradient descent and in turn reduce the loss). |\n",
        "| `def forward()` | All `nn.Module` subclasses require a `forward()` method, this defines the computation that will take place on the data passed to the particular `nn.Module` (e.g. the linear regression formula above). |\n",
        "\n",
        "If the above sounds complex, think of like this, almost everything in a PyTorch neural network comes from `torch.nn`,\n",
        "* `nn.Module` contains the larger building blocks (layers)\n",
        "* `nn.Parameter` contains the smaller parameters like weights and biases (put these together to make `nn.Module`(s))\n",
        "* `forward()` tells the larger blocks how to make calculations on inputs (tensors full of data) within  `nn.Module`(s)\n",
        "* `torch.optim` contains optimization methods on how to improve the parameters within `nn.Parameter` to better represent input data\n",
        "\n",
        "![a pytorch linear model with annotations](https://raw.githubusercontent.com/mrdbourke/pytorch-deep-learning/main/images/01-pytorch-linear-model-annotated.png)\n",
        "*Basic building blocks of creating a PyTorch model by subclassing `nn.Module`. For objects that subclass `nn.Module`, the `forward()` method must be defined.*\n",
        "\n",
        "> **Resource:** See more of these essential modules and their use cases in the [PyTorch Cheat Sheet](https://pytorch.org/tutorials/beginner/ptcheat.html).\n"
      ]
    },
    {
      "cell_type": "markdown",
      "metadata": {
        "id": "L4SQHNIbRCYa"
      },
      "source": [
        "### Checking the contents of our PyTorch model\n",
        "\n",
        "Now that we've created a model, let's see what is inside\n",
        "\n",
        "We can check out our model parameters using `.parameters()`.\n"
      ]
    },
    {
      "cell_type": "code",
      "execution_count": 10,
      "metadata": {
        "trusted": false,
        "colab": {
          "base_uri": "https://localhost:8080/"
        },
        "id": "rzJJeP8TRCYa",
        "outputId": "12f13f81-7301-46fc-882a-a18b996c0cff"
      },
      "outputs": [
        {
          "output_type": "execute_result",
          "data": {
            "text/plain": [
              "[Parameter containing:\n",
              " tensor([0.3367], requires_grad=True),\n",
              " Parameter containing:\n",
              " tensor([0.1288], requires_grad=True)]"
            ]
          },
          "metadata": {},
          "execution_count": 10
        }
      ],
      "source": [
        "# Set a fixed seed for reproducibility (ensures the same random numbers are generated each time)\n",
        "torch.manual_seed(42)\n",
        "\n",
        "# Instantiate the linear regression model (this creates an instance with random weight and bias)\n",
        "model_0 = LinearRegressionModel()\n",
        "\n",
        "# Retrieve the list of parameters (weights and biases) of the model for inspection\n",
        "list(model_0.parameters())"
      ]
    },
    {
      "cell_type": "markdown",
      "metadata": {
        "id": "LTljAyrJRCYa"
      },
      "source": [
        "We can also get the state (what the model contains) of the model using [`.state_dict()`](https://pytorch.org/docs/stable/generated/torch.nn.Module.html#torch.nn.Module.state_dict)."
      ]
    },
    {
      "cell_type": "code",
      "execution_count": 11,
      "metadata": {
        "trusted": false,
        "colab": {
          "base_uri": "https://localhost:8080/"
        },
        "id": "1QKDDHsBRCYa",
        "outputId": "f2882be2-d3da-40c6-fcd3-7b929c146749"
      },
      "outputs": [
        {
          "output_type": "execute_result",
          "data": {
            "text/plain": [
              "OrderedDict([('weight', tensor([0.3367])), ('bias', tensor([0.1288]))])"
            ]
          },
          "metadata": {},
          "execution_count": 11
        }
      ],
      "source": [
        "# List named parameters and their corresponding values\n",
        "model_0.state_dict()"
      ]
    },
    {
      "cell_type": "markdown",
      "metadata": {
        "id": "GAN_tS7lRCYa"
      },
      "source": [
        "\n",
        "Notice how the values for `weights` and `bias` from `model_0.state_dict()` come out as random float tensors?\n",
        "\n",
        "This is because we initialized them above using `torch.randn()`.\n",
        "\n",
        "Essentially we want to start from random parameters and get the model to update them towards parameters that fit our data best (the hardcoded `weight` and `bias` values we set when creating our straight line data). In this case, that would be 0.7 and 0.3 for weight and bias respectively.\n",
        "\n",
        "> **Exercise:** Try changing the `torch.manual_seed()` value two cells above, see what happens to the weights and bias values.\n",
        "\n",
        "Because our model starts with random values, right now it'll have poor predictive power.\n",
        "\n"
      ]
    },
    {
      "cell_type": "markdown",
      "metadata": {
        "id": "5xz3qG7wRCYa"
      },
      "source": [
        "### Making predictions with using `torch.inference_mode()`\n",
        "\n",
        "To check our model's predictive power, let's see how well it predicts `y_test` based on `X_test`.\n",
        "\n",
        "When we pass data to our model, it will go through the model's `forward()` method and produce a result using the computation we've defined."
      ]
    },
    {
      "cell_type": "code",
      "execution_count": 12,
      "metadata": {
        "trusted": false,
        "colab": {
          "base_uri": "https://localhost:8080/"
        },
        "id": "9_whEddPRCYa",
        "outputId": "de3e4b1a-dcd3-4638-ae23-b82834334c15"
      },
      "outputs": [
        {
          "output_type": "execute_result",
          "data": {
            "text/plain": [
              "(tensor([[0.8000],\n",
              "         [0.8200],\n",
              "         [0.8400],\n",
              "         [0.8600],\n",
              "         [0.8800],\n",
              "         [0.9000],\n",
              "         [0.9200],\n",
              "         [0.9400],\n",
              "         [0.9600],\n",
              "         [0.9800]]),\n",
              " tensor([[0.8600],\n",
              "         [0.8740],\n",
              "         [0.8880],\n",
              "         [0.9020],\n",
              "         [0.9160],\n",
              "         [0.9300],\n",
              "         [0.9440],\n",
              "         [0.9580],\n",
              "         [0.9720],\n",
              "         [0.9860]]))"
            ]
          },
          "metadata": {},
          "execution_count": 12
        }
      ],
      "source": [
        "X_test, y_test\n",
        "# An ideal model will input X_test and output y_test values exactly, i.e., the model should have no error"
      ]
    },
    {
      "cell_type": "code",
      "execution_count": 13,
      "metadata": {
        "trusted": false,
        "colab": {
          "base_uri": "https://localhost:8080/"
        },
        "id": "LTKXW2ToRCYa",
        "outputId": "e1fd8ddf-8585-4dda-a6fb-a92dc3980ef9"
      },
      "outputs": [
        {
          "output_type": "execute_result",
          "data": {
            "text/plain": [
              "tensor([[0.3982],\n",
              "        [0.4049],\n",
              "        [0.4116],\n",
              "        [0.4184],\n",
              "        [0.4251],\n",
              "        [0.4318],\n",
              "        [0.4386],\n",
              "        [0.4453],\n",
              "        [0.4520],\n",
              "        [0.4588]])"
            ]
          },
          "metadata": {},
          "execution_count": 13
        }
      ],
      "source": [
        "# Make predictions with model\n",
        "with torch.inference_mode():\n",
        "    y_pred = model_0(X_test) # we pass the X_test data through our model\n",
        "\n",
        "# Note that inference mode temporarily disables autograd, which can speed up prediction computations\n",
        "\n",
        "# Inference mode is preferred over no_grad mode because it saves memory and speeds up computations, especially when dealing with large datasets.\n",
        "\n",
        "y_pred"
      ]
    },
    {
      "cell_type": "code",
      "execution_count": 14,
      "metadata": {
        "trusted": false,
        "colab": {
          "base_uri": "https://localhost:8080/",
          "height": 449
        },
        "id": "12K608atRCYa",
        "outputId": "61bbb9c3-aedc-4b70-e091-d368e82017c7"
      },
      "outputs": [
        {
          "output_type": "display_data",
          "data": {
            "text/plain": [
              "<Figure size 640x480 with 1 Axes>"
            ],
            "image/png": "[encoded data removed]"
          },
          "metadata": {}
        }
      ],
      "source": [
        "plot_predictions(predictions=y_pred)"
      ]
    },
    {
      "cell_type": "markdown",
      "metadata": {
        "id": "aSXcC4-FRCYa"
      },
      "source": [
        "Currently, our model is making random predictions that are far from where our data actually lies. This is because we haven't trained our model yet.\n",
        "\n",
        "Right now, our model is making predictions using random parameters to make calculations (random guessing). It's not looking at the blue dots to predict the green dots at all."
      ]
    },
    {
      "cell_type": "markdown",
      "metadata": {
        "id": "474DTVjWRCYa"
      },
      "source": [
        "## 3. Train Model\n",
        "\n",
        "Right now, our model is making prediction using random parameters to make calculations. It is basically guessing randomly.\n",
        "\n",
        "We could attempt to hard-code the ideal values, but most of the time we would not know what the ideal parameters are for a model.\n",
        "\n",
        "The whole idea of training is for a model to move from some *unknown* parameters (these may be random) to some *known* parameters i.e. from a poor representation of the data to a better representation of the data.\n",
        "\n",
        "One way to measure how inaccurate or how wrong your model's predictions are is to use a loss function.\n",
        "\n",
        "### Creating a loss function and optimizer in PyTorch\n",
        "\n",
        "| Function | What does it do? | Where does it live in PyTorch? | Common values |\n",
        "| ----- | ----- | ----- | ----- |\n",
        "| **Loss function** | Measures how wrong your model's predictions (e.g. `y_pred`) are compared to the truth labels (e.g. `y_test`). Lower the better. | PyTorch has plenty of built-in loss functions in [`torch.nn`](https://pytorch.org/docs/stable/nn.html#loss-functions). | Mean absolute error (MAE) for regression problems ([`torch.nn.L1Loss()`](https://pytorch.org/docs/stable/generated/torch.nn.L1Loss.html)). Binary cross entropy for binary classification problems ([`torch.nn.BCELoss()`](https://pytorch.org/docs/stable/generated/torch.nn.BCELoss.html)).  |\n",
        "| **Optimizer** | Tells your model how to update its internal parameters to best lower the loss. | You can find various optimization function implementations in [`torch.optim`](https://pytorch.org/docs/stable/optim.html). | Stochastic gradient descent ([`torch.optim.SGD()`](https://pytorch.org/docs/stable/generated/torch.optim.SGD.html#torch.optim.SGD)). Adam optimizer ([`torch.optim.Adam()`](https://pytorch.org/docs/stable/generated/torch.optim.Adam.html#torch.optim.Adam)). |\n",
        "\n",
        "Let's create a loss function and an optimizer we can use to help improve our model.\n",
        "\n",
        "Depending on what kind of problem you're working on will depend on what loss function and what optimizer you use.\n",
        "\n",
        "However, there are some common values, that are known to work well such as the SGD (stochastic gradient descent) or Adam optimizer. And the MAE (mean absolute error) loss function for regression problems (predicting a number) or binary cross entropy loss function for classification problems (predicting one thing or another).\n",
        "\n",
        "For our problem, since we're predicting a number, let's use MAE (which is under `torch.nn.L1Loss()`) in PyTorch as our loss function.\n",
        "\n",
        "![what MAE loss looks like for our plot data](https://raw.githubusercontent.com/mrdbourke/pytorch-deep-learning/main/images/01-mae-loss-annotated.png)\n",
        "*Mean absolute error (MAE, in PyTorch: `torch.nn.L1Loss`) measures the absolute difference between two points (predictions and labels) and then takes the mean across all examples.*\n",
        "\n",
        "And we'll use SGD, `torch.optim.SGD(params, lr)` where:\n",
        "\n",
        "* `params` is the target model parameters you'd like to optimize (e.g. the `weights` and `bias` values we randomly set before).\n",
        "* `lr` is the **learning rate** you'd like the optimizer to update the parameters at, higher means the optimizer will try larger updates (these can sometimes be too large and the optimizer will fail to work), lower means the optimizer will try smaller updates (these can sometimes be too small and the optimizer will take too long to find the ideal values). The learning rate is considered a **hyperparameter** (because it's set by a machine learning engineer). Common starting values for the learning rate are `0.01`, `0.001`, `0.0001`, however, these can also be adjusted over time (this is called [learning rate scheduling](https://pytorch.org/docs/stable/optim.html#how-to-adjust-learning-rate)).\n",
        "\n",
        "\n",
        "### Code Implementation:"
      ]
    },
    {
      "cell_type": "code",
      "execution_count": 15,
      "metadata": {
        "trusted": false,
        "id": "uIcPwlRJRCYa"
      },
      "outputs": [],
      "source": [
        "# Create a loss function using L1 Loss (MAE), which calculates the absolute differences between predicted and target values\n",
        "loss_fn = nn.L1Loss()\n",
        "\n",
        "# Create the optimizer using Stochastic Gradient Descent (SGD), with the model's parameters and a learning rate of 0.01\n",
        "optimizer = torch.optim.SGD(params=model_0.parameters(), # parameters of the target model to optimize\n",
        "                            lr=0.01) # learning rate: how much the optimizer should change parameters at each step.\n",
        "                                     # higher=more (less stable), lower=less (more stable)"
      ]
    },
    {
      "cell_type": "markdown",
      "metadata": {
        "id": "EKstEHmbRCYb"
      },
      "source": [
        "### Creating an optimization loop in PyTorch\n",
        "\n",
        "Now that we have a loss function and an optimizer, now we can create a **training loop** (and **testing loop**)\n",
        "\n",
        "The **training loop** involves the model going through the training data and learning the relationships between the `features` and `labels`.\n",
        "\n",
        "The **testing loop** involves evaluating how well the model has learned patterns from the training data by using the testing data, which the model has not seen during training."
      ]
    },
    {
      "cell_type": "markdown",
      "metadata": {
        "id": "XfwtF6f4RCYb"
      },
      "source": [
        "### PyTorch training loop\n",
        "| Number | Step name | What does it do? | Code example |\n",
        "| ----- | ----- | ----- | ----- |\n",
        "| 1 | Forward pass | The model goes through all of the training data once, performing its `forward()` function calculations. | `model(x_train)` |\n",
        "| 2 | Calculate the loss | The model's outputs (predictions) are compared to the ground truth and evaluated to see how wrong they are. | `loss = loss_fn(y_pred, y_train)` |\n",
        "| 3 | Zero gradients | The optimizers gradients are set to zero (they are accumulated by default) so they can be recalculated for the specific training step. | `optimizer.zero_grad()` |\n",
        "| 4 | Perform backpropagation on the loss | Computes the gradient of the loss with respect for every model parameter to be updated  (each parameter with `requires_grad=True`). This is known as **backpropagation**, hence \"backwards\".  | `loss.backward()` |\n",
        "| 5 | Update the optimizer (**gradient descent**) | Update the parameters with `requires_grad=True` with respect to the loss gradients in order to improve them. | `optimizer.step()` |\n",
        "\n",
        "![pytorch training loop annotated](https://raw.githubusercontent.com/mrdbourke/pytorch-deep-learning/main/images/01-pytorch-training-loop-annotated.png)\n",
        "\n",
        "> **Note:** The above is just one example of how the steps could be ordered or described. With experience you'll find making PyTorch training loops can be quite flexible.\n",
        ">\n",
        "> And on the ordering of things, the above is a good default order but you may see slightly different orders. Some rules of thumb:\n",
        "> * Calculate the loss (`loss = ...`) *before* performing backpropagation on it (`loss.backward()`).\n",
        "> * Zero gradients (`optimizer.zero_grad()`) *before* computing the gradients of the loss with respect to every model parameter (`loss.backward()`).\n",
        "> * Step the optimizer (`optimizer.step()`) *after* performing backpropagation on the loss (`loss.backward()`).\n",
        "\n"
      ]
    },
    {
      "cell_type": "markdown",
      "metadata": {
        "id": "qXHQkNVpRCYb"
      },
      "source": [
        "### PyTorch testing loop\n",
        "\n",
        "As for the testing loop (evaluating our model), the typical steps include:\n",
        "\n",
        "| Number | Step name | What does it do? | Code example |\n",
        "| ----- | ----- | ----- | ----- |\n",
        "| 1 | Forward pass | The model goes through all of the testing data once, performing its `forward()` function calculations. | `model(x_test)` |\n",
        "| 2 | Calculate the loss | The model's outputs (predictions) are compared to the ground truth and evaluated to see how wrong they are. | `loss = loss_fn(y_pred, y_test)` |\n",
        "| 3 | Calulate evaluation metrics (optional) | Alongside the loss value you may want to calculate other evaluation metrics such as accuracy on the test set. | Custom functions |\n",
        "\n",
        "Notice the testing loop doesn't contain performing backpropagation (`loss.backward()`) or stepping the optimizer (`optimizer.step()`), this is because no parameters in the model are being changed during testing, they've already been calculated. For testing, we're only interested in the output of the forward pass through the model.\n",
        "\n",
        "![pytorch annotated testing loop](https://raw.githubusercontent.com/mrdbourke/pytorch-deep-learning/main/images/01-pytorch-testing-loop-annotated.png)\n"
      ]
    },
    {
      "cell_type": "markdown",
      "metadata": {
        "id": "paMxu-IKRCYb"
      },
      "source": [
        "### What are Loss Values?\n",
        "\n",
        "Loss values are a way to measure how well a machine learning model's predictions match the actual target values. In simple terms, they tell you how far off your model's predictions are from the correct answers.\n",
        "\n",
        "#### Key Points:\n",
        "\n",
        "1. **Quantifying Error**:\n",
        "   The loss function calculates the difference (error) between the model’s predicted output and the actual target (true) output.\n",
        "   - For example, in regression tasks, if the model predicts a value like 20 but the actual value is 25, the loss function measures the size of this error.\n",
        "\n",
        "2. **Single Number**:\n",
        "   The result of this calculation is a single number that represents how poorly or well the model is performing. Lower loss means better performance (i.e., smaller error), and higher loss means worse performance.\n",
        "\n",
        "3. **Training Loss vs. Testing Loss**:\n",
        "   - **Training Loss**: The loss calculated on the training dataset, which the model learns from.\n",
        "   - **Testing Loss**: The loss calculated on the test (or validation) dataset, which is unseen by the model during training. This helps evaluate how well the model generalizes to new data.\n",
        "\n",
        "4. **Loss Function**:\n",
        "   The specific way in which the loss is calculated depends on the type of task. Common loss functions include:\n",
        "   - **Mean Squared Error (MSE)**: Used for regression tasks, it calculates the average squared difference between predicted and actual values.\n",
        "   - **Cross-Entropy Loss**: Used for classification tasks, it measures the difference between predicted probability distributions and actual class labels.\n",
        "\n",
        "In short, **loss values guide the model in learning**. During training, the model adjusts its parameters (weights and biases) to minimize the loss, which improves its predictions."
      ]
    },
    {
      "cell_type": "markdown",
      "metadata": {
        "id": "hcrfCAIsRCYb"
      },
      "source": [
        "### Writing the code to train and test our model:"
      ]
    },
    {
      "cell_type": "code",
      "execution_count": 16,
      "metadata": {
        "trusted": false,
        "colab": {
          "base_uri": "https://localhost:8080/"
        },
        "id": "D_Bs0SPARCYb",
        "outputId": "53438423-bf26-4548-c604-633309053d8b"
      },
      "outputs": [
        {
          "output_type": "stream",
          "name": "stdout",
          "text": [
            "Epoch: 0 | MAE Train Loss: 0.31288138031959534 | MAE Test Loss: 0.48106518387794495 \n",
            "OrderedDict([('weight', tensor([0.3406])), ('bias', tensor([0.1388]))])\n",
            "Epoch: 10 | MAE Train Loss: 0.1976713240146637 | MAE Test Loss: 0.3463551998138428 \n",
            "OrderedDict([('weight', tensor([0.3796])), ('bias', tensor([0.2388]))])\n",
            "Epoch: 20 | MAE Train Loss: 0.08908725529909134 | MAE Test Loss: 0.21729660034179688 \n",
            "OrderedDict([('weight', tensor([0.4184])), ('bias', tensor([0.3333]))])\n",
            "Epoch: 30 | MAE Train Loss: 0.053148526698350906 | MAE Test Loss: 0.14464017748832703 \n",
            "OrderedDict([('weight', tensor([0.4512])), ('bias', tensor([0.3768]))])\n",
            "Epoch: 40 | MAE Train Loss: 0.04543796554207802 | MAE Test Loss: 0.11360953003168106 \n",
            "OrderedDict([('weight', tensor([0.4748])), ('bias', tensor([0.3868]))])\n",
            "Epoch: 50 | MAE Train Loss: 0.04167863354086876 | MAE Test Loss: 0.09919948130846024 \n",
            "OrderedDict([('weight', tensor([0.4938])), ('bias', tensor([0.3843]))])\n",
            "Epoch: 60 | MAE Train Loss: 0.03818932920694351 | MAE Test Loss: 0.08886633068323135 \n",
            "OrderedDict([('weight', tensor([0.5116])), ('bias', tensor([0.3788]))])\n",
            "Epoch: 70 | MAE Train Loss: 0.03476089984178543 | MAE Test Loss: 0.0805937647819519 \n",
            "OrderedDict([('weight', tensor([0.5288])), ('bias', tensor([0.3718]))])\n",
            "Epoch: 80 | MAE Train Loss: 0.03132382780313492 | MAE Test Loss: 0.07232122868299484 \n",
            "OrderedDict([('weight', tensor([0.5459])), ('bias', tensor([0.3648]))])\n",
            "Epoch: 90 | MAE Train Loss: 0.02788739837706089 | MAE Test Loss: 0.06473556160926819 \n",
            "OrderedDict([('weight', tensor([0.5629])), ('bias', tensor([0.3573]))])\n",
            "Epoch: 100 | MAE Train Loss: 0.024458957836031914 | MAE Test Loss: 0.05646304413676262 \n",
            "OrderedDict([('weight', tensor([0.5800])), ('bias', tensor([0.3503]))])\n",
            "Epoch: 110 | MAE Train Loss: 0.021020207554101944 | MAE Test Loss: 0.04819049686193466 \n",
            "OrderedDict([('weight', tensor([0.5972])), ('bias', tensor([0.3433]))])\n",
            "Epoch: 120 | MAE Train Loss: 0.01758546568453312 | MAE Test Loss: 0.04060482233762741 \n",
            "OrderedDict([('weight', tensor([0.6141])), ('bias', tensor([0.3358]))])\n",
            "Epoch: 130 | MAE Train Loss: 0.014155393466353416 | MAE Test Loss: 0.03233227878808975 \n",
            "OrderedDict([('weight', tensor([0.6313])), ('bias', tensor([0.3288]))])\n",
            "Epoch: 140 | MAE Train Loss: 0.010716589167714119 | MAE Test Loss: 0.024059748277068138 \n",
            "OrderedDict([('weight', tensor([0.6485])), ('bias', tensor([0.3218]))])\n",
            "Epoch: 150 | MAE Train Loss: 0.0072835334576666355 | MAE Test Loss: 0.016474086791276932 \n",
            "OrderedDict([('weight', tensor([0.6654])), ('bias', tensor([0.3143]))])\n",
            "Epoch: 160 | MAE Train Loss: 0.0038517764769494534 | MAE Test Loss: 0.008201557211577892 \n",
            "OrderedDict([('weight', tensor([0.6826])), ('bias', tensor([0.3073]))])\n",
            "Epoch: 170 | MAE Train Loss: 0.008932482451200485 | MAE Test Loss: 0.005023092031478882 \n",
            "OrderedDict([('weight', tensor([0.6951])), ('bias', tensor([0.2993]))])\n",
            "Epoch: 180 | MAE Train Loss: 0.008932482451200485 | MAE Test Loss: 0.005023092031478882 \n",
            "OrderedDict([('weight', tensor([0.6951])), ('bias', tensor([0.2993]))])\n",
            "Epoch: 190 | MAE Train Loss: 0.008932482451200485 | MAE Test Loss: 0.005023092031478882 \n",
            "OrderedDict([('weight', tensor([0.6951])), ('bias', tensor([0.2993]))])\n"
          ]
        }
      ],
      "source": [
        "torch.manual_seed(42)  # Set random seed for reproducibility\n",
        "\n",
        "# Set the number of epochs (how many times the model will pass over the training data)\n",
        "epochs = 200\n",
        "\n",
        "# Create empty lists to track loss values for both training and testing data\n",
        "train_loss_values = []  # Stores the loss values for the training dataset\n",
        "test_loss_values = []   # Stores the loss values for the testing dataset\n",
        "epoch_count = []        # Tracks the epochs when losses are recorded\n",
        "\n",
        "### Training the model\n",
        "\n",
        "for epoch in range(epochs):\n",
        "    ### Training\n",
        "\n",
        "    # Set the model to training mode (enables gradient calculation, and if using layers like dropout, they behave correctly for training)\n",
        "    model_0.train()\n",
        "\n",
        "    # 1. Forward pass on training data to get predictions (model processes the input data X_train and generates output predictions y_pred)\n",
        "    y_pred = model_0(X_train)\n",
        "\n",
        "    # 2. Calculate training loss (loss_fn compares the predicted values (y_pred) to the actual target values (y_train) to quantify the error)\n",
        "    loss = loss_fn(y_pred, y_train) # loss_fn(prediction, target)\n",
        "\n",
        "    # 3. Zero the gradients (clears old gradients from previous iterations, preventing accumulation that would mess up the updates)\n",
        "    optimizer.zero_grad()\n",
        "\n",
        "    # 4. Backpropagate the loss (calculates how the loss changes with respect to each model parameter using the chain rule)\n",
        "    loss.backward()\n",
        "\n",
        "    # 5. Update model parameters based on calculated gradients (optimizer adjusts model weights in the direction that reduces the loss)\n",
        "    optimizer.step() # this should always go after backpropagation\n",
        "\n",
        "### Testing the model (with data it has never seen before)\n",
        "\n",
        "    # Set the model to evaluation mode (disables gradient calculation and sets dropout layers to inference mode)\n",
        "    model_0.eval()\n",
        "\n",
        "    with torch.inference_mode():  # Disable gradient calculation for efficiency during evaluation/testing\n",
        "        # 1. Forward pass on test data to get predictions (assess model performance on unseen data)\n",
        "        test_pred = model_0(X_test)\n",
        "\n",
        "        # 2. Calculate testing loss (quantifies how far off predictions are from actual values in test data)\n",
        "        test_loss = loss_fn(test_pred, y_test)\n",
        "\n",
        "        # Log and print progress every 10 epochs\n",
        "        if epoch % 10 == 0:\n",
        "            epoch_count.append(epoch)  # Track current epoch number\n",
        "            train_loss_values.append(loss.detach().numpy())  # Save training loss (detach to prevent storing gradients)\n",
        "            test_loss_values.append(test_loss.detach().numpy())  # Save testing loss\n",
        "            print(f\"Epoch: {epoch} | MAE Train Loss: {loss} | MAE Test Loss: {test_loss} \")\n",
        "            print(model_0.state_dict())"
      ]
    },
    {
      "cell_type": "markdown",
      "metadata": {
        "id": "hHUiU7thRCYb"
      },
      "source": [
        "> **Note:** Due to the random nature of machine learning, you will likely get slightly different results (different loss and prediction values) depending on whether your model was trained on CPU or GPU. This is true even if you use the same random seed on either device. If the difference is large, you may want to look for errors, however, if it is small (ideally it is), you can ignore it."
      ]
    },
    {
      "cell_type": "code",
      "execution_count": 17,
      "metadata": {
        "trusted": false,
        "colab": {
          "base_uri": "https://localhost:8080/",
          "height": 472
        },
        "id": "nW490N90RCYb",
        "outputId": "8b45dcd1-6d57-4b30-9bbe-1bea9e8de87e"
      },
      "outputs": [
        {
          "output_type": "display_data",
          "data": {
            "text/plain": [
              "<Figure size 640x480 with 1 Axes>"
            ],
            "image/png": "[encoded data removed]"
          },
          "metadata": {}
        }
      ],
      "source": [
        "# Plot the loss curves - this is one way we can keep track of our model's training and testing performance\n",
        "plt.plot(epoch_count, train_loss_values, label=\"Train loss\")\n",
        "plt.plot(epoch_count, test_loss_values, label=\"Test loss\")\n",
        "plt.title(\" Training and test loss curves\")\n",
        "plt.xlabel(\"Epoch\")\n",
        "plt.ylabel(\"Loss\")\n",
        "plt.legend();"
      ]
    },
    {
      "cell_type": "markdown",
      "metadata": {
        "id": "cgoU1zfSRCYb"
      },
      "source": [
        "> Note that the loss does go down for both in increments (gradient descent)."
      ]
    },
    {
      "cell_type": "code",
      "execution_count": 18,
      "metadata": {
        "trusted": false,
        "colab": {
          "base_uri": "https://localhost:8080/"
        },
        "id": "e1M6wyYyRCYb",
        "outputId": "fdbfc155-ff0c-451a-a052-8bd73002bb29"
      },
      "outputs": [
        {
          "output_type": "stream",
          "name": "stdout",
          "text": [
            "The model learned the following values for weights and bias:\n",
            "OrderedDict([('weight', tensor([0.6990])), ('bias', tensor([0.3093]))])\n",
            "\n",
            "And the original values for weights and bias are:\n",
            "weights: 0.7, bias: 0.3\n"
          ]
        }
      ],
      "source": [
        "# Import the pprint function to pretty-print the model's state dictionary for improved readability\n",
        "from pprint import pprint\n",
        "\n",
        "# Print a message to indicate that the following output shows the model's learned parameters (weights and bias) after training\n",
        "print(\"The model learned the following values for weights and bias:\")\n",
        "\n",
        "# Pretty-print the model's state dictionary, which contains the learned weights and bias after training\n",
        "pprint(model_0.state_dict())\n",
        "\n",
        "# Print a message to indicate that the next output will show the original, pre-training values for weights and bias\n",
        "print(\"\\nAnd the original values for weights and bias are:\")\n",
        "\n",
        "# Print the original values for weights and bias (initial values before any training)\n",
        "print(f\"weights: {weight}, bias: {bias}\")"
      ]
    },
    {
      "cell_type": "markdown",
      "metadata": {
        "id": "CjcTeyX1RCYc"
      },
      "source": [
        "Try changing to `epochs` from 100 to a higher number and note how the loss curves and the weights and bias parameter values change.\n",
        "\n",
        "Instead of hard-coding the ideal weight and bias, we trained a model to figure them out."
      ]
    },
    {
      "cell_type": "markdown",
      "metadata": {
        "id": "L-NnzhK3RCYc"
      },
      "source": [
        "## 4. Making predictions with a trained PyTorch model (inference)\n",
        "\n",
        "Once you've trained a model, you'll likely want to make predictions with it.\n",
        "\n",
        "We've already seen a glimpse of this in the training and testing code above, the steps to do it outside of the training/testing loop are similar.\n",
        "\n",
        "There are three things to remember when making predictions (also called performing inference) with a PyTorch model:\n",
        "\n",
        "1. Set the model in evaluation mode (`model.eval()`).\n",
        "2. Make the predictions using the inference mode context manager (`with torch.inference_mode(): ...`).\n",
        "3. All predictions should be made with objects on the same device (e.g. data and model on GPU only or data and model on CPU only).\n",
        "\n",
        "The first two items make sure all helpful calculations and settings PyTorch uses behind the scenes during training but aren't necessary for inference are turned off (this results in faster computation). And the third ensures that you won't run into cross-device errors."
      ]
    },
    {
      "cell_type": "code",
      "execution_count": 19,
      "metadata": {
        "trusted": false,
        "colab": {
          "base_uri": "https://localhost:8080/"
        },
        "id": "GlxRZlM6RCYc",
        "outputId": "a32b7cce-e572-4a52-e674-7d56ef2ef338"
      },
      "outputs": [
        {
          "output_type": "execute_result",
          "data": {
            "text/plain": [
              "tensor([[0.8685],\n",
              "        [0.8825],\n",
              "        [0.8965],\n",
              "        [0.9105],\n",
              "        [0.9245],\n",
              "        [0.9384],\n",
              "        [0.9524],\n",
              "        [0.9664],\n",
              "        [0.9804],\n",
              "        [0.9944]])"
            ]
          },
          "metadata": {},
          "execution_count": 19
        }
      ],
      "source": [
        "# Set the model in evaluation mode. This is done to ensure that the model is in the correct mode for inference\n",
        "model_0.eval()\n",
        "\n",
        "# Setup the inference mode context manager.This context manager ensures that all calculations within it are done in inference mode\n",
        "with torch.inference_mode():\n",
        "    # Make sure the calculations are done with the model and data on the same device\n",
        "    # - in this specific example, the data and model are on the CPU by default\n",
        "\n",
        "    # Using device agnostic code. Comment out if you don't have a GPU\n",
        "    #model_0.to(device)\n",
        "    #X_test = X_test.to(device)\n",
        "\n",
        "    # Perform the inference using the model and data. The output of the model is stored in the variable y_pred\n",
        "    y_pred = model_0(X_test)\n",
        "\n",
        "# Print the output of the model\n",
        "y_pred"
      ]
    },
    {
      "cell_type": "code",
      "execution_count": 20,
      "metadata": {
        "trusted": false,
        "colab": {
          "base_uri": "https://localhost:8080/",
          "height": 449
        },
        "id": "6KHL1nBNRCYc",
        "outputId": "e3386743-0b5a-4922-e412-6f2fead7beeb"
      },
      "outputs": [
        {
          "output_type": "display_data",
          "data": {
            "text/plain": [
              "<Figure size 640x480 with 1 Axes>"
            ],
            "image/png": "[encoded data removed]"
          },
          "metadata": {}
        }
      ],
      "source": [
        "plot_predictions(predictions=y_pred)"
      ]
    },
    {
      "cell_type": "markdown",
      "metadata": {
        "id": "KXFU5IoIRCYc"
      },
      "source": [
        "We have reduced the difference between our model's predictions and the ideal outcomes."
      ]
    },
    {
      "cell_type": "markdown",
      "metadata": {
        "id": "cUGN3w22RCYc"
      },
      "source": [
        "## 5. Saving and loading a PyTorch model\n",
        "\n",
        "If you've trained a PyTorch model, then you'd likely want to save it and export it somewhere; you have a trained model you'd like to export to some sort of application where others can use it.\n",
        "\n",
        "For saving and loading models in PyTorch, there are three main methods to be aware of:\n",
        "\n",
        "| PyTorch method | What does it do? |\n",
        "| ----- | ----- |\n",
        "| [`torch.save`](https://pytorch.org/docs/stable/torch.html?highlight=save#torch.save) | Saves a serialized object to disk using Python's [`pickle`](https://docs.python.org/3/library/pickle.html) utility. Models, tensors and various other Python objects like dictionaries can be saved using `torch.save`.  |\n",
        "| [`torch.load`](https://pytorch.org/docs/stable/torch.html?highlight=torch%20load#torch.load) | Uses `pickle`'s unpickling features to deserialize and load pickled Python object files (like models, tensors or dictionaries) into memory. You can also set which device to load the object to (CPU, GPU etc). |\n",
        "| [`torch.nn.Module.load_state_dict`](https://pytorch.org/docs/stable/generated/torch.nn.Module.html?highlight=load_state_dict#torch.nn.Module.load_state_dict)| Loads a model's parameter dictionary (`model.state_dict()`) using a saved `state_dict()` object. |\n",
        "\n",
        "\n",
        "> **Note:** As stated in [Python's `pickle` documentation](https://docs.python.org/3/library/pickle.html), the `pickle` module **is not secure**. That means you should only ever unpickle (load) data you trust. That goes for loading PyTorch models as well. Only ever use saved PyTorch models from sources you trust."
      ]
    },
    {
      "cell_type": "markdown",
      "metadata": {
        "id": "62So6pmURCYc"
      },
      "source": [
        "### Saving a PyTorch model's `state_dict()`\n",
        "\n",
        "The [recommended way](https://pytorch.org/tutorials/beginner/saving_loading_models.html#saving-loading-model-for-inference) for saving and loading a model for inference (making predictions) is by saving and loading a model's `state_dict()`.\n",
        "\n",
        "Let's see how we can do that in a few steps:\n",
        "\n",
        "1. We'll create a directory for saving models to called `models` using Python's `pathlib` module.\n",
        "2. We'll create a file path to save the model to.\n",
        "3. We'll call `torch.save(obj, f)` where `obj` is the target model's `state_dict()` and `f` is the filename of where to save the model.\n",
        "\n",
        "> **Note:** It's common convention for PyTorch saved models or objects to end with `.pt` or `.pth`, like `saved_model_01.pth`.\n",
        "\n",
        "### Additional Explanations\n",
        "\n",
        "#### Why Save Only the `state_dict()`?\n",
        "- **Efficiency**: Saving the `state_dict()` is more efficient and faster compared to saving the entire model because it only saves the model parameters (weights and biases), not the architecture. This allows you to change or modify the model architecture later if needed.\n",
        "- **Flexibility**: When loading a model for inference or further training, defining the model class separately and loading the `state_dict()` makes it easier to use the saved model in different scripts or projects without worrying about architecture dependencies.\n",
        "\n",
        "#### Saving Model Checkpoints\n",
        "It’s common to save checkpoints during training to resume later or choose the best-performing model. In these cases, you can save both the `state_dict()` and optimizer’s `state_dict()`.\n",
        "\n",
        "### Key Points:\n",
        "- **Directory Creation**: `Path.mkdir(exist_ok=True)` ensures the directory is created if it doesn’t exist already.\n",
        "- **Saving**: `torch.save(model.state_dict(), model_save_path)` saves the model parameters, but not the model architecture.\n",
        "- **Extensions**: Common extensions for PyTorch models are `.pth` or `.pt`."
      ]
    },
    {
      "cell_type": "code",
      "execution_count": 21,
      "metadata": {
        "trusted": false,
        "colab": {
          "base_uri": "https://localhost:8080/"
        },
        "id": "q12fwSHsRCYc",
        "outputId": "739420ea-0091-4a51-87e1-7fca1a9396b1"
      },
      "outputs": [
        {
          "output_type": "stream",
          "name": "stdout",
          "text": [
            "Saving model to: models/01_pytorch_workflow_model_0.pth\n"
          ]
        }
      ],
      "source": [
        "from pathlib import Path  # Import the Path class from the pathlib module for handling file and directory paths in an OS-independent manner.\n",
        "\n",
        "# 1. Create models directory. Define the directory path for saving the model.\n",
        "MODEL_PATH = Path(\"models\") # Save our models to a new folder called \"models\"\n",
        "MODEL_PATH.mkdir(parents=True, # 'parents=True' ensures that any missing parent directories are created.\n",
        "                 exist_ok=True) # 'exist_ok=True' prevents an error if the directory already exists.\n",
        "\n",
        "# 2. Create model save path\n",
        "MODEL_NAME = \"01_pytorch_workflow_model_0.pth\" # Define the filename for saving the model.\n",
        "MODEL_SAVE_PATH = MODEL_PATH / MODEL_NAME # Use the '/' operator to join the directory path and the filename.\n",
        "\n",
        "# 3. Save the model state dictionary to the save path\n",
        "print(f\"Saving model to: {MODEL_SAVE_PATH}\") # Print the path where the model is being saved.\n",
        "torch.save(obj=model_0.state_dict(), # Use torch.save() to save the model's state_dict (parameters) to the specified path.\n",
        "           f=MODEL_SAVE_PATH)"
      ]
    },
    {
      "cell_type": "markdown",
      "metadata": {
        "id": "r3BRrMIxRCYc"
      },
      "source": [
        "If you check the VSCode explorer tab, you’ll notice that a new folder named models has been created, and inside it, you’ll find the saved model file."
      ]
    },
    {
      "cell_type": "code",
      "execution_count": 22,
      "metadata": {
        "trusted": false,
        "colab": {
          "base_uri": "https://localhost:8080/"
        },
        "id": "ON62i6K9RCYc",
        "outputId": "c08b6cb7-ba8b-4bc9-b850-cd4936c4baf2"
      },
      "outputs": [
        {
          "output_type": "stream",
          "name": "stdout",
          "text": [
            "-rw-r--r-- 1 root root 1680 Nov  1 19:47 models/01_pytorch_workflow_model_0.pth\n"
          ]
        }
      ],
      "source": [
        "# Check the saved file path\n",
        "!ls -l models/01_pytorch_workflow_model_0.pth"
      ]
    },
    {
      "cell_type": "markdown",
      "metadata": {
        "id": "5KRNSKj0RCYc"
      },
      "source": [
        "### Loading a saved PyTorch model's `state_dict()`\n",
        "\n",
        "Since we've now got a saved model `state_dict()` at `models/01_pytorch_workflow_model_0.pth` we can now load it in using `torch.nn.Module.load_state_dict(torch.load(f))` where `f` is the filepath of our saved model `state_dict()`.\n",
        "\n",
        "Why call `torch.load()` inside `torch.nn.Module.load_state_dict()`?\n",
        "\n",
        "Because we only saved the model's `state_dict()` which is a dictionary of learned parameters and not the *entire* model, we first have to load the `state_dict()` with `torch.load()` and then pass that `state_dict()` to a new instance of our model (which is a subclass of `nn.Module`).\n",
        "\n",
        "Why not save the entire model?\n",
        "\n",
        "[Saving the entire model](https://pytorch.org/tutorials/beginner/saving_loading_models.html#save-load-entire-model) rather than just the `state_dict()` is more intuitive, however, to quote the PyTorch documentation (italics mine):\n",
        "\n",
        "> The disadvantage of this approach *(saving the whole model)* is that the serialized data is bound to the specific classes and the exact directory structure used when the model is saved...\n",
        ">\n",
        "> Because of this, your code can break in various ways when used in other projects or after refactors.\n",
        "\n",
        "So instead, we're using the flexible method of saving and loading just the `state_dict()`, which again is basically a dictionary of model parameters.\n",
        "\n",
        "Let's test it out by creating another instance of `LinearRegressionModel()`, which is a subclass of `torch.nn.Module` and will hence have the in-built method `load_state_dict()`."
      ]
    },
    {
      "cell_type": "code",
      "execution_count": 23,
      "metadata": {
        "trusted": false,
        "colab": {
          "base_uri": "https://localhost:8080/"
        },
        "id": "YvP_cswXRCYc",
        "outputId": "1259b8fd-36d5-4e71-d668-69195e790c41"
      },
      "outputs": [
        {
          "output_type": "stream",
          "name": "stderr",
          "text": [
            "<ipython-input-23-af0f6e9d1a07>:7: FutureWarning: You are using `torch.load` with `weights_only=False` (the current default value), which uses the default pickle module implicitly. It is possible to construct malicious pickle data which will execute arbitrary code during unpickling (See https://github.com/pytorch/pytorch/blob/main/SECURITY.md#untrusted-models for more details). In a future release, the default value for `weights_only` will be flipped to `True`. This limits the functions that could be executed during unpickling. Arbitrary objects will no longer be allowed to be loaded via this mode unless they are explicitly allowlisted by the user via `torch.serialization.add_safe_globals`. We recommend you start setting `weights_only=True` for any use case where you don't have full control of the loaded file. Please open an issue on GitHub for any issues related to this experimental feature.\n",
            "  loaded_model_0.load_state_dict(torch.load(f=MODEL_SAVE_PATH))\n"
          ]
        },
        {
          "output_type": "execute_result",
          "data": {
            "text/plain": [
              "<All keys matched successfully>"
            ]
          },
          "metadata": {},
          "execution_count": 23
        }
      ],
      "source": [
        "# Instantiate a new instance of the model (this creates an untrained model with random weights)\n",
        "loaded_model_0 = LinearRegressionModel()\n",
        "\n",
        "# Load the trained state_dict (a dictionary containing model parameters such as weights and biases)\n",
        "# The state_dict was saved after training, and now we're loading it into the new model instance\n",
        "# This effectively transfers the learned parameters to the new model, allowing it to make predictions as if it had been trained with the same data.\n",
        "loaded_model_0.load_state_dict(torch.load(f=MODEL_SAVE_PATH))"
      ]
    },
    {
      "cell_type": "markdown",
      "metadata": {
        "id": "m2rs_z3DRCYc"
      },
      "source": [
        "Now to test our loaded model, let's perform inference with it (make predictions) on the test data.\n",
        "\n",
        "Remember the rules for performing inference with PyTorch models?\n",
        "\n",
        "If not, here's a refresher:\n",
        "\n",
        "<details>\n",
        "    <summary>PyTorch inference rules</summary>\n",
        "    <ol>\n",
        "      <li> Set the model in evaluation mode (<code>model.eval()</code>). </li>\n",
        "      <li> Make the predictions using the inference mode context manager (<code>with torch.inference_mode(): ...</code>). </li>\n",
        "      <li> All predictions should be made with objects on the same device (e.g. data and model on GPU only or data and model on CPU only).</li>\n",
        "    </ol>\n",
        "</details>"
      ]
    },
    {
      "cell_type": "code",
      "execution_count": 24,
      "metadata": {
        "trusted": false,
        "colab": {
          "base_uri": "https://localhost:8080/"
        },
        "id": "vOMlCkqkRCYc",
        "outputId": "e60b7330-bc98-4f27-9570-d82f5f21d170"
      },
      "outputs": [
        {
          "output_type": "execute_result",
          "data": {
            "text/plain": [
              "tensor([[0.8685],\n",
              "        [0.8825],\n",
              "        [0.8965],\n",
              "        [0.9105],\n",
              "        [0.9245],\n",
              "        [0.9384],\n",
              "        [0.9524],\n",
              "        [0.9664],\n",
              "        [0.9804],\n",
              "        [0.9944]])"
            ]
          },
          "metadata": {},
          "execution_count": 24
        }
      ],
      "source": [
        "# 1. Put the loaded model into evaluation mode (we need to do this to make predictions)\n",
        "# This disables layers like dropout and batch normalization, ensuring consistent predictions.\n",
        "loaded_model_0.eval()\n",
        "\n",
        "# 2. Use the inference mode context manager\n",
        "# Inference mode disables gradient calculation to save memory and improve performance, since we don't need backpropagation during prediction.\n",
        "with torch.inference_mode():\n",
        "    # Perform a forward pass on the test data to make predictions using the loaded model\n",
        "    loaded_model_preds = loaded_model_0(X_test)\n",
        "\n",
        "loaded_model_preds"
      ]
    },
    {
      "cell_type": "markdown",
      "metadata": {
        "id": "YdXU3lLSRCYc"
      },
      "source": [
        "Now we've made some predictions with the loaded model, let's see if they're the same as the previous predictions.\n"
      ]
    },
    {
      "cell_type": "code",
      "execution_count": 25,
      "metadata": {
        "trusted": false,
        "colab": {
          "base_uri": "https://localhost:8080/"
        },
        "id": "k6E5EAZzRCYc",
        "outputId": "aa10a0e5-f5b3-4b6d-90b6-3910d54a3172"
      },
      "outputs": [
        {
          "output_type": "execute_result",
          "data": {
            "text/plain": [
              "tensor([[True],\n",
              "        [True],\n",
              "        [True],\n",
              "        [True],\n",
              "        [True],\n",
              "        [True],\n",
              "        [True],\n",
              "        [True],\n",
              "        [True],\n",
              "        [True]])"
            ]
          },
          "metadata": {},
          "execution_count": 25
        }
      ],
      "source": [
        "# Compare previous model predictions with loaded model predictions (these should be the same)\n",
        "y_pred == loaded_model_preds"
      ]
    },
    {
      "cell_type": "markdown",
      "metadata": {
        "id": "Y105-xZ0RCYc"
      },
      "source": [
        "Nice!\n",
        "\n",
        "It looks like the loaded model predictions are the same as the previous model predictions (predictions made prior to saving). This indicates our model is saving and loading as expected.\n",
        "\n",
        "> **Note:** There are more methods to save and load PyTorch models but those are extra-curriculum. See the [PyTorch guide for saving and loading models](https://pytorch.org/tutorials/beginner/saving_loading_models.html#saving-and-loading-models) for more."
      ]
    },
    {
      "cell_type": "markdown",
      "metadata": {
        "id": "gX6XA9UBRCYd"
      },
      "source": [
        "## 6. Putting it all together\n",
        "\n",
        "This section will be dedicated to putting into practice everything covered thus far. However, we will also add our device-agnostic code to the code this time around to accelerate tasks that can be done faster with GPU."
      ]
    },
    {
      "cell_type": "code",
      "execution_count": 26,
      "metadata": {
        "colab": {
          "base_uri": "https://localhost:8080/",
          "height": 35
        },
        "id": "N3b88l2xRCYd",
        "outputId": "0f5dd11c-3b8b-478a-f0f2-37bb60f597ec"
      },
      "outputs": [
        {
          "output_type": "execute_result",
          "data": {
            "text/plain": [
              "'2.5.0+cu121'"
            ],
            "application/vnd.google.colaboratory.intrinsic+json": {
              "type": "string"
            }
          },
          "metadata": {},
          "execution_count": 26
        }
      ],
      "source": [
        "import torch\n",
        "from torch import nn\n",
        "import matplotlib.pyplot as plt\n",
        "\n",
        "torch.__version__"
      ]
    },
    {
      "cell_type": "code",
      "execution_count": 27,
      "metadata": {
        "colab": {
          "base_uri": "https://localhost:8080/"
        },
        "id": "nfrq7QX6RCYd",
        "outputId": "702be411-ff1b-4da3-d52e-348c8965d358"
      },
      "outputs": [
        {
          "output_type": "stream",
          "name": "stdout",
          "text": [
            "Using device: cpu\n"
          ]
        }
      ],
      "source": [
        "# Setup device-agnostic code\n",
        "if torch.cuda.is_available():\n",
        "    device = \"cuda\" # NVIDIA GPU\n",
        "elif torch.backends.mps.is_available():\n",
        "    device = \"mps\" # Apple Silicon GPU\n",
        "else:\n",
        "    device = \"cpu\" # Defaults to CPU if NVIDIA GPU/Apple GPU aren't available\n",
        "\n",
        "print(f\"Using device: {device}\")"
      ]
    },
    {
      "cell_type": "markdown",
      "metadata": {
        "id": "EFl2OM1xRCYd"
      },
      "source": [
        "### 6.1 Data\n",
        "\n",
        "Let's create some data just like before.\n",
        "\n",
        "First, we'll hard-code some `weight` and `bias` values.\n",
        "\n",
        "Then we'll make a range of numbers between 0 and 1, these will be our `X` values.\n",
        "\n",
        "Finally, we'll use the `X` values, as well as the `weight` and `bias` values to create `y` using the linear regression formula (`y = weight * X + bias`)."
      ]
    },
    {
      "cell_type": "code",
      "execution_count": 28,
      "metadata": {
        "colab": {
          "base_uri": "https://localhost:8080/"
        },
        "id": "llanjzh9RCYd",
        "outputId": "0ef5e069-ff24-409e-99c1-cec6d073a001"
      },
      "outputs": [
        {
          "output_type": "execute_result",
          "data": {
            "text/plain": [
              "(tensor([[0.0000],\n",
              "         [0.0200],\n",
              "         [0.0400],\n",
              "         [0.0600],\n",
              "         [0.0800],\n",
              "         [0.1000],\n",
              "         [0.1200],\n",
              "         [0.1400],\n",
              "         [0.1600],\n",
              "         [0.1800]]),\n",
              " tensor([[0.3000],\n",
              "         [0.3140],\n",
              "         [0.3280],\n",
              "         [0.3420],\n",
              "         [0.3560],\n",
              "         [0.3700],\n",
              "         [0.3840],\n",
              "         [0.3980],\n",
              "         [0.4120],\n",
              "         [0.4260]]))"
            ]
          },
          "metadata": {},
          "execution_count": 28
        }
      ],
      "source": [
        "# Create weight and bias\n",
        "weight = 0.7\n",
        "bias = 0.3\n",
        "\n",
        "# Create range values\n",
        "start = 0\n",
        "end = 1\n",
        "step = 0.02\n",
        "\n",
        "# Create X and y (features and labels)\n",
        "X = torch.arange(start, end, step).unsqueeze(dim=1)\n",
        "y = weight * X + bias\n",
        "X[:10], y[:10]"
      ]
    },
    {
      "cell_type": "markdown",
      "metadata": {
        "id": "aPjRUZcDRCYd"
      },
      "source": [
        "Now we've got some data, let's split it into training and test sets.\n",
        "\n",
        "We'll use an 80/20 split with 80% training data and 20% testing data."
      ]
    },
    {
      "cell_type": "code",
      "execution_count": 29,
      "metadata": {
        "colab": {
          "base_uri": "https://localhost:8080/"
        },
        "id": "NmDKIYuIRCYd",
        "outputId": "9092227b-90f5-4c85-eef3-482300526d7e"
      },
      "outputs": [
        {
          "output_type": "execute_result",
          "data": {
            "text/plain": [
              "(40, 10, 40, 10)"
            ]
          },
          "metadata": {},
          "execution_count": 29
        }
      ],
      "source": [
        "# Split data\n",
        "train_split = int(0.8 * len(X)) # returns the # of elements in the tensor\n",
        "X_train, y_train = X[:train_split], y[:train_split]  # The first 80% of X and y for training\n",
        "X_test, y_test = X[train_split:], y[train_split:]    # The remaining 20% of X and y for testing\n",
        "\n",
        "len(X_train), len(X_test), len(y_train), len(y_test) # check to see if the split is correct"
      ]
    },
    {
      "cell_type": "code",
      "execution_count": 30,
      "metadata": {
        "colab": {
          "base_uri": "https://localhost:8080/",
          "height": 449
        },
        "id": "IXyG3nHzRCYd",
        "outputId": "3dfe2a55-5601-43ac-b84b-8db3d947d575"
      },
      "outputs": [
        {
          "output_type": "display_data",
          "data": {
            "text/plain": [
              "<Figure size 640x480 with 1 Axes>"
            ],
            "image/png": "[encoded data removed]"
          },
          "metadata": {}
        }
      ],
      "source": [
        "# Plot the data\n",
        "# Note: if you've reset your runtime, this function won't work, you'll have to rerun the cell far above where we wrote this function\n",
        "\n",
        "plot_predictions(X_train, y_train, X_test, y_test)"
      ]
    },
    {
      "cell_type": "markdown",
      "metadata": {
        "id": "AJzxdd0ARCYd"
      },
      "source": [
        "### 6.2 Building a PyTorch linear model\n",
        "\n",
        "We've got some data, now it's time to make a model.\n",
        "\n",
        "We'll create the same style of model as before except this time, instead of defining the weight and bias parameters of our model manually using `nn.Parameter()`, we'll use [`nn.Linear(in_features, out_features)`](https://pytorch.org/docs/stable/generated/torch.nn.Linear.html) to do it for us.\n",
        "\n",
        "Where `in_features` is the number of dimensions your input data has and `out_features` is the number of dimensions you'd like it to be output to.\n",
        "\n",
        "In our case, both of these are `1` since our data has `1` input feature (`X`) per label (`y`).\n",
        "\n",
        "![comparison of nn.Parameter Linear Regression model and nn.Linear Linear Regression model](https://raw.githubusercontent.com/mrdbourke/pytorch-deep-learning/main/images/01-pytorch-linear-regression-model-with-nn-Parameter-and-nn-Linear-compared.png)\n",
        "*Creating a linear regression model using `nn.Parameter` versus using `nn.Linear`. There are plenty more examples of where the `torch.nn` module has pre-built computations, including many popular and useful neural network layers.*"
      ]
    },
    {
      "cell_type": "code",
      "execution_count": 31,
      "metadata": {
        "colab": {
          "base_uri": "https://localhost:8080/"
        },
        "id": "a4tbZ0-2RCYd",
        "outputId": "c739d5f5-31dc-4f31-9ba5-b3d9110512e7"
      },
      "outputs": [
        {
          "output_type": "execute_result",
          "data": {
            "text/plain": [
              "(LinearRegressionModelV2(\n",
              "   (linear_layer): Linear(in_features=1, out_features=1, bias=True)\n",
              " ),\n",
              " OrderedDict([('linear_layer.weight', tensor([[0.7645]])),\n",
              "              ('linear_layer.bias', tensor([0.8300]))]))"
            ]
          },
          "metadata": {},
          "execution_count": 31
        }
      ],
      "source": [
        "# Subclass nn.Module to make our model\n",
        "class LinearRegressionModelV2(nn.Module):\n",
        "    def __init__(self):     # Constructor method for the class. It's called when a new instance of the class is created.\n",
        "        super().__init__()  # Calls the __init__ method of the parent class (nn.Module) to initialize all its functionality\n",
        "\n",
        "        # Instead of manually setting the parameters (weight and bias), we'll use nn.Linear to define our layer.\n",
        "        # nn.Linear is a pre-built layer in PyTorch for creating a linear transformation.\n",
        "\n",
        "        self.linear_layer = nn.Linear(in_features=1, # The number of input features (in this case, 1 because we have one input variable X)\n",
        "                                      out_features=1) # The number of output features (in this case, 1 because we want a single output y)\n",
        "\n",
        "        # Explanation of nn.Linear:\n",
        "        # - nn.Linear automatically initializes a weight and a bias for the linear transformation.\n",
        "        # - In a linear regression model, this layer will apply the equation: y = weight * X + bias\n",
        "        # - Since we’re only dealing with one input and one output, we set in_features=1 and out_features=1.\n",
        "\n",
        "        # After initializing, self.linear_layer will be a layer in our model that automatically performs the linear transformation.\n",
        "\n",
        "    def forward(self, x: torch.Tensor) -> torch.Tensor:\n",
        "        # The forward method defines the \"forward pass\" or the computation step of the model.\n",
        "\n",
        "        # x: torch.Tensor\n",
        "        # - The parameter `x` is a tensor (array) containing the input data to be passed into the model.\n",
        "        # - In PyTorch, `torch.Tensor` represents a multi-dimensional array (tensor) used for storing data.\n",
        "        # - Here, `x` will contain the feature values (the input variable X for linear regression).\n",
        "\n",
        "        # return self.linear_layer(x)\n",
        "        # - This line passes the input tensor `x` through the linear layer we defined (self.linear_layer).\n",
        "        # - `self.linear_layer(x)` applies the linear transformation, resulting in an output tensor.\n",
        "        # - The output tensor will have the predicted values based on the learned weight and bias.\n",
        "\n",
        "        return self.linear_layer(x)  # Returns the transformed tensor, representing our model's predictions\n",
        "\n",
        "# Set the manual seed\n",
        "torch.manual_seed(42)\n",
        "model_1 = LinearRegressionModelV2()\n",
        "model_1, model_1.state_dict()"
      ]
    },
    {
      "cell_type": "markdown",
      "metadata": {
        "id": "PZYZ7PKWRCYd"
      },
      "source": [
        "`nn.Linear` documentation: [PyTorch nn.Linear Documentation](https://pytorch.org/docs/stable/generated/torch.nn.Linear.html)\n",
        "\n",
        "Notice how `nn.Linear` aligns perfectly with the concept of linear regression: it performs a simple linear transformation with a weight and bias, just like the equation for linear regression, $y = \\text{weight} \\times X + \\text{bias}$.\n",
        "\n",
        "In PyTorch, instead of manually initializing the parameters (like weight and bias), we typically define **layers** (such as `nn.Linear` for linear transformations) and let PyTorch handle the initialization. Then, we use these layers to perform calculations in the **forward pass** of our model.\n",
        "\n",
        "This approach allows us to work with both simple models, like linear regression, and more complex neural networks by building a sequence of layers that PyTorch will optimize and train."
      ]
    },
    {
      "cell_type": "code",
      "execution_count": 32,
      "metadata": {
        "colab": {
          "base_uri": "https://localhost:8080/"
        },
        "id": "GjLffoV9RCYd",
        "outputId": "3f3b8782-6108-4a21-b50b-c728b7aca2e9"
      },
      "outputs": [
        {
          "output_type": "execute_result",
          "data": {
            "text/plain": [
              "device(type='cpu')"
            ]
          },
          "metadata": {},
          "execution_count": 32
        }
      ],
      "source": [
        "# Set model to GPU, otherwise it runs on CPU\n",
        "model_1.to(device)  # Moves the model (model_1) to the specified device (e.g., 'cuda', 'mps', or 'cpu') for computation.\n",
        "next(model_1.parameters()).device  # Checks and returns the device where the first parameter of the model is currently located."
      ]
    },
    {
      "cell_type": "markdown",
      "metadata": {
        "id": "AKsGiFFsRCYd"
      },
      "source": [
        "### 6.3 Training\n",
        "\n",
        "Time to build a training and testing loop.\n",
        "\n",
        "First we'll need a loss function and an optimizer (using gradient descent).\n",
        "\n",
        "Let's use the same functions we used earlier, `nn.L1Loss()` and `torch.optim.SGD()`.\n",
        "\n",
        "We'll have to pass the new model's parameters (`model.parameters()`) to the optimizer for it to adjust them during training.\n",
        "\n",
        "The learning rate of `0.01` worked well before too so let's use that again.\n"
      ]
    },
    {
      "cell_type": "code",
      "execution_count": 33,
      "metadata": {
        "id": "ZUmiHa-7RCYd"
      },
      "outputs": [],
      "source": [
        "# Create loss function\n",
        "loss_fn = nn.L1Loss() # MAE loss is same as L1Loss\n",
        "\n",
        "# Create optimizer\n",
        "optimizer = torch.optim.SGD(params=model_1.parameters(), # parameters of target model to optimize\n",
        "                            lr=0.01)                     # learning rate (how much the optimizer should change parameters at each step)"
      ]
    },
    {
      "cell_type": "code",
      "execution_count": 34,
      "metadata": {
        "colab": {
          "base_uri": "https://localhost:8080/"
        },
        "id": "Wx7JR-xeRCYd",
        "outputId": "c994e9a1-afb6-468e-c0b7-0cfaacb74057"
      },
      "outputs": [
        {
          "output_type": "stream",
          "name": "stdout",
          "text": [
            "Epoch: 0 | Loss: 0.5551779866218567 | Test loss: 0.5739762187004089\n",
            "Epoch: 10 | Loss: 0.4399680495262146 | Test loss: 0.4392663538455963\n",
            "Epoch: 20 | Loss: 0.3247582018375397 | Test loss: 0.30455657839775085\n",
            "Epoch: 30 | Loss: 0.20954827964305878 | Test loss: 0.16984674334526062\n",
            "Epoch: 40 | Loss: 0.09433844685554504 | Test loss: 0.03513689711689949\n",
            "Epoch: 50 | Loss: 0.023886386305093765 | Test loss: 0.04784906655550003\n",
            "Epoch: 60 | Loss: 0.0199567973613739 | Test loss: 0.04580312222242355\n",
            "Epoch: 70 | Loss: 0.016517987474799156 | Test loss: 0.0375305712223053\n",
            "Epoch: 80 | Loss: 0.013089170679450035 | Test loss: 0.029944902285933495\n",
            "Epoch: 90 | Loss: 0.009653178043663502 | Test loss: 0.02167237363755703\n",
            "Epoch: 100 | Loss: 0.006215679459273815 | Test loss: 0.014086711220443249\n",
            "Epoch: 110 | Loss: 0.002787243574857712 | Test loss: 0.005814164876937866\n",
            "Epoch: 120 | Loss: 0.0012645035749301314 | Test loss: 0.013801807537674904\n",
            "Epoch: 130 | Loss: 0.0012645035749301314 | Test loss: 0.013801807537674904\n",
            "Epoch: 140 | Loss: 0.0012645035749301314 | Test loss: 0.013801807537674904\n",
            "Epoch: 150 | Loss: 0.0012645035749301314 | Test loss: 0.013801807537674904\n",
            "Epoch: 160 | Loss: 0.0012645035749301314 | Test loss: 0.013801807537674904\n",
            "Epoch: 170 | Loss: 0.0012645035749301314 | Test loss: 0.013801807537674904\n",
            "Epoch: 180 | Loss: 0.0012645035749301314 | Test loss: 0.013801807537674904\n",
            "Epoch: 190 | Loss: 0.0012645035749301314 | Test loss: 0.013801807537674904\n",
            "Epoch: 200 | Loss: 0.0012645035749301314 | Test loss: 0.013801807537674904\n",
            "Epoch: 210 | Loss: 0.0012645035749301314 | Test loss: 0.013801807537674904\n",
            "Epoch: 220 | Loss: 0.0012645035749301314 | Test loss: 0.013801807537674904\n",
            "Epoch: 230 | Loss: 0.0012645035749301314 | Test loss: 0.013801807537674904\n",
            "Epoch: 240 | Loss: 0.0012645035749301314 | Test loss: 0.013801807537674904\n",
            "Epoch: 250 | Loss: 0.0012645035749301314 | Test loss: 0.013801807537674904\n",
            "Epoch: 260 | Loss: 0.0012645035749301314 | Test loss: 0.013801807537674904\n",
            "Epoch: 270 | Loss: 0.0012645035749301314 | Test loss: 0.013801807537674904\n",
            "Epoch: 280 | Loss: 0.0012645035749301314 | Test loss: 0.013801807537674904\n",
            "Epoch: 290 | Loss: 0.0012645035749301314 | Test loss: 0.013801807537674904\n",
            "Epoch: 300 | Loss: 0.0012645035749301314 | Test loss: 0.013801807537674904\n",
            "Epoch: 310 | Loss: 0.0012645035749301314 | Test loss: 0.013801807537674904\n",
            "Epoch: 320 | Loss: 0.0012645035749301314 | Test loss: 0.013801807537674904\n",
            "Epoch: 330 | Loss: 0.0012645035749301314 | Test loss: 0.013801807537674904\n",
            "Epoch: 340 | Loss: 0.0012645035749301314 | Test loss: 0.013801807537674904\n",
            "Epoch: 350 | Loss: 0.0012645035749301314 | Test loss: 0.013801807537674904\n",
            "Epoch: 360 | Loss: 0.0012645035749301314 | Test loss: 0.013801807537674904\n",
            "Epoch: 370 | Loss: 0.0012645035749301314 | Test loss: 0.013801807537674904\n",
            "Epoch: 380 | Loss: 0.0012645035749301314 | Test loss: 0.013801807537674904\n",
            "Epoch: 390 | Loss: 0.0012645035749301314 | Test loss: 0.013801807537674904\n",
            "Epoch: 400 | Loss: 0.0012645035749301314 | Test loss: 0.013801807537674904\n",
            "Epoch: 410 | Loss: 0.0012645035749301314 | Test loss: 0.013801807537674904\n",
            "Epoch: 420 | Loss: 0.0012645035749301314 | Test loss: 0.013801807537674904\n",
            "Epoch: 430 | Loss: 0.0012645035749301314 | Test loss: 0.013801807537674904\n",
            "Epoch: 440 | Loss: 0.0012645035749301314 | Test loss: 0.013801807537674904\n",
            "Epoch: 450 | Loss: 0.0012645035749301314 | Test loss: 0.013801807537674904\n",
            "Epoch: 460 | Loss: 0.0012645035749301314 | Test loss: 0.013801807537674904\n",
            "Epoch: 470 | Loss: 0.0012645035749301314 | Test loss: 0.013801807537674904\n",
            "Epoch: 480 | Loss: 0.0012645035749301314 | Test loss: 0.013801807537674904\n",
            "Epoch: 490 | Loss: 0.0012645035749301314 | Test loss: 0.013801807537674904\n",
            "Epoch: 500 | Loss: 0.0012645035749301314 | Test loss: 0.013801807537674904\n",
            "Epoch: 510 | Loss: 0.0012645035749301314 | Test loss: 0.013801807537674904\n",
            "Epoch: 520 | Loss: 0.0012645035749301314 | Test loss: 0.013801807537674904\n",
            "Epoch: 530 | Loss: 0.0012645035749301314 | Test loss: 0.013801807537674904\n",
            "Epoch: 540 | Loss: 0.0012645035749301314 | Test loss: 0.013801807537674904\n",
            "Epoch: 550 | Loss: 0.0012645035749301314 | Test loss: 0.013801807537674904\n",
            "Epoch: 560 | Loss: 0.0012645035749301314 | Test loss: 0.013801807537674904\n",
            "Epoch: 570 | Loss: 0.0012645035749301314 | Test loss: 0.013801807537674904\n",
            "Epoch: 580 | Loss: 0.0012645035749301314 | Test loss: 0.013801807537674904\n",
            "Epoch: 590 | Loss: 0.0012645035749301314 | Test loss: 0.013801807537674904\n",
            "Epoch: 600 | Loss: 0.0012645035749301314 | Test loss: 0.013801807537674904\n",
            "Epoch: 610 | Loss: 0.0012645035749301314 | Test loss: 0.013801807537674904\n",
            "Epoch: 620 | Loss: 0.0012645035749301314 | Test loss: 0.013801807537674904\n",
            "Epoch: 630 | Loss: 0.0012645035749301314 | Test loss: 0.013801807537674904\n",
            "Epoch: 640 | Loss: 0.0012645035749301314 | Test loss: 0.013801807537674904\n",
            "Epoch: 650 | Loss: 0.0012645035749301314 | Test loss: 0.013801807537674904\n",
            "Epoch: 660 | Loss: 0.0012645035749301314 | Test loss: 0.013801807537674904\n",
            "Epoch: 670 | Loss: 0.0012645035749301314 | Test loss: 0.013801807537674904\n",
            "Epoch: 680 | Loss: 0.0012645035749301314 | Test loss: 0.013801807537674904\n",
            "Epoch: 690 | Loss: 0.0012645035749301314 | Test loss: 0.013801807537674904\n",
            "Epoch: 700 | Loss: 0.0012645035749301314 | Test loss: 0.013801807537674904\n",
            "Epoch: 710 | Loss: 0.0012645035749301314 | Test loss: 0.013801807537674904\n",
            "Epoch: 720 | Loss: 0.0012645035749301314 | Test loss: 0.013801807537674904\n",
            "Epoch: 730 | Loss: 0.0012645035749301314 | Test loss: 0.013801807537674904\n",
            "Epoch: 740 | Loss: 0.0012645035749301314 | Test loss: 0.013801807537674904\n",
            "Epoch: 750 | Loss: 0.0012645035749301314 | Test loss: 0.013801807537674904\n",
            "Epoch: 760 | Loss: 0.0012645035749301314 | Test loss: 0.013801807537674904\n",
            "Epoch: 770 | Loss: 0.0012645035749301314 | Test loss: 0.013801807537674904\n",
            "Epoch: 780 | Loss: 0.0012645035749301314 | Test loss: 0.013801807537674904\n",
            "Epoch: 790 | Loss: 0.0012645035749301314 | Test loss: 0.013801807537674904\n",
            "Epoch: 800 | Loss: 0.0012645035749301314 | Test loss: 0.013801807537674904\n",
            "Epoch: 810 | Loss: 0.0012645035749301314 | Test loss: 0.013801807537674904\n",
            "Epoch: 820 | Loss: 0.0012645035749301314 | Test loss: 0.013801807537674904\n",
            "Epoch: 830 | Loss: 0.0012645035749301314 | Test loss: 0.013801807537674904\n",
            "Epoch: 840 | Loss: 0.0012645035749301314 | Test loss: 0.013801807537674904\n",
            "Epoch: 850 | Loss: 0.0012645035749301314 | Test loss: 0.013801807537674904\n",
            "Epoch: 860 | Loss: 0.0012645035749301314 | Test loss: 0.013801807537674904\n",
            "Epoch: 870 | Loss: 0.0012645035749301314 | Test loss: 0.013801807537674904\n",
            "Epoch: 880 | Loss: 0.0012645035749301314 | Test loss: 0.013801807537674904\n",
            "Epoch: 890 | Loss: 0.0012645035749301314 | Test loss: 0.013801807537674904\n",
            "Epoch: 900 | Loss: 0.0012645035749301314 | Test loss: 0.013801807537674904\n",
            "Epoch: 910 | Loss: 0.0012645035749301314 | Test loss: 0.013801807537674904\n",
            "Epoch: 920 | Loss: 0.0012645035749301314 | Test loss: 0.013801807537674904\n",
            "Epoch: 930 | Loss: 0.0012645035749301314 | Test loss: 0.013801807537674904\n",
            "Epoch: 940 | Loss: 0.0012645035749301314 | Test loss: 0.013801807537674904\n",
            "Epoch: 950 | Loss: 0.0012645035749301314 | Test loss: 0.013801807537674904\n",
            "Epoch: 960 | Loss: 0.0012645035749301314 | Test loss: 0.013801807537674904\n",
            "Epoch: 970 | Loss: 0.0012645035749301314 | Test loss: 0.013801807537674904\n",
            "Epoch: 980 | Loss: 0.0012645035749301314 | Test loss: 0.013801807537674904\n",
            "Epoch: 990 | Loss: 0.0012645035749301314 | Test loss: 0.013801807537674904\n"
          ]
        }
      ],
      "source": [
        "torch.manual_seed(42)  # Sets the random seed for reproducibility of results\n",
        "\n",
        "# PyTorch Training Loop\n",
        "\n",
        "epochs = 1000  # Number of training iterations\n",
        "# Put data on the specified device (e.g., 'cuda', 'mps', or 'cpu') to avoid device mismatch errors\n",
        "X_train = X_train.to(device)\n",
        "X_test = X_test.to(device)\n",
        "y_train = y_train.to(device)\n",
        "y_test = y_test.to(device)\n",
        "\n",
        "for epoch in range(epochs):\n",
        "    ### Training\n",
        "    model_1.train()  # Sets the model to training mode (enables dropout, batchnorm updates, etc.)\n",
        "\n",
        "    # 1. Forward pass: Compute model predictions for the training data\n",
        "    y_pred = model_1(X_train)  # Input: X_train; Output: predicted values (tensor)\n",
        "\n",
        "    # 2. Calculate loss: Measure how far predictions are from the true targets\n",
        "    loss = loss_fn(y_pred, y_train)  # Input: (predictions, true targets); Output: loss value (scalar)\n",
        "\n",
        "    # 3. Zero grad optimizer: Clear previous gradients to prevent accumulation\n",
        "    optimizer.zero_grad()  # Resets gradients for all model parameters\n",
        "\n",
        "    # 4. Loss backward: Compute gradients of the loss w.r.t. each model parameter\n",
        "    loss.backward()  # Backpropagates the loss; modifies `.grad` attributes of parameters\n",
        "\n",
        "    # 5. Step the optimizer: Update model parameters using the computed gradients\n",
        "    optimizer.step()  # Adjusts parameters to minimize the loss\n",
        "\n",
        "    ### Testing\n",
        "    model_1.eval()  # Sets the model to evaluation mode (disables dropout, batchnorm updates)\n",
        "\n",
        "    # 1. Forward pass (inference): Compute predictions for test data without tracking gradients\n",
        "    with torch.inference_mode():  # Disables gradient tracking for faster and memory-efficient inference\n",
        "        test_pred = model_1(X_test)  # Input: X_test; Output: predicted values (tensor)\n",
        "\n",
        "    # 2. Calculate test loss: Compare predictions with true test targets\n",
        "    test_loss = loss_fn(test_pred, y_test)  # Input: (predictions, true targets); Output: test loss value (scalar)\n",
        "\n",
        "    # Print loss values every 10 epochs for tracking progress\n",
        "    if epoch % 10 == 0:\n",
        "        print(f\"Epoch: {epoch} | Loss: {loss.item()} | Test loss: {test_loss.item()}\")\n",
        "        # print(...)                    # Prints the formatted string to the console.\n",
        "        # f\"...\"                        # An f-string allows embedding expressions inside string literals for formatting.\n",
        "        # Epoch: {epoch}                # Displays the current epoch number (variable `epoch`).\n",
        "        # | Loss: {loss.item()}         # Shows the training loss. `loss.item()` extracts the value from the tensor `loss` as a standard Python number.\n",
        "        # | Test loss: {test_loss.item()} # Shows the test loss. `test_loss.item()` extracts the value from the tensor `test_loss` as a Python number."
      ]
    },
    {
      "cell_type": "markdown",
      "metadata": {
        "id": "UfQJsbSGRCYd"
      },
      "source": [
        "> **Note:** Due to the random nature of machine learning, you will likely get slightly different results (different loss and prediction values) depending on whether your model was trained on CPU or GPU. This is true even if you use the same random seed on either device. If the difference is large, you may want to look for errors, however, if it is small (ideally it is), you can ignore it.\n",
        "\n",
        "Nice! That loss looks pretty low.\n",
        "\n",
        "Let's check the parameters our model has learned and compare them to the original parameters we hard-coded.\n",
        "\n",
        "We can do this with `state.dict()`"
      ]
    },
    {
      "cell_type": "code",
      "execution_count": 35,
      "metadata": {
        "colab": {
          "base_uri": "https://localhost:8080/"
        },
        "id": "ku_ntE9LRCYd",
        "outputId": "edf4038f-f9b9-496a-cb85-1f3b48ebbd59"
      },
      "outputs": [
        {
          "output_type": "stream",
          "name": "stdout",
          "text": [
            "The model learned the following values for weights and bias:\n",
            "OrderedDict([('linear_layer.weight', tensor([[0.6968]])),\n",
            "             ('linear_layer.bias', tensor([0.3025]))])\n",
            "\n",
            "And the original values for weights and bias:\n",
            "weights: 0.7, bias: 0.3\n"
          ]
        }
      ],
      "source": [
        "# Find our model's learned parameters\n",
        "from pprint import pprint\n",
        "print(\"The model learned the following values for weights and bias:\")\n",
        "pprint(model_1.state_dict())\n",
        "print(\"\\nAnd the original values for weights and bias:\")\n",
        "print(f\"weights: {weight}, bias: {bias}\")"
      ]
    },
    {
      "cell_type": "markdown",
      "metadata": {
        "id": "qtfwJmcHRCYe"
      },
      "source": [
        "### Making Predictions\n",
        "\n",
        "Now that we've got a trained model, let's turn on its evaluation mode and make some predictions.\n",
        "\n",
        "Remember: evaluation mode is when the model is set to `.eval()`, which turns off certain layers like dropout and batch normalization to ensure consistent and reliable predictions during inference."
      ]
    },
    {
      "cell_type": "code",
      "execution_count": 36,
      "metadata": {
        "colab": {
          "base_uri": "https://localhost:8080/"
        },
        "id": "A9wWgiiKRCYe",
        "outputId": "bdb891d5-4c7a-4318-edee-e8c1cde3da23"
      },
      "outputs": [
        {
          "output_type": "execute_result",
          "data": {
            "text/plain": [
              "tensor([[0.8600],\n",
              "        [0.8739],\n",
              "        [0.8878],\n",
              "        [0.9018],\n",
              "        [0.9157],\n",
              "        [0.9296],\n",
              "        [0.9436],\n",
              "        [0.9575],\n",
              "        [0.9714],\n",
              "        [0.9854]])"
            ]
          },
          "metadata": {},
          "execution_count": 36
        }
      ],
      "source": [
        "# Turn model into evaluation mode\n",
        "model_1.eval()\n",
        "\n",
        "# Make predictions on the test data\n",
        "with torch.inference_mode():\n",
        "    y_pred = model_1(X_test)\n",
        "y_pred"
      ]
    },
    {
      "cell_type": "markdown",
      "metadata": {
        "id": "XD0VjBR9RCYe"
      },
      "source": [
        "Now let's plot our model's predictions.\n",
        "\n",
        "> **Note:** Many data science libraries such as pandas, matplotlib and NumPy aren't capable of using data that is stored on GPU. So you might run into some issues when trying to use a function from one of these libraries with tensor data not stored on the CPU. To fix this, you can call [`.cpu()`](https://pytorch.org/docs/stable/generated/torch.Tensor.cpu.html) on your target tensor to return a copy of your target tensor on the CPU."
      ]
    },
    {
      "cell_type": "code",
      "execution_count": 37,
      "metadata": {
        "colab": {
          "base_uri": "https://localhost:8080/",
          "height": 449
        },
        "id": "F_cZx0K8RCYe",
        "outputId": "70abed16-3670-4f40-c1c2-79bbe1816d9d"
      },
      "outputs": [
        {
          "output_type": "display_data",
          "data": {
            "text/plain": [
              "<Figure size 640x480 with 1 Axes>"
            ],
            "image/png": "[encoded data removed]"
          },
          "metadata": {}
        }
      ],
      "source": [
        "# plot_predictions(predictions=y_preds) # -> since data is not on CPU, this won't work\n",
        "\n",
        "# Put data on the CPU and plot it\n",
        "plot_predictions(predictions=y_pred.cpu())"
      ]
    },
    {
      "cell_type": "markdown",
      "metadata": {
        "id": "thw7U3pvRCYe"
      },
      "source": [
        "### 6.5 Saving and loading a model\n",
        "\n",
        "Save the model so that it can be used later."
      ]
    },
    {
      "cell_type": "code",
      "execution_count": 38,
      "metadata": {
        "colab": {
          "base_uri": "https://localhost:8080/"
        },
        "id": "HkK9pAJLRCYe",
        "outputId": "fbfc374d-9278-41ae-dda9-48ebd6f2351c"
      },
      "outputs": [
        {
          "output_type": "stream",
          "name": "stdout",
          "text": [
            "Saving model to: models/01_pytorch_workflow_model_1.pth\n"
          ]
        }
      ],
      "source": [
        "from pathlib import Path\n",
        "\n",
        "# 1. Create models directory\n",
        "MODEL_PATH = Path(\"models\")\n",
        "MODEL_PATH.mkdir(parents=True, exist_ok=True)\n",
        "\n",
        "# 2. Create model save path\n",
        "MODEL_NAME = \"01_pytorch_workflow_model_1.pth\"\n",
        "MODEL_SAVE_PATH = MODEL_PATH / MODEL_NAME\n",
        "\n",
        "# 3. Save the model state dict\n",
        "print(f\"Saving model to: {MODEL_SAVE_PATH}\")\n",
        "torch.save(obj=model_1.state_dict(), # only saving the state_dict() only saves the models learned parameters\n",
        "           f=MODEL_SAVE_PATH)"
      ]
    },
    {
      "cell_type": "markdown",
      "metadata": {
        "id": "brAXkdF8RCYe"
      },
      "source": [
        "And just to make sure everything worked well, let's load it back in.\n",
        "\n",
        "We'll:\n",
        "* Create a new instance of the `LinearRegressionModelV2()` class\n",
        "* Load in the model state dict using `torch.nn.Module.load_state_dict()`\n",
        "* Send the new instance of the model to the target device (to ensure our code is device-agnostic)"
      ]
    },
    {
      "cell_type": "code",
      "execution_count": 39,
      "metadata": {
        "colab": {
          "base_uri": "https://localhost:8080/"
        },
        "id": "z-5uqj40RCYe",
        "outputId": "c35ed19f-f70e-46b7-990b-5dede1fe9a7a"
      },
      "outputs": [
        {
          "output_type": "stream",
          "name": "stdout",
          "text": [
            "Loaded model:\n",
            "LinearRegressionModelV2(\n",
            "  (linear_layer): Linear(in_features=1, out_features=1, bias=True)\n",
            ")\n",
            "Model on device:\n",
            "cpu\n"
          ]
        },
        {
          "output_type": "stream",
          "name": "stderr",
          "text": [
            "<ipython-input-39-c4e3cba863db>:5: FutureWarning: You are using `torch.load` with `weights_only=False` (the current default value), which uses the default pickle module implicitly. It is possible to construct malicious pickle data which will execute arbitrary code during unpickling (See https://github.com/pytorch/pytorch/blob/main/SECURITY.md#untrusted-models for more details). In a future release, the default value for `weights_only` will be flipped to `True`. This limits the functions that could be executed during unpickling. Arbitrary objects will no longer be allowed to be loaded via this mode unless they are explicitly allowlisted by the user via `torch.serialization.add_safe_globals`. We recommend you start setting `weights_only=True` for any use case where you don't have full control of the loaded file. Please open an issue on GitHub for any issues related to this experimental feature.\n",
            "  loaded_model_1.load_state_dict(torch.load(MODEL_SAVE_PATH))\n"
          ]
        }
      ],
      "source": [
        "# Instantiate a fresh instance of LinearRegressionModelV2\n",
        "loaded_model_1 = LinearRegressionModelV2()\n",
        "\n",
        "# Load model state dict\n",
        "loaded_model_1.load_state_dict(torch.load(MODEL_SAVE_PATH))\n",
        "\n",
        "# Put model to target device (if your data is on GPU, model will have to be on GPU to make predictions)\n",
        "loaded_model_1.to(device)\n",
        "\n",
        "print(f\"Loaded model:\\n{loaded_model_1}\")\n",
        "print(f\"Model on device:\\n{next(loaded_model_1.parameters()).device}\")"
      ]
    },
    {
      "cell_type": "markdown",
      "metadata": {
        "id": "0JCCtWLfRCYe"
      },
      "source": [
        "Now we can evaluate the loaded model to see if its predictions line up with the predictions made prior to saving."
      ]
    },
    {
      "cell_type": "code",
      "execution_count": 40,
      "metadata": {
        "colab": {
          "base_uri": "https://localhost:8080/"
        },
        "id": "HsxSGP8ZRCYe",
        "outputId": "09775d14-5419-4852-f709-4efe67159d69"
      },
      "outputs": [
        {
          "output_type": "execute_result",
          "data": {
            "text/plain": [
              "tensor([[True],\n",
              "        [True],\n",
              "        [True],\n",
              "        [True],\n",
              "        [True],\n",
              "        [True],\n",
              "        [True],\n",
              "        [True],\n",
              "        [True],\n",
              "        [True]])"
            ]
          },
          "metadata": {},
          "execution_count": 40
        }
      ],
      "source": [
        "# Evaluate loaded model\n",
        "loaded_model_1.eval()\n",
        "with torch.inference_mode():\n",
        "    loaded_model_1_preds = loaded_model_1(X_test)\n",
        "y_pred == loaded_model_1_preds"
      ]
    },
    {
      "cell_type": "markdown",
      "metadata": {
        "id": "hcwdO0mURCYe"
      },
      "source": [
        "## Exercises\n",
        "\n",
        "All exercises have been inspired from code throughout the notebook.\n",
        "\n",
        "There is one exercise per major section.\n",
        "\n",
        "You should be able to complete them by referencing their specific section.\n",
        "\n",
        "> **Note:** For all exercises, your code should be device agnostic (meaning it could run on CPU or GPU if it's available).\n",
        "\n",
        "1. Create a straight line dataset using the linear regression formula (`weight * X + bias`).\n",
        "  * Set `weight=0.3` and `bias=0.9` there should be at least 100 datapoints total.\n",
        "  * Split the data into 80% training, 20% testing.\n",
        "  * Plot the training and testing data so it becomes visual.\n",
        "2. Build a PyTorch model by subclassing `nn.Module`.\n",
        "  * Inside should be a randomly initialized `nn.Parameter()` with `requires_grad=True`, one for `weights` and one for `bias`.\n",
        "  * Implement the `forward()` method to compute the linear regression function you used to create the dataset in 1.\n",
        "  * Once you've constructed the model, make an instance of it and check its `state_dict()`.\n",
        "  * **Note:** If you'd like to use `nn.Linear()` instead of `nn.Parameter()` you can.\n",
        "3. Create a loss function and optimizer using `nn.L1Loss()` and `torch.optim.SGD(params, lr)` respectively.\n",
        "  * Set the learning rate of the optimizer to be 0.01 and the parameters to optimize should be the model parameters from the model you created in 2.\n",
        "  * Write a training loop to perform the appropriate training steps for 300 epochs.\n",
        "  * The training loop should test the model on the test dataset every 20 epochs.\n",
        "4. Make predictions with the trained model on the test data.\n",
        "  * Visualize these predictions against the original training and testing data (**note:** you may need to make sure the predictions are *not* on the GPU if you want to use non-CUDA-enabled libraries such as matplotlib to plot).\n",
        "5. Save your trained model's `state_dict()` to file.\n",
        "  * Create a new instance of your model class you made in 2. and load in the `state_dict()` you just saved to it.\n",
        "  * Perform predictions on your test data with the loaded model and confirm they match the original model predictions from 4.\n",
        "\n",
        "> **Resource:** See the [exercises notebooks templates](https://github.com/mrdbourke/pytorch-deep-learning/tree/main/extras/exercises) and [solutions](https://github.com/mrdbourke/pytorch-deep-learning/tree/main/extras/solutions) on the course GitHub.\n",
        "\n",
        "## Extra-curriculum\n",
        "* Listen to [The Unofficial PyTorch Optimization Loop Song](https://youtu.be/Nutpusq_AFw) (to help remember the steps in a PyTorch training/testing loop).\n",
        "* Read [What is `torch.nn`, really?](https://pytorch.org/tutorials/beginner/nn_tutorial.html) by Jeremy Howard for a deeper understanding of how one of the most important modules in PyTorch works.\n",
        "* Spend 10-minutes scrolling through and checking out the [PyTorch documentation cheatsheet](https://pytorch.org/tutorials/beginner/ptcheat.html) for all of the different PyTorch modules you might come across.\n",
        "* Spend 10-minutes reading the [loading and saving documentation on the PyTorch website](https://pytorch.org/tutorials/beginner/saving_loading_models.html) to become more familiar with the different saving and loading options in PyTorch.\n",
        "* Spend 1-2 hours reading/watching the following for an overview of the internals of gradient descent and backpropagation, the two main algorithms that have been working in the background to help our model learn.\n",
        " * [Wikipedia page for gradient descent](https://en.wikipedia.org/wiki/Gradient_descent)\n",
        " * [Gradient Descent Algorithm — a deep dive](https://towardsdatascience.com/gradient-descent-algorithm-a-deep-dive-cf04e8115f21) by Robert Kwiatkowski\n",
        " * [Gradient descent, how neural networks learn video](https://youtu.be/IHZwWFHWa-w) by 3Blue1Brown\n",
        " * [What is backpropagation really doing?](https://youtu.be/Ilg3gGewQ5U) video by 3Blue1Brown\n",
        " * [Backpropagation Wikipedia Page](https://en.wikipedia.org/wiki/Backpropagation)\n"
      ]
    }
  ],
  "metadata": {
    "kernelspec": {
      "display_name": ".venv",
      "language": "python",
      "name": "python3"
    },
    "language_info": {
      "codemirror_mode": {
        "name": "ipython",
        "version": 3
      },
      "file_extension": ".py",
      "mimetype": "text/x-python",
      "name": "python",
      "nbconvert_exporter": "python",
      "pygments_lexer": "ipython3",
      "version": "3.12.6"
    },
    "colab": {
      "provenance": [],
      "include_colab_link": true
    }
  },
  "nbformat": 4,
  "nbformat_minor": 0
}