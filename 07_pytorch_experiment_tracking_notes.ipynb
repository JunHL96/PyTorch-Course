{
  "cells": [
    {
      "cell_type": "markdown",
      "metadata": {
        "id": "beLGArbGji3W"
      },
      "source": [
        "<a href=\"https://colab.research.google.com/github/mrdbourke/pytorch-deep-learning/blob/main/07_pytorch_experiment_tracking.ipynb\" target=\"_parent\"><img src=\"https://colab.research.google.com/assets/colab-badge.svg\" alt=\"Open In Colab\"/></a>\n",
        "\n",
        "[View Source Code](https://github.com/mrdbourke/pytorch-deep-learning/blob/main/07_pytorch_experiment_tracking.ipynb) | [View Slides](https://github.com/mrdbourke/pytorch-deep-learning/blob/main/slides/07_pytorch_experiment_tracking.pdf)"
      ]
    },
    {
      "cell_type": "markdown",
      "metadata": {
        "id": "1fk9srOkji3Y"
      },
      "source": [
        "# 07. PyTorch Experiment Tracking\n"
      ]
    },
    {
      "cell_type": "markdown",
      "metadata": {
        "id": "HWB2MwL-ji3Y"
      },
      "source": [
        "\n",
        "> **Note:** This notebook uses `torchvision`'s new [multi-weight support API (available in `torchvision` v0.13+)](https://pytorch.org/blog/introducing-torchvision-new-multi-weight-support-api/).\n",
        "\n",
        "We've trained a fair few models now on the journey to making FoodVision Mini (an image classification model to classify images of pizza, steak or sushi).\n",
        "\n",
        "And so far we've kept track of them via Python dictionaries.\n",
        "\n",
        "Or just comparing them by the metric print outs during training.\n",
        "\n",
        "What if you wanted to run a dozen (or more) different models at once?\n",
        "\n",
        "Surely there's a better way...\n",
        "\n",
        "There is.\n",
        "\n",
        "**Experiment tracking.**\n",
        "\n",
        "And since experiment tracking is so important and integral to machine learning, you can consider this notebook your first milestone project.\n",
        "\n",
        "So welcome to Milestone Project 1: FoodVision Mini Experiment Tracking.\n",
        "\n",
        "We're going to answer the question: **how do I track my machine learning experiments?**"
      ]
    }
  ],
  "metadata": {
    "kernelspec": {
      "display_name": ".venv",
      "language": "python",
      "name": "python3"
    },
    "language_info": {
      "name": "python",
      "version": "3.12.8"
    },
    "colab": {
      "provenance": []
    }
  },
  "nbformat": 4,
  "nbformat_minor": 0
}